{
 "cells": [
  {
   "cell_type": "markdown",
   "id": "a768503c",
   "metadata": {},
   "source": [
    "<font face='Liberation serif' size=3>\n",
    "    \n",
    "**Привет, Павел!** 👋\n",
    "\n",
    "Меня зовут Артем. Я старший аналитик заказчика и я буду проверять твой проект. В рамках корпоративной этики мы общаемся на «ты». Но если лучше на «Вы», то нужно обозначить это сразу.\n",
    " \n",
    "В тетрадке есть комментарии к проекту, они будут в отдельных ячейках Markdown.\n",
    " \n",
    "<div class=\"alert alert-danger\">\n",
    "\n",
    "**Артём:** ❌ Такой комментарий **нужно исправить** обязательно, он критически влияет на удачное выполнение проекта.\n",
    "\n",
    "</div>\n",
    "\n",
    "<div class=\"alert alert-info\">\n",
    "\n",
    "**Артём:** 💡 Этот комментарий подскажет о небольших ошибках или подсказки как сделать **твой проект ещё лучше**.\n",
    "</div>\n",
    "\n",
    "<div class=\"alert alert-success\">\n",
    "\n",
    "**Артём:** 👍 А это **самый главный комментарий**, значит все сделано хорошо. 😉\n",
    "\n",
    "</div>\n",
    "\n",
    "---\n",
    "\n",
    "**Распространенные ошибки**\n",
    "\n",
    "<div class=\"alert alert-danger\">\n",
    "\n",
    "**Артём:** ❌ Не перемещай и не удаляй мои комментарии. Лучше, чтобы твои ответы на мои комментарии шли по очереди, как сообщения в мессенджере. Это ускорит проверку.\n",
    "    \n",
    "</div>\n",
    "\n",
    "<div class=\"alert alert-danger\">\n",
    "\n",
    "**Артём:** ❌ Проверь проект на работоспособность перед отправкой на проверку. Это важный навык, который тебе пригодится как на собеседовании, при выполнении тестового задания, так и перед совещанием у руководства компании. Помни, ревьеры не вносят изменения в код, даже если это путь к датасету или ячейка в неверном формате (code/mardown).  \n",
    "    \n",
    "</div>\n",
    "\n",
    "<div class=\"alert alert-info\">\n",
    "\n",
    "**Артём:** 💡 Кстати, смотри как можно сделать, чтобы датасет грузился и локально, и в JupyterHub:\n",
    "\n",
    "```py\n",
    "try:\n",
    "    df = pd.read_csv('C:/Users/Student/Desktop/dataset.csv')\n",
    "except:\n",
    "    df = pd.read_csv('/datasets/dataset.csv')\n",
    "```\n",
    "    \n",
    "Используя эту конструкцию в будущих проектах, ты будешь спокойно отправлять проект на проверку зная, что он будет работать.\n",
    "    \n",
    "</div>\n",
    "\n",
    "<div class=\"alert alert-danger\">\n",
    "\n",
    "**Артём:** ❌ Проект должен быть структурирован. Где названия разделов и подразделов будут записаны в ячейках [Markdown](https://paulradzkov.com/2014/markdown_cheatsheet/?).\n",
    "    \n",
    "</div>\n",
    "\n",
    "<div class=\"alert alert-danger\">\n",
    "\n",
    "**Артём:** ❌ Если с твоим проектом будет знакомиться другой человек, например рекрутер или старший дата специалист, в нем должны быть описаны поставленные задачи, содержание датасета, промежуточные и финальные выводы. Как правило, заказчик читает только финальный вывод, поэтому важно добавить информацию о проведенном исследовании, применить форматирование текста, в общем, сделать красиво, чтобы было понятно, что проведено настоящее исследование и выводу можно верить. \n",
    "\n",
    "</div>  \n",
    "\n",
    "<div class=\"alert alert-info\">\n",
    "    \n",
    "**Артём:** 💡 Длинный код и комментарии нужно переносить на новую строку. Согласись, коллеги не оценят, если им придется тратить время на пролистывание ячеек. Согласно международному стандарту [PEP8](https://www.python.org/dev/peps/pep-0008/) длина строки не должна превышать 79 символов.\n",
    "Вот как можно перенести код на новую строку:\n",
    "\n",
    "```py\n",
    "# Переносить можно код внутри скобки\n",
    "example = (2 *\n",
    "           2)\n",
    "```\n",
    "Конечно, я не считаю сколько символов в строке, главное, чтобы код или комментарий не ушел за пределы ячейки (зависит от разрешения экрана). Если ушел, то это желтый комментарий для каждой нечитаемой ячейки.\n",
    "    \n",
    "</div>\n",
    "\n",
    "<div class=\"alert alert-info\">\n",
    "    \n",
    "**Артём:** 💡 Тимлид, старший дата специалист или ревьюер ценят твое и своё время, подсвечивай свои комментарии в ячейках Markdown. Шаблон я тебе оставил ниже. Подробнее про синтаксис Markdown, с примерами, можно почитать [здесь](https://paulradzkov.com/2014/markdown_cheatsheet/?).\n",
    "    \n",
    "</div>\n",
    "\n",
    "<div class=\"alert alert-success\">\n",
    "\n",
    "**Артём:** 👍 Буду рад, если воспользуешься моими советами. Они тебе помогут при трудоустройстве, например в [Яндексе](https://yandex.ru/jobs/pages/analytics_interview?ysclid=l84s63fs1g790141490), и при работе в команде. Если в ходе проведения исследования возникнут вопросы, не стесняйся задавай. 🙂\n",
    "</div>\n",
    "\n",
    "<div class=\"alert alert-info\">\n",
    "\n",
    "**Артём:** 🏁 [Итоги ревью здесь](#results)\n",
    "</div>\n",
    "\n",
    "\n",
    "**Поехали!** 🚀 👨‍🚀\n",
    "<a id=\"start\"></a>"
   ]
  },
  {
   "cell_type": "markdown",
   "id": "7a6d7edb",
   "metadata": {},
   "source": [
    "<div style=\"background-color:lavender; color:#black; text-align:center; padding:2%\">\n",
    "    \n",
    "**Имя:** Это шаблон для тебя. Такой комментарий можно быстро найти."
   ]
  },
  {
   "cell_type": "markdown",
   "id": "386f2ae7",
   "metadata": {
    "deletable": false,
    "editable": false,
    "id": "386f2ae7"
   },
   "source": [
    "# Исследование надежности заемщиков\n"
   ]
  },
  {
   "cell_type": "markdown",
   "id": "ffe86f65",
   "metadata": {
    "deletable": false,
    "editable": false,
    "id": "ffe86f65"
   },
   "source": [
    "Во второй части проекта вы выполните шаги 3 и 4. Их вручную проверит ревьюер.\n",
    "Чтобы вам не пришлось писать код заново для шагов 1 и 2, мы добавили авторские решения в ячейки с кодом. \n",
    "\n"
   ]
  },
  {
   "cell_type": "markdown",
   "id": "26613308",
   "metadata": {
    "deletable": false,
    "editable": false,
    "id": "26613308"
   },
   "source": [
    "## Откройте таблицу и изучите общую информацию о данных"
   ]
  },
  {
   "cell_type": "markdown",
   "id": "3c9f838e",
   "metadata": {
    "deletable": false,
    "editable": false,
    "id": "3c9f838e"
   },
   "source": [
    "**Задание 1. Импортируйте библиотеку pandas. Считайте данные из csv-файла в датафрейм и сохраните в переменную `data`. Путь к файлу:**\n",
    "\n",
    "`/datasets/data.csv`"
   ]
  },
  {
   "cell_type": "code",
   "execution_count": 35,
   "id": "77a68a90",
   "metadata": {
    "deletable": false,
    "id": "77a68a90"
   },
   "outputs": [],
   "source": [
    "import pandas as pd\n",
    "\n",
    "try:\n",
    "    data = pd.read_csv('/datasets/data.csv')\n",
    "except:\n",
    "    data = pd.read_csv('https://code.s3.yandex.net/datasets/data.csv')"
   ]
  },
  {
   "cell_type": "markdown",
   "id": "45365635",
   "metadata": {
    "deletable": false,
    "editable": false,
    "id": "45365635"
   },
   "source": [
    "**Задание 2. Выведите первые 20 строчек датафрейма `data` на экран.**"
   ]
  },
  {
   "cell_type": "code",
   "execution_count": 36,
   "id": "b0451a9a",
   "metadata": {
    "deletable": false,
    "id": "b0451a9a",
    "outputId": "1a8f3ef2-d323-4ec2-ddf7-89670b5944c4"
   },
   "outputs": [
    {
     "data": {
      "text/html": [
       "<div>\n",
       "<style scoped>\n",
       "    .dataframe tbody tr th:only-of-type {\n",
       "        vertical-align: middle;\n",
       "    }\n",
       "\n",
       "    .dataframe tbody tr th {\n",
       "        vertical-align: top;\n",
       "    }\n",
       "\n",
       "    .dataframe thead th {\n",
       "        text-align: right;\n",
       "    }\n",
       "</style>\n",
       "<table border=\"1\" class=\"dataframe\">\n",
       "  <thead>\n",
       "    <tr style=\"text-align: right;\">\n",
       "      <th></th>\n",
       "      <th>children</th>\n",
       "      <th>days_employed</th>\n",
       "      <th>dob_years</th>\n",
       "      <th>education</th>\n",
       "      <th>education_id</th>\n",
       "      <th>family_status</th>\n",
       "      <th>family_status_id</th>\n",
       "      <th>gender</th>\n",
       "      <th>income_type</th>\n",
       "      <th>debt</th>\n",
       "      <th>total_income</th>\n",
       "      <th>purpose</th>\n",
       "    </tr>\n",
       "  </thead>\n",
       "  <tbody>\n",
       "    <tr>\n",
       "      <th>0</th>\n",
       "      <td>1</td>\n",
       "      <td>-8437.673028</td>\n",
       "      <td>42</td>\n",
       "      <td>высшее</td>\n",
       "      <td>0</td>\n",
       "      <td>женат / замужем</td>\n",
       "      <td>0</td>\n",
       "      <td>F</td>\n",
       "      <td>сотрудник</td>\n",
       "      <td>0</td>\n",
       "      <td>253875.639453</td>\n",
       "      <td>покупка жилья</td>\n",
       "    </tr>\n",
       "    <tr>\n",
       "      <th>1</th>\n",
       "      <td>1</td>\n",
       "      <td>-4024.803754</td>\n",
       "      <td>36</td>\n",
       "      <td>среднее</td>\n",
       "      <td>1</td>\n",
       "      <td>женат / замужем</td>\n",
       "      <td>0</td>\n",
       "      <td>F</td>\n",
       "      <td>сотрудник</td>\n",
       "      <td>0</td>\n",
       "      <td>112080.014102</td>\n",
       "      <td>приобретение автомобиля</td>\n",
       "    </tr>\n",
       "    <tr>\n",
       "      <th>2</th>\n",
       "      <td>0</td>\n",
       "      <td>-5623.422610</td>\n",
       "      <td>33</td>\n",
       "      <td>Среднее</td>\n",
       "      <td>1</td>\n",
       "      <td>женат / замужем</td>\n",
       "      <td>0</td>\n",
       "      <td>M</td>\n",
       "      <td>сотрудник</td>\n",
       "      <td>0</td>\n",
       "      <td>145885.952297</td>\n",
       "      <td>покупка жилья</td>\n",
       "    </tr>\n",
       "    <tr>\n",
       "      <th>3</th>\n",
       "      <td>3</td>\n",
       "      <td>-4124.747207</td>\n",
       "      <td>32</td>\n",
       "      <td>среднее</td>\n",
       "      <td>1</td>\n",
       "      <td>женат / замужем</td>\n",
       "      <td>0</td>\n",
       "      <td>M</td>\n",
       "      <td>сотрудник</td>\n",
       "      <td>0</td>\n",
       "      <td>267628.550329</td>\n",
       "      <td>дополнительное образование</td>\n",
       "    </tr>\n",
       "    <tr>\n",
       "      <th>4</th>\n",
       "      <td>0</td>\n",
       "      <td>340266.072047</td>\n",
       "      <td>53</td>\n",
       "      <td>среднее</td>\n",
       "      <td>1</td>\n",
       "      <td>гражданский брак</td>\n",
       "      <td>1</td>\n",
       "      <td>F</td>\n",
       "      <td>пенсионер</td>\n",
       "      <td>0</td>\n",
       "      <td>158616.077870</td>\n",
       "      <td>сыграть свадьбу</td>\n",
       "    </tr>\n",
       "    <tr>\n",
       "      <th>5</th>\n",
       "      <td>0</td>\n",
       "      <td>-926.185831</td>\n",
       "      <td>27</td>\n",
       "      <td>высшее</td>\n",
       "      <td>0</td>\n",
       "      <td>гражданский брак</td>\n",
       "      <td>1</td>\n",
       "      <td>M</td>\n",
       "      <td>компаньон</td>\n",
       "      <td>0</td>\n",
       "      <td>255763.565419</td>\n",
       "      <td>покупка жилья</td>\n",
       "    </tr>\n",
       "    <tr>\n",
       "      <th>6</th>\n",
       "      <td>0</td>\n",
       "      <td>-2879.202052</td>\n",
       "      <td>43</td>\n",
       "      <td>высшее</td>\n",
       "      <td>0</td>\n",
       "      <td>женат / замужем</td>\n",
       "      <td>0</td>\n",
       "      <td>F</td>\n",
       "      <td>компаньон</td>\n",
       "      <td>0</td>\n",
       "      <td>240525.971920</td>\n",
       "      <td>операции с жильем</td>\n",
       "    </tr>\n",
       "    <tr>\n",
       "      <th>7</th>\n",
       "      <td>0</td>\n",
       "      <td>-152.779569</td>\n",
       "      <td>50</td>\n",
       "      <td>СРЕДНЕЕ</td>\n",
       "      <td>1</td>\n",
       "      <td>женат / замужем</td>\n",
       "      <td>0</td>\n",
       "      <td>M</td>\n",
       "      <td>сотрудник</td>\n",
       "      <td>0</td>\n",
       "      <td>135823.934197</td>\n",
       "      <td>образование</td>\n",
       "    </tr>\n",
       "    <tr>\n",
       "      <th>8</th>\n",
       "      <td>2</td>\n",
       "      <td>-6929.865299</td>\n",
       "      <td>35</td>\n",
       "      <td>ВЫСШЕЕ</td>\n",
       "      <td>0</td>\n",
       "      <td>гражданский брак</td>\n",
       "      <td>1</td>\n",
       "      <td>F</td>\n",
       "      <td>сотрудник</td>\n",
       "      <td>0</td>\n",
       "      <td>95856.832424</td>\n",
       "      <td>на проведение свадьбы</td>\n",
       "    </tr>\n",
       "    <tr>\n",
       "      <th>9</th>\n",
       "      <td>0</td>\n",
       "      <td>-2188.756445</td>\n",
       "      <td>41</td>\n",
       "      <td>среднее</td>\n",
       "      <td>1</td>\n",
       "      <td>женат / замужем</td>\n",
       "      <td>0</td>\n",
       "      <td>M</td>\n",
       "      <td>сотрудник</td>\n",
       "      <td>0</td>\n",
       "      <td>144425.938277</td>\n",
       "      <td>покупка жилья для семьи</td>\n",
       "    </tr>\n",
       "    <tr>\n",
       "      <th>10</th>\n",
       "      <td>2</td>\n",
       "      <td>-4171.483647</td>\n",
       "      <td>36</td>\n",
       "      <td>высшее</td>\n",
       "      <td>0</td>\n",
       "      <td>женат / замужем</td>\n",
       "      <td>0</td>\n",
       "      <td>M</td>\n",
       "      <td>компаньон</td>\n",
       "      <td>0</td>\n",
       "      <td>113943.491460</td>\n",
       "      <td>покупка недвижимости</td>\n",
       "    </tr>\n",
       "    <tr>\n",
       "      <th>11</th>\n",
       "      <td>0</td>\n",
       "      <td>-792.701887</td>\n",
       "      <td>40</td>\n",
       "      <td>среднее</td>\n",
       "      <td>1</td>\n",
       "      <td>женат / замужем</td>\n",
       "      <td>0</td>\n",
       "      <td>F</td>\n",
       "      <td>сотрудник</td>\n",
       "      <td>0</td>\n",
       "      <td>77069.234271</td>\n",
       "      <td>покупка коммерческой недвижимости</td>\n",
       "    </tr>\n",
       "    <tr>\n",
       "      <th>12</th>\n",
       "      <td>0</td>\n",
       "      <td>NaN</td>\n",
       "      <td>65</td>\n",
       "      <td>среднее</td>\n",
       "      <td>1</td>\n",
       "      <td>гражданский брак</td>\n",
       "      <td>1</td>\n",
       "      <td>M</td>\n",
       "      <td>пенсионер</td>\n",
       "      <td>0</td>\n",
       "      <td>NaN</td>\n",
       "      <td>сыграть свадьбу</td>\n",
       "    </tr>\n",
       "    <tr>\n",
       "      <th>13</th>\n",
       "      <td>0</td>\n",
       "      <td>-1846.641941</td>\n",
       "      <td>54</td>\n",
       "      <td>неоконченное высшее</td>\n",
       "      <td>2</td>\n",
       "      <td>женат / замужем</td>\n",
       "      <td>0</td>\n",
       "      <td>F</td>\n",
       "      <td>сотрудник</td>\n",
       "      <td>0</td>\n",
       "      <td>130458.228857</td>\n",
       "      <td>приобретение автомобиля</td>\n",
       "    </tr>\n",
       "    <tr>\n",
       "      <th>14</th>\n",
       "      <td>0</td>\n",
       "      <td>-1844.956182</td>\n",
       "      <td>56</td>\n",
       "      <td>высшее</td>\n",
       "      <td>0</td>\n",
       "      <td>гражданский брак</td>\n",
       "      <td>1</td>\n",
       "      <td>F</td>\n",
       "      <td>компаньон</td>\n",
       "      <td>1</td>\n",
       "      <td>165127.911772</td>\n",
       "      <td>покупка жилой недвижимости</td>\n",
       "    </tr>\n",
       "    <tr>\n",
       "      <th>15</th>\n",
       "      <td>1</td>\n",
       "      <td>-972.364419</td>\n",
       "      <td>26</td>\n",
       "      <td>среднее</td>\n",
       "      <td>1</td>\n",
       "      <td>женат / замужем</td>\n",
       "      <td>0</td>\n",
       "      <td>F</td>\n",
       "      <td>сотрудник</td>\n",
       "      <td>0</td>\n",
       "      <td>116820.904450</td>\n",
       "      <td>строительство собственной недвижимости</td>\n",
       "    </tr>\n",
       "    <tr>\n",
       "      <th>16</th>\n",
       "      <td>0</td>\n",
       "      <td>-1719.934226</td>\n",
       "      <td>35</td>\n",
       "      <td>среднее</td>\n",
       "      <td>1</td>\n",
       "      <td>женат / замужем</td>\n",
       "      <td>0</td>\n",
       "      <td>F</td>\n",
       "      <td>сотрудник</td>\n",
       "      <td>0</td>\n",
       "      <td>289202.704229</td>\n",
       "      <td>недвижимость</td>\n",
       "    </tr>\n",
       "    <tr>\n",
       "      <th>17</th>\n",
       "      <td>0</td>\n",
       "      <td>-2369.999720</td>\n",
       "      <td>33</td>\n",
       "      <td>высшее</td>\n",
       "      <td>0</td>\n",
       "      <td>гражданский брак</td>\n",
       "      <td>1</td>\n",
       "      <td>M</td>\n",
       "      <td>сотрудник</td>\n",
       "      <td>0</td>\n",
       "      <td>90410.586745</td>\n",
       "      <td>строительство недвижимости</td>\n",
       "    </tr>\n",
       "    <tr>\n",
       "      <th>18</th>\n",
       "      <td>0</td>\n",
       "      <td>400281.136913</td>\n",
       "      <td>53</td>\n",
       "      <td>среднее</td>\n",
       "      <td>1</td>\n",
       "      <td>вдовец / вдова</td>\n",
       "      <td>2</td>\n",
       "      <td>F</td>\n",
       "      <td>пенсионер</td>\n",
       "      <td>0</td>\n",
       "      <td>56823.777243</td>\n",
       "      <td>на покупку подержанного автомобиля</td>\n",
       "    </tr>\n",
       "    <tr>\n",
       "      <th>19</th>\n",
       "      <td>0</td>\n",
       "      <td>-10038.818549</td>\n",
       "      <td>48</td>\n",
       "      <td>СРЕДНЕЕ</td>\n",
       "      <td>1</td>\n",
       "      <td>в разводе</td>\n",
       "      <td>3</td>\n",
       "      <td>F</td>\n",
       "      <td>сотрудник</td>\n",
       "      <td>0</td>\n",
       "      <td>242831.107982</td>\n",
       "      <td>на покупку своего автомобиля</td>\n",
       "    </tr>\n",
       "  </tbody>\n",
       "</table>\n",
       "</div>"
      ],
      "text/plain": [
       "    children  days_employed  dob_years            education  education_id  \\\n",
       "0          1   -8437.673028         42               высшее             0   \n",
       "1          1   -4024.803754         36              среднее             1   \n",
       "2          0   -5623.422610         33              Среднее             1   \n",
       "3          3   -4124.747207         32              среднее             1   \n",
       "4          0  340266.072047         53              среднее             1   \n",
       "5          0    -926.185831         27               высшее             0   \n",
       "6          0   -2879.202052         43               высшее             0   \n",
       "7          0    -152.779569         50              СРЕДНЕЕ             1   \n",
       "8          2   -6929.865299         35               ВЫСШЕЕ             0   \n",
       "9          0   -2188.756445         41              среднее             1   \n",
       "10         2   -4171.483647         36               высшее             0   \n",
       "11         0    -792.701887         40              среднее             1   \n",
       "12         0            NaN         65              среднее             1   \n",
       "13         0   -1846.641941         54  неоконченное высшее             2   \n",
       "14         0   -1844.956182         56               высшее             0   \n",
       "15         1    -972.364419         26              среднее             1   \n",
       "16         0   -1719.934226         35              среднее             1   \n",
       "17         0   -2369.999720         33               высшее             0   \n",
       "18         0  400281.136913         53              среднее             1   \n",
       "19         0  -10038.818549         48              СРЕДНЕЕ             1   \n",
       "\n",
       "       family_status  family_status_id gender income_type  debt  \\\n",
       "0    женат / замужем                 0      F   сотрудник     0   \n",
       "1    женат / замужем                 0      F   сотрудник     0   \n",
       "2    женат / замужем                 0      M   сотрудник     0   \n",
       "3    женат / замужем                 0      M   сотрудник     0   \n",
       "4   гражданский брак                 1      F   пенсионер     0   \n",
       "5   гражданский брак                 1      M   компаньон     0   \n",
       "6    женат / замужем                 0      F   компаньон     0   \n",
       "7    женат / замужем                 0      M   сотрудник     0   \n",
       "8   гражданский брак                 1      F   сотрудник     0   \n",
       "9    женат / замужем                 0      M   сотрудник     0   \n",
       "10   женат / замужем                 0      M   компаньон     0   \n",
       "11   женат / замужем                 0      F   сотрудник     0   \n",
       "12  гражданский брак                 1      M   пенсионер     0   \n",
       "13   женат / замужем                 0      F   сотрудник     0   \n",
       "14  гражданский брак                 1      F   компаньон     1   \n",
       "15   женат / замужем                 0      F   сотрудник     0   \n",
       "16   женат / замужем                 0      F   сотрудник     0   \n",
       "17  гражданский брак                 1      M   сотрудник     0   \n",
       "18    вдовец / вдова                 2      F   пенсионер     0   \n",
       "19         в разводе                 3      F   сотрудник     0   \n",
       "\n",
       "     total_income                                 purpose  \n",
       "0   253875.639453                           покупка жилья  \n",
       "1   112080.014102                 приобретение автомобиля  \n",
       "2   145885.952297                           покупка жилья  \n",
       "3   267628.550329              дополнительное образование  \n",
       "4   158616.077870                         сыграть свадьбу  \n",
       "5   255763.565419                           покупка жилья  \n",
       "6   240525.971920                       операции с жильем  \n",
       "7   135823.934197                             образование  \n",
       "8    95856.832424                   на проведение свадьбы  \n",
       "9   144425.938277                 покупка жилья для семьи  \n",
       "10  113943.491460                    покупка недвижимости  \n",
       "11   77069.234271       покупка коммерческой недвижимости  \n",
       "12            NaN                         сыграть свадьбу  \n",
       "13  130458.228857                 приобретение автомобиля  \n",
       "14  165127.911772              покупка жилой недвижимости  \n",
       "15  116820.904450  строительство собственной недвижимости  \n",
       "16  289202.704229                            недвижимость  \n",
       "17   90410.586745              строительство недвижимости  \n",
       "18   56823.777243      на покупку подержанного автомобиля  \n",
       "19  242831.107982            на покупку своего автомобиля  "
      ]
     },
     "execution_count": 36,
     "metadata": {},
     "output_type": "execute_result"
    }
   ],
   "source": [
    "data.head(20)"
   ]
  },
  {
   "cell_type": "markdown",
   "id": "0ed8f27f",
   "metadata": {
    "deletable": false,
    "editable": false,
    "id": "0ed8f27f"
   },
   "source": [
    "**Задание 3. Выведите основную информацию о датафрейме с помощью метода `info()`.**"
   ]
  },
  {
   "cell_type": "code",
   "execution_count": 37,
   "id": "ab3f863b",
   "metadata": {
    "deletable": false,
    "id": "ab3f863b",
    "outputId": "15376089-8dad-46c9-b520-c05248d43158"
   },
   "outputs": [
    {
     "name": "stdout",
     "output_type": "stream",
     "text": [
      "<class 'pandas.core.frame.DataFrame'>\n",
      "RangeIndex: 21525 entries, 0 to 21524\n",
      "Data columns (total 12 columns):\n",
      " #   Column            Non-Null Count  Dtype  \n",
      "---  ------            --------------  -----  \n",
      " 0   children          21525 non-null  int64  \n",
      " 1   days_employed     19351 non-null  float64\n",
      " 2   dob_years         21525 non-null  int64  \n",
      " 3   education         21525 non-null  object \n",
      " 4   education_id      21525 non-null  int64  \n",
      " 5   family_status     21525 non-null  object \n",
      " 6   family_status_id  21525 non-null  int64  \n",
      " 7   gender            21525 non-null  object \n",
      " 8   income_type       21525 non-null  object \n",
      " 9   debt              21525 non-null  int64  \n",
      " 10  total_income      19351 non-null  float64\n",
      " 11  purpose           21525 non-null  object \n",
      "dtypes: float64(2), int64(5), object(5)\n",
      "memory usage: 2.0+ MB\n"
     ]
    }
   ],
   "source": [
    "data.info()"
   ]
  },
  {
   "cell_type": "markdown",
   "id": "60e3e22d",
   "metadata": {
    "deletable": false,
    "editable": false,
    "id": "60e3e22d"
   },
   "source": [
    "## Предобработка данных"
   ]
  },
  {
   "cell_type": "markdown",
   "id": "03dc170c",
   "metadata": {
    "deletable": false,
    "editable": false,
    "id": "03dc170c"
   },
   "source": [
    "### Удаление пропусков"
   ]
  },
  {
   "cell_type": "markdown",
   "id": "a4f54eef",
   "metadata": {
    "deletable": false,
    "editable": false,
    "id": "a4f54eef"
   },
   "source": [
    "**Задание 4. Выведите количество пропущенных значений для каждого столбца. Используйте комбинацию двух методов.**"
   ]
  },
  {
   "cell_type": "code",
   "execution_count": 38,
   "id": "2dc372b2",
   "metadata": {
    "deletable": false,
    "id": "2dc372b2",
    "outputId": "81f4d817-781c-465c-ed15-91ce4446810d"
   },
   "outputs": [
    {
     "data": {
      "text/plain": [
       "children               0\n",
       "days_employed       2174\n",
       "dob_years              0\n",
       "education              0\n",
       "education_id           0\n",
       "family_status          0\n",
       "family_status_id       0\n",
       "gender                 0\n",
       "income_type            0\n",
       "debt                   0\n",
       "total_income        2174\n",
       "purpose                0\n",
       "dtype: int64"
      ]
     },
     "execution_count": 38,
     "metadata": {},
     "output_type": "execute_result"
    }
   ],
   "source": [
    "data.isna().sum()"
   ]
  },
  {
   "cell_type": "markdown",
   "id": "14f011b1",
   "metadata": {
    "deletable": false,
    "editable": false,
    "id": "14f011b1"
   },
   "source": [
    "**Задание 5. В двух столбцах есть пропущенные значения. Один из них — `days_employed`. Пропуски в этом столбце вы обработаете на следующем этапе. Другой столбец с пропущенными значениями — `total_income` — хранит данные о доходах. На сумму дохода сильнее всего влияет тип занятости, поэтому заполнить пропуски в этом столбце нужно медианным значением по каждому типу из столбца `income_type`. Например, у человека с типом занятости `сотрудник` пропуск в столбце `total_income` должен быть заполнен медианным доходом среди всех записей с тем же типом.**"
   ]
  },
  {
   "cell_type": "code",
   "execution_count": 39,
   "id": "bdabfb6e",
   "metadata": {
    "deletable": false,
    "id": "bdabfb6e"
   },
   "outputs": [],
   "source": [
    "for t in data['income_type'].unique():\n",
    "    data.loc[(data['income_type'] == t) & (data['total_income'].isna()), 'total_income'] = \\\n",
    "    data.loc[(data['income_type'] == t), 'total_income'].median()"
   ]
  },
  {
   "cell_type": "markdown",
   "id": "5be34059",
   "metadata": {
    "deletable": false,
    "editable": false,
    "id": "5be34059"
   },
   "source": [
    "### Обработка аномальных значений"
   ]
  },
  {
   "cell_type": "markdown",
   "id": "a87606cb",
   "metadata": {
    "deletable": false,
    "editable": false,
    "id": "a87606cb"
   },
   "source": [
    "**Задание 6. В данных могут встречаться артефакты (аномалии) — значения, которые не отражают действительность и появились по какой-то ошибке. таким артефактом будет отрицательное количество дней трудового стажа в столбце `days_employed`. Для реальных данных это нормально. Обработайте значения в этом столбце: замените все отрицательные значения положительными с помощью метода `abs()`.**"
   ]
  },
  {
   "cell_type": "code",
   "execution_count": 40,
   "id": "020c46cc",
   "metadata": {
    "deletable": false,
    "id": "020c46cc"
   },
   "outputs": [],
   "source": [
    "data['days_employed'] = data['days_employed'].abs()"
   ]
  },
  {
   "cell_type": "markdown",
   "id": "45538a3a",
   "metadata": {
    "deletable": false,
    "editable": false,
    "id": "45538a3a"
   },
   "source": [
    "**Задание 7. Для каждого типа занятости выведите медианное значение трудового стажа `days_employed` в днях.**"
   ]
  },
  {
   "cell_type": "code",
   "execution_count": 41,
   "id": "cd3e6328",
   "metadata": {
    "deletable": false,
    "id": "cd3e6328",
    "outputId": "801ef80e-522b-4668-f34e-565af7432bcf"
   },
   "outputs": [
    {
     "data": {
      "text/plain": [
       "income_type\n",
       "безработный        366413.652744\n",
       "в декрете            3296.759962\n",
       "госслужащий          2689.368353\n",
       "компаньон            1547.382223\n",
       "пенсионер          365213.306266\n",
       "предприниматель       520.848083\n",
       "сотрудник            1574.202821\n",
       "студент               578.751554\n",
       "Name: days_employed, dtype: float64"
      ]
     },
     "execution_count": 41,
     "metadata": {},
     "output_type": "execute_result"
    }
   ],
   "source": [
    "data.groupby('income_type')['days_employed'].agg('median')"
   ]
  },
  {
   "cell_type": "markdown",
   "id": "90c5f058",
   "metadata": {
    "deletable": false,
    "editable": false,
    "id": "90c5f058"
   },
   "source": [
    "У двух типов (безработные и пенсионеры) получатся аномально большие значения. Исправить такие значения сложно, поэтому оставьте их как есть."
   ]
  },
  {
   "cell_type": "markdown",
   "id": "9652e50d",
   "metadata": {
    "deletable": false,
    "editable": false,
    "id": "9652e50d"
   },
   "source": [
    "**Задание 8. Выведите перечень уникальных значений столбца `children`.**"
   ]
  },
  {
   "cell_type": "code",
   "execution_count": 42,
   "id": "dbb37b8e",
   "metadata": {
    "deletable": false,
    "id": "dbb37b8e",
    "outputId": "6975b15c-7f95-4697-d16d-a0c79b657b03"
   },
   "outputs": [
    {
     "data": {
      "text/plain": [
       "array([ 1,  0,  3,  2, -1,  4, 20,  5])"
      ]
     },
     "execution_count": 42,
     "metadata": {},
     "output_type": "execute_result"
    }
   ],
   "source": [
    "data['children'].unique()"
   ]
  },
  {
   "cell_type": "markdown",
   "id": "2b8b0715",
   "metadata": {
    "deletable": false,
    "editable": false,
    "id": "2b8b0715"
   },
   "source": [
    "**Задание 9. В столбце `children` есть два аномальных значения. Удалите строки, в которых встречаются такие аномальные значения из датафрейма `data`.**"
   ]
  },
  {
   "cell_type": "code",
   "execution_count": 43,
   "id": "20009df8",
   "metadata": {
    "deletable": false,
    "id": "20009df8"
   },
   "outputs": [],
   "source": [
    "data = data[(data['children'] != -1) & (data['children'] != 20)]"
   ]
  },
  {
   "cell_type": "markdown",
   "id": "8c6ac9f1",
   "metadata": {
    "deletable": false,
    "editable": false,
    "id": "8c6ac9f1"
   },
   "source": [
    "**Задание 10. Ещё раз выведите перечень уникальных значений столбца `children`, чтобы убедиться, что артефакты удалены.**"
   ]
  },
  {
   "cell_type": "code",
   "execution_count": 44,
   "id": "07337b81",
   "metadata": {
    "deletable": false,
    "id": "07337b81",
    "outputId": "b2097101-d49d-44d9-901b-32a65c9463d1"
   },
   "outputs": [
    {
     "data": {
      "text/plain": [
       "array([1, 0, 3, 2, 4, 5])"
      ]
     },
     "execution_count": 44,
     "metadata": {},
     "output_type": "execute_result"
    }
   ],
   "source": [
    "data['children'].unique()"
   ]
  },
  {
   "cell_type": "markdown",
   "id": "ee3f52d4",
   "metadata": {
    "deletable": false,
    "editable": false,
    "id": "ee3f52d4"
   },
   "source": [
    "### Удаление пропусков (продолжение)"
   ]
  },
  {
   "cell_type": "markdown",
   "id": "a700b0e4",
   "metadata": {
    "deletable": false,
    "editable": false,
    "id": "a700b0e4"
   },
   "source": [
    "**Задание 11. Заполните пропуски в столбце `days_employed` медианными значениями по каждого типа занятости `income_type`.**"
   ]
  },
  {
   "cell_type": "code",
   "execution_count": 45,
   "id": "61946b83",
   "metadata": {
    "deletable": false,
    "id": "61946b83"
   },
   "outputs": [],
   "source": [
    "for t in data['income_type'].unique():\n",
    "    data.loc[(data['income_type'] == t) & (data['days_employed'].isna()), 'days_employed'] = \\\n",
    "    data.loc[(data['income_type'] == t), 'days_employed'].median()"
   ]
  },
  {
   "cell_type": "markdown",
   "id": "550dcd9b",
   "metadata": {
    "deletable": false,
    "editable": false,
    "id": "550dcd9b"
   },
   "source": [
    "**Задание 12. Убедитесь, что все пропуски заполнены. Проверьте себя и ещё раз выведите количество пропущенных значений для каждого столбца с помощью двух методов.**"
   ]
  },
  {
   "cell_type": "code",
   "execution_count": 46,
   "id": "937c7014",
   "metadata": {
    "deletable": false,
    "id": "937c7014",
    "outputId": "8da1e4e1-358e-4e87-98c9-f261bce0a7b2"
   },
   "outputs": [
    {
     "data": {
      "text/plain": [
       "children            0\n",
       "days_employed       0\n",
       "dob_years           0\n",
       "education           0\n",
       "education_id        0\n",
       "family_status       0\n",
       "family_status_id    0\n",
       "gender              0\n",
       "income_type         0\n",
       "debt                0\n",
       "total_income        0\n",
       "purpose             0\n",
       "dtype: int64"
      ]
     },
     "execution_count": 46,
     "metadata": {},
     "output_type": "execute_result"
    }
   ],
   "source": [
    "data.isna().sum()"
   ]
  },
  {
   "cell_type": "markdown",
   "id": "d522e295",
   "metadata": {
    "deletable": false,
    "editable": false,
    "id": "d522e295"
   },
   "source": [
    "### Изменение типов данных"
   ]
  },
  {
   "cell_type": "markdown",
   "id": "c229c581",
   "metadata": {
    "deletable": false,
    "editable": false,
    "id": "c229c581"
   },
   "source": [
    "**Задание 13. Замените вещественный тип данных в столбце `total_income` на целочисленный с помощью метода `astype()`.**"
   ]
  },
  {
   "cell_type": "code",
   "execution_count": 47,
   "id": "31036462",
   "metadata": {
    "deletable": false,
    "id": "31036462"
   },
   "outputs": [],
   "source": [
    "data['total_income'] = data['total_income'].astype(int)"
   ]
  },
  {
   "cell_type": "markdown",
   "id": "b8e3d1d9",
   "metadata": {
    "deletable": false,
    "editable": false,
    "id": "b8e3d1d9"
   },
   "source": [
    "### Обработка дубликатов"
   ]
  },
  {
   "cell_type": "markdown",
   "id": "9be53c49",
   "metadata": {
    "deletable": false,
    "editable": false,
    "id": "9be53c49"
   },
   "source": [
    "**Задание 14. Обработайте неявные дубликаты в столбце `education`. В этом столбце есть одни и те же значения, но записанные по-разному: с использованием заглавных и строчных букв. Приведите их к нижнему регистру.**"
   ]
  },
  {
   "cell_type": "code",
   "execution_count": 48,
   "id": "d89e73e1",
   "metadata": {
    "deletable": false,
    "id": "d89e73e1"
   },
   "outputs": [],
   "source": [
    "data['education'] = data['education'].str.lower()"
   ]
  },
  {
   "cell_type": "markdown",
   "id": "01d4500e",
   "metadata": {
    "deletable": false,
    "editable": false,
    "id": "01d4500e"
   },
   "source": [
    "**Задание 15. Выведите на экран количество строк-дубликатов в данных. Если такие строки присутствуют, удалите их.**"
   ]
  },
  {
   "cell_type": "code",
   "execution_count": 49,
   "id": "e10efb23",
   "metadata": {
    "deletable": false,
    "id": "e10efb23",
    "outputId": "9684deba-1934-42d1-99e1-cda61740f822"
   },
   "outputs": [
    {
     "data": {
      "text/plain": [
       "71"
      ]
     },
     "execution_count": 49,
     "metadata": {},
     "output_type": "execute_result"
    }
   ],
   "source": [
    "data.duplicated().sum()"
   ]
  },
  {
   "cell_type": "code",
   "execution_count": 50,
   "id": "df853f20",
   "metadata": {
    "deletable": false,
    "id": "df853f20"
   },
   "outputs": [],
   "source": [
    "data = data.drop_duplicates()"
   ]
  },
  {
   "cell_type": "markdown",
   "id": "627be38f",
   "metadata": {
    "deletable": false,
    "editable": false,
    "id": "627be38f"
   },
   "source": [
    "### Категоризация данных"
   ]
  },
  {
   "cell_type": "markdown",
   "id": "4684c3e0",
   "metadata": {
    "deletable": false,
    "editable": false,
    "id": "4684c3e0"
   },
   "source": [
    "**Задание 16. На основании диапазонов, указанных ниже, создайте в датафрейме `data` столбец `total_income_category` с категориями:**\n",
    "\n",
    "- 0–30000 — `'E'`;\n",
    "- 30001–50000 — `'D'`;\n",
    "- 50001–200000 — `'C'`;\n",
    "- 200001–1000000 — `'B'`;\n",
    "- 1000001 и выше — `'A'`.\n",
    "\n",
    "\n",
    "**Например, кредитополучателю с доходом 25000 нужно назначить категорию `'E'`, а клиенту, получающему 235000, — `'B'`. Используйте собственную функцию с именем `categorize_income()` и метод `apply()`.**"
   ]
  },
  {
   "cell_type": "code",
   "execution_count": 51,
   "id": "78965238",
   "metadata": {
    "deletable": false,
    "id": "78965238"
   },
   "outputs": [],
   "source": [
    "def categorize_income(income):\n",
    "    try:\n",
    "        if 0 <= income <= 30000:\n",
    "            return 'E'\n",
    "        elif 30001 <= income <= 50000:\n",
    "            return 'D'\n",
    "        elif 50001 <= income <= 200000:\n",
    "            return 'C'\n",
    "        elif 200001 <= income <= 1000000:\n",
    "            return 'B'\n",
    "        elif income >= 1000001:\n",
    "            return 'A'\n",
    "    except:\n",
    "        pass"
   ]
  },
  {
   "cell_type": "code",
   "execution_count": 52,
   "id": "0980ada1",
   "metadata": {
    "deletable": false,
    "id": "0980ada1"
   },
   "outputs": [],
   "source": [
    "data['total_income_category'] = data['total_income'].apply(categorize_income)"
   ]
  },
  {
   "cell_type": "markdown",
   "id": "9917bba0",
   "metadata": {
    "deletable": false,
    "editable": false,
    "id": "9917bba0"
   },
   "source": [
    "**Задание 17. Выведите на экран перечень уникальных целей взятия кредита из столбца `purpose`.**"
   ]
  },
  {
   "cell_type": "code",
   "execution_count": 53,
   "id": "ee07b65e",
   "metadata": {
    "deletable": false,
    "id": "ee07b65e",
    "outputId": "673c12d9-7d7e-4ae0-9812-c622c89dd244"
   },
   "outputs": [
    {
     "data": {
      "text/plain": [
       "array(['покупка жилья', 'приобретение автомобиля',\n",
       "       'дополнительное образование', 'сыграть свадьбу',\n",
       "       'операции с жильем', 'образование', 'на проведение свадьбы',\n",
       "       'покупка жилья для семьи', 'покупка недвижимости',\n",
       "       'покупка коммерческой недвижимости', 'покупка жилой недвижимости',\n",
       "       'строительство собственной недвижимости', 'недвижимость',\n",
       "       'строительство недвижимости', 'на покупку подержанного автомобиля',\n",
       "       'на покупку своего автомобиля',\n",
       "       'операции с коммерческой недвижимостью',\n",
       "       'строительство жилой недвижимости', 'жилье',\n",
       "       'операции со своей недвижимостью', 'автомобили',\n",
       "       'заняться образованием', 'сделка с подержанным автомобилем',\n",
       "       'получение образования', 'автомобиль', 'свадьба',\n",
       "       'получение дополнительного образования', 'покупка своего жилья',\n",
       "       'операции с недвижимостью', 'получение высшего образования',\n",
       "       'свой автомобиль', 'сделка с автомобилем',\n",
       "       'профильное образование', 'высшее образование',\n",
       "       'покупка жилья для сдачи', 'на покупку автомобиля', 'ремонт жилью',\n",
       "       'заняться высшим образованием'], dtype=object)"
      ]
     },
     "execution_count": 53,
     "metadata": {},
     "output_type": "execute_result"
    }
   ],
   "source": [
    "data['purpose'].unique()"
   ]
  },
  {
   "cell_type": "markdown",
   "id": "52b79d56",
   "metadata": {
    "deletable": false,
    "editable": false,
    "id": "52b79d56"
   },
   "source": [
    "**Задание 18. Создайте функцию, которая на основании данных из столбца `purpose` сформирует новый столбец `purpose_category`, в который войдут следующие категории:**\n",
    "\n",
    "- `'операции с автомобилем'`,\n",
    "- `'операции с недвижимостью'`,\n",
    "- `'проведение свадьбы'`,\n",
    "- `'получение образования'`.\n",
    "\n",
    "**Например, если в столбце `purpose` находится подстрока `'на покупку автомобиля'`, то в столбце `purpose_category` должна появиться строка `'операции с автомобилем'`.**\n",
    "\n",
    "**Используйте собственную функцию с именем `categorize_purpose()` и метод `apply()`. Изучите данные в столбце `purpose` и определите, какие подстроки помогут вам правильно определить категорию.**"
   ]
  },
  {
   "cell_type": "code",
   "execution_count": 54,
   "id": "be41da5d",
   "metadata": {
    "deletable": false,
    "id": "be41da5d"
   },
   "outputs": [],
   "source": [
    "def categorize_purpose(row):\n",
    "    try:\n",
    "        if 'автом' in row:\n",
    "            return 'операции с автомобилем'\n",
    "        elif 'жил' in row or 'недвиж' in row:\n",
    "            return 'операции с недвижимостью'\n",
    "        elif 'свад' in row:\n",
    "            return 'проведение свадьбы'\n",
    "        elif 'образов' in row:\n",
    "            return 'получение образования'\n",
    "    except:\n",
    "        return 'нет категории'"
   ]
  },
  {
   "cell_type": "code",
   "execution_count": 55,
   "id": "94c4a19a",
   "metadata": {
    "deletable": false,
    "id": "94c4a19a"
   },
   "outputs": [],
   "source": [
    "data['purpose_category'] = data['purpose'].apply(categorize_purpose)"
   ]
  },
  {
   "cell_type": "markdown",
   "id": "3d596c34",
   "metadata": {
    "deletable": false,
    "editable": false,
    "id": "3d596c34"
   },
   "source": [
    "### Шаг 3. Исследуйте данные и ответьте на вопросы"
   ]
  },
  {
   "cell_type": "markdown",
   "id": "b6efd0d5",
   "metadata": {},
   "source": [
    "Возврат кредита в срок по исследуемым группам означает, что они будут состоять из доли клиентов должников и клиентов, платящих его в срок. Это основной признак для исследования. Дополнительными признаками будут категории клиентов, которые будут в следующих заданиях. Доли клиентов в группах по дополнительному признаку, разбитых по основному, можно сравнивать между собой и с группой по общему признаку на основании того, что все объекты исследования являются однородными, то есть обладают одинаковыми признаками и не имеют пустых значений после предобработки данных. Их можно ранжировать по любым категориальным данным и сравнивать по соответствующим количественным. Для корректного сравнения количественные абсолютные значения будут переведены в относительные величины - доли должников.\n",
    "\n",
    "Для исследования разобьем все статистические данные на две группы по двум критериям в колонке debt: ДОЛЖНИКИ и НЕ ДОЛЖНИКИ (значение 1 и 0 соответственно). Затем найдем общую долю должников без учета дополнительных признаков. Это будет являться пороговым значением для групп должников, разбитых по дополнительному признаку: если доля должников в группе с дополнительным признаком меньше общей доли должников без учета дополнительных признаков, то банку выгодно выдавать кредит клиентам этой группы. И наоборот, если доля должников в группе с дополнительным признаком больше общей доли должников без учета дополнительных признаков, то банку не выгодно выдавать кредит клиентам этой группы."
   ]
  },
  {
   "cell_type": "markdown",
   "id": "4db1f82b",
   "metadata": {},
   "source": [
    "<div style=\"border:solid green 2px; padding: 20px\">\n",
    "\n",
    "💡\n",
    "Для построения аналитической модели и выводов исследования будем учитывать количественную репрезентативность - это обеспечение выборки такого числа единиц, по которому можно обоснованно судить о величине изучаемых признаков. Расчет достаточного объема выборки для нашего исследования с доверительным уровнем 95% и доверительным интервалом 5% составляет **377** единиц. [Калькулятор расчета](https://www.marketch.ru/useful_to_marketers/marketing_plans_reports/calculation-of-sample-size/).\n",
    "<a id=\"mark\"></a>"
   ]
  },
  {
   "cell_type": "code",
   "execution_count": 56,
   "id": "417d90eb",
   "metadata": {},
   "outputs": [],
   "source": [
    "# добавляем библиотеки для вывода графиков и строк отчета к ним\n",
    "import seaborn\n",
    "import matplotlib\n",
    "matplotlib.rcParams['figure.figsize'] = [15, 7]\n",
    "\n",
    "label = 'Уровень общей задолженности '\n",
    "s_name = data['family_status'].unique().tolist() # преобразовываем массив в лист для вывода статуса семьи вместо id\n",
    "p_name = data['purpose_category'].unique().tolist() # преобразовываем массив в лист для вывода цели кредита\n",
    "\n",
    "# Расчет общей доли должников без учета доп. признаков или общий уровень задолженности по всем клиентам банка\n",
    "qb_debt = data.loc[data['debt'] == 1, 'debt'].count() # общее количество должников\n",
    "qg_debt = data['debt'].count() # общее количество НЕ должников\n",
    "ratio_total_debt = qb_debt / qg_debt * 100 # общая доля должников без учета доп. признаков"
   ]
  },
  {
   "cell_type": "markdown",
   "id": "648db036",
   "metadata": {
    "deletable": false,
    "editable": false,
    "id": "648db036"
   },
   "source": [
    "#### 3.1 Есть ли зависимость между количеством детей и возвратом кредита в срок?"
   ]
  },
  {
   "cell_type": "markdown",
   "id": "7a039ca3",
   "metadata": {},
   "source": [
    "В этом задании ранжируем клиентов по количеству детей в семье и сравним доли должников по каждой группе между собой и с общей долей должников без учета дополнительных признаков."
   ]
  },
  {
   "cell_type": "markdown",
   "id": "3fcad2e1",
   "metadata": {},
   "source": [
    "Построим сводную таблицу, сгруппированную по семьям с детьми от 0 до 5. В столбцах будут процент задолженности и количество клиентов по каждой категории."
   ]
  },
  {
   "cell_type": "code",
   "execution_count": 57,
   "id": "847b4877",
   "metadata": {},
   "outputs": [
    {
     "data": {
      "text/html": [
       "<div>\n",
       "<style scoped>\n",
       "    .dataframe tbody tr th:only-of-type {\n",
       "        vertical-align: middle;\n",
       "    }\n",
       "\n",
       "    .dataframe tbody tr th {\n",
       "        vertical-align: top;\n",
       "    }\n",
       "\n",
       "    .dataframe thead th {\n",
       "        text-align: right;\n",
       "    }\n",
       "</style>\n",
       "<table border=\"1\" class=\"dataframe\">\n",
       "  <thead>\n",
       "    <tr style=\"text-align: right;\">\n",
       "      <th></th>\n",
       "      <th>&lt;lambda_0&gt;</th>\n",
       "      <th>count</th>\n",
       "    </tr>\n",
       "    <tr>\n",
       "      <th>children</th>\n",
       "      <th></th>\n",
       "      <th></th>\n",
       "    </tr>\n",
       "  </thead>\n",
       "  <tbody>\n",
       "    <tr>\n",
       "      <th>0</th>\n",
       "      <td>7.54</td>\n",
       "      <td>14091.0</td>\n",
       "    </tr>\n",
       "    <tr>\n",
       "      <th>1</th>\n",
       "      <td>9.23</td>\n",
       "      <td>4808.0</td>\n",
       "    </tr>\n",
       "    <tr>\n",
       "      <th>2</th>\n",
       "      <td>9.45</td>\n",
       "      <td>2052.0</td>\n",
       "    </tr>\n",
       "    <tr>\n",
       "      <th>3</th>\n",
       "      <td>8.18</td>\n",
       "      <td>330.0</td>\n",
       "    </tr>\n",
       "    <tr>\n",
       "      <th>4</th>\n",
       "      <td>9.76</td>\n",
       "      <td>41.0</td>\n",
       "    </tr>\n",
       "    <tr>\n",
       "      <th>5</th>\n",
       "      <td>0.00</td>\n",
       "      <td>9.0</td>\n",
       "    </tr>\n",
       "  </tbody>\n",
       "</table>\n",
       "</div>"
      ],
      "text/plain": [
       "          <lambda_0>    count\n",
       "children                     \n",
       "0               7.54  14091.0\n",
       "1               9.23   4808.0\n",
       "2               9.45   2052.0\n",
       "3               8.18    330.0\n",
       "4               9.76     41.0\n",
       "5               0.00      9.0"
      ]
     },
     "execution_count": 57,
     "metadata": {},
     "output_type": "execute_result"
    }
   ],
   "source": [
    "data_pivot = data.pivot_table(index='children', values='debt', aggfunc={'count', lambda x: round(x.mean()*100, 2)})\n",
    "data_pivot"
   ]
  },
  {
   "cell_type": "markdown",
   "id": "7fb3fffa",
   "metadata": {},
   "source": [
    "*Выборки с 3, 4 и 5  детьми не являются репрезентативными, так как в каждой из них количетсво семей меньше 377, и даже в сумме (380) они почти равны этому пороговому значению, а значит не будут существенно влиять на исследование. Поэтому их нужно исключить для анализа по этому признаку.*"
   ]
  },
  {
   "cell_type": "code",
   "execution_count": 58,
   "id": "46bbaa9b",
   "metadata": {},
   "outputs": [],
   "source": [
    "def ratio_debt_ch(n):\n",
    "    qb_debt = data.loc[(data['debt'] == 1) & (data['children'] == n), 'children'].count() # должников по кол-ву детей в семье\n",
    "    qg_debt = data.loc[data['children'] == n, 'children'].count() # клиентов по кол-ву детей в семье\n",
    "    ratio_debt = qb_debt / qg_debt * 100 # доля должников c учетом количества детей в семье\n",
    "    print(f'Доля должников, детей - {n}: {ratio_debt}')\n",
    "    return ratio_debt"
   ]
  },
  {
   "cell_type": "code",
   "execution_count": 59,
   "id": "7fcff25e",
   "metadata": {
    "deletable": false,
    "id": "7fcff25e"
   },
   "outputs": [
    {
     "name": "stdout",
     "output_type": "stream",
     "text": [
      "Уровень общей задолженности  8.119638085415593\n",
      "Доля должников, детей - 0: 7.543822297920659\n",
      "Доля должников, детей - 1: 9.234608985024959\n",
      "Доля должников, детей - 2: 9.4541910331384\n"
     ]
    },
    {
     "data": {
      "text/plain": [
       "<AxesSubplot:>"
      ]
     },
     "execution_count": 59,
     "metadata": {},
     "output_type": "execute_result"
    },
    {
     "data": {
      "image/png": "[encoded data removed]",
      "text/plain": [
       "<Figure size 1080x504 with 1 Axes>"
      ]
     },
     "metadata": {
      "needs_background": "light"
     },
     "output_type": "display_data"
    }
   ],
   "source": [
    "# график долей должников по количеству детей в семье\n",
    "print(label, ratio_total_debt)\n",
    "ratio_debt_children = pd.Series([ratio_total_debt, ratio_debt_ch(0), ratio_debt_ch(1), ratio_debt_ch(2)])\n",
    "children_num = pd.Series([label, 0, 1, 2])\n",
    "seaborn.barplot(x=children_num, y=ratio_debt_children) #x - количество детей в семье, y - доля должников"
   ]
  },
  {
   "cell_type": "markdown",
   "id": "2b200159",
   "metadata": {},
   "source": [
    "<div class=\"alert alert-success\">\n",
    "\n",
    "**Артём:** 👍 Здорово, что используешь визуализацию.\n",
    "\n",
    "</div>\n",
    "<div class=\"alert alert-success\">\n",
    "\n",
    "**Артём:** 💡 Чтобы не выводить `<...>` можно поставить в конце строки `;`.\n",
    "    \n",
    "</div>\n",
    "<div class=\"alert alert-info\">\n",
    "\n",
    "#### **Артём:** 💡 Лучше перенести код на новую строку. По правилам [PEP 8](https://www.python.org/dev/peps/pep-0008/) в строке должно быть не более 79 символов.\n",
    "    \n",
    "\n",
    "</div>\n",
    "<div class=\"alert alert-success\">\n",
    "\n",
    "**Артём:** 💡 Функции лучше писать в отдельных ячейках. Одна ячейка - одна функция.\n",
    "    \n",
    "</div>\n",
    "<div class=\"alert alert-success\">\n",
    "\n",
    "**Артём:**  Сделай сводную таблицу методом `pivot_table` или `gropupby` здесь и далее в которой буду следующая информация:\n",
    "        \n",
    "1. Название категории;\n",
    "2. Количество клиентов в категории;\n",
    "3. Доля задолженности.\n",
    "    \n",
    "**Это важно сделать здесь и далее.** Подробнее можно почитать [здесь](https://dfedorov.spb.ru/pandas/Подробное%20руководство%20по%20группировке%20и%20агрегированию%20с%20помощью%20pandas.html?ysclid=lcmm6rtg2w602526506)    \n",
    "    \n",
    "Высшем пилотажем будет если проценты сразу выведешь в правильном формате, то есть умножишь на сто.\n",
    "    \n",
    "</div>"
   ]
  },
  {
   "cell_type": "markdown",
   "id": "77dff842",
   "metadata": {},
   "source": [
    "<div style=\"background-color:lavender; color:#black; text-align:center; padding:2%\">\n",
    "    \n",
    "**Павел:** Сделал в этом задании и в последующих."
   ]
  },
  {
   "cell_type": "markdown",
   "id": "448d093e",
   "metadata": {},
   "source": [
    "<div class=\"alert alert-success\">\n",
    "\n",
    "**Артём:** 👍 Молодец.\n",
    "\n",
    "</div>"
   ]
  },
  {
   "cell_type": "markdown",
   "id": "2eb9088e",
   "metadata": {
    "deletable": false,
    "id": "2eb9088e"
   },
   "source": [
    "**Вывод:** \n",
    "\n",
    "Семьи с 1 и 2 детьми возвращают кредиты в срок реже, чем семьи без детей. И доля должников растет по мере увеличения детей в семье.\n",
    "\n",
    "В семьях без детей кредиты возвращают в срок чаще, чем в общей доле должников без учета этого признака, что говорит о привлекательности такой группы для банка.\n",
    "\n",
    "Представленные выборки с 3, 4 и 5 детьми не являются репрезентативными из-за малого количетсва клиентов по этому признаку, поэтому нельзя делать выводы о характере возврата кредита в срок (доле должников) в этих группах."
   ]
  },
  {
   "cell_type": "markdown",
   "id": "92cef13a",
   "metadata": {},
   "source": [
    "<div class=\"alert alert-success\">\n",
    "   \n",
    "**Артём:**  Выборки с тремя, четырьмя, и пятью детьми нерепрезентативны, слишком мало значений, в сумме менее 2%. Их не стоит учитывать при анализе. А лучше провести категоризацию.\n",
    "\n",
    "</div>"
   ]
  },
  {
   "cell_type": "markdown",
   "id": "a774b583",
   "metadata": {},
   "source": [
    "<div style=\"background-color:lavender; color:#black; text-align:center; padding:2%\">\n",
    "    \n",
    "**Павел:** Согласен, не учел, что некоторые выборки могут быть слишком маленькими, чтобы делать выводы по ним на всю генеральную совокупность. Я отразил эту мысль и сделал расчет необходимой выборки выше в [зеленой рамке](#mark). Учел это при работе с данными дальше.\n",
    "Подкорректировал этот вывод.\n",
    "\n",
    "P.S. Нерепрезентативные выборки у меня обнаружились еще в группах по уровню дохода. Отразил это в [соотв. исследовании](#mark2) и общем выводах."
   ]
  },
  {
   "cell_type": "markdown",
   "id": "1fdf6101",
   "metadata": {},
   "source": [
    "<div class=\"alert alert-success\">\n",
    "\n",
    "**Артём:** 👍 Отлично.\n",
    "\n",
    "</div>"
   ]
  },
  {
   "cell_type": "markdown",
   "id": "74c9b3a7",
   "metadata": {
    "deletable": false,
    "editable": false,
    "id": "74c9b3a7"
   },
   "source": [
    "#### 3.2 Есть ли зависимость между семейным положением и возвратом кредита в срок?"
   ]
  },
  {
   "cell_type": "markdown",
   "id": "96f80fb2",
   "metadata": {
    "deletable": false,
    "id": "8098ab3b"
   },
   "source": [
    "В этом задании ранжируем клиентов по семейному положению и сравним доли должников по каждой группе между собой и с общей долей должников без учета дополнительных признаков."
   ]
  },
  {
   "cell_type": "markdown",
   "id": "d9dfe89d",
   "metadata": {},
   "source": [
    "Построим сводную таблицу, сгруппированную по семейному положению. В столбцах будут процент задолженности и количество клиентов по каждой категории."
   ]
  },
  {
   "cell_type": "code",
   "execution_count": 60,
   "id": "c42f86d1",
   "metadata": {},
   "outputs": [
    {
     "data": {
      "text/html": [
       "<div>\n",
       "<style scoped>\n",
       "    .dataframe tbody tr th:only-of-type {\n",
       "        vertical-align: middle;\n",
       "    }\n",
       "\n",
       "    .dataframe tbody tr th {\n",
       "        vertical-align: top;\n",
       "    }\n",
       "\n",
       "    .dataframe thead th {\n",
       "        text-align: right;\n",
       "    }\n",
       "</style>\n",
       "<table border=\"1\" class=\"dataframe\">\n",
       "  <thead>\n",
       "    <tr style=\"text-align: right;\">\n",
       "      <th></th>\n",
       "      <th>&lt;lambda_0&gt;</th>\n",
       "      <th>count</th>\n",
       "    </tr>\n",
       "    <tr>\n",
       "      <th>family_status_id</th>\n",
       "      <th></th>\n",
       "      <th></th>\n",
       "    </tr>\n",
       "  </thead>\n",
       "  <tbody>\n",
       "    <tr>\n",
       "      <th>0</th>\n",
       "      <td>7.56</td>\n",
       "      <td>12261.0</td>\n",
       "    </tr>\n",
       "    <tr>\n",
       "      <th>1</th>\n",
       "      <td>9.31</td>\n",
       "      <td>4134.0</td>\n",
       "    </tr>\n",
       "    <tr>\n",
       "      <th>2</th>\n",
       "      <td>6.62</td>\n",
       "      <td>951.0</td>\n",
       "    </tr>\n",
       "    <tr>\n",
       "      <th>3</th>\n",
       "      <td>7.06</td>\n",
       "      <td>1189.0</td>\n",
       "    </tr>\n",
       "    <tr>\n",
       "      <th>4</th>\n",
       "      <td>9.76</td>\n",
       "      <td>2796.0</td>\n",
       "    </tr>\n",
       "  </tbody>\n",
       "</table>\n",
       "</div>"
      ],
      "text/plain": [
       "                  <lambda_0>    count\n",
       "family_status_id                     \n",
       "0                       7.56  12261.0\n",
       "1                       9.31   4134.0\n",
       "2                       6.62    951.0\n",
       "3                       7.06   1189.0\n",
       "4                       9.76   2796.0"
      ]
     },
     "execution_count": 60,
     "metadata": {},
     "output_type": "execute_result"
    }
   ],
   "source": [
    "data_pivot = data.pivot_table(index='family_status_id', values='debt', aggfunc={'count', lambda x: round(x.mean()*100, 2)})\n",
    "data_pivot"
   ]
  },
  {
   "cell_type": "markdown",
   "id": "431c495c",
   "metadata": {},
   "source": [
    "Все выборки репрезентативны, можно делать выводы по каждой из них."
   ]
  },
  {
   "cell_type": "code",
   "execution_count": 61,
   "id": "2d81089e",
   "metadata": {},
   "outputs": [],
   "source": [
    "def ratio_debt_fam(n):\n",
    "    # должников по статусу семьи\n",
    "    qb_debt = data.loc[(data['debt'] == 1) & (data['family_status_id'] == n), 'family_status_id'].count()\n",
    "    # клиентов по статусу семьи\n",
    "    qg_debt = data.loc[data['family_status_id'] == n, 'family_status_id'].count()\n",
    "    ratio_debt = qb_debt / qg_debt * 100 # доля должников по статусу семьи\n",
    "    print(f'Доля должников, статус cемьи - {s_name[n]}: {ratio_debt}')\n",
    "    return ratio_debt"
   ]
  },
  {
   "cell_type": "code",
   "execution_count": 62,
   "id": "77d9d505",
   "metadata": {},
   "outputs": [
    {
     "name": "stdout",
     "output_type": "stream",
     "text": [
      "Уровень общей задолженности  8.119638085415593\n",
      "Доля должников, статус cемьи - женат / замужем: 7.560557866405676\n",
      "Доля должников, статус cемьи - гражданский брак: 9.313014029995163\n",
      "Доля должников, статус cемьи - вдовец / вдова: 6.624605678233439\n",
      "Доля должников, статус cемьи - в разводе: 7.064760302775442\n",
      "Доля должников, статус cемьи - Не женат / не замужем: 9.763948497854077\n"
     ]
    },
    {
     "data": {
      "text/plain": [
       "<AxesSubplot:>"
      ]
     },
     "execution_count": 62,
     "metadata": {},
     "output_type": "execute_result"
    },
    {
     "data": {
      "image/png": "[encoded data removed]",
      "text/plain": [
       "<Figure size 1080x504 with 1 Axes>"
      ]
     },
     "metadata": {
      "needs_background": "light"
     },
     "output_type": "display_data"
    }
   ],
   "source": [
    "print(label, ratio_total_debt)\n",
    "# график долей должников по статусу семьи\n",
    "ratio_debt_family = pd.Series([ratio_total_debt, ratio_debt_fam(0), ratio_debt_fam(1), ratio_debt_fam(2),\n",
    "                               ratio_debt_fam(3), ratio_debt_fam(4)])\n",
    "status_name = pd.Series([label] + s_name)\n",
    "seaborn.barplot(x=status_name, y=ratio_debt_family) #x - статус семьи, y - доля должников"
   ]
  },
  {
   "cell_type": "markdown",
   "id": "c389ca63",
   "metadata": {
    "deletable": false,
    "id": "c389ca63"
   },
   "source": [
    "**Вывод:**\n",
    "\n",
    "Семьи в статусе 'женат/замужем', 'вдовец/вдова' и 'в разводе' платят кредит в срок чаще, чем семьи со статусом 'гражданский брак', 'Не женат/не замужем'. Уровень доли должников в группах, где семейные отношения не оформляли официально (гражданский брак и холостые) выше, чем у тех, кто оформлял официальные браки (женат/замужен, вдовец/вдова, в разводе)."
   ]
  },
  {
   "cell_type": "markdown",
   "id": "f21d9faf",
   "metadata": {},
   "source": [
    "<div class=\"alert alert-success\">\n",
    "\n",
    "**Артём:** 👍 Верно.\n",
    "\n",
    "</div>"
   ]
  },
  {
   "cell_type": "markdown",
   "id": "9529de68",
   "metadata": {
    "deletable": false,
    "editable": false,
    "id": "9529de68"
   },
   "source": [
    "#### 3.3 Есть ли зависимость между уровнем дохода и возвратом кредита в срок?"
   ]
  },
  {
   "cell_type": "markdown",
   "id": "8146c1d9",
   "metadata": {},
   "source": [
    "В этом задании ранжируем клиентов по уровню дохода и сравним доли должников по каждой группе между собой и с общей долей должников без учета дополнительных признаков."
   ]
  },
  {
   "cell_type": "markdown",
   "id": "4b0d0578",
   "metadata": {},
   "source": [
    "Построим сводную таблицу, сгруппированную по уровню дохода. В столбцах будут процент задолженности и количество клиентов по каждой категории."
   ]
  },
  {
   "cell_type": "code",
   "execution_count": 63,
   "id": "cd3c50e3",
   "metadata": {},
   "outputs": [
    {
     "data": {
      "text/html": [
       "<div>\n",
       "<style scoped>\n",
       "    .dataframe tbody tr th:only-of-type {\n",
       "        vertical-align: middle;\n",
       "    }\n",
       "\n",
       "    .dataframe tbody tr th {\n",
       "        vertical-align: top;\n",
       "    }\n",
       "\n",
       "    .dataframe thead th {\n",
       "        text-align: right;\n",
       "    }\n",
       "</style>\n",
       "<table border=\"1\" class=\"dataframe\">\n",
       "  <thead>\n",
       "    <tr style=\"text-align: right;\">\n",
       "      <th></th>\n",
       "      <th>&lt;lambda_0&gt;</th>\n",
       "      <th>count</th>\n",
       "    </tr>\n",
       "    <tr>\n",
       "      <th>total_income_category</th>\n",
       "      <th></th>\n",
       "      <th></th>\n",
       "    </tr>\n",
       "  </thead>\n",
       "  <tbody>\n",
       "    <tr>\n",
       "      <th>A</th>\n",
       "      <td>8.00</td>\n",
       "      <td>25.0</td>\n",
       "    </tr>\n",
       "    <tr>\n",
       "      <th>B</th>\n",
       "      <td>7.06</td>\n",
       "      <td>5014.0</td>\n",
       "    </tr>\n",
       "    <tr>\n",
       "      <th>C</th>\n",
       "      <td>8.50</td>\n",
       "      <td>15921.0</td>\n",
       "    </tr>\n",
       "    <tr>\n",
       "      <th>D</th>\n",
       "      <td>6.02</td>\n",
       "      <td>349.0</td>\n",
       "    </tr>\n",
       "    <tr>\n",
       "      <th>E</th>\n",
       "      <td>9.09</td>\n",
       "      <td>22.0</td>\n",
       "    </tr>\n",
       "  </tbody>\n",
       "</table>\n",
       "</div>"
      ],
      "text/plain": [
       "                       <lambda_0>    count\n",
       "total_income_category                     \n",
       "A                            8.00     25.0\n",
       "B                            7.06   5014.0\n",
       "C                            8.50  15921.0\n",
       "D                            6.02    349.0\n",
       "E                            9.09     22.0"
      ]
     },
     "execution_count": 63,
     "metadata": {},
     "output_type": "execute_result"
    }
   ],
   "source": [
    "data_pivot = data.pivot_table(index='total_income_category', values='debt', aggfunc={'count', lambda x: round(x.mean()*100, 2)})\n",
    "data_pivot"
   ]
  },
  {
   "cell_type": "markdown",
   "id": "085a79df",
   "metadata": {},
   "source": [
    "*Выборки с катергориями доходов A, D и E не являются репрезентативными, так как в каждой из них количетсво клиентов меньше 377, и даже в сумме (396) они почти равны этому пороговому значению, а значит не будут существенно влиять на исследование. Поэтому их нужно исключить для анализа по этому признаку.*\n",
    "<a id=\"mark2\"></a>"
   ]
  },
  {
   "cell_type": "code",
   "execution_count": 64,
   "id": "c579a071",
   "metadata": {},
   "outputs": [],
   "source": [
    "def ratio_debt_inc(category):\n",
    "    # должников по уровню дохода\n",
    "    qb_debt = data.loc[(data['debt'] == 1) & (data['total_income_category'] == category), 'total_income_category'].count()\n",
    "    # клиентов по уровню дохода\n",
    "    qg_debt = data.loc[data['total_income_category'] == category, 'total_income_category'].count()\n",
    "    ratio_debt = qb_debt / qg_debt * 100 # доля должников по уровню дохода\n",
    "    print(f'Доля должников, уровень дохода - {category} : {ratio_debt}')\n",
    "    return ratio_debt"
   ]
  },
  {
   "cell_type": "code",
   "execution_count": 65,
   "id": "8787f44a",
   "metadata": {
    "deletable": false,
    "id": "8787f44a",
    "scrolled": false
   },
   "outputs": [
    {
     "name": "stdout",
     "output_type": "stream",
     "text": [
      "Уровень общей задолженности  8.119638085415593\n",
      "Доля должников, уровень дохода - B : 7.060231352213801\n",
      "Доля должников, уровень дохода - C : 8.498209911437723\n"
     ]
    },
    {
     "data": {
      "text/plain": [
       "<AxesSubplot:>"
      ]
     },
     "execution_count": 65,
     "metadata": {},
     "output_type": "execute_result"
    },
    {
     "data": {
      "image/png": "[encoded data removed]",
      "text/plain": [
       "<Figure size 1080x504 with 1 Axes>"
      ]
     },
     "metadata": {
      "needs_background": "light"
     },
     "output_type": "display_data"
    }
   ],
   "source": [
    "print(label, ratio_total_debt)\n",
    "# график долей должников по уровню дохода\n",
    "matplotlib.rcParams['figure.figsize'] = [15, 7]\n",
    "ratio_debt_income = pd.Series([ratio_total_debt, ratio_debt_inc('B'), ratio_debt_inc('C')])\n",
    "category_name = pd.Series([label, 'B', 'C'])\n",
    "seaborn.barplot(x=category_name, y=ratio_debt_income) #x - уровень дохода, y - доля должников"
   ]
  },
  {
   "cell_type": "markdown",
   "id": "6dd14b57",
   "metadata": {
    "deletable": false,
    "id": "6dd14b57"
   },
   "source": [
    "**Вывод:** \n",
    "\n",
    "Клиенты с уровнем дохода категорий 'B' платят кредит в срок чаще, чем клиенты с уровнем дохода катерий 'C'.\n",
    "\n",
    "Выборки клиентов с категориями доходов 'A', 'D' и 'E' являются нерепрезентативными и не могут участвовоать в анализе."
   ]
  },
  {
   "cell_type": "markdown",
   "id": "bf93d97c",
   "metadata": {},
   "source": [
    "<div class=\"alert alert-success\">\n",
    "\n",
    "**Артём:** 👍 Хорошо.\n",
    "\n",
    "</div>"
   ]
  },
  {
   "cell_type": "markdown",
   "id": "1dcc9b12",
   "metadata": {
    "deletable": false,
    "editable": false,
    "id": "1dcc9b12"
   },
   "source": [
    "#### 3.4 Как разные цели кредита влияют на его возврат в срок?"
   ]
  },
  {
   "cell_type": "markdown",
   "id": "17b24d63",
   "metadata": {},
   "source": [
    "В этом задании ранжируем клиентов по целям кредита и сравним доли должников по каждой группе между собой и с общей долей должников без учета дополнительных признаков."
   ]
  },
  {
   "cell_type": "markdown",
   "id": "17028430",
   "metadata": {},
   "source": [
    "Построим сводную таблицу, сгруппированную по целям кредита. В столбцах будут процент задолженности и количество клиентов по каждой категории."
   ]
  },
  {
   "cell_type": "code",
   "execution_count": 66,
   "id": "00999382",
   "metadata": {
    "scrolled": true
   },
   "outputs": [
    {
     "data": {
      "text/html": [
       "<div>\n",
       "<style scoped>\n",
       "    .dataframe tbody tr th:only-of-type {\n",
       "        vertical-align: middle;\n",
       "    }\n",
       "\n",
       "    .dataframe tbody tr th {\n",
       "        vertical-align: top;\n",
       "    }\n",
       "\n",
       "    .dataframe thead th {\n",
       "        text-align: right;\n",
       "    }\n",
       "</style>\n",
       "<table border=\"1\" class=\"dataframe\">\n",
       "  <thead>\n",
       "    <tr style=\"text-align: right;\">\n",
       "      <th></th>\n",
       "      <th>&lt;lambda_0&gt;</th>\n",
       "      <th>count</th>\n",
       "    </tr>\n",
       "    <tr>\n",
       "      <th>purpose_category</th>\n",
       "      <th></th>\n",
       "      <th></th>\n",
       "    </tr>\n",
       "  </thead>\n",
       "  <tbody>\n",
       "    <tr>\n",
       "      <th>операции с автомобилем</th>\n",
       "      <td>9.35</td>\n",
       "      <td>4279.0</td>\n",
       "    </tr>\n",
       "    <tr>\n",
       "      <th>операции с недвижимостью</th>\n",
       "      <td>7.26</td>\n",
       "      <td>10751.0</td>\n",
       "    </tr>\n",
       "    <tr>\n",
       "      <th>получение образования</th>\n",
       "      <td>9.25</td>\n",
       "      <td>3988.0</td>\n",
       "    </tr>\n",
       "    <tr>\n",
       "      <th>проведение свадьбы</th>\n",
       "      <td>7.91</td>\n",
       "      <td>2313.0</td>\n",
       "    </tr>\n",
       "  </tbody>\n",
       "</table>\n",
       "</div>"
      ],
      "text/plain": [
       "                          <lambda_0>    count\n",
       "purpose_category                             \n",
       "операции с автомобилем          9.35   4279.0\n",
       "операции с недвижимостью        7.26  10751.0\n",
       "получение образования           9.25   3988.0\n",
       "проведение свадьбы              7.91   2313.0"
      ]
     },
     "execution_count": 66,
     "metadata": {},
     "output_type": "execute_result"
    }
   ],
   "source": [
    "data_pivot = data.pivot_table(index='purpose_category', values='debt', aggfunc={'count', lambda x: round(x.mean()*100, 2)})\n",
    "data_pivot"
   ]
  },
  {
   "cell_type": "markdown",
   "id": "ee68e10b",
   "metadata": {},
   "source": [
    "Все выборки репрезентативны, можно делать выводы по каждой из них."
   ]
  },
  {
   "cell_type": "code",
   "execution_count": 67,
   "id": "82eaee9a",
   "metadata": {},
   "outputs": [],
   "source": [
    "def ratio_debt_purp(purpose):\n",
    "    # должников по цели кредита\n",
    "    qb_debt = data.loc[(data['debt'] == 1) & (data['purpose_category'] == purpose), 'purpose_category'].count()\n",
    "    # клиентов по цели кредита\n",
    "    qg_debt = data.loc[data['purpose_category'] == purpose, 'purpose_category'].count()\n",
    "    ratio_debt = qb_debt / qg_debt * 100 # доля должников по цели кредита\n",
    "    print(f'Доля должников, цель кредита - {purpose} : {ratio_debt}')\n",
    "    return ratio_debt"
   ]
  },
  {
   "cell_type": "code",
   "execution_count": 68,
   "id": "c602bc8b",
   "metadata": {
    "deletable": false,
    "id": "c602bc8b"
   },
   "outputs": [
    {
     "name": "stdout",
     "output_type": "stream",
     "text": [
      "Уровень общей задолженности  8.119638085415593\n",
      "Доля должников, цель кредита - операции с недвижимостью : 7.255139056831923\n",
      "Доля должников, цель кредита - операции с автомобилем : 9.34797849964945\n",
      "Доля должников, цель кредита - получение образования : 9.252758274824474\n",
      "Доля должников, цель кредита - проведение свадьбы : 7.911802853437094\n"
     ]
    },
    {
     "data": {
      "text/plain": [
       "<AxesSubplot:>"
      ]
     },
     "execution_count": 68,
     "metadata": {},
     "output_type": "execute_result"
    },
    {
     "data": {
      "image/png": "[encoded data removed]",
      "text/plain": [
       "<Figure size 1080x504 with 1 Axes>"
      ]
     },
     "metadata": {
      "needs_background": "light"
     },
     "output_type": "display_data"
    }
   ],
   "source": [
    "print(label, ratio_total_debt)\n",
    "ratio_debt_purpose = pd.Series([ratio_total_debt, ratio_debt_purp(p_name[0]), ratio_debt_purp(p_name[1]),\n",
    "                                ratio_debt_purp(p_name[2]), ratio_debt_purp(p_name[3])])\n",
    "purpose_name = pd.Series([label] + p_name)\n",
    "seaborn.barplot(x=purpose_name, y=ratio_debt_purpose) #x - цель кредита, y - доля должников"
   ]
  },
  {
   "cell_type": "markdown",
   "id": "cf05ed63",
   "metadata": {
    "deletable": false,
    "id": "cf05ed63"
   },
   "source": [
    "**Вывод:** \n",
    "\n",
    "Клиенты с целями кредита на 'операции с недвижимостью' и 'проведение свадьбы будут' платят их в срок чаще, чем клиенты с целями получения кредита на 'операции с автомобилем' и 'получением образования'."
   ]
  },
  {
   "cell_type": "markdown",
   "id": "f00b0cf3",
   "metadata": {},
   "source": [
    "<div class=\"alert alert-success\">\n",
    "\n",
    "**Артём:** 👍 Правильно.\n",
    "\n",
    "</div>"
   ]
  },
  {
   "cell_type": "markdown",
   "id": "46c1f10b",
   "metadata": {
    "deletable": false,
    "editable": false,
    "id": "46c1f10b"
   },
   "source": [
    "#### 3.5 Приведите возможные причины появления пропусков в исходных данных."
   ]
  },
  {
   "cell_type": "markdown",
   "id": "3697d2a9",
   "metadata": {
    "deletable": false,
    "id": "3697d2a9"
   },
   "source": [
    "*Ответ:* Причины пропусков в исходных данным могут быть связаны с тем, что не все клиенты банка хотят указывать свой размер заработной платы и некоторые клиенты могут не знать своего точного стажа в днях. Чтобы уменьшить количество пропусков на этапе сбора исходных данных можно было бы просить указывать диапозон заработной платы, в котором она находится и вместо дней стажа указывать количество лет.\n",
    "\n",
    "Другой вариант - не работающий клиент или пенсионер, которые осознанно пропустили колонки стажа и заработной платы при заполнении анкеты. Еще один вариант - пропуски, которые образовались при выгрузке статистических данных, это можно проверить, уточнив этот вопрос у разработчиков, которые ее делали."
   ]
  },
  {
   "cell_type": "markdown",
   "id": "e1fc693f",
   "metadata": {},
   "source": [
    "<div class=\"alert alert-success\">\n",
    "\n",
    "**Артём:**  Хорошо, а какие еще варианты?\n",
    "    \n",
    "</div>"
   ]
  },
  {
   "cell_type": "markdown",
   "id": "a635942a",
   "metadata": {},
   "source": [
    "<div style=\"background-color:lavender; color:#black; text-align:center; padding:2%\">\n",
    "    \n",
    "**Павел:** Посмотрел более тщательно на характер пропусков - их одинаковое количество по строкам и по количеству в столбцах, то есть пропуски одновременные. Дописал в конце ответа соответсвующий вывод."
   ]
  },
  {
   "cell_type": "markdown",
   "id": "5e586847",
   "metadata": {},
   "source": [
    "<div class=\"alert alert-success\">\n",
    "\n",
    "**Артём:** 👍 Хорошо.\n",
    "\n",
    "</div>"
   ]
  },
  {
   "cell_type": "markdown",
   "id": "3137d257",
   "metadata": {
    "deletable": false,
    "editable": false,
    "id": "3137d257"
   },
   "source": [
    "#### 3.6 Объясните, почему заполнить пропуски медианным значением — лучшее решение для количественных переменных."
   ]
  },
  {
   "cell_type": "markdown",
   "id": "cf40012a",
   "metadata": {
    "deletable": false,
    "id": "cf40012a"
   },
   "source": [
    "*Ответ:* Медианное значение ближе всего расположено к истинно среднему. На него не влияют значения, сильно выбивающиеся из общего количества переменных."
   ]
  },
  {
   "cell_type": "markdown",
   "id": "58673f38",
   "metadata": {},
   "source": [
    "<div class=\"alert alert-success\">\n",
    "\n",
    "**Артём:** 👍 Верно.\n",
    "\n",
    "</div>"
   ]
  },
  {
   "cell_type": "markdown",
   "id": "57bc304e",
   "metadata": {
    "deletable": false,
    "editable": false,
    "id": "57bc304e"
   },
   "source": [
    "### Шаг 4: общий вывод."
   ]
  },
  {
   "cell_type": "markdown",
   "id": "1ab75d1c",
   "metadata": {
    "deletable": false,
    "id": "1ab75d1c"
   },
   "source": [
    "Проведенные исследования показали, что банку с целью получения наибольшего числа клиентов, погашающих кредит в срок (или минимальной долей должников), будет выгодно применять следующие критерии при отборе кандидатов:\n",
    "\n",
    "**1.** В семьях с 1 и 2 детьми доля должников растет с прибавлением ребенка и она больше, чем в семьях без детей. Семьи без детей более  предпочтительны для банка, чем семьи с 1 или 2 детьми, так как доля должников в этой группе меньше, чем общий уровень должников  среди всех клиентов без учета наличия детей в семье.\n",
    "\n",
    "Выводы об уплате кредита в срок в семьях с 3, 4 и 5 детьми сделать нельзя, так как их количество представлено в недостаточном объеме.\n",
    "\n",
    "**2.** В семьях, где семейные отношения не оформляли официально (гражданский брак и холостые) доля клиетов, платящих кредит в срок, ниже, чем у тех, кто оформлял официальные браки. Наиболее привлекательные для банка группы в порядке предпочтения для банка:\n",
    "- вдовец/вдова,\n",
    "- в разводе,\n",
    "- женат/замужен.\n",
    "\n",
    "**3.** Уровень дохода влияет на срок погашения кредита в срок по следующим категориям заработных плат в порядке предпочтения для банка:\n",
    "- 200001–1000000 — `'B'`;\n",
    "- 50001–200000 — `'C'`.\n",
    "\n",
    "    Группы клиентов по следующим категориям доходов не репрезентативны:\n",
    "\n",
    "\n",
    "- 0–30000 — `'E'`;\n",
    "- 30001–50000 — `'D'`.\n",
    "- 1000001 и выше — `'A'`\n",
    "\n",
    "**4.** Клиенты, планирующие взять кредит с целями 'операции с недвижимостью' и 'провдение свадьбы' более платежеспособны к обслуживанию кредита в срок, чем клиенты с целями 'операции с автомобилем' и 'получение образования'.\n"
   ]
  },
  {
   "cell_type": "markdown",
   "id": "4aeece69",
   "metadata": {},
   "source": [
    "<div class=\"alert alert-success\">\n",
    "\n",
    "**Артём:** 👍 Хороший вывод. Аккуратно, последовательно, приятно читать.\n",
    "\n",
    "</div>"
   ]
  },
  {
   "cell_type": "markdown",
   "id": "6715680f",
   "metadata": {},
   "source": [
    "## 🏁 Итоги ревью\n",
    "<a id=\"results\"></a>\n",
    "[В начало](#start)\n",
    "\n",
    "<div class=\"alert alert-danger\">\n",
    "\n",
    "**Артём:** ❌ Павел, спасибо за работу. Осталось исправить несколько комментариев и можно идти к заказчику. Молодец! 👍\n",
    "    \n",
    "Для удобства, комментарии которые нужно скорректировать я добавил в меню **Contents** слева.\n",
    "    \n",
    "Жду новую версию проекта. 🙂\n",
    "\n",
    "</div>"
   ]
  },
  {
   "cell_type": "markdown",
   "id": "f540e166",
   "metadata": {},
   "source": [
    "<div style=\"background-color:lavender; color:#black; text-align:center; padding:2%\">\n",
    "    \n",
    "**Павел:** Спасибо за подсказку с репрезентативностью! Прочитал про нее подробнее. Это одно из базовых понятий при проведении статистического исследования. Если его не учесть, то можно сделать неправильные выводы по всему исследованию."
   ]
  },
  {
   "cell_type": "markdown",
   "id": "17e130d4",
   "metadata": {},
   "source": [
    "<img src=\"https://lifeo.ru/wp-content/uploads/gif-salyut-10.gif\"> \n",
    "<div class=\"alert alert-success\">   \n",
    "\n",
    "**Артём:** ✌️ Павел, тебе спасибо за работу и внесенные корректировки! Критических замечаний нет.\n",
    "\n",
    "Поздравляю, **проект принят!** 🥳 🎉 Ты молодец!\n",
    "\n",
    "Желаю тебе успехов в дальнейшем обучении. 😉\n",
    "    \n",
    "---\n",
    "    \n",
    "#### 📖 **Полезные ссылки**\n",
    "\n",
    "* [Работа в Яндексе](https://yandex.ru/jobs/pages/analytics_interview?ysclid=l84s63fs1g790141490)\n",
    "* [Настройте свой Jupyter Notebook правильно](https://medium.com/nuances-of-programming/настройте-свой-jupyter-notebook-правильно-faef14c89434)    \n",
    "* [Краткое руководство по Маркдауну](https://paulradzkov.com/2014/markdown_cheatsheet/?)\n",
    "* [PEP 8 – Style Guide for Python Code](https://www.python.org/dev/peps/pep-0008/)    \n",
    "* [Обработка пропусков в данных](https://loginom.ru/blog/missing)  \n",
    "* [Разделение данных с помощью qcut и cut в Pandas](https://dfedorov.spb.ru/pandas/Разделение%20данных%20в%20Pandas%20с%20помощью%20qcut%20и%20cut.html?)  \n",
    "* [Официальная документаци метода qcut](https://pandas.pydata.org/pandas-docs/stable/reference/api/pandas.qcut.html)  \n",
    "* [Подробное руководство по группировке и агрегированию с помощью pandas](https://dfedorov.spb.ru/pandas/Подробное%20руководство%20по%20группировке%20и%20агрегированию%20с%20помощью%20pandas.html?ysclid=lcmm6rtg2w602526506)\n",
    "* [Шпаргалка по визуализации данных в Python с помощью Plotly](https://habr.com/ru/articles/502958/)    \n",
    "* [Главред помогает очистить текст от словесного мусора, проверяет на соответствие информационному стилю.](https://glvrd.ru)\n",
    "\n",
    "</div>"
   ]
  },
  {
   "cell_type": "code",
   "execution_count": null,
   "id": "8df8ea22",
   "metadata": {},
   "outputs": [],
   "source": []
  }
 ],
 "metadata": {
  "ExecuteTimeLog": [
   {
    "duration": 589,
    "start_time": "2023-04-29T16:12:49.064Z"
   },
   {
    "duration": 23,
    "start_time": "2023-04-29T16:12:49.655Z"
   },
   {
    "duration": 16,
    "start_time": "2023-04-29T16:12:49.680Z"
   },
   {
    "duration": 14,
    "start_time": "2023-04-29T16:12:49.698Z"
   },
   {
    "duration": 34,
    "start_time": "2023-04-29T16:12:49.713Z"
   },
   {
    "duration": 3,
    "start_time": "2023-04-29T16:12:49.749Z"
   },
   {
    "duration": 11,
    "start_time": "2023-04-29T16:12:49.754Z"
   },
   {
    "duration": 29,
    "start_time": "2023-04-29T16:12:49.766Z"
   },
   {
    "duration": 11,
    "start_time": "2023-04-29T16:12:49.802Z"
   },
   {
    "duration": 6,
    "start_time": "2023-04-29T16:12:49.815Z"
   },
   {
    "duration": 34,
    "start_time": "2023-04-29T16:12:49.822Z"
   },
   {
    "duration": 9,
    "start_time": "2023-04-29T16:12:49.858Z"
   },
   {
    "duration": 34,
    "start_time": "2023-04-29T16:12:49.868Z"
   },
   {
    "duration": 13,
    "start_time": "2023-04-29T16:12:49.905Z"
   },
   {
    "duration": 22,
    "start_time": "2023-04-29T16:12:49.920Z"
   },
   {
    "duration": 17,
    "start_time": "2023-04-29T16:12:49.944Z"
   },
   {
    "duration": 4,
    "start_time": "2023-04-29T16:12:49.963Z"
   },
   {
    "duration": 25,
    "start_time": "2023-04-29T16:12:49.968Z"
   },
   {
    "duration": 14,
    "start_time": "2023-04-29T16:12:49.997Z"
   },
   {
    "duration": 4,
    "start_time": "2023-04-29T16:12:50.013Z"
   },
   {
    "duration": 9,
    "start_time": "2023-04-29T16:12:53.307Z"
   },
   {
    "duration": 83,
    "start_time": "2023-04-29T16:55:10.149Z"
   },
   {
    "duration": 723,
    "start_time": "2023-04-29T16:55:42.558Z"
   },
   {
    "duration": 698,
    "start_time": "2023-04-29T16:56:20.697Z"
   },
   {
    "duration": 14,
    "start_time": "2023-04-29T16:57:00.070Z"
   },
   {
    "duration": 12,
    "start_time": "2023-04-29T16:57:24.832Z"
   },
   {
    "duration": 4,
    "start_time": "2023-04-29T16:58:38.614Z"
   },
   {
    "duration": 5,
    "start_time": "2023-04-29T16:58:55.345Z"
   },
   {
    "duration": 5,
    "start_time": "2023-04-29T16:59:16.273Z"
   },
   {
    "duration": 6,
    "start_time": "2023-04-29T16:59:23.537Z"
   },
   {
    "duration": 6,
    "start_time": "2023-04-29T16:59:30.635Z"
   },
   {
    "duration": 5,
    "start_time": "2023-04-29T17:00:02.805Z"
   },
   {
    "duration": 4,
    "start_time": "2023-04-29T17:00:24.628Z"
   },
   {
    "duration": 6,
    "start_time": "2023-04-29T17:01:02.037Z"
   },
   {
    "duration": 12,
    "start_time": "2023-04-29T17:02:39.116Z"
   },
   {
    "duration": 6,
    "start_time": "2023-04-29T17:03:07.969Z"
   },
   {
    "duration": 7,
    "start_time": "2023-04-29T17:03:17.107Z"
   },
   {
    "duration": 6,
    "start_time": "2023-04-29T17:03:22.271Z"
   },
   {
    "duration": 6,
    "start_time": "2023-04-29T17:03:34.329Z"
   },
   {
    "duration": 6,
    "start_time": "2023-04-29T17:03:42.714Z"
   },
   {
    "duration": 4,
    "start_time": "2023-04-29T17:27:46.185Z"
   },
   {
    "duration": 4,
    "start_time": "2023-04-29T17:28:09.138Z"
   },
   {
    "duration": 4,
    "start_time": "2023-04-29T17:28:10.828Z"
   },
   {
    "duration": 4,
    "start_time": "2023-04-29T17:28:13.829Z"
   },
   {
    "duration": 4,
    "start_time": "2023-04-29T17:28:15.603Z"
   },
   {
    "duration": 92,
    "start_time": "2023-04-29T17:28:24.414Z"
   },
   {
    "duration": 21,
    "start_time": "2023-04-29T17:28:24.509Z"
   },
   {
    "duration": 15,
    "start_time": "2023-04-29T17:28:24.532Z"
   },
   {
    "duration": 11,
    "start_time": "2023-04-29T17:28:24.550Z"
   },
   {
    "duration": 36,
    "start_time": "2023-04-29T17:28:24.592Z"
   },
   {
    "duration": 3,
    "start_time": "2023-04-29T17:28:24.630Z"
   },
   {
    "duration": 9,
    "start_time": "2023-04-29T17:28:24.635Z"
   },
   {
    "duration": 6,
    "start_time": "2023-04-29T17:28:24.646Z"
   },
   {
    "duration": 7,
    "start_time": "2023-04-29T17:28:24.654Z"
   },
   {
    "duration": 6,
    "start_time": "2023-04-29T17:28:24.694Z"
   },
   {
    "duration": 35,
    "start_time": "2023-04-29T17:28:24.702Z"
   },
   {
    "duration": 10,
    "start_time": "2023-04-29T17:28:24.738Z"
   },
   {
    "duration": 4,
    "start_time": "2023-04-29T17:28:24.750Z"
   },
   {
    "duration": 43,
    "start_time": "2023-04-29T17:28:24.756Z"
   },
   {
    "duration": 24,
    "start_time": "2023-04-29T17:28:24.802Z"
   },
   {
    "duration": 18,
    "start_time": "2023-04-29T17:28:24.828Z"
   },
   {
    "duration": 4,
    "start_time": "2023-04-29T17:28:24.848Z"
   },
   {
    "duration": 24,
    "start_time": "2023-04-29T17:28:24.854Z"
   },
   {
    "duration": 8,
    "start_time": "2023-04-29T17:28:24.894Z"
   },
   {
    "duration": 6,
    "start_time": "2023-04-29T17:28:24.904Z"
   },
   {
    "duration": 14,
    "start_time": "2023-04-29T17:28:24.912Z"
   },
   {
    "duration": 3,
    "start_time": "2023-04-29T17:28:27.165Z"
   },
   {
    "duration": 4,
    "start_time": "2023-04-29T17:28:29.056Z"
   },
   {
    "duration": 5,
    "start_time": "2023-04-29T17:28:31.095Z"
   },
   {
    "duration": 4,
    "start_time": "2023-04-29T17:28:51.110Z"
   },
   {
    "duration": 5,
    "start_time": "2023-04-29T17:29:12.950Z"
   },
   {
    "duration": 7,
    "start_time": "2023-04-29T17:31:44.901Z"
   },
   {
    "duration": 7,
    "start_time": "2023-04-29T17:32:29.253Z"
   },
   {
    "duration": 12,
    "start_time": "2023-04-29T17:33:30.006Z"
   },
   {
    "duration": 10,
    "start_time": "2023-04-29T17:33:43.214Z"
   },
   {
    "duration": 13,
    "start_time": "2023-04-29T17:55:49.147Z"
   },
   {
    "duration": 9,
    "start_time": "2023-04-29T17:55:56.928Z"
   },
   {
    "duration": 11,
    "start_time": "2023-04-29T17:56:10.468Z"
   },
   {
    "duration": 11,
    "start_time": "2023-04-29T17:56:34.233Z"
   },
   {
    "duration": 13,
    "start_time": "2023-04-29T17:57:49.055Z"
   },
   {
    "duration": 13,
    "start_time": "2023-04-29T17:59:14.431Z"
   },
   {
    "duration": 13,
    "start_time": "2023-04-29T17:59:37.089Z"
   },
   {
    "duration": 12,
    "start_time": "2023-04-29T18:01:19.956Z"
   },
   {
    "duration": 13,
    "start_time": "2023-04-29T18:19:40.099Z"
   },
   {
    "duration": 988,
    "start_time": "2023-04-29T18:25:25.184Z"
   },
   {
    "duration": 150,
    "start_time": "2023-04-29T18:27:53.448Z"
   },
   {
    "duration": 140,
    "start_time": "2023-04-29T18:28:49.566Z"
   },
   {
    "duration": 157,
    "start_time": "2023-04-29T18:29:35.207Z"
   },
   {
    "duration": 145,
    "start_time": "2023-04-29T18:56:21.497Z"
   },
   {
    "duration": 145,
    "start_time": "2023-04-29T18:59:36.079Z"
   },
   {
    "duration": 160,
    "start_time": "2023-04-29T19:00:51.314Z"
   },
   {
    "duration": 252,
    "start_time": "2023-04-29T19:03:12.891Z"
   },
   {
    "duration": 75,
    "start_time": "2023-04-29T19:03:18.679Z"
   },
   {
    "duration": 18,
    "start_time": "2023-04-29T19:03:18.756Z"
   },
   {
    "duration": 25,
    "start_time": "2023-04-29T19:03:18.775Z"
   },
   {
    "duration": 12,
    "start_time": "2023-04-29T19:03:18.802Z"
   },
   {
    "duration": 41,
    "start_time": "2023-04-29T19:03:18.815Z"
   },
   {
    "duration": 3,
    "start_time": "2023-04-29T19:03:18.858Z"
   },
   {
    "duration": 23,
    "start_time": "2023-04-29T19:03:18.863Z"
   },
   {
    "duration": 5,
    "start_time": "2023-04-29T19:03:18.888Z"
   },
   {
    "duration": 19,
    "start_time": "2023-04-29T19:03:18.894Z"
   },
   {
    "duration": 7,
    "start_time": "2023-04-29T19:03:18.916Z"
   },
   {
    "duration": 34,
    "start_time": "2023-04-29T19:03:18.924Z"
   },
   {
    "duration": 10,
    "start_time": "2023-04-29T19:03:18.960Z"
   },
   {
    "duration": 11,
    "start_time": "2023-04-29T19:03:18.971Z"
   },
   {
    "duration": 16,
    "start_time": "2023-04-29T19:03:18.984Z"
   },
   {
    "duration": 23,
    "start_time": "2023-04-29T19:03:19.002Z"
   },
   {
    "duration": 18,
    "start_time": "2023-04-29T19:03:19.027Z"
   },
   {
    "duration": 4,
    "start_time": "2023-04-29T19:03:19.047Z"
   },
   {
    "duration": 16,
    "start_time": "2023-04-29T19:03:19.052Z"
   },
   {
    "duration": 7,
    "start_time": "2023-04-29T19:03:19.092Z"
   },
   {
    "duration": 6,
    "start_time": "2023-04-29T19:03:19.101Z"
   },
   {
    "duration": 11,
    "start_time": "2023-04-29T19:03:19.108Z"
   },
   {
    "duration": 174,
    "start_time": "2023-04-29T19:03:19.121Z"
   },
   {
    "duration": 176,
    "start_time": "2023-04-29T19:03:22.428Z"
   },
   {
    "duration": 145,
    "start_time": "2023-04-29T19:03:54.811Z"
   },
   {
    "duration": 151,
    "start_time": "2023-04-29T19:04:51.756Z"
   },
   {
    "duration": 73,
    "start_time": "2023-04-29T19:05:02.494Z"
   },
   {
    "duration": 17,
    "start_time": "2023-04-29T19:05:02.569Z"
   },
   {
    "duration": 16,
    "start_time": "2023-04-29T19:05:02.591Z"
   },
   {
    "duration": 10,
    "start_time": "2023-04-29T19:05:02.609Z"
   },
   {
    "duration": 33,
    "start_time": "2023-04-29T19:05:02.621Z"
   },
   {
    "duration": 3,
    "start_time": "2023-04-29T19:05:02.655Z"
   },
   {
    "duration": 39,
    "start_time": "2023-04-29T19:05:02.660Z"
   },
   {
    "duration": 7,
    "start_time": "2023-04-29T19:05:02.701Z"
   },
   {
    "duration": 6,
    "start_time": "2023-04-29T19:05:02.709Z"
   },
   {
    "duration": 5,
    "start_time": "2023-04-29T19:05:02.717Z"
   },
   {
    "duration": 35,
    "start_time": "2023-04-29T19:05:02.723Z"
   },
   {
    "duration": 33,
    "start_time": "2023-04-29T19:05:02.760Z"
   },
   {
    "duration": 4,
    "start_time": "2023-04-29T19:05:02.795Z"
   },
   {
    "duration": 14,
    "start_time": "2023-04-29T19:05:02.801Z"
   },
   {
    "duration": 28,
    "start_time": "2023-04-29T19:05:02.816Z"
   },
   {
    "duration": 47,
    "start_time": "2023-04-29T19:05:02.846Z"
   },
   {
    "duration": 4,
    "start_time": "2023-04-29T19:05:02.896Z"
   },
   {
    "duration": 26,
    "start_time": "2023-04-29T19:05:02.902Z"
   },
   {
    "duration": 8,
    "start_time": "2023-04-29T19:05:02.929Z"
   },
   {
    "duration": 12,
    "start_time": "2023-04-29T19:05:02.939Z"
   },
   {
    "duration": 11,
    "start_time": "2023-04-29T19:05:02.953Z"
   },
   {
    "duration": 166,
    "start_time": "2023-04-29T19:05:02.966Z"
   },
   {
    "duration": 156,
    "start_time": "2023-04-29T19:05:05.484Z"
   },
   {
    "duration": 3,
    "start_time": "2023-04-29T20:15:38.058Z"
   },
   {
    "duration": 49,
    "start_time": "2023-04-29T20:29:35.257Z"
   },
   {
    "duration": 7,
    "start_time": "2023-04-29T20:29:43.706Z"
   },
   {
    "duration": 74,
    "start_time": "2023-04-29T20:39:46.974Z"
   },
   {
    "duration": 17,
    "start_time": "2023-04-29T20:39:47.050Z"
   },
   {
    "duration": 24,
    "start_time": "2023-04-29T20:39:47.069Z"
   },
   {
    "duration": 9,
    "start_time": "2023-04-29T20:39:47.095Z"
   },
   {
    "duration": 35,
    "start_time": "2023-04-29T20:39:47.107Z"
   },
   {
    "duration": 4,
    "start_time": "2023-04-29T20:39:47.144Z"
   },
   {
    "duration": 46,
    "start_time": "2023-04-29T20:39:47.149Z"
   },
   {
    "duration": 5,
    "start_time": "2023-04-29T20:39:47.197Z"
   },
   {
    "duration": 15,
    "start_time": "2023-04-29T20:39:47.203Z"
   },
   {
    "duration": 6,
    "start_time": "2023-04-29T20:39:47.220Z"
   },
   {
    "duration": 37,
    "start_time": "2023-04-29T20:39:47.227Z"
   },
   {
    "duration": 29,
    "start_time": "2023-04-29T20:39:47.265Z"
   },
   {
    "duration": 4,
    "start_time": "2023-04-29T20:39:47.297Z"
   },
   {
    "duration": 14,
    "start_time": "2023-04-29T20:39:47.304Z"
   },
   {
    "duration": 28,
    "start_time": "2023-04-29T20:39:47.320Z"
   },
   {
    "duration": 22,
    "start_time": "2023-04-29T20:39:47.350Z"
   },
   {
    "duration": 21,
    "start_time": "2023-04-29T20:39:47.373Z"
   },
   {
    "duration": 20,
    "start_time": "2023-04-29T20:39:47.396Z"
   },
   {
    "duration": 7,
    "start_time": "2023-04-29T20:39:47.419Z"
   },
   {
    "duration": 5,
    "start_time": "2023-04-29T20:39:47.428Z"
   },
   {
    "duration": 12,
    "start_time": "2023-04-29T20:39:47.434Z"
   },
   {
    "duration": 183,
    "start_time": "2023-04-29T20:40:22.393Z"
   },
   {
    "duration": 20,
    "start_time": "2023-04-29T20:41:43.887Z"
   },
   {
    "duration": 19,
    "start_time": "2023-04-29T20:43:32.912Z"
   },
   {
    "duration": 21,
    "start_time": "2023-04-29T20:44:20.713Z"
   },
   {
    "duration": 21,
    "start_time": "2023-04-29T20:44:31.742Z"
   },
   {
    "duration": 18,
    "start_time": "2023-04-29T20:45:06.096Z"
   },
   {
    "duration": 50,
    "start_time": "2023-04-29T20:46:31.715Z"
   },
   {
    "duration": 26,
    "start_time": "2023-04-29T20:46:49.266Z"
   },
   {
    "duration": 262,
    "start_time": "2023-04-29T21:00:15.645Z"
   },
   {
    "duration": 181,
    "start_time": "2023-04-29T21:04:51.771Z"
   },
   {
    "duration": 18,
    "start_time": "2023-04-29T21:25:27.709Z"
   },
   {
    "duration": 19,
    "start_time": "2023-04-29T21:31:54.303Z"
   },
   {
    "duration": 22,
    "start_time": "2023-04-29T21:34:59.274Z"
   },
   {
    "duration": 28,
    "start_time": "2023-04-29T21:39:26.079Z"
   },
   {
    "duration": 20,
    "start_time": "2023-04-29T21:40:27.826Z"
   },
   {
    "duration": 27,
    "start_time": "2023-04-29T21:44:30.632Z"
   },
   {
    "duration": 23,
    "start_time": "2023-04-29T21:44:42.664Z"
   },
   {
    "duration": 35,
    "start_time": "2023-04-29T21:45:10.368Z"
   },
   {
    "duration": 29,
    "start_time": "2023-04-29T21:45:22.400Z"
   },
   {
    "duration": 23,
    "start_time": "2023-04-29T21:45:43.306Z"
   },
   {
    "duration": 22,
    "start_time": "2023-04-29T21:46:20.858Z"
   },
   {
    "duration": 29,
    "start_time": "2023-04-29T21:47:49.587Z"
   },
   {
    "duration": 23,
    "start_time": "2023-04-29T21:51:12.803Z"
   },
   {
    "duration": 54,
    "start_time": "2023-04-29T21:53:24.305Z"
   },
   {
    "duration": 66,
    "start_time": "2023-04-29T21:54:17.635Z"
   },
   {
    "duration": 24,
    "start_time": "2023-04-29T21:54:45.546Z"
   },
   {
    "duration": 68,
    "start_time": "2023-04-29T21:56:05.354Z"
   },
   {
    "duration": 15,
    "start_time": "2023-04-29T21:56:05.424Z"
   },
   {
    "duration": 13,
    "start_time": "2023-04-29T21:56:05.441Z"
   },
   {
    "duration": 18,
    "start_time": "2023-04-29T21:56:05.456Z"
   },
   {
    "duration": 32,
    "start_time": "2023-04-29T21:56:05.491Z"
   },
   {
    "duration": 4,
    "start_time": "2023-04-29T21:56:05.525Z"
   },
   {
    "duration": 12,
    "start_time": "2023-04-29T21:56:05.531Z"
   },
   {
    "duration": 5,
    "start_time": "2023-04-29T21:56:05.545Z"
   },
   {
    "duration": 17,
    "start_time": "2023-04-29T21:56:05.552Z"
   },
   {
    "duration": 26,
    "start_time": "2023-04-29T21:56:05.571Z"
   },
   {
    "duration": 33,
    "start_time": "2023-04-29T21:56:05.599Z"
   },
   {
    "duration": 10,
    "start_time": "2023-04-29T21:56:05.634Z"
   },
   {
    "duration": 11,
    "start_time": "2023-04-29T21:56:05.646Z"
   },
   {
    "duration": 34,
    "start_time": "2023-04-29T21:56:05.660Z"
   },
   {
    "duration": 22,
    "start_time": "2023-04-29T21:56:05.696Z"
   },
   {
    "duration": 19,
    "start_time": "2023-04-29T21:56:05.720Z"
   },
   {
    "duration": 4,
    "start_time": "2023-04-29T21:56:05.741Z"
   },
   {
    "duration": 10,
    "start_time": "2023-04-29T21:56:05.748Z"
   },
   {
    "duration": 34,
    "start_time": "2023-04-29T21:56:05.760Z"
   },
   {
    "duration": 3,
    "start_time": "2023-04-29T21:56:05.797Z"
   },
   {
    "duration": 11,
    "start_time": "2023-04-29T21:56:05.802Z"
   },
   {
    "duration": 31,
    "start_time": "2023-04-29T21:56:08.814Z"
   },
   {
    "duration": 784,
    "start_time": "2023-04-30T07:25:52.429Z"
   },
   {
    "duration": 21,
    "start_time": "2023-04-30T07:25:53.215Z"
   },
   {
    "duration": 37,
    "start_time": "2023-04-30T07:25:53.237Z"
   },
   {
    "duration": 11,
    "start_time": "2023-04-30T07:25:53.276Z"
   },
   {
    "duration": 63,
    "start_time": "2023-04-30T07:25:53.288Z"
   },
   {
    "duration": 8,
    "start_time": "2023-04-30T07:25:53.355Z"
   },
   {
    "duration": 20,
    "start_time": "2023-04-30T07:25:53.366Z"
   },
   {
    "duration": 18,
    "start_time": "2023-04-30T07:25:53.387Z"
   },
   {
    "duration": 17,
    "start_time": "2023-04-30T07:25:53.407Z"
   },
   {
    "duration": 39,
    "start_time": "2023-04-30T07:25:53.426Z"
   },
   {
    "duration": 36,
    "start_time": "2023-04-30T07:25:53.467Z"
   },
   {
    "duration": 11,
    "start_time": "2023-04-30T07:25:53.504Z"
   },
   {
    "duration": 9,
    "start_time": "2023-04-30T07:25:53.516Z"
   },
   {
    "duration": 51,
    "start_time": "2023-04-30T07:25:53.527Z"
   },
   {
    "duration": 25,
    "start_time": "2023-04-30T07:25:53.580Z"
   },
   {
    "duration": 20,
    "start_time": "2023-04-30T07:25:53.606Z"
   },
   {
    "duration": 3,
    "start_time": "2023-04-30T07:25:53.628Z"
   },
   {
    "duration": 42,
    "start_time": "2023-04-30T07:25:53.632Z"
   },
   {
    "duration": 7,
    "start_time": "2023-04-30T07:25:53.676Z"
   },
   {
    "duration": 3,
    "start_time": "2023-04-30T07:25:53.684Z"
   },
   {
    "duration": 11,
    "start_time": "2023-04-30T07:25:53.689Z"
   },
   {
    "duration": 915,
    "start_time": "2023-04-30T07:26:01.965Z"
   },
   {
    "duration": 24,
    "start_time": "2023-04-30T07:39:42.275Z"
   },
   {
    "duration": 10,
    "start_time": "2023-04-30T09:19:44.122Z"
   },
   {
    "duration": 194,
    "start_time": "2023-04-30T09:20:09.588Z"
   },
   {
    "duration": 198,
    "start_time": "2023-04-30T09:20:34.367Z"
   },
   {
    "duration": 177,
    "start_time": "2023-04-30T10:00:10.091Z"
   },
   {
    "duration": 158,
    "start_time": "2023-04-30T10:04:50.857Z"
   },
   {
    "duration": 25,
    "start_time": "2023-04-30T10:05:34.508Z"
   },
   {
    "duration": 193,
    "start_time": "2023-04-30T10:05:59.002Z"
   },
   {
    "duration": 71,
    "start_time": "2023-04-30T10:10:37.064Z"
   },
   {
    "duration": 21,
    "start_time": "2023-04-30T10:10:37.142Z"
   },
   {
    "duration": 26,
    "start_time": "2023-04-30T10:10:37.164Z"
   },
   {
    "duration": 9,
    "start_time": "2023-04-30T10:10:37.191Z"
   },
   {
    "duration": 55,
    "start_time": "2023-04-30T10:10:37.202Z"
   },
   {
    "duration": 8,
    "start_time": "2023-04-30T10:10:37.263Z"
   },
   {
    "duration": 21,
    "start_time": "2023-04-30T10:10:37.273Z"
   },
   {
    "duration": 14,
    "start_time": "2023-04-30T10:10:37.295Z"
   },
   {
    "duration": 6,
    "start_time": "2023-04-30T10:10:37.310Z"
   },
   {
    "duration": 12,
    "start_time": "2023-04-30T10:10:37.318Z"
   },
   {
    "duration": 51,
    "start_time": "2023-04-30T10:10:37.331Z"
   },
   {
    "duration": 9,
    "start_time": "2023-04-30T10:10:37.384Z"
   },
   {
    "duration": 9,
    "start_time": "2023-04-30T10:10:37.394Z"
   },
   {
    "duration": 11,
    "start_time": "2023-04-30T10:10:37.405Z"
   },
   {
    "duration": 32,
    "start_time": "2023-04-30T10:10:37.417Z"
   },
   {
    "duration": 25,
    "start_time": "2023-04-30T10:10:37.456Z"
   },
   {
    "duration": 3,
    "start_time": "2023-04-30T10:10:37.483Z"
   },
   {
    "duration": 12,
    "start_time": "2023-04-30T10:10:37.487Z"
   },
   {
    "duration": 5,
    "start_time": "2023-04-30T10:10:37.500Z"
   },
   {
    "duration": 3,
    "start_time": "2023-04-30T10:10:37.506Z"
   },
   {
    "duration": 11,
    "start_time": "2023-04-30T10:10:37.510Z"
   },
   {
    "duration": 182,
    "start_time": "2023-04-30T10:10:41.605Z"
   },
   {
    "duration": 161,
    "start_time": "2023-04-30T10:32:25.695Z"
   },
   {
    "duration": 80,
    "start_time": "2023-04-30T10:32:55.933Z"
   },
   {
    "duration": 13,
    "start_time": "2023-04-30T10:32:56.015Z"
   },
   {
    "duration": 53,
    "start_time": "2023-04-30T10:32:56.029Z"
   },
   {
    "duration": 9,
    "start_time": "2023-04-30T10:32:56.084Z"
   },
   {
    "duration": 32,
    "start_time": "2023-04-30T10:32:56.094Z"
   },
   {
    "duration": 4,
    "start_time": "2023-04-30T10:32:56.127Z"
   },
   {
    "duration": 43,
    "start_time": "2023-04-30T10:32:56.132Z"
   },
   {
    "duration": 4,
    "start_time": "2023-04-30T10:32:56.177Z"
   },
   {
    "duration": 7,
    "start_time": "2023-04-30T10:32:56.183Z"
   },
   {
    "duration": 7,
    "start_time": "2023-04-30T10:32:56.192Z"
   },
   {
    "duration": 32,
    "start_time": "2023-04-30T10:32:56.200Z"
   },
   {
    "duration": 25,
    "start_time": "2023-04-30T10:32:56.233Z"
   },
   {
    "duration": 15,
    "start_time": "2023-04-30T10:32:56.263Z"
   },
   {
    "duration": 15,
    "start_time": "2023-04-30T10:32:56.280Z"
   },
   {
    "duration": 85,
    "start_time": "2023-04-30T10:32:56.296Z"
   },
   {
    "duration": 16,
    "start_time": "2023-04-30T10:32:56.382Z"
   },
   {
    "duration": 3,
    "start_time": "2023-04-30T10:32:56.400Z"
   },
   {
    "duration": 17,
    "start_time": "2023-04-30T10:32:56.405Z"
   },
   {
    "duration": 23,
    "start_time": "2023-04-30T10:32:56.424Z"
   },
   {
    "duration": 22,
    "start_time": "2023-04-30T10:32:56.449Z"
   },
   {
    "duration": 12,
    "start_time": "2023-04-30T10:32:56.472Z"
   },
   {
    "duration": 154,
    "start_time": "2023-04-30T10:32:59.797Z"
   },
   {
    "duration": 164,
    "start_time": "2023-04-30T10:33:43.462Z"
   },
   {
    "duration": 149,
    "start_time": "2023-04-30T10:35:10.262Z"
   },
   {
    "duration": 72,
    "start_time": "2023-04-30T19:44:36.221Z"
   },
   {
    "duration": 1146,
    "start_time": "2023-04-30T19:44:56.011Z"
   },
   {
    "duration": 30,
    "start_time": "2023-04-30T19:44:57.160Z"
   },
   {
    "duration": 20,
    "start_time": "2023-04-30T19:44:57.192Z"
   },
   {
    "duration": 12,
    "start_time": "2023-04-30T19:44:57.215Z"
   },
   {
    "duration": 81,
    "start_time": "2023-04-30T19:44:57.229Z"
   },
   {
    "duration": 4,
    "start_time": "2023-04-30T19:44:57.312Z"
   },
   {
    "duration": 13,
    "start_time": "2023-04-30T19:44:57.318Z"
   },
   {
    "duration": 5,
    "start_time": "2023-04-30T19:44:57.333Z"
   },
   {
    "duration": 42,
    "start_time": "2023-04-30T19:44:57.340Z"
   },
   {
    "duration": 8,
    "start_time": "2023-04-30T19:44:57.385Z"
   },
   {
    "duration": 38,
    "start_time": "2023-04-30T19:44:57.395Z"
   },
   {
    "duration": 16,
    "start_time": "2023-04-30T19:44:57.435Z"
   },
   {
    "duration": 38,
    "start_time": "2023-04-30T19:44:57.453Z"
   },
   {
    "duration": 20,
    "start_time": "2023-04-30T19:44:57.493Z"
   },
   {
    "duration": 55,
    "start_time": "2023-04-30T19:44:57.515Z"
   },
   {
    "duration": 26,
    "start_time": "2023-04-30T19:44:57.571Z"
   },
   {
    "duration": 5,
    "start_time": "2023-04-30T19:44:57.599Z"
   },
   {
    "duration": 17,
    "start_time": "2023-04-30T19:44:57.605Z"
   },
   {
    "duration": 20,
    "start_time": "2023-04-30T19:44:57.625Z"
   },
   {
    "duration": 17,
    "start_time": "2023-04-30T19:44:57.654Z"
   },
   {
    "duration": 12,
    "start_time": "2023-04-30T19:44:57.674Z"
   },
   {
    "duration": 1307,
    "start_time": "2023-04-30T19:44:57.688Z"
   },
   {
    "duration": 6,
    "start_time": "2023-04-30T19:44:58.998Z"
   },
   {
    "duration": 23,
    "start_time": "2023-04-30T19:45:00.716Z"
   },
   {
    "duration": 242,
    "start_time": "2023-04-30T20:25:10.258Z"
   },
   {
    "duration": 142,
    "start_time": "2023-04-30T20:26:45.942Z"
   },
   {
    "duration": 42,
    "start_time": "2023-04-30T20:27:08.977Z"
   },
   {
    "duration": 282,
    "start_time": "2023-04-30T20:27:21.065Z"
   },
   {
    "duration": 227,
    "start_time": "2023-04-30T20:29:26.185Z"
   },
   {
    "duration": 199,
    "start_time": "2023-04-30T20:30:03.393Z"
   },
   {
    "duration": 220,
    "start_time": "2023-04-30T20:30:11.514Z"
   },
   {
    "duration": 306,
    "start_time": "2023-04-30T20:32:24.552Z"
   },
   {
    "duration": 189,
    "start_time": "2023-04-30T20:33:38.152Z"
   },
   {
    "duration": 248,
    "start_time": "2023-04-30T20:41:00.868Z"
   },
   {
    "duration": 239,
    "start_time": "2023-04-30T21:37:57.046Z"
   },
   {
    "duration": 314,
    "start_time": "2023-04-30T21:40:18.977Z"
   },
   {
    "duration": 9,
    "start_time": "2023-04-30T21:49:13.898Z"
   },
   {
    "duration": 4,
    "start_time": "2023-04-30T22:02:55.204Z"
   },
   {
    "duration": 113,
    "start_time": "2023-04-30T22:05:31.230Z"
   },
   {
    "duration": 23,
    "start_time": "2023-04-30T22:05:31.349Z"
   },
   {
    "duration": 41,
    "start_time": "2023-04-30T22:05:31.374Z"
   },
   {
    "duration": 23,
    "start_time": "2023-04-30T22:05:31.418Z"
   },
   {
    "duration": 66,
    "start_time": "2023-04-30T22:05:31.442Z"
   },
   {
    "duration": 11,
    "start_time": "2023-04-30T22:05:31.510Z"
   },
   {
    "duration": 35,
    "start_time": "2023-04-30T22:05:31.524Z"
   },
   {
    "duration": 44,
    "start_time": "2023-04-30T22:05:31.561Z"
   },
   {
    "duration": 49,
    "start_time": "2023-04-30T22:05:31.607Z"
   },
   {
    "duration": 44,
    "start_time": "2023-04-30T22:05:31.659Z"
   },
   {
    "duration": 66,
    "start_time": "2023-04-30T22:05:31.705Z"
   },
   {
    "duration": 12,
    "start_time": "2023-04-30T22:05:31.773Z"
   },
   {
    "duration": 94,
    "start_time": "2023-04-30T22:05:31.787Z"
   },
   {
    "duration": 68,
    "start_time": "2023-04-30T22:05:31.884Z"
   },
   {
    "duration": 53,
    "start_time": "2023-04-30T22:05:31.954Z"
   },
   {
    "duration": 23,
    "start_time": "2023-04-30T22:05:32.009Z"
   },
   {
    "duration": 8,
    "start_time": "2023-04-30T22:05:32.034Z"
   },
   {
    "duration": 49,
    "start_time": "2023-04-30T22:05:32.044Z"
   },
   {
    "duration": 40,
    "start_time": "2023-04-30T22:05:32.095Z"
   },
   {
    "duration": 45,
    "start_time": "2023-04-30T22:05:32.137Z"
   },
   {
    "duration": 55,
    "start_time": "2023-04-30T22:05:32.184Z"
   },
   {
    "duration": 210,
    "start_time": "2023-04-30T22:05:32.241Z"
   },
   {
    "duration": 10,
    "start_time": "2023-04-30T22:05:32.454Z"
   },
   {
    "duration": 45,
    "start_time": "2023-04-30T22:05:32.467Z"
   },
   {
    "duration": 208,
    "start_time": "2023-04-30T22:05:35.159Z"
   },
   {
    "duration": 217,
    "start_time": "2023-04-30T22:06:48.778Z"
   },
   {
    "duration": 48,
    "start_time": "2023-04-30T22:24:47.798Z"
   },
   {
    "duration": 32,
    "start_time": "2023-04-30T22:27:07.119Z"
   },
   {
    "duration": 63,
    "start_time": "2023-04-30T22:33:07.436Z"
   },
   {
    "duration": 33,
    "start_time": "2023-04-30T22:35:45.450Z"
   },
   {
    "duration": 4,
    "start_time": "2023-04-30T22:38:59.355Z"
   },
   {
    "duration": 68,
    "start_time": "2023-05-01T08:56:51.522Z"
   },
   {
    "duration": 9,
    "start_time": "2023-05-01T08:57:20.734Z"
   },
   {
    "duration": 564,
    "start_time": "2023-05-01T08:57:40.486Z"
   },
   {
    "duration": 30,
    "start_time": "2023-05-01T08:57:41.052Z"
   },
   {
    "duration": 18,
    "start_time": "2023-05-01T08:57:41.084Z"
   },
   {
    "duration": 16,
    "start_time": "2023-05-01T08:57:41.104Z"
   },
   {
    "duration": 68,
    "start_time": "2023-05-01T08:57:41.124Z"
   },
   {
    "duration": 4,
    "start_time": "2023-05-01T08:57:41.194Z"
   },
   {
    "duration": 14,
    "start_time": "2023-05-01T08:57:41.200Z"
   },
   {
    "duration": 5,
    "start_time": "2023-05-01T08:57:41.216Z"
   },
   {
    "duration": 40,
    "start_time": "2023-05-01T08:57:41.223Z"
   },
   {
    "duration": 6,
    "start_time": "2023-05-01T08:57:41.266Z"
   },
   {
    "duration": 55,
    "start_time": "2023-05-01T08:57:41.274Z"
   },
   {
    "duration": 11,
    "start_time": "2023-05-01T08:57:41.332Z"
   },
   {
    "duration": 4,
    "start_time": "2023-05-01T08:57:41.356Z"
   },
   {
    "duration": 20,
    "start_time": "2023-05-01T08:57:41.365Z"
   },
   {
    "duration": 27,
    "start_time": "2023-05-01T08:57:41.387Z"
   },
   {
    "duration": 57,
    "start_time": "2023-05-01T08:57:41.417Z"
   },
   {
    "duration": 6,
    "start_time": "2023-05-01T08:57:41.480Z"
   },
   {
    "duration": 27,
    "start_time": "2023-05-01T08:57:41.488Z"
   },
   {
    "duration": 8,
    "start_time": "2023-05-01T08:57:41.517Z"
   },
   {
    "duration": 5,
    "start_time": "2023-05-01T08:57:41.528Z"
   },
   {
    "duration": 25,
    "start_time": "2023-05-01T08:57:41.535Z"
   },
   {
    "duration": 1361,
    "start_time": "2023-05-01T08:57:41.562Z"
   },
   {
    "duration": 9,
    "start_time": "2023-05-01T08:57:42.926Z"
   },
   {
    "duration": 47,
    "start_time": "2023-05-01T08:57:42.937Z"
   },
   {
    "duration": 260,
    "start_time": "2023-05-01T08:57:42.989Z"
   },
   {
    "duration": 193,
    "start_time": "2023-05-01T08:57:46.957Z"
   },
   {
    "duration": 197,
    "start_time": "2023-05-01T09:16:45.491Z"
   },
   {
    "duration": 172,
    "start_time": "2023-05-01T09:16:51.576Z"
   },
   {
    "duration": 246,
    "start_time": "2023-05-01T09:17:17.246Z"
   },
   {
    "duration": 5,
    "start_time": "2023-05-01T09:21:20.449Z"
   },
   {
    "duration": 6,
    "start_time": "2023-05-01T09:21:29.435Z"
   },
   {
    "duration": 9,
    "start_time": "2023-05-01T09:22:09.445Z"
   },
   {
    "duration": 175,
    "start_time": "2023-05-01T09:44:36.093Z"
   },
   {
    "duration": 50,
    "start_time": "2023-05-01T09:45:10.947Z"
   },
   {
    "duration": 240,
    "start_time": "2023-05-01T09:45:18.019Z"
   },
   {
    "duration": 196,
    "start_time": "2023-05-01T09:47:07.542Z"
   },
   {
    "duration": 52,
    "start_time": "2023-05-01T11:10:48.002Z"
   },
   {
    "duration": 43,
    "start_time": "2023-05-01T11:11:13.204Z"
   },
   {
    "duration": 102,
    "start_time": "2023-05-01T12:20:58.506Z"
   },
   {
    "duration": 75,
    "start_time": "2023-05-01T13:39:31.484Z"
   },
   {
    "duration": 16,
    "start_time": "2023-05-01T13:39:35.495Z"
   },
   {
    "duration": 210,
    "start_time": "2023-05-01T13:40:45.918Z"
   },
   {
    "duration": 223,
    "start_time": "2023-05-01T13:40:54.386Z"
   },
   {
    "duration": 189,
    "start_time": "2023-05-01T13:40:59.060Z"
   },
   {
    "duration": 265,
    "start_time": "2023-05-01T13:41:04.121Z"
   },
   {
    "duration": 206,
    "start_time": "2023-05-01T13:41:10.102Z"
   },
   {
    "duration": 195,
    "start_time": "2023-05-01T13:41:15.390Z"
   },
   {
    "duration": 182,
    "start_time": "2023-05-01T13:41:19.409Z"
   },
   {
    "duration": 202,
    "start_time": "2023-05-01T13:41:43.425Z"
   },
   {
    "duration": 176,
    "start_time": "2023-05-01T13:41:57.938Z"
   },
   {
    "duration": 211,
    "start_time": "2023-05-01T13:45:15.639Z"
   },
   {
    "duration": 31,
    "start_time": "2023-05-01T13:45:15.853Z"
   },
   {
    "duration": 27,
    "start_time": "2023-05-01T13:45:15.890Z"
   },
   {
    "duration": 12,
    "start_time": "2023-05-01T13:45:15.919Z"
   },
   {
    "duration": 189,
    "start_time": "2023-05-01T13:45:15.934Z"
   },
   {
    "duration": 4,
    "start_time": "2023-05-01T13:45:16.125Z"
   },
   {
    "duration": 35,
    "start_time": "2023-05-01T13:45:16.131Z"
   },
   {
    "duration": 6,
    "start_time": "2023-05-01T13:45:16.168Z"
   },
   {
    "duration": 8,
    "start_time": "2023-05-01T13:45:16.177Z"
   },
   {
    "duration": 9,
    "start_time": "2023-05-01T13:45:16.189Z"
   },
   {
    "duration": 51,
    "start_time": "2023-05-01T13:45:16.200Z"
   },
   {
    "duration": 37,
    "start_time": "2023-05-01T13:45:16.255Z"
   },
   {
    "duration": 8,
    "start_time": "2023-05-01T13:45:16.298Z"
   },
   {
    "duration": 17,
    "start_time": "2023-05-01T13:45:16.310Z"
   },
   {
    "duration": 23,
    "start_time": "2023-05-01T13:45:16.330Z"
   },
   {
    "duration": 29,
    "start_time": "2023-05-01T13:45:16.355Z"
   },
   {
    "duration": 5,
    "start_time": "2023-05-01T13:45:16.386Z"
   },
   {
    "duration": 30,
    "start_time": "2023-05-01T13:45:16.393Z"
   },
   {
    "duration": 17,
    "start_time": "2023-05-01T13:45:16.425Z"
   },
   {
    "duration": 9,
    "start_time": "2023-05-01T13:45:16.444Z"
   },
   {
    "duration": 51,
    "start_time": "2023-05-01T13:45:16.455Z"
   },
   {
    "duration": 226,
    "start_time": "2023-05-01T13:45:19.437Z"
   },
   {
    "duration": 194,
    "start_time": "2023-05-01T13:45:48.096Z"
   },
   {
    "duration": 235,
    "start_time": "2023-05-01T13:46:34.116Z"
   },
   {
    "duration": 5,
    "start_time": "2023-05-01T14:53:54.612Z"
   },
   {
    "duration": 19,
    "start_time": "2023-05-01T15:01:21.981Z"
   },
   {
    "duration": 193,
    "start_time": "2023-05-01T15:01:59.359Z"
   },
   {
    "duration": 271,
    "start_time": "2023-05-01T15:02:28.422Z"
   },
   {
    "duration": 241,
    "start_time": "2023-05-01T15:02:36.854Z"
   },
   {
    "duration": 198,
    "start_time": "2023-05-01T15:02:41.239Z"
   },
   {
    "duration": 203,
    "start_time": "2023-05-01T15:02:59.423Z"
   },
   {
    "duration": 259,
    "start_time": "2023-05-01T15:03:18.205Z"
   },
   {
    "duration": 188,
    "start_time": "2023-05-01T15:03:40.327Z"
   },
   {
    "duration": 185,
    "start_time": "2023-05-01T15:31:58.200Z"
   },
   {
    "duration": 184,
    "start_time": "2023-05-01T15:32:50.645Z"
   },
   {
    "duration": 33,
    "start_time": "2023-05-01T15:50:59.322Z"
   },
   {
    "duration": 31,
    "start_time": "2023-05-01T15:52:15.287Z"
   },
   {
    "duration": 239,
    "start_time": "2023-05-01T15:53:22.869Z"
   },
   {
    "duration": 125,
    "start_time": "2023-05-01T15:54:54.009Z"
   },
   {
    "duration": 34,
    "start_time": "2023-05-01T15:54:54.138Z"
   },
   {
    "duration": 43,
    "start_time": "2023-05-01T15:54:54.175Z"
   },
   {
    "duration": 17,
    "start_time": "2023-05-01T15:54:54.221Z"
   },
   {
    "duration": 60,
    "start_time": "2023-05-01T15:54:54.243Z"
   },
   {
    "duration": 6,
    "start_time": "2023-05-01T15:54:54.305Z"
   },
   {
    "duration": 31,
    "start_time": "2023-05-01T15:54:54.313Z"
   },
   {
    "duration": 24,
    "start_time": "2023-05-01T15:54:54.347Z"
   },
   {
    "duration": 8,
    "start_time": "2023-05-01T15:54:54.373Z"
   },
   {
    "duration": 15,
    "start_time": "2023-05-01T15:54:54.383Z"
   },
   {
    "duration": 67,
    "start_time": "2023-05-01T15:54:54.400Z"
   },
   {
    "duration": 19,
    "start_time": "2023-05-01T15:54:54.469Z"
   },
   {
    "duration": 17,
    "start_time": "2023-05-01T15:54:54.490Z"
   },
   {
    "duration": 22,
    "start_time": "2023-05-01T15:54:54.510Z"
   },
   {
    "duration": 47,
    "start_time": "2023-05-01T15:54:54.535Z"
   },
   {
    "duration": 33,
    "start_time": "2023-05-01T15:54:54.586Z"
   },
   {
    "duration": 5,
    "start_time": "2023-05-01T15:54:54.621Z"
   },
   {
    "duration": 21,
    "start_time": "2023-05-01T15:54:54.627Z"
   },
   {
    "duration": 36,
    "start_time": "2023-05-01T15:54:54.650Z"
   },
   {
    "duration": 11,
    "start_time": "2023-05-01T15:54:54.690Z"
   },
   {
    "duration": 19,
    "start_time": "2023-05-01T15:54:54.703Z"
   },
   {
    "duration": 209,
    "start_time": "2023-05-01T15:54:54.724Z"
   },
   {
    "duration": 316,
    "start_time": "2023-05-01T15:55:01.092Z"
   },
   {
    "duration": 212,
    "start_time": "2023-05-01T15:55:37.519Z"
   },
   {
    "duration": 214,
    "start_time": "2023-05-01T15:56:11.145Z"
   },
   {
    "duration": 286,
    "start_time": "2023-05-01T15:56:36.657Z"
   },
   {
    "duration": 220,
    "start_time": "2023-05-01T15:57:10.884Z"
   },
   {
    "duration": 17,
    "start_time": "2023-05-01T16:01:41.491Z"
   },
   {
    "duration": 18,
    "start_time": "2023-05-01T16:02:00.768Z"
   },
   {
    "duration": 15,
    "start_time": "2023-05-01T16:02:16.385Z"
   },
   {
    "duration": 213,
    "start_time": "2023-05-01T16:02:32.233Z"
   },
   {
    "duration": 17,
    "start_time": "2023-05-01T16:03:52.093Z"
   },
   {
    "duration": 15,
    "start_time": "2023-05-01T16:04:36.843Z"
   },
   {
    "duration": 55,
    "start_time": "2023-05-01T16:05:15.315Z"
   },
   {
    "duration": 191,
    "start_time": "2023-05-01T16:05:29.865Z"
   },
   {
    "duration": 252,
    "start_time": "2023-05-01T16:05:59.300Z"
   },
   {
    "duration": 187,
    "start_time": "2023-05-01T16:09:53.433Z"
   },
   {
    "duration": 206,
    "start_time": "2023-05-01T16:12:34.491Z"
   },
   {
    "duration": 231,
    "start_time": "2023-05-01T16:13:07.764Z"
   },
   {
    "duration": 219,
    "start_time": "2023-05-01T18:31:10.029Z"
   },
   {
    "duration": 284,
    "start_time": "2023-05-01T18:32:21.699Z"
   },
   {
    "duration": 93,
    "start_time": "2023-05-01T18:32:30.225Z"
   },
   {
    "duration": 37,
    "start_time": "2023-05-01T18:32:30.322Z"
   },
   {
    "duration": 17,
    "start_time": "2023-05-01T18:32:30.361Z"
   },
   {
    "duration": 28,
    "start_time": "2023-05-01T18:32:30.381Z"
   },
   {
    "duration": 59,
    "start_time": "2023-05-01T18:32:30.411Z"
   },
   {
    "duration": 4,
    "start_time": "2023-05-01T18:32:30.472Z"
   },
   {
    "duration": 38,
    "start_time": "2023-05-01T18:32:30.478Z"
   },
   {
    "duration": 17,
    "start_time": "2023-05-01T18:32:30.519Z"
   },
   {
    "duration": 37,
    "start_time": "2023-05-01T18:32:30.538Z"
   },
   {
    "duration": 18,
    "start_time": "2023-05-01T18:32:30.579Z"
   },
   {
    "duration": 65,
    "start_time": "2023-05-01T18:32:30.600Z"
   },
   {
    "duration": 13,
    "start_time": "2023-05-01T18:32:30.667Z"
   },
   {
    "duration": 80,
    "start_time": "2023-05-01T18:32:30.682Z"
   },
   {
    "duration": 36,
    "start_time": "2023-05-01T18:32:30.763Z"
   },
   {
    "duration": 58,
    "start_time": "2023-05-01T18:32:30.801Z"
   },
   {
    "duration": 38,
    "start_time": "2023-05-01T18:32:30.862Z"
   },
   {
    "duration": 17,
    "start_time": "2023-05-01T18:32:30.903Z"
   },
   {
    "duration": 42,
    "start_time": "2023-05-01T18:32:30.922Z"
   },
   {
    "duration": 33,
    "start_time": "2023-05-01T18:32:30.966Z"
   },
   {
    "duration": 32,
    "start_time": "2023-05-01T18:32:31.001Z"
   },
   {
    "duration": 28,
    "start_time": "2023-05-01T18:32:31.035Z"
   },
   {
    "duration": 256,
    "start_time": "2023-05-01T18:32:31.065Z"
   },
   {
    "duration": 305,
    "start_time": "2023-05-01T18:33:05.758Z"
   },
   {
    "duration": 294,
    "start_time": "2023-05-01T18:33:40.890Z"
   },
   {
    "duration": 218,
    "start_time": "2023-05-01T18:34:05.696Z"
   },
   {
    "duration": 276,
    "start_time": "2023-05-01T18:34:39.242Z"
   },
   {
    "duration": 392,
    "start_time": "2023-05-01T18:36:22.783Z"
   },
   {
    "duration": 204,
    "start_time": "2023-05-01T18:36:56.629Z"
   },
   {
    "duration": 235,
    "start_time": "2023-05-01T18:43:07.239Z"
   },
   {
    "duration": 196,
    "start_time": "2023-05-01T18:45:14.925Z"
   },
   {
    "duration": 204,
    "start_time": "2023-05-01T18:46:38.974Z"
   },
   {
    "duration": 202,
    "start_time": "2023-05-01T18:47:58.265Z"
   },
   {
    "duration": 245,
    "start_time": "2023-05-01T18:50:08.095Z"
   },
   {
    "duration": 209,
    "start_time": "2023-05-01T18:51:30.116Z"
   },
   {
    "duration": 192,
    "start_time": "2023-05-01T18:52:32.404Z"
   },
   {
    "duration": 195,
    "start_time": "2023-05-01T18:54:28.360Z"
   },
   {
    "duration": 216,
    "start_time": "2023-05-01T18:55:01.659Z"
   },
   {
    "duration": 28,
    "start_time": "2023-05-01T19:02:04.383Z"
   },
   {
    "duration": 45,
    "start_time": "2023-05-01T19:02:14.543Z"
   },
   {
    "duration": 33,
    "start_time": "2023-05-01T19:02:30.135Z"
   },
   {
    "duration": 30,
    "start_time": "2023-05-01T19:02:42.383Z"
   },
   {
    "duration": 20,
    "start_time": "2023-05-01T19:03:03.705Z"
   },
   {
    "duration": 21,
    "start_time": "2023-05-01T19:04:04.496Z"
   },
   {
    "duration": 33,
    "start_time": "2023-05-01T19:04:56.237Z"
   },
   {
    "duration": 29,
    "start_time": "2023-05-01T19:05:36.205Z"
   },
   {
    "duration": 221,
    "start_time": "2023-05-01T19:05:57.105Z"
   },
   {
    "duration": 31,
    "start_time": "2023-05-01T19:06:53.683Z"
   },
   {
    "duration": 203,
    "start_time": "2023-05-01T19:07:01.042Z"
   },
   {
    "duration": 172,
    "start_time": "2023-05-01T19:09:06.113Z"
   },
   {
    "duration": 81,
    "start_time": "2023-05-01T19:09:14.802Z"
   },
   {
    "duration": 17,
    "start_time": "2023-05-01T19:09:14.886Z"
   },
   {
    "duration": 21,
    "start_time": "2023-05-01T19:09:14.905Z"
   },
   {
    "duration": 16,
    "start_time": "2023-05-01T19:09:14.929Z"
   },
   {
    "duration": 44,
    "start_time": "2023-05-01T19:09:14.957Z"
   },
   {
    "duration": 8,
    "start_time": "2023-05-01T19:09:15.008Z"
   },
   {
    "duration": 32,
    "start_time": "2023-05-01T19:09:15.018Z"
   },
   {
    "duration": 8,
    "start_time": "2023-05-01T19:09:15.053Z"
   },
   {
    "duration": 15,
    "start_time": "2023-05-01T19:09:15.064Z"
   },
   {
    "duration": 17,
    "start_time": "2023-05-01T19:09:15.082Z"
   },
   {
    "duration": 49,
    "start_time": "2023-05-01T19:09:15.101Z"
   },
   {
    "duration": 14,
    "start_time": "2023-05-01T19:09:15.152Z"
   },
   {
    "duration": 6,
    "start_time": "2023-05-01T19:09:15.168Z"
   },
   {
    "duration": 25,
    "start_time": "2023-05-01T19:09:15.176Z"
   },
   {
    "duration": 36,
    "start_time": "2023-05-01T19:09:15.202Z"
   },
   {
    "duration": 28,
    "start_time": "2023-05-01T19:09:15.241Z"
   },
   {
    "duration": 6,
    "start_time": "2023-05-01T19:09:15.272Z"
   },
   {
    "duration": 19,
    "start_time": "2023-05-01T19:09:15.280Z"
   },
   {
    "duration": 15,
    "start_time": "2023-05-01T19:09:15.301Z"
   },
   {
    "duration": 39,
    "start_time": "2023-05-01T19:09:15.318Z"
   },
   {
    "duration": 38,
    "start_time": "2023-05-01T19:09:15.358Z"
   },
   {
    "duration": 199,
    "start_time": "2023-05-01T19:09:15.398Z"
   },
   {
    "duration": 209,
    "start_time": "2023-05-01T19:09:17.453Z"
   },
   {
    "duration": 297,
    "start_time": "2023-05-01T19:10:15.519Z"
   },
   {
    "duration": 19,
    "start_time": "2023-05-01T19:35:55.281Z"
   },
   {
    "duration": 74,
    "start_time": "2023-05-01T19:36:29.304Z"
   },
   {
    "duration": 15,
    "start_time": "2023-05-01T19:36:29.380Z"
   },
   {
    "duration": 16,
    "start_time": "2023-05-01T19:36:29.397Z"
   },
   {
    "duration": 12,
    "start_time": "2023-05-01T19:36:29.415Z"
   },
   {
    "duration": 58,
    "start_time": "2023-05-01T19:36:29.428Z"
   },
   {
    "duration": 4,
    "start_time": "2023-05-01T19:36:29.488Z"
   },
   {
    "duration": 17,
    "start_time": "2023-05-01T19:36:29.494Z"
   },
   {
    "duration": 6,
    "start_time": "2023-05-01T19:36:29.513Z"
   },
   {
    "duration": 9,
    "start_time": "2023-05-01T19:36:29.521Z"
   },
   {
    "duration": 25,
    "start_time": "2023-05-01T19:36:29.533Z"
   },
   {
    "duration": 39,
    "start_time": "2023-05-01T19:36:29.560Z"
   },
   {
    "duration": 9,
    "start_time": "2023-05-01T19:36:29.601Z"
   },
   {
    "duration": 4,
    "start_time": "2023-05-01T19:36:29.612Z"
   },
   {
    "duration": 11,
    "start_time": "2023-05-01T19:36:29.617Z"
   },
   {
    "duration": 43,
    "start_time": "2023-05-01T19:36:29.629Z"
   },
   {
    "duration": 19,
    "start_time": "2023-05-01T19:36:29.674Z"
   },
   {
    "duration": 4,
    "start_time": "2023-05-01T19:36:29.694Z"
   },
   {
    "duration": 21,
    "start_time": "2023-05-01T19:36:29.700Z"
   },
   {
    "duration": 15,
    "start_time": "2023-05-01T19:36:29.723Z"
   },
   {
    "duration": 11,
    "start_time": "2023-05-01T19:36:29.740Z"
   },
   {
    "duration": 19,
    "start_time": "2023-05-01T19:36:29.755Z"
   },
   {
    "duration": 169,
    "start_time": "2023-05-01T19:36:29.775Z"
   },
   {
    "duration": 191,
    "start_time": "2023-05-01T19:36:29.946Z"
   },
   {
    "duration": 19,
    "start_time": "2023-05-01T19:36:32.803Z"
   },
   {
    "duration": 20,
    "start_time": "2023-05-01T19:36:40.577Z"
   },
   {
    "duration": 32,
    "start_time": "2023-05-01T20:20:07.441Z"
   },
   {
    "duration": 30,
    "start_time": "2023-05-01T20:20:47.954Z"
   },
   {
    "duration": 174,
    "start_time": "2023-05-01T20:21:45.084Z"
   },
   {
    "duration": 19,
    "start_time": "2023-05-01T20:24:38.025Z"
   },
   {
    "duration": 40,
    "start_time": "2023-05-01T20:24:52.336Z"
   },
   {
    "duration": 25,
    "start_time": "2023-05-01T20:36:46.503Z"
   },
   {
    "duration": 209,
    "start_time": "2023-05-01T20:38:23.295Z"
   },
   {
    "duration": 7,
    "start_time": "2023-05-01T20:38:56.636Z"
   },
   {
    "duration": 52,
    "start_time": "2023-05-01T20:43:40.030Z"
   },
   {
    "duration": 38,
    "start_time": "2023-05-01T20:45:04.674Z"
   },
   {
    "duration": 36,
    "start_time": "2023-05-01T20:47:09.645Z"
   },
   {
    "duration": 334,
    "start_time": "2023-05-01T20:55:17.008Z"
   },
   {
    "duration": 13,
    "start_time": "2023-05-01T22:14:18.459Z"
   },
   {
    "duration": 67,
    "start_time": "2023-05-01T22:14:38.865Z"
   },
   {
    "duration": 14,
    "start_time": "2023-05-01T22:14:38.934Z"
   },
   {
    "duration": 14,
    "start_time": "2023-05-01T22:14:38.949Z"
   },
   {
    "duration": 9,
    "start_time": "2023-05-01T22:14:38.965Z"
   },
   {
    "duration": 30,
    "start_time": "2023-05-01T22:14:38.976Z"
   },
   {
    "duration": 3,
    "start_time": "2023-05-01T22:14:39.008Z"
   },
   {
    "duration": 23,
    "start_time": "2023-05-01T22:14:39.013Z"
   },
   {
    "duration": 11,
    "start_time": "2023-05-01T22:14:39.037Z"
   },
   {
    "duration": 5,
    "start_time": "2023-05-01T22:14:39.056Z"
   },
   {
    "duration": 5,
    "start_time": "2023-05-01T22:14:39.063Z"
   },
   {
    "duration": 31,
    "start_time": "2023-05-01T22:14:39.069Z"
   },
   {
    "duration": 9,
    "start_time": "2023-05-01T22:14:39.102Z"
   },
   {
    "duration": 6,
    "start_time": "2023-05-01T22:14:39.112Z"
   },
   {
    "duration": 36,
    "start_time": "2023-05-01T22:14:39.120Z"
   },
   {
    "duration": 19,
    "start_time": "2023-05-01T22:14:39.158Z"
   },
   {
    "duration": 18,
    "start_time": "2023-05-01T22:14:39.178Z"
   },
   {
    "duration": 4,
    "start_time": "2023-05-01T22:14:39.198Z"
   },
   {
    "duration": 11,
    "start_time": "2023-05-01T22:14:39.204Z"
   },
   {
    "duration": 5,
    "start_time": "2023-05-01T22:14:39.217Z"
   },
   {
    "duration": 33,
    "start_time": "2023-05-01T22:14:39.223Z"
   },
   {
    "duration": 11,
    "start_time": "2023-05-01T22:14:39.258Z"
   },
   {
    "duration": 180,
    "start_time": "2023-05-01T22:14:39.271Z"
   },
   {
    "duration": 165,
    "start_time": "2023-05-01T22:14:39.455Z"
   },
   {
    "duration": 174,
    "start_time": "2023-05-01T22:14:39.622Z"
   },
   {
    "duration": 15,
    "start_time": "2023-05-01T22:14:41.611Z"
   },
   {
    "duration": 13,
    "start_time": "2023-05-01T22:16:04.503Z"
   },
   {
    "duration": 15,
    "start_time": "2023-05-01T22:16:51.499Z"
   },
   {
    "duration": 7,
    "start_time": "2023-05-01T22:17:17.327Z"
   },
   {
    "duration": 14,
    "start_time": "2023-05-01T22:17:21.462Z"
   },
   {
    "duration": 33,
    "start_time": "2023-05-01T22:19:18.228Z"
   },
   {
    "duration": 159,
    "start_time": "2023-05-01T22:19:25.420Z"
   },
   {
    "duration": 15,
    "start_time": "2023-05-01T22:20:09.627Z"
   },
   {
    "duration": 70,
    "start_time": "2023-05-01T22:20:21.757Z"
   },
   {
    "duration": 16,
    "start_time": "2023-05-01T22:20:21.829Z"
   },
   {
    "duration": 20,
    "start_time": "2023-05-01T22:20:21.847Z"
   },
   {
    "duration": 17,
    "start_time": "2023-05-01T22:20:21.870Z"
   },
   {
    "duration": 32,
    "start_time": "2023-05-01T22:20:21.888Z"
   },
   {
    "duration": 3,
    "start_time": "2023-05-01T22:20:21.922Z"
   },
   {
    "duration": 10,
    "start_time": "2023-05-01T22:20:21.927Z"
   },
   {
    "duration": 20,
    "start_time": "2023-05-01T22:20:21.938Z"
   },
   {
    "duration": 9,
    "start_time": "2023-05-01T22:20:21.960Z"
   },
   {
    "duration": 4,
    "start_time": "2023-05-01T22:20:21.972Z"
   },
   {
    "duration": 32,
    "start_time": "2023-05-01T22:20:21.978Z"
   },
   {
    "duration": 9,
    "start_time": "2023-05-01T22:20:22.012Z"
   },
   {
    "duration": 33,
    "start_time": "2023-05-01T22:20:22.023Z"
   },
   {
    "duration": 10,
    "start_time": "2023-05-01T22:20:22.058Z"
   },
   {
    "duration": 21,
    "start_time": "2023-05-01T22:20:22.069Z"
   },
   {
    "duration": 18,
    "start_time": "2023-05-01T22:20:22.092Z"
   },
   {
    "duration": 4,
    "start_time": "2023-05-01T22:20:22.112Z"
   },
   {
    "duration": 11,
    "start_time": "2023-05-01T22:20:22.117Z"
   },
   {
    "duration": 6,
    "start_time": "2023-05-01T22:20:22.156Z"
   },
   {
    "duration": 7,
    "start_time": "2023-05-01T22:20:22.163Z"
   },
   {
    "duration": 10,
    "start_time": "2023-05-01T22:20:22.171Z"
   },
   {
    "duration": 205,
    "start_time": "2023-05-01T22:20:22.183Z"
   },
   {
    "duration": 192,
    "start_time": "2023-05-01T22:20:22.390Z"
   },
   {
    "duration": 192,
    "start_time": "2023-05-01T22:20:22.583Z"
   },
   {
    "duration": 16,
    "start_time": "2023-05-01T22:20:24.866Z"
   },
   {
    "duration": 15,
    "start_time": "2023-05-01T22:21:31.375Z"
   },
   {
    "duration": 72,
    "start_time": "2023-05-01T22:24:42.248Z"
   },
   {
    "duration": 17,
    "start_time": "2023-05-01T22:24:42.322Z"
   },
   {
    "duration": 27,
    "start_time": "2023-05-01T22:24:42.341Z"
   },
   {
    "duration": 9,
    "start_time": "2023-05-01T22:24:42.370Z"
   },
   {
    "duration": 31,
    "start_time": "2023-05-01T22:24:42.381Z"
   },
   {
    "duration": 3,
    "start_time": "2023-05-01T22:24:42.414Z"
   },
   {
    "duration": 9,
    "start_time": "2023-05-01T22:24:42.419Z"
   },
   {
    "duration": 29,
    "start_time": "2023-05-01T22:24:42.429Z"
   },
   {
    "duration": 10,
    "start_time": "2023-05-01T22:24:42.460Z"
   },
   {
    "duration": 11,
    "start_time": "2023-05-01T22:24:42.473Z"
   },
   {
    "duration": 49,
    "start_time": "2023-05-01T22:24:42.485Z"
   },
   {
    "duration": 9,
    "start_time": "2023-05-01T22:24:42.536Z"
   },
   {
    "duration": 10,
    "start_time": "2023-05-01T22:24:42.547Z"
   },
   {
    "duration": 22,
    "start_time": "2023-05-01T22:24:42.558Z"
   },
   {
    "duration": 22,
    "start_time": "2023-05-01T22:24:42.582Z"
   },
   {
    "duration": 20,
    "start_time": "2023-05-01T22:24:42.606Z"
   },
   {
    "duration": 4,
    "start_time": "2023-05-01T22:24:42.628Z"
   },
   {
    "duration": 28,
    "start_time": "2023-05-01T22:24:42.633Z"
   },
   {
    "duration": 17,
    "start_time": "2023-05-01T22:24:42.662Z"
   },
   {
    "duration": 4,
    "start_time": "2023-05-01T22:24:42.681Z"
   },
   {
    "duration": 12,
    "start_time": "2023-05-01T22:24:42.687Z"
   },
   {
    "duration": 185,
    "start_time": "2023-05-01T22:24:42.701Z"
   },
   {
    "duration": 174,
    "start_time": "2023-05-01T22:24:42.888Z"
   },
   {
    "duration": 186,
    "start_time": "2023-05-01T22:24:43.064Z"
   },
   {
    "duration": 14,
    "start_time": "2023-05-01T22:24:46.073Z"
   },
   {
    "duration": 154,
    "start_time": "2023-05-01T22:25:36.260Z"
   },
   {
    "duration": 148,
    "start_time": "2023-05-01T22:30:28.275Z"
   },
   {
    "duration": 156,
    "start_time": "2023-05-01T22:31:25.107Z"
   },
   {
    "duration": 164,
    "start_time": "2023-05-01T22:32:00.361Z"
   },
   {
    "duration": 163,
    "start_time": "2023-05-01T22:36:46.114Z"
   },
   {
    "duration": 166,
    "start_time": "2023-05-01T22:47:49.095Z"
   },
   {
    "duration": 155,
    "start_time": "2023-05-01T22:48:12.350Z"
   },
   {
    "duration": 705,
    "start_time": "2023-05-02T17:03:45.836Z"
   },
   {
    "duration": 20,
    "start_time": "2023-05-02T17:03:46.543Z"
   },
   {
    "duration": 15,
    "start_time": "2023-05-02T17:03:46.564Z"
   },
   {
    "duration": 11,
    "start_time": "2023-05-02T17:03:46.580Z"
   },
   {
    "duration": 43,
    "start_time": "2023-05-02T17:03:46.593Z"
   },
   {
    "duration": 3,
    "start_time": "2023-05-02T17:03:46.638Z"
   },
   {
    "duration": 10,
    "start_time": "2023-05-02T17:03:46.642Z"
   },
   {
    "duration": 6,
    "start_time": "2023-05-02T17:03:46.653Z"
   },
   {
    "duration": 9,
    "start_time": "2023-05-02T17:03:46.661Z"
   },
   {
    "duration": 9,
    "start_time": "2023-05-02T17:03:46.672Z"
   },
   {
    "duration": 50,
    "start_time": "2023-05-02T17:03:46.683Z"
   },
   {
    "duration": 9,
    "start_time": "2023-05-02T17:03:46.735Z"
   },
   {
    "duration": 7,
    "start_time": "2023-05-02T17:03:46.745Z"
   },
   {
    "duration": 29,
    "start_time": "2023-05-02T17:03:46.754Z"
   },
   {
    "duration": 35,
    "start_time": "2023-05-02T17:03:46.785Z"
   },
   {
    "duration": 17,
    "start_time": "2023-05-02T17:03:46.822Z"
   },
   {
    "duration": 3,
    "start_time": "2023-05-02T17:03:46.841Z"
   },
   {
    "duration": 23,
    "start_time": "2023-05-02T17:03:46.845Z"
   },
   {
    "duration": 15,
    "start_time": "2023-05-02T17:03:46.870Z"
   },
   {
    "duration": 13,
    "start_time": "2023-05-02T17:03:46.886Z"
   },
   {
    "duration": 38,
    "start_time": "2023-05-02T17:03:46.901Z"
   },
   {
    "duration": 1080,
    "start_time": "2023-05-02T17:03:46.941Z"
   },
   {
    "duration": 121,
    "start_time": "2023-05-02T17:03:48.024Z"
   },
   {
    "duration": 0,
    "start_time": "2023-05-02T17:03:48.147Z"
   },
   {
    "duration": 0,
    "start_time": "2023-05-02T17:03:48.149Z"
   },
   {
    "duration": 216,
    "start_time": "2023-05-02T17:04:09.358Z"
   },
   {
    "duration": 208,
    "start_time": "2023-05-02T17:04:13.941Z"
   },
   {
    "duration": 19,
    "start_time": "2023-05-02T17:04:17.613Z"
   },
   {
    "duration": 182,
    "start_time": "2023-05-02T17:07:12.122Z"
   },
   {
    "duration": 80,
    "start_time": "2023-05-02T17:07:34.861Z"
   },
   {
    "duration": 18,
    "start_time": "2023-05-02T17:07:34.944Z"
   },
   {
    "duration": 22,
    "start_time": "2023-05-02T17:07:34.964Z"
   },
   {
    "duration": 12,
    "start_time": "2023-05-02T17:07:34.989Z"
   },
   {
    "duration": 61,
    "start_time": "2023-05-02T17:07:35.003Z"
   },
   {
    "duration": 4,
    "start_time": "2023-05-02T17:07:35.066Z"
   },
   {
    "duration": 30,
    "start_time": "2023-05-02T17:07:35.071Z"
   },
   {
    "duration": 6,
    "start_time": "2023-05-02T17:07:35.103Z"
   },
   {
    "duration": 13,
    "start_time": "2023-05-02T17:07:35.110Z"
   },
   {
    "duration": 32,
    "start_time": "2023-05-02T17:07:35.125Z"
   },
   {
    "duration": 42,
    "start_time": "2023-05-02T17:07:35.160Z"
   },
   {
    "duration": 9,
    "start_time": "2023-05-02T17:07:35.203Z"
   },
   {
    "duration": 40,
    "start_time": "2023-05-02T17:07:35.214Z"
   },
   {
    "duration": 35,
    "start_time": "2023-05-02T17:07:35.255Z"
   },
   {
    "duration": 25,
    "start_time": "2023-05-02T17:07:35.292Z"
   },
   {
    "duration": 40,
    "start_time": "2023-05-02T17:07:35.318Z"
   },
   {
    "duration": 13,
    "start_time": "2023-05-02T17:07:35.360Z"
   },
   {
    "duration": 34,
    "start_time": "2023-05-02T17:07:35.374Z"
   },
   {
    "duration": 29,
    "start_time": "2023-05-02T17:07:35.409Z"
   },
   {
    "duration": 38,
    "start_time": "2023-05-02T17:07:35.440Z"
   },
   {
    "duration": 25,
    "start_time": "2023-05-02T17:07:35.480Z"
   },
   {
    "duration": 197,
    "start_time": "2023-05-02T17:07:35.506Z"
   },
   {
    "duration": 184,
    "start_time": "2023-05-02T17:07:35.705Z"
   },
   {
    "duration": 207,
    "start_time": "2023-05-02T17:07:35.890Z"
   },
   {
    "duration": 249,
    "start_time": "2023-05-02T17:07:36.098Z"
   },
   {
    "duration": 78,
    "start_time": "2023-05-02T18:25:41.491Z"
   },
   {
    "duration": 17,
    "start_time": "2023-05-02T18:25:41.572Z"
   },
   {
    "duration": 19,
    "start_time": "2023-05-02T18:25:41.591Z"
   },
   {
    "duration": 30,
    "start_time": "2023-05-02T18:25:41.612Z"
   },
   {
    "duration": 38,
    "start_time": "2023-05-02T18:25:41.644Z"
   },
   {
    "duration": 4,
    "start_time": "2023-05-02T18:25:41.683Z"
   },
   {
    "duration": 18,
    "start_time": "2023-05-02T18:25:41.689Z"
   },
   {
    "duration": 26,
    "start_time": "2023-05-02T18:25:41.709Z"
   },
   {
    "duration": 12,
    "start_time": "2023-05-02T18:25:41.738Z"
   },
   {
    "duration": 15,
    "start_time": "2023-05-02T18:25:41.752Z"
   },
   {
    "duration": 48,
    "start_time": "2023-05-02T18:25:41.769Z"
   },
   {
    "duration": 17,
    "start_time": "2023-05-02T18:25:41.819Z"
   },
   {
    "duration": 25,
    "start_time": "2023-05-02T18:25:41.838Z"
   },
   {
    "duration": 17,
    "start_time": "2023-05-02T18:25:41.865Z"
   },
   {
    "duration": 32,
    "start_time": "2023-05-02T18:25:41.884Z"
   },
   {
    "duration": 19,
    "start_time": "2023-05-02T18:25:41.917Z"
   },
   {
    "duration": 3,
    "start_time": "2023-05-02T18:25:41.938Z"
   },
   {
    "duration": 28,
    "start_time": "2023-05-02T18:25:41.943Z"
   },
   {
    "duration": 14,
    "start_time": "2023-05-02T18:25:41.973Z"
   },
   {
    "duration": 5,
    "start_time": "2023-05-02T18:25:41.989Z"
   },
   {
    "duration": 12,
    "start_time": "2023-05-02T18:25:41.996Z"
   },
   {
    "duration": 10,
    "start_time": "2023-05-02T18:25:42.010Z"
   },
   {
    "duration": 193,
    "start_time": "2023-05-02T18:25:42.022Z"
   },
   {
    "duration": 200,
    "start_time": "2023-05-02T18:25:42.216Z"
   },
   {
    "duration": 210,
    "start_time": "2023-05-02T18:25:42.418Z"
   },
   {
    "duration": 206,
    "start_time": "2023-05-02T18:25:42.630Z"
   },
   {
    "duration": 149,
    "start_time": "2023-05-02T18:26:55.333Z"
   },
   {
    "duration": 147,
    "start_time": "2023-05-02T18:27:19.110Z"
   },
   {
    "duration": 2,
    "start_time": "2023-05-02T18:27:23.328Z"
   },
   {
    "duration": 153,
    "start_time": "2023-05-02T18:27:26.087Z"
   },
   {
    "duration": 180,
    "start_time": "2023-05-02T18:28:35.867Z"
   },
   {
    "duration": 152,
    "start_time": "2023-05-02T18:28:59.696Z"
   },
   {
    "duration": 71,
    "start_time": "2023-05-02T18:35:30.515Z"
   },
   {
    "duration": 16,
    "start_time": "2023-05-02T18:35:30.587Z"
   },
   {
    "duration": 33,
    "start_time": "2023-05-02T18:35:30.604Z"
   },
   {
    "duration": 36,
    "start_time": "2023-05-02T18:35:30.639Z"
   },
   {
    "duration": 65,
    "start_time": "2023-05-02T18:35:30.678Z"
   },
   {
    "duration": 15,
    "start_time": "2023-05-02T18:35:30.745Z"
   },
   {
    "duration": 56,
    "start_time": "2023-05-02T18:35:30.763Z"
   },
   {
    "duration": 45,
    "start_time": "2023-05-02T18:35:30.821Z"
   },
   {
    "duration": 45,
    "start_time": "2023-05-02T18:35:30.868Z"
   },
   {
    "duration": 50,
    "start_time": "2023-05-02T18:35:30.915Z"
   },
   {
    "duration": 64,
    "start_time": "2023-05-02T18:35:30.967Z"
   },
   {
    "duration": 10,
    "start_time": "2023-05-02T18:35:31.033Z"
   },
   {
    "duration": 43,
    "start_time": "2023-05-02T18:35:31.044Z"
   },
   {
    "duration": 36,
    "start_time": "2023-05-02T18:35:31.089Z"
   },
   {
    "duration": 63,
    "start_time": "2023-05-02T18:35:31.127Z"
   },
   {
    "duration": 28,
    "start_time": "2023-05-02T18:35:31.192Z"
   },
   {
    "duration": 5,
    "start_time": "2023-05-02T18:35:31.222Z"
   },
   {
    "duration": 40,
    "start_time": "2023-05-02T18:35:31.228Z"
   },
   {
    "duration": 22,
    "start_time": "2023-05-02T18:35:31.269Z"
   },
   {
    "duration": 8,
    "start_time": "2023-05-02T18:35:31.293Z"
   },
   {
    "duration": 34,
    "start_time": "2023-05-02T18:35:31.302Z"
   },
   {
    "duration": 18,
    "start_time": "2023-05-02T18:35:31.337Z"
   },
   {
    "duration": 192,
    "start_time": "2023-05-02T18:35:31.357Z"
   },
   {
    "duration": 241,
    "start_time": "2023-05-02T18:35:31.550Z"
   },
   {
    "duration": 188,
    "start_time": "2023-05-02T18:35:31.793Z"
   },
   {
    "duration": 179,
    "start_time": "2023-05-02T18:36:04.765Z"
   },
   {
    "duration": 163,
    "start_time": "2023-05-02T18:36:15.715Z"
   },
   {
    "duration": 155,
    "start_time": "2023-05-02T18:36:19.042Z"
   },
   {
    "duration": 164,
    "start_time": "2023-05-02T18:36:23.013Z"
   },
   {
    "duration": 6,
    "start_time": "2023-05-02T18:37:03.717Z"
   },
   {
    "duration": 167,
    "start_time": "2023-05-02T18:37:07.951Z"
   },
   {
    "duration": 154,
    "start_time": "2023-05-02T18:37:11.450Z"
   },
   {
    "duration": 160,
    "start_time": "2023-05-02T18:37:15.160Z"
   },
   {
    "duration": 150,
    "start_time": "2023-05-02T18:37:20.135Z"
   },
   {
    "duration": 9,
    "start_time": "2023-05-02T18:39:30.761Z"
   },
   {
    "duration": 178,
    "start_time": "2023-05-02T18:39:33.978Z"
   },
   {
    "duration": 147,
    "start_time": "2023-05-02T18:39:38.147Z"
   },
   {
    "duration": 157,
    "start_time": "2023-05-02T18:39:42.125Z"
   },
   {
    "duration": 146,
    "start_time": "2023-05-02T18:39:49.317Z"
   },
   {
    "duration": 148,
    "start_time": "2023-05-02T18:40:31.597Z"
   },
   {
    "duration": 8,
    "start_time": "2023-05-02T18:40:40.637Z"
   },
   {
    "duration": 234,
    "start_time": "2023-05-02T18:40:43.683Z"
   },
   {
    "duration": 165,
    "start_time": "2023-05-02T18:44:59.723Z"
   },
   {
    "duration": 78,
    "start_time": "2023-05-02T19:04:23.047Z"
   },
   {
    "duration": 17,
    "start_time": "2023-05-02T19:04:23.127Z"
   },
   {
    "duration": 21,
    "start_time": "2023-05-02T19:04:23.147Z"
   },
   {
    "duration": 11,
    "start_time": "2023-05-02T19:04:23.170Z"
   },
   {
    "duration": 70,
    "start_time": "2023-05-02T19:04:23.183Z"
   },
   {
    "duration": 3,
    "start_time": "2023-05-02T19:04:23.255Z"
   },
   {
    "duration": 14,
    "start_time": "2023-05-02T19:04:23.260Z"
   },
   {
    "duration": 11,
    "start_time": "2023-05-02T19:04:23.276Z"
   },
   {
    "duration": 7,
    "start_time": "2023-05-02T19:04:23.289Z"
   },
   {
    "duration": 16,
    "start_time": "2023-05-02T19:04:23.300Z"
   },
   {
    "duration": 51,
    "start_time": "2023-05-02T19:04:23.318Z"
   },
   {
    "duration": 10,
    "start_time": "2023-05-02T19:04:23.370Z"
   },
   {
    "duration": 6,
    "start_time": "2023-05-02T19:04:23.382Z"
   },
   {
    "duration": 28,
    "start_time": "2023-05-02T19:04:23.389Z"
   },
   {
    "duration": 42,
    "start_time": "2023-05-02T19:04:23.420Z"
   },
   {
    "duration": 26,
    "start_time": "2023-05-02T19:04:23.465Z"
   },
   {
    "duration": 4,
    "start_time": "2023-05-02T19:04:23.493Z"
   },
   {
    "duration": 40,
    "start_time": "2023-05-02T19:04:23.499Z"
   },
   {
    "duration": 8,
    "start_time": "2023-05-02T19:04:23.541Z"
   },
   {
    "duration": 7,
    "start_time": "2023-05-02T19:04:23.551Z"
   },
   {
    "duration": 14,
    "start_time": "2023-05-02T19:04:23.560Z"
   },
   {
    "duration": 10,
    "start_time": "2023-05-02T19:04:23.576Z"
   },
   {
    "duration": 192,
    "start_time": "2023-05-02T19:04:23.587Z"
   },
   {
    "duration": 210,
    "start_time": "2023-05-02T19:04:23.781Z"
   },
   {
    "duration": 288,
    "start_time": "2023-05-02T19:04:23.993Z"
   },
   {
    "duration": 164,
    "start_time": "2023-05-02T19:04:28.423Z"
   },
   {
    "duration": 10,
    "start_time": "2023-05-02T19:08:33.027Z"
   },
   {
    "duration": 13,
    "start_time": "2023-05-02T19:08:52.716Z"
   },
   {
    "duration": 164,
    "start_time": "2023-05-02T19:09:03.276Z"
   },
   {
    "duration": 81,
    "start_time": "2023-05-02T19:56:13.822Z"
   },
   {
    "duration": 14,
    "start_time": "2023-05-02T19:56:13.905Z"
   },
   {
    "duration": 18,
    "start_time": "2023-05-02T19:56:13.921Z"
   },
   {
    "duration": 10,
    "start_time": "2023-05-02T19:56:13.941Z"
   },
   {
    "duration": 33,
    "start_time": "2023-05-02T19:56:13.952Z"
   },
   {
    "duration": 3,
    "start_time": "2023-05-02T19:56:13.987Z"
   },
   {
    "duration": 9,
    "start_time": "2023-05-02T19:56:13.991Z"
   },
   {
    "duration": 5,
    "start_time": "2023-05-02T19:56:14.002Z"
   },
   {
    "duration": 26,
    "start_time": "2023-05-02T19:56:14.009Z"
   },
   {
    "duration": 18,
    "start_time": "2023-05-02T19:56:14.038Z"
   },
   {
    "duration": 39,
    "start_time": "2023-05-02T19:56:14.058Z"
   },
   {
    "duration": 10,
    "start_time": "2023-05-02T19:56:14.100Z"
   },
   {
    "duration": 14,
    "start_time": "2023-05-02T19:56:14.111Z"
   },
   {
    "duration": 22,
    "start_time": "2023-05-02T19:56:14.126Z"
   },
   {
    "duration": 19,
    "start_time": "2023-05-02T19:56:14.150Z"
   },
   {
    "duration": 15,
    "start_time": "2023-05-02T19:56:14.171Z"
   },
   {
    "duration": 3,
    "start_time": "2023-05-02T19:56:14.187Z"
   },
   {
    "duration": 28,
    "start_time": "2023-05-02T19:56:14.192Z"
   },
   {
    "duration": 13,
    "start_time": "2023-05-02T19:56:14.221Z"
   },
   {
    "duration": 5,
    "start_time": "2023-05-02T19:56:14.235Z"
   },
   {
    "duration": 12,
    "start_time": "2023-05-02T19:56:14.242Z"
   },
   {
    "duration": 12,
    "start_time": "2023-05-02T19:56:14.255Z"
   },
   {
    "duration": 163,
    "start_time": "2023-05-02T19:56:14.268Z"
   },
   {
    "duration": 152,
    "start_time": "2023-05-02T19:56:14.433Z"
   },
   {
    "duration": 168,
    "start_time": "2023-05-02T19:56:14.586Z"
   },
   {
    "duration": 157,
    "start_time": "2023-05-02T19:56:14.756Z"
   },
   {
    "duration": 472,
    "start_time": "2023-05-03T16:23:03.280Z"
   },
   {
    "duration": 34,
    "start_time": "2023-05-03T16:23:03.753Z"
   },
   {
    "duration": 28,
    "start_time": "2023-05-03T16:23:03.789Z"
   },
   {
    "duration": 34,
    "start_time": "2023-05-03T16:23:03.820Z"
   },
   {
    "duration": 59,
    "start_time": "2023-05-03T16:23:03.857Z"
   },
   {
    "duration": 4,
    "start_time": "2023-05-03T16:23:03.918Z"
   },
   {
    "duration": 25,
    "start_time": "2023-05-03T16:23:03.924Z"
   },
   {
    "duration": 38,
    "start_time": "2023-05-03T16:23:03.951Z"
   },
   {
    "duration": 22,
    "start_time": "2023-05-03T16:23:03.992Z"
   },
   {
    "duration": 14,
    "start_time": "2023-05-03T16:23:04.015Z"
   },
   {
    "duration": 143,
    "start_time": "2023-05-03T16:23:04.031Z"
   },
   {
    "duration": 30,
    "start_time": "2023-05-03T16:23:04.182Z"
   },
   {
    "duration": 4,
    "start_time": "2023-05-03T16:23:04.214Z"
   },
   {
    "duration": 27,
    "start_time": "2023-05-03T16:23:04.222Z"
   },
   {
    "duration": 51,
    "start_time": "2023-05-03T16:23:04.251Z"
   },
   {
    "duration": 25,
    "start_time": "2023-05-03T16:23:04.304Z"
   },
   {
    "duration": 13,
    "start_time": "2023-05-03T16:23:04.330Z"
   },
   {
    "duration": 46,
    "start_time": "2023-05-03T16:23:04.345Z"
   },
   {
    "duration": 15,
    "start_time": "2023-05-03T16:23:04.393Z"
   },
   {
    "duration": 4,
    "start_time": "2023-05-03T16:23:04.410Z"
   },
   {
    "duration": 18,
    "start_time": "2023-05-03T16:23:04.416Z"
   },
   {
    "duration": 832,
    "start_time": "2023-05-03T16:23:04.436Z"
   },
   {
    "duration": 217,
    "start_time": "2023-05-03T16:23:05.275Z"
   },
   {
    "duration": 205,
    "start_time": "2023-05-03T16:23:05.496Z"
   },
   {
    "duration": 260,
    "start_time": "2023-05-03T16:23:05.703Z"
   },
   {
    "duration": 238,
    "start_time": "2023-05-03T16:23:05.966Z"
   },
   {
    "duration": 515,
    "start_time": "2023-05-03T16:27:32.444Z"
   },
   {
    "duration": 22,
    "start_time": "2023-05-03T16:27:32.961Z"
   },
   {
    "duration": 30,
    "start_time": "2023-05-03T16:27:32.984Z"
   },
   {
    "duration": 12,
    "start_time": "2023-05-03T16:27:33.016Z"
   },
   {
    "duration": 76,
    "start_time": "2023-05-03T16:27:33.030Z"
   },
   {
    "duration": 16,
    "start_time": "2023-05-03T16:27:33.109Z"
   },
   {
    "duration": 52,
    "start_time": "2023-05-03T16:27:33.127Z"
   },
   {
    "duration": 23,
    "start_time": "2023-05-03T16:27:33.181Z"
   },
   {
    "duration": 60,
    "start_time": "2023-05-03T16:27:33.205Z"
   },
   {
    "duration": 25,
    "start_time": "2023-05-03T16:27:33.267Z"
   },
   {
    "duration": 77,
    "start_time": "2023-05-03T16:27:33.293Z"
   },
   {
    "duration": 33,
    "start_time": "2023-05-03T16:27:33.372Z"
   },
   {
    "duration": 54,
    "start_time": "2023-05-03T16:27:33.406Z"
   },
   {
    "duration": 31,
    "start_time": "2023-05-03T16:27:33.464Z"
   },
   {
    "duration": 51,
    "start_time": "2023-05-03T16:27:33.496Z"
   },
   {
    "duration": 23,
    "start_time": "2023-05-03T16:27:33.548Z"
   },
   {
    "duration": 33,
    "start_time": "2023-05-03T16:27:33.573Z"
   },
   {
    "duration": 66,
    "start_time": "2023-05-03T16:27:33.608Z"
   },
   {
    "duration": 21,
    "start_time": "2023-05-03T16:27:33.675Z"
   },
   {
    "duration": 33,
    "start_time": "2023-05-03T16:27:33.697Z"
   },
   {
    "duration": 67,
    "start_time": "2023-05-03T16:27:33.732Z"
   },
   {
    "duration": 779,
    "start_time": "2023-05-03T16:27:33.801Z"
   },
   {
    "duration": 172,
    "start_time": "2023-05-03T16:27:34.582Z"
   },
   {
    "duration": 169,
    "start_time": "2023-05-03T16:27:34.755Z"
   },
   {
    "duration": 178,
    "start_time": "2023-05-03T16:27:34.925Z"
   },
   {
    "duration": 172,
    "start_time": "2023-05-03T16:27:35.104Z"
   },
   {
    "duration": 48,
    "start_time": "2023-05-03T18:49:14.618Z"
   },
   {
    "duration": 552,
    "start_time": "2023-05-03T19:05:51.897Z"
   },
   {
    "duration": 26,
    "start_time": "2023-05-03T19:05:52.452Z"
   },
   {
    "duration": 26,
    "start_time": "2023-05-03T19:05:52.480Z"
   },
   {
    "duration": 22,
    "start_time": "2023-05-03T19:05:52.509Z"
   },
   {
    "duration": 50,
    "start_time": "2023-05-03T19:05:52.532Z"
   },
   {
    "duration": 5,
    "start_time": "2023-05-03T19:05:52.584Z"
   },
   {
    "duration": 23,
    "start_time": "2023-05-03T19:05:52.591Z"
   },
   {
    "duration": 9,
    "start_time": "2023-05-03T19:05:52.616Z"
   },
   {
    "duration": 9,
    "start_time": "2023-05-03T19:05:52.627Z"
   },
   {
    "duration": 18,
    "start_time": "2023-05-03T19:05:52.639Z"
   },
   {
    "duration": 54,
    "start_time": "2023-05-03T19:05:52.659Z"
   },
   {
    "duration": 10,
    "start_time": "2023-05-03T19:05:52.715Z"
   },
   {
    "duration": 15,
    "start_time": "2023-05-03T19:05:52.727Z"
   },
   {
    "duration": 38,
    "start_time": "2023-05-03T19:05:52.744Z"
   },
   {
    "duration": 27,
    "start_time": "2023-05-03T19:05:52.784Z"
   },
   {
    "duration": 18,
    "start_time": "2023-05-03T19:05:52.812Z"
   },
   {
    "duration": 7,
    "start_time": "2023-05-03T19:05:52.832Z"
   },
   {
    "duration": 12,
    "start_time": "2023-05-03T19:05:52.841Z"
   },
   {
    "duration": 25,
    "start_time": "2023-05-03T19:05:52.855Z"
   },
   {
    "duration": 5,
    "start_time": "2023-05-03T19:05:52.881Z"
   },
   {
    "duration": 21,
    "start_time": "2023-05-03T19:05:52.887Z"
   },
   {
    "duration": 958,
    "start_time": "2023-05-03T19:05:52.910Z"
   },
   {
    "duration": 202,
    "start_time": "2023-05-03T19:05:57.807Z"
   },
   {
    "duration": 213,
    "start_time": "2023-05-03T19:06:11.525Z"
   },
   {
    "duration": 24,
    "start_time": "2023-05-03T19:12:15.562Z"
   },
   {
    "duration": 24,
    "start_time": "2023-05-03T19:12:34.374Z"
   },
   {
    "duration": 18,
    "start_time": "2023-05-03T19:12:54.751Z"
   },
   {
    "duration": 66,
    "start_time": "2023-05-04T07:45:15.083Z"
   },
   {
    "duration": 623,
    "start_time": "2023-05-04T07:45:54.653Z"
   },
   {
    "duration": 23,
    "start_time": "2023-05-04T07:45:55.278Z"
   },
   {
    "duration": 15,
    "start_time": "2023-05-04T07:45:55.303Z"
   },
   {
    "duration": 9,
    "start_time": "2023-05-04T07:45:55.320Z"
   },
   {
    "duration": 73,
    "start_time": "2023-05-04T07:45:55.331Z"
   },
   {
    "duration": 54,
    "start_time": "2023-05-04T07:45:55.405Z"
   },
   {
    "duration": 10,
    "start_time": "2023-05-04T07:45:55.462Z"
   },
   {
    "duration": 14,
    "start_time": "2023-05-04T07:45:55.475Z"
   },
   {
    "duration": 10,
    "start_time": "2023-05-04T07:45:55.491Z"
   },
   {
    "duration": 6,
    "start_time": "2023-05-04T07:45:55.503Z"
   },
   {
    "duration": 76,
    "start_time": "2023-05-04T07:45:55.511Z"
   },
   {
    "duration": 16,
    "start_time": "2023-05-04T07:45:55.589Z"
   },
   {
    "duration": 6,
    "start_time": "2023-05-04T07:45:55.607Z"
   },
   {
    "duration": 21,
    "start_time": "2023-05-04T07:45:55.617Z"
   },
   {
    "duration": 46,
    "start_time": "2023-05-04T07:45:55.640Z"
   },
   {
    "duration": 19,
    "start_time": "2023-05-04T07:45:55.688Z"
   },
   {
    "duration": 21,
    "start_time": "2023-05-04T07:45:55.709Z"
   },
   {
    "duration": 56,
    "start_time": "2023-05-04T07:45:55.732Z"
   },
   {
    "duration": 19,
    "start_time": "2023-05-04T07:45:55.790Z"
   },
   {
    "duration": 24,
    "start_time": "2023-05-04T07:45:55.811Z"
   },
   {
    "duration": 10,
    "start_time": "2023-05-04T07:45:55.837Z"
   },
   {
    "duration": 1056,
    "start_time": "2023-05-04T07:45:55.849Z"
   },
   {
    "duration": 194,
    "start_time": "2023-05-04T07:46:02.008Z"
   },
   {
    "duration": 195,
    "start_time": "2023-05-04T07:46:29.426Z"
   },
   {
    "duration": 46,
    "start_time": "2023-05-04T07:46:51.011Z"
   },
   {
    "duration": 186,
    "start_time": "2023-05-04T07:47:01.116Z"
   },
   {
    "duration": 246,
    "start_time": "2023-05-04T07:47:29.890Z"
   },
   {
    "duration": 51,
    "start_time": "2023-05-04T08:14:11.982Z"
   },
   {
    "duration": 10,
    "start_time": "2023-05-04T08:14:37.281Z"
   },
   {
    "duration": 6,
    "start_time": "2023-05-04T08:25:27.880Z"
   },
   {
    "duration": 66,
    "start_time": "2023-05-04T08:27:44.112Z"
   },
   {
    "duration": 11,
    "start_time": "2023-05-04T08:28:04.807Z"
   },
   {
    "duration": 7,
    "start_time": "2023-05-04T08:28:07.756Z"
   },
   {
    "duration": 12,
    "start_time": "2023-05-04T08:29:42.016Z"
   },
   {
    "duration": 11,
    "start_time": "2023-05-04T08:30:18.760Z"
   },
   {
    "duration": 10,
    "start_time": "2023-05-04T08:35:41.511Z"
   },
   {
    "duration": 7,
    "start_time": "2023-05-04T08:35:46.444Z"
   },
   {
    "duration": 12,
    "start_time": "2023-05-04T09:02:08.901Z"
   },
   {
    "duration": 6,
    "start_time": "2023-05-04T09:02:12.410Z"
   },
   {
    "duration": 11,
    "start_time": "2023-05-04T09:03:08.117Z"
   },
   {
    "duration": 10,
    "start_time": "2023-05-04T09:03:12.757Z"
   },
   {
    "duration": 58,
    "start_time": "2023-05-04T09:55:31.051Z"
   },
   {
    "duration": 5,
    "start_time": "2023-05-04T09:56:13.524Z"
   },
   {
    "duration": 15,
    "start_time": "2023-05-04T09:56:24.735Z"
   },
   {
    "duration": 811,
    "start_time": "2023-05-04T10:00:59.206Z"
   },
   {
    "duration": 945,
    "start_time": "2023-05-04T10:02:04.489Z"
   },
   {
    "duration": 12,
    "start_time": "2023-05-04T10:02:31.770Z"
   },
   {
    "duration": 225,
    "start_time": "2023-05-04T10:11:19.954Z"
   },
   {
    "duration": 13,
    "start_time": "2023-05-04T10:14:41.460Z"
   },
   {
    "duration": 5,
    "start_time": "2023-05-04T10:17:50.592Z"
   },
   {
    "duration": 772,
    "start_time": "2023-05-04T10:23:05.935Z"
   },
   {
    "duration": 690,
    "start_time": "2023-05-04T10:23:54.628Z"
   },
   {
    "duration": 10,
    "start_time": "2023-05-04T10:24:29.023Z"
   },
   {
    "duration": 10,
    "start_time": "2023-05-04T10:24:31.840Z"
   },
   {
    "duration": 10,
    "start_time": "2023-05-04T10:25:10.505Z"
   },
   {
    "duration": 12,
    "start_time": "2023-05-04T10:25:13.882Z"
   },
   {
    "duration": 1546,
    "start_time": "2023-05-04T10:29:19.324Z"
   },
   {
    "duration": 4,
    "start_time": "2023-05-04T10:30:16.839Z"
   },
   {
    "duration": 710,
    "start_time": "2023-05-04T10:48:56.924Z"
   },
   {
    "duration": 15,
    "start_time": "2023-05-04T10:50:52.220Z"
   },
   {
    "duration": 18,
    "start_time": "2023-05-04T10:51:26.228Z"
   },
   {
    "duration": 17,
    "start_time": "2023-05-04T10:51:42.808Z"
   },
   {
    "duration": 10,
    "start_time": "2023-05-04T10:52:31.551Z"
   },
   {
    "duration": 753,
    "start_time": "2023-05-04T10:54:13.751Z"
   },
   {
    "duration": 11,
    "start_time": "2023-05-04T12:53:08.504Z"
   },
   {
    "duration": 11,
    "start_time": "2023-05-04T12:53:20.072Z"
   },
   {
    "duration": 9,
    "start_time": "2023-05-04T12:54:02.077Z"
   },
   {
    "duration": 7,
    "start_time": "2023-05-04T12:55:25.017Z"
   },
   {
    "duration": 8,
    "start_time": "2023-05-04T12:55:30.754Z"
   },
   {
    "duration": 13,
    "start_time": "2023-05-04T12:55:49.513Z"
   },
   {
    "duration": 8,
    "start_time": "2023-05-04T12:55:56.173Z"
   },
   {
    "duration": 8,
    "start_time": "2023-05-04T12:56:09.365Z"
   },
   {
    "duration": 8,
    "start_time": "2023-05-04T12:56:11.876Z"
   },
   {
    "duration": 860,
    "start_time": "2023-05-04T13:08:54.277Z"
   },
   {
    "duration": 1064,
    "start_time": "2023-05-04T13:15:10.588Z"
   },
   {
    "duration": 754,
    "start_time": "2023-05-04T13:24:04.712Z"
   },
   {
    "duration": 2,
    "start_time": "2023-05-04T13:24:11.715Z"
   },
   {
    "duration": 832,
    "start_time": "2023-05-04T14:45:51.601Z"
   },
   {
    "duration": 8,
    "start_time": "2023-05-04T14:46:43.779Z"
   },
   {
    "duration": 7,
    "start_time": "2023-05-04T14:53:37.243Z"
   },
   {
    "duration": 6,
    "start_time": "2023-05-04T14:53:46.764Z"
   },
   {
    "duration": 8,
    "start_time": "2023-05-04T14:54:06.950Z"
   },
   {
    "duration": 747,
    "start_time": "2023-05-04T15:24:26.290Z"
   },
   {
    "duration": 3,
    "start_time": "2023-05-04T18:36:05.970Z"
   },
   {
    "duration": 13,
    "start_time": "2023-05-04T18:52:42.935Z"
   },
   {
    "duration": 10,
    "start_time": "2023-05-04T18:53:01.604Z"
   },
   {
    "duration": 125,
    "start_time": "2023-05-04T18:53:17.186Z"
   },
   {
    "duration": 16,
    "start_time": "2023-05-04T18:53:17.313Z"
   },
   {
    "duration": 15,
    "start_time": "2023-05-04T18:53:17.330Z"
   },
   {
    "duration": 16,
    "start_time": "2023-05-04T18:53:17.347Z"
   },
   {
    "duration": 62,
    "start_time": "2023-05-04T18:53:17.366Z"
   },
   {
    "duration": 4,
    "start_time": "2023-05-04T18:53:17.430Z"
   },
   {
    "duration": 32,
    "start_time": "2023-05-04T18:53:17.435Z"
   },
   {
    "duration": 6,
    "start_time": "2023-05-04T18:53:17.471Z"
   },
   {
    "duration": 9,
    "start_time": "2023-05-04T18:53:17.479Z"
   },
   {
    "duration": 6,
    "start_time": "2023-05-04T18:53:17.492Z"
   },
   {
    "duration": 37,
    "start_time": "2023-05-04T18:53:17.500Z"
   },
   {
    "duration": 34,
    "start_time": "2023-05-04T18:53:17.539Z"
   },
   {
    "duration": 13,
    "start_time": "2023-05-04T18:53:17.574Z"
   },
   {
    "duration": 12,
    "start_time": "2023-05-04T18:53:17.590Z"
   },
   {
    "duration": 32,
    "start_time": "2023-05-04T18:53:17.604Z"
   },
   {
    "duration": 23,
    "start_time": "2023-05-04T18:53:17.638Z"
   },
   {
    "duration": 8,
    "start_time": "2023-05-04T18:53:17.666Z"
   },
   {
    "duration": 21,
    "start_time": "2023-05-04T18:53:17.676Z"
   },
   {
    "duration": 6,
    "start_time": "2023-05-04T18:53:17.699Z"
   },
   {
    "duration": 3,
    "start_time": "2023-05-04T18:53:17.706Z"
   },
   {
    "duration": 10,
    "start_time": "2023-05-04T18:53:17.711Z"
   },
   {
    "duration": 8,
    "start_time": "2023-05-04T18:53:17.723Z"
   },
   {
    "duration": 258,
    "start_time": "2023-05-04T18:53:17.733Z"
   },
   {
    "duration": 22,
    "start_time": "2023-05-04T18:53:20.058Z"
   },
   {
    "duration": 9,
    "start_time": "2023-05-04T18:53:46.721Z"
   },
   {
    "duration": 19,
    "start_time": "2023-05-04T18:55:41.757Z"
   },
   {
    "duration": 15,
    "start_time": "2023-05-04T19:25:15.579Z"
   },
   {
    "duration": 20,
    "start_time": "2023-05-04T19:26:36.127Z"
   },
   {
    "duration": 11,
    "start_time": "2023-05-04T19:27:07.426Z"
   },
   {
    "duration": 27,
    "start_time": "2023-05-04T19:27:17.754Z"
   },
   {
    "duration": 13,
    "start_time": "2023-05-04T19:28:27.217Z"
   },
   {
    "duration": 14,
    "start_time": "2023-05-04T19:29:40.806Z"
   },
   {
    "duration": 14,
    "start_time": "2023-05-04T19:30:08.587Z"
   },
   {
    "duration": 15,
    "start_time": "2023-05-04T19:30:22.052Z"
   },
   {
    "duration": 13,
    "start_time": "2023-05-04T19:31:15.949Z"
   },
   {
    "duration": 14,
    "start_time": "2023-05-04T19:32:06.645Z"
   },
   {
    "duration": 12,
    "start_time": "2023-05-04T19:33:41.177Z"
   },
   {
    "duration": 13,
    "start_time": "2023-05-04T19:40:45.727Z"
   },
   {
    "duration": 11,
    "start_time": "2023-05-04T19:41:08.397Z"
   },
   {
    "duration": 604,
    "start_time": "2023-05-04T19:42:03.897Z"
   },
   {
    "duration": 13,
    "start_time": "2023-05-04T19:42:20.266Z"
   },
   {
    "duration": 17,
    "start_time": "2023-05-04T19:43:08.659Z"
   },
   {
    "duration": 14,
    "start_time": "2023-05-04T19:43:14.427Z"
   },
   {
    "duration": 665,
    "start_time": "2023-05-04T20:10:53.080Z"
   },
   {
    "duration": 13,
    "start_time": "2023-05-04T20:17:26.886Z"
   },
   {
    "duration": 78,
    "start_time": "2023-05-04T20:18:08.491Z"
   },
   {
    "duration": 17,
    "start_time": "2023-05-04T20:20:43.199Z"
   },
   {
    "duration": 8,
    "start_time": "2023-05-04T20:36:32.982Z"
   },
   {
    "duration": 13,
    "start_time": "2023-05-04T20:37:07.798Z"
   },
   {
    "duration": 21,
    "start_time": "2023-05-04T20:37:29.901Z"
   },
   {
    "duration": 8,
    "start_time": "2023-05-04T20:50:32.731Z"
   },
   {
    "duration": 46,
    "start_time": "2023-05-04T20:52:11.244Z"
   },
   {
    "duration": 51,
    "start_time": "2023-05-04T20:52:19.979Z"
   },
   {
    "duration": 10,
    "start_time": "2023-05-04T20:52:40.401Z"
   },
   {
    "duration": 16,
    "start_time": "2023-05-04T20:53:10.058Z"
   },
   {
    "duration": 10,
    "start_time": "2023-05-04T20:57:50.552Z"
   },
   {
    "duration": 12,
    "start_time": "2023-05-04T20:58:23.578Z"
   },
   {
    "duration": 19,
    "start_time": "2023-05-04T20:58:48.155Z"
   },
   {
    "duration": 10,
    "start_time": "2023-05-04T20:58:52.416Z"
   },
   {
    "duration": 7,
    "start_time": "2023-05-04T21:09:22.421Z"
   },
   {
    "duration": 8,
    "start_time": "2023-05-04T21:09:27.577Z"
   },
   {
    "duration": 7,
    "start_time": "2023-05-04T21:09:30.448Z"
   },
   {
    "duration": 9,
    "start_time": "2023-05-04T21:09:42.231Z"
   },
   {
    "duration": 17,
    "start_time": "2023-05-04T21:10:39.247Z"
   },
   {
    "duration": 16,
    "start_time": "2023-05-04T21:11:20.192Z"
   },
   {
    "duration": 18,
    "start_time": "2023-05-04T21:12:20.576Z"
   },
   {
    "duration": 12,
    "start_time": "2023-05-04T21:14:54.367Z"
   },
   {
    "duration": 61,
    "start_time": "2023-05-05T11:34:50.334Z"
   },
   {
    "duration": 806,
    "start_time": "2023-05-05T11:35:03.057Z"
   },
   {
    "duration": 26,
    "start_time": "2023-05-05T11:35:03.866Z"
   },
   {
    "duration": 67,
    "start_time": "2023-05-05T11:35:03.893Z"
   },
   {
    "duration": 22,
    "start_time": "2023-05-05T11:35:03.963Z"
   },
   {
    "duration": 36,
    "start_time": "2023-05-05T11:35:03.988Z"
   },
   {
    "duration": 4,
    "start_time": "2023-05-05T11:35:04.026Z"
   },
   {
    "duration": 31,
    "start_time": "2023-05-05T11:35:04.032Z"
   },
   {
    "duration": 11,
    "start_time": "2023-05-05T11:35:04.065Z"
   },
   {
    "duration": 14,
    "start_time": "2023-05-05T11:35:04.078Z"
   },
   {
    "duration": 5,
    "start_time": "2023-05-05T11:35:04.094Z"
   },
   {
    "duration": 55,
    "start_time": "2023-05-05T11:35:04.101Z"
   },
   {
    "duration": 11,
    "start_time": "2023-05-05T11:35:04.158Z"
   },
   {
    "duration": 11,
    "start_time": "2023-05-05T11:35:04.171Z"
   },
   {
    "duration": 22,
    "start_time": "2023-05-05T11:35:04.185Z"
   },
   {
    "duration": 46,
    "start_time": "2023-05-05T11:35:04.209Z"
   },
   {
    "duration": 20,
    "start_time": "2023-05-05T11:35:04.257Z"
   },
   {
    "duration": 8,
    "start_time": "2023-05-05T11:35:04.279Z"
   },
   {
    "duration": 37,
    "start_time": "2023-05-05T11:35:04.289Z"
   },
   {
    "duration": 38,
    "start_time": "2023-05-05T11:35:04.327Z"
   },
   {
    "duration": 14,
    "start_time": "2023-05-05T11:35:04.367Z"
   },
   {
    "duration": 25,
    "start_time": "2023-05-05T11:35:04.384Z"
   },
   {
    "duration": 1157,
    "start_time": "2023-05-05T11:35:04.411Z"
   },
   {
    "duration": 286,
    "start_time": "2023-05-05T11:35:05.571Z"
   },
   {
    "duration": 102,
    "start_time": "2023-05-05T11:35:11.487Z"
   },
   {
    "duration": 26,
    "start_time": "2023-05-05T11:38:09.104Z"
   },
   {
    "duration": 25,
    "start_time": "2023-05-05T11:39:01.741Z"
   },
   {
    "duration": 21,
    "start_time": "2023-05-05T11:39:39.163Z"
   },
   {
    "duration": 30,
    "start_time": "2023-05-05T11:39:56.281Z"
   },
   {
    "duration": 19,
    "start_time": "2023-05-05T11:46:43.131Z"
   },
   {
    "duration": 123,
    "start_time": "2023-05-05T11:58:24.306Z"
   },
   {
    "duration": 26,
    "start_time": "2023-05-05T11:59:01.692Z"
   },
   {
    "duration": 22,
    "start_time": "2023-05-05T11:59:49.133Z"
   },
   {
    "duration": 12,
    "start_time": "2023-05-05T12:01:14.759Z"
   },
   {
    "duration": 27,
    "start_time": "2023-05-05T12:06:00.229Z"
   },
   {
    "duration": 9,
    "start_time": "2023-05-05T12:07:19.118Z"
   },
   {
    "duration": 9,
    "start_time": "2023-05-05T12:09:51.956Z"
   },
   {
    "duration": 1656,
    "start_time": "2023-05-05T12:10:35.423Z"
   },
   {
    "duration": 3449,
    "start_time": "2023-05-05T12:11:03.410Z"
   },
   {
    "duration": 2956,
    "start_time": "2023-05-05T12:11:25.060Z"
   },
   {
    "duration": 17,
    "start_time": "2023-05-05T12:11:45.923Z"
   },
   {
    "duration": 11,
    "start_time": "2023-05-05T12:13:30.285Z"
   },
   {
    "duration": 2081,
    "start_time": "2023-05-05T12:16:52.888Z"
   },
   {
    "duration": 3098,
    "start_time": "2023-05-05T12:17:31.700Z"
   },
   {
    "duration": 3246,
    "start_time": "2023-05-05T12:18:11.044Z"
   },
   {
    "duration": 14,
    "start_time": "2023-05-05T12:28:23.692Z"
   },
   {
    "duration": 15,
    "start_time": "2023-05-05T12:29:13.694Z"
   },
   {
    "duration": 1764,
    "start_time": "2023-05-05T12:56:36.126Z"
   },
   {
    "duration": 1608,
    "start_time": "2023-05-05T12:57:41.216Z"
   },
   {
    "duration": 1450,
    "start_time": "2023-05-05T12:57:55.273Z"
   },
   {
    "duration": 16,
    "start_time": "2023-05-05T12:58:52.858Z"
   },
   {
    "duration": 21,
    "start_time": "2023-05-05T12:59:01.670Z"
   },
   {
    "duration": 200,
    "start_time": "2023-05-05T13:01:46.436Z"
   },
   {
    "duration": 93,
    "start_time": "2023-05-05T13:02:02.020Z"
   },
   {
    "duration": 27,
    "start_time": "2023-05-05T13:02:11.097Z"
   },
   {
    "duration": 20,
    "start_time": "2023-05-05T13:02:20.007Z"
   },
   {
    "duration": 20,
    "start_time": "2023-05-05T13:03:44.276Z"
   },
   {
    "duration": 29,
    "start_time": "2023-05-05T13:03:51.030Z"
   },
   {
    "duration": 20,
    "start_time": "2023-05-05T13:06:53.931Z"
   },
   {
    "duration": 16,
    "start_time": "2023-05-05T13:07:02.872Z"
   },
   {
    "duration": 18,
    "start_time": "2023-05-05T13:07:15.427Z"
   },
   {
    "duration": 21,
    "start_time": "2023-05-05T13:07:42.697Z"
   },
   {
    "duration": 14,
    "start_time": "2023-05-05T13:07:45.336Z"
   },
   {
    "duration": 14,
    "start_time": "2023-05-05T13:07:48.779Z"
   },
   {
    "duration": 6,
    "start_time": "2023-05-05T13:07:58.160Z"
   },
   {
    "duration": 14,
    "start_time": "2023-05-05T13:08:01.682Z"
   },
   {
    "duration": 11,
    "start_time": "2023-05-05T13:09:00.707Z"
   },
   {
    "duration": 2496,
    "start_time": "2023-05-05T13:15:56.212Z"
   },
   {
    "duration": 2692,
    "start_time": "2023-05-05T13:16:13.429Z"
   },
   {
    "duration": 3,
    "start_time": "2023-05-05T13:16:38.020Z"
   },
   {
    "duration": 72,
    "start_time": "2023-05-05T16:49:29.574Z"
   },
   {
    "duration": 42,
    "start_time": "2023-05-05T16:52:28.638Z"
   },
   {
    "duration": 23,
    "start_time": "2023-05-05T16:52:59.311Z"
   },
   {
    "duration": 64,
    "start_time": "2023-05-05T16:53:20.771Z"
   },
   {
    "duration": 91,
    "start_time": "2023-05-05T16:54:04.928Z"
   },
   {
    "duration": 103,
    "start_time": "2023-05-05T16:55:26.699Z"
   },
   {
    "duration": 121,
    "start_time": "2023-05-05T16:59:55.607Z"
   },
   {
    "duration": 103,
    "start_time": "2023-05-05T17:00:24.571Z"
   },
   {
    "duration": 21,
    "start_time": "2023-05-05T17:00:42.109Z"
   },
   {
    "duration": 26,
    "start_time": "2023-05-05T17:01:11.371Z"
   },
   {
    "duration": 193,
    "start_time": "2023-05-05T17:01:25.538Z"
   },
   {
    "duration": 40,
    "start_time": "2023-05-05T17:01:34.039Z"
   },
   {
    "duration": 44,
    "start_time": "2023-05-05T17:03:07.130Z"
   },
   {
    "duration": 48,
    "start_time": "2023-05-05T17:05:14.168Z"
   },
   {
    "duration": 21,
    "start_time": "2023-05-05T17:06:20.694Z"
   },
   {
    "duration": 48,
    "start_time": "2023-05-05T17:07:14.570Z"
   },
   {
    "duration": 31,
    "start_time": "2023-05-05T17:07:27.128Z"
   },
   {
    "duration": 36,
    "start_time": "2023-05-05T17:08:15.671Z"
   },
   {
    "duration": 44,
    "start_time": "2023-05-05T17:17:11.419Z"
   },
   {
    "duration": 114,
    "start_time": "2023-05-05T17:17:25.919Z"
   },
   {
    "duration": 72,
    "start_time": "2023-05-05T17:18:32.269Z"
   },
   {
    "duration": 245,
    "start_time": "2023-05-05T17:39:02.304Z"
   },
   {
    "duration": 221,
    "start_time": "2023-05-05T17:39:08.543Z"
   },
   {
    "duration": 169,
    "start_time": "2023-05-05T17:39:29.163Z"
   },
   {
    "duration": 264,
    "start_time": "2023-05-05T17:39:53.567Z"
   },
   {
    "duration": 176,
    "start_time": "2023-05-05T17:40:35.288Z"
   },
   {
    "duration": 142,
    "start_time": "2023-05-05T17:40:44.997Z"
   },
   {
    "duration": 36,
    "start_time": "2023-05-05T17:40:45.147Z"
   },
   {
    "duration": 218,
    "start_time": "2023-05-05T17:40:45.189Z"
   },
   {
    "duration": 148,
    "start_time": "2023-05-05T17:40:45.413Z"
   },
   {
    "duration": 176,
    "start_time": "2023-05-05T17:40:45.573Z"
   },
   {
    "duration": 92,
    "start_time": "2023-05-05T17:40:45.757Z"
   },
   {
    "duration": 144,
    "start_time": "2023-05-05T17:40:45.855Z"
   },
   {
    "duration": 157,
    "start_time": "2023-05-05T17:40:46.020Z"
   },
   {
    "duration": 128,
    "start_time": "2023-05-05T17:40:46.195Z"
   },
   {
    "duration": 138,
    "start_time": "2023-05-05T17:40:46.335Z"
   },
   {
    "duration": 171,
    "start_time": "2023-05-05T17:40:46.484Z"
   },
   {
    "duration": 100,
    "start_time": "2023-05-05T17:40:46.668Z"
   },
   {
    "duration": 72,
    "start_time": "2023-05-05T17:40:46.771Z"
   },
   {
    "duration": 116,
    "start_time": "2023-05-05T17:40:46.846Z"
   },
   {
    "duration": 115,
    "start_time": "2023-05-05T17:40:46.968Z"
   },
   {
    "duration": 151,
    "start_time": "2023-05-05T17:40:47.090Z"
   },
   {
    "duration": 63,
    "start_time": "2023-05-05T17:40:47.243Z"
   },
   {
    "duration": 23,
    "start_time": "2023-05-05T17:40:47.309Z"
   },
   {
    "duration": 208,
    "start_time": "2023-05-05T17:40:47.337Z"
   },
   {
    "duration": 177,
    "start_time": "2023-05-05T17:40:47.547Z"
   },
   {
    "duration": 200,
    "start_time": "2023-05-05T17:40:47.728Z"
   },
   {
    "duration": 21,
    "start_time": "2023-05-05T17:40:47.931Z"
   },
   {
    "duration": 337,
    "start_time": "2023-05-05T17:40:47.954Z"
   },
   {
    "duration": 188,
    "start_time": "2023-05-05T17:40:51.881Z"
   },
   {
    "duration": 29,
    "start_time": "2023-05-05T17:42:24.209Z"
   },
   {
    "duration": 134,
    "start_time": "2023-05-05T17:42:59.387Z"
   },
   {
    "duration": 41,
    "start_time": "2023-05-05T17:43:06.823Z"
   },
   {
    "duration": 173,
    "start_time": "2023-05-05T17:43:23.184Z"
   },
   {
    "duration": 134,
    "start_time": "2023-05-05T17:43:48.932Z"
   },
   {
    "duration": 185,
    "start_time": "2023-05-05T17:44:06.708Z"
   },
   {
    "duration": 127,
    "start_time": "2023-05-05T17:44:30.711Z"
   },
   {
    "duration": 52,
    "start_time": "2023-05-05T17:45:19.348Z"
   },
   {
    "duration": 42,
    "start_time": "2023-05-05T17:45:29.934Z"
   },
   {
    "duration": 36,
    "start_time": "2023-05-05T17:45:52.813Z"
   },
   {
    "duration": 33,
    "start_time": "2023-05-05T17:46:08.068Z"
   },
   {
    "duration": 24,
    "start_time": "2023-05-05T17:46:43.099Z"
   },
   {
    "duration": 38,
    "start_time": "2023-05-05T17:47:09.407Z"
   },
   {
    "duration": 13,
    "start_time": "2023-05-05T17:47:46.318Z"
   },
   {
    "duration": 35,
    "start_time": "2023-05-05T17:47:59.763Z"
   },
   {
    "duration": 10,
    "start_time": "2023-05-05T18:03:07.710Z"
   },
   {
    "duration": 23,
    "start_time": "2023-05-05T20:06:50.982Z"
   },
   {
    "duration": 11,
    "start_time": "2023-05-05T20:07:40.397Z"
   },
   {
    "duration": 16,
    "start_time": "2023-05-05T20:08:11.442Z"
   },
   {
    "duration": 11,
    "start_time": "2023-05-05T20:11:03.278Z"
   },
   {
    "duration": 11,
    "start_time": "2023-05-05T20:17:26.893Z"
   },
   {
    "duration": 77,
    "start_time": "2023-05-05T20:56:37.010Z"
   },
   {
    "duration": 16,
    "start_time": "2023-05-05T20:56:37.089Z"
   },
   {
    "duration": 34,
    "start_time": "2023-05-05T20:56:37.107Z"
   },
   {
    "duration": 13,
    "start_time": "2023-05-05T20:56:37.148Z"
   },
   {
    "duration": 48,
    "start_time": "2023-05-05T20:56:37.162Z"
   },
   {
    "duration": 22,
    "start_time": "2023-05-05T20:56:37.212Z"
   },
   {
    "duration": 38,
    "start_time": "2023-05-05T20:56:37.236Z"
   },
   {
    "duration": 13,
    "start_time": "2023-05-05T20:56:37.276Z"
   },
   {
    "duration": 11,
    "start_time": "2023-05-05T20:56:37.291Z"
   },
   {
    "duration": 14,
    "start_time": "2023-05-05T20:56:37.305Z"
   },
   {
    "duration": 47,
    "start_time": "2023-05-05T20:56:37.321Z"
   },
   {
    "duration": 10,
    "start_time": "2023-05-05T20:56:37.370Z"
   },
   {
    "duration": 50,
    "start_time": "2023-05-05T20:56:37.381Z"
   },
   {
    "duration": 53,
    "start_time": "2023-05-05T20:56:37.434Z"
   },
   {
    "duration": 25,
    "start_time": "2023-05-05T20:56:37.489Z"
   },
   {
    "duration": 19,
    "start_time": "2023-05-05T20:56:37.516Z"
   },
   {
    "duration": 13,
    "start_time": "2023-05-05T20:56:37.537Z"
   },
   {
    "duration": 15,
    "start_time": "2023-05-05T20:56:37.560Z"
   },
   {
    "duration": 20,
    "start_time": "2023-05-05T20:56:37.576Z"
   },
   {
    "duration": 25,
    "start_time": "2023-05-05T20:56:37.598Z"
   },
   {
    "duration": 62,
    "start_time": "2023-05-05T20:56:37.625Z"
   },
   {
    "duration": 35,
    "start_time": "2023-05-05T20:56:37.688Z"
   },
   {
    "duration": 79,
    "start_time": "2023-05-05T20:56:37.725Z"
   },
   {
    "duration": 187,
    "start_time": "2023-05-05T20:56:42.884Z"
   },
   {
    "duration": 195,
    "start_time": "2023-05-05T20:57:27.160Z"
   },
   {
    "duration": 34,
    "start_time": "2023-05-05T21:03:12.825Z"
   },
   {
    "duration": 33,
    "start_time": "2023-05-05T21:10:40.224Z"
   },
   {
    "duration": 206,
    "start_time": "2023-05-05T21:22:01.416Z"
   },
   {
    "duration": 4,
    "start_time": "2023-05-05T21:32:17.309Z"
   },
   {
    "duration": 190,
    "start_time": "2023-05-05T21:32:21.951Z"
   },
   {
    "duration": 14,
    "start_time": "2023-05-05T21:32:44.456Z"
   },
   {
    "duration": 5,
    "start_time": "2023-05-05T21:32:48.490Z"
   },
   {
    "duration": 264,
    "start_time": "2023-05-05T21:32:51.272Z"
   },
   {
    "duration": 88,
    "start_time": "2023-05-05T21:38:37.047Z"
   },
   {
    "duration": 146,
    "start_time": "2023-05-05T21:39:17.806Z"
   },
   {
    "duration": 184,
    "start_time": "2023-05-05T21:39:48.982Z"
   },
   {
    "duration": 237,
    "start_time": "2023-05-05T21:40:07.147Z"
   },
   {
    "duration": 195,
    "start_time": "2023-05-05T21:41:13.580Z"
   },
   {
    "duration": 5,
    "start_time": "2023-05-05T21:41:27.509Z"
   },
   {
    "duration": 10,
    "start_time": "2023-05-05T21:41:33.919Z"
   },
   {
    "duration": 4,
    "start_time": "2023-05-05T21:41:37.689Z"
   },
   {
    "duration": 184,
    "start_time": "2023-05-05T21:41:40.556Z"
   },
   {
    "duration": 224,
    "start_time": "2023-05-05T21:41:49.675Z"
   },
   {
    "duration": 193,
    "start_time": "2023-05-05T21:45:55.108Z"
   },
   {
    "duration": 184,
    "start_time": "2023-05-05T21:47:19.693Z"
   },
   {
    "duration": 4,
    "start_time": "2023-05-05T21:47:23.086Z"
   },
   {
    "duration": 218,
    "start_time": "2023-05-05T21:47:25.941Z"
   },
   {
    "duration": 10,
    "start_time": "2023-05-05T21:49:31.502Z"
   },
   {
    "duration": 4,
    "start_time": "2023-05-05T21:49:34.225Z"
   },
   {
    "duration": 186,
    "start_time": "2023-05-05T21:49:36.690Z"
   },
   {
    "duration": 174,
    "start_time": "2023-05-05T21:50:34.356Z"
   },
   {
    "duration": 271,
    "start_time": "2023-05-05T21:52:40.709Z"
   },
   {
    "duration": 16,
    "start_time": "2023-05-05T21:53:19.479Z"
   },
   {
    "duration": 231,
    "start_time": "2023-05-05T21:54:05.261Z"
   },
   {
    "duration": 197,
    "start_time": "2023-05-05T21:54:57.825Z"
   },
   {
    "duration": 88,
    "start_time": "2023-05-05T21:55:46.510Z"
   },
   {
    "duration": 78,
    "start_time": "2023-05-05T21:57:17.055Z"
   },
   {
    "duration": 176,
    "start_time": "2023-05-05T21:57:49.261Z"
   },
   {
    "duration": 140,
    "start_time": "2023-05-05T22:00:04.669Z"
   },
   {
    "duration": 89,
    "start_time": "2023-05-05T22:01:43.800Z"
   },
   {
    "duration": 98,
    "start_time": "2023-05-05T22:02:09.803Z"
   },
   {
    "duration": 185,
    "start_time": "2023-05-05T22:02:40.809Z"
   },
   {
    "duration": 183,
    "start_time": "2023-05-05T22:03:02.716Z"
   },
   {
    "duration": 179,
    "start_time": "2023-05-05T22:03:09.315Z"
   },
   {
    "duration": 14,
    "start_time": "2023-05-05T22:06:36.438Z"
   },
   {
    "duration": 13,
    "start_time": "2023-05-05T22:06:57.053Z"
   },
   {
    "duration": 12,
    "start_time": "2023-05-05T22:07:02.501Z"
   },
   {
    "duration": 171,
    "start_time": "2023-05-05T22:07:11.966Z"
   },
   {
    "duration": 195,
    "start_time": "2023-05-05T22:08:14.860Z"
   },
   {
    "duration": 187,
    "start_time": "2023-05-05T22:09:32.316Z"
   },
   {
    "duration": 180,
    "start_time": "2023-05-05T22:09:48.012Z"
   },
   {
    "duration": 105,
    "start_time": "2023-05-05T22:14:03.152Z"
   },
   {
    "duration": 13,
    "start_time": "2023-05-05T22:14:12.152Z"
   },
   {
    "duration": 175,
    "start_time": "2023-05-05T22:15:34.423Z"
   },
   {
    "duration": 180,
    "start_time": "2023-05-05T22:17:04.257Z"
   },
   {
    "duration": 9,
    "start_time": "2023-05-05T22:17:24.201Z"
   },
   {
    "duration": 4,
    "start_time": "2023-05-05T22:17:26.781Z"
   },
   {
    "duration": 184,
    "start_time": "2023-05-05T22:17:29.324Z"
   },
   {
    "duration": 305,
    "start_time": "2023-05-05T22:18:37.652Z"
   },
   {
    "duration": 183,
    "start_time": "2023-05-05T22:19:16.352Z"
   },
   {
    "duration": 234,
    "start_time": "2023-05-05T22:19:55.815Z"
   },
   {
    "duration": 85,
    "start_time": "2023-05-05T22:24:59.020Z"
   },
   {
    "duration": 77,
    "start_time": "2023-05-05T22:25:15.400Z"
   },
   {
    "duration": 185,
    "start_time": "2023-05-05T22:25:26.954Z"
   },
   {
    "duration": 6,
    "start_time": "2023-05-05T22:25:42.218Z"
   },
   {
    "duration": 22,
    "start_time": "2023-05-05T22:25:45.402Z"
   },
   {
    "duration": 5,
    "start_time": "2023-05-05T22:26:08.392Z"
   },
   {
    "duration": 21,
    "start_time": "2023-05-05T22:26:11.974Z"
   },
   {
    "duration": 9,
    "start_time": "2023-05-05T22:26:26.675Z"
   },
   {
    "duration": 21,
    "start_time": "2023-05-05T22:26:28.975Z"
   },
   {
    "duration": 5,
    "start_time": "2023-05-05T22:26:59.258Z"
   },
   {
    "duration": 19,
    "start_time": "2023-05-05T22:27:02.383Z"
   },
   {
    "duration": 4,
    "start_time": "2023-05-05T22:27:08.471Z"
   },
   {
    "duration": 193,
    "start_time": "2023-05-05T22:27:11.104Z"
   },
   {
    "duration": 174,
    "start_time": "2023-05-05T22:29:42.767Z"
   },
   {
    "duration": 5,
    "start_time": "2023-05-05T22:34:52.982Z"
   },
   {
    "duration": 184,
    "start_time": "2023-05-05T22:34:56.163Z"
   },
   {
    "duration": 5,
    "start_time": "2023-05-05T22:35:21.485Z"
   },
   {
    "duration": 186,
    "start_time": "2023-05-05T22:35:24.660Z"
   },
   {
    "duration": 5,
    "start_time": "2023-05-05T22:37:14.591Z"
   },
   {
    "duration": 199,
    "start_time": "2023-05-05T22:37:17.253Z"
   },
   {
    "duration": 6,
    "start_time": "2023-05-05T22:37:30.582Z"
   },
   {
    "duration": 191,
    "start_time": "2023-05-05T22:37:32.670Z"
   },
   {
    "duration": 4,
    "start_time": "2023-05-05T22:41:38.100Z"
   },
   {
    "duration": 261,
    "start_time": "2023-05-05T22:41:40.564Z"
   },
   {
    "duration": 521,
    "start_time": "2023-05-06T08:14:39.989Z"
   },
   {
    "duration": 20,
    "start_time": "2023-05-06T08:14:40.512Z"
   },
   {
    "duration": 14,
    "start_time": "2023-05-06T08:14:40.534Z"
   },
   {
    "duration": 8,
    "start_time": "2023-05-06T08:14:40.550Z"
   },
   {
    "duration": 44,
    "start_time": "2023-05-06T08:14:40.560Z"
   },
   {
    "duration": 4,
    "start_time": "2023-05-06T08:14:40.605Z"
   },
   {
    "duration": 10,
    "start_time": "2023-05-06T08:14:40.610Z"
   },
   {
    "duration": 14,
    "start_time": "2023-05-06T08:14:40.621Z"
   },
   {
    "duration": 7,
    "start_time": "2023-05-06T08:14:40.637Z"
   },
   {
    "duration": 10,
    "start_time": "2023-05-06T08:14:40.646Z"
   },
   {
    "duration": 45,
    "start_time": "2023-05-06T08:14:40.658Z"
   },
   {
    "duration": 9,
    "start_time": "2023-05-06T08:14:40.704Z"
   },
   {
    "duration": 9,
    "start_time": "2023-05-06T08:14:40.715Z"
   },
   {
    "duration": 14,
    "start_time": "2023-05-06T08:14:40.726Z"
   },
   {
    "duration": 32,
    "start_time": "2023-05-06T08:14:40.742Z"
   },
   {
    "duration": 29,
    "start_time": "2023-05-06T08:14:40.776Z"
   },
   {
    "duration": 4,
    "start_time": "2023-05-06T08:14:40.807Z"
   },
   {
    "duration": 26,
    "start_time": "2023-05-06T08:14:40.812Z"
   },
   {
    "duration": 6,
    "start_time": "2023-05-06T08:14:40.840Z"
   },
   {
    "duration": 3,
    "start_time": "2023-05-06T08:14:40.848Z"
   },
   {
    "duration": 14,
    "start_time": "2023-05-06T08:14:40.853Z"
   },
   {
    "duration": 907,
    "start_time": "2023-05-06T08:14:40.869Z"
   },
   {
    "duration": 4,
    "start_time": "2023-05-06T08:14:41.777Z"
   },
   {
    "duration": 178,
    "start_time": "2023-05-06T08:14:41.783Z"
   },
   {
    "duration": 78,
    "start_time": "2023-05-06T08:15:02.069Z"
   },
   {
    "duration": 15,
    "start_time": "2023-05-06T08:15:02.149Z"
   },
   {
    "duration": 37,
    "start_time": "2023-05-06T08:15:02.166Z"
   },
   {
    "duration": 16,
    "start_time": "2023-05-06T08:15:02.205Z"
   },
   {
    "duration": 52,
    "start_time": "2023-05-06T08:15:02.222Z"
   },
   {
    "duration": 3,
    "start_time": "2023-05-06T08:15:02.276Z"
   },
   {
    "duration": 14,
    "start_time": "2023-05-06T08:15:02.280Z"
   },
   {
    "duration": 13,
    "start_time": "2023-05-06T08:15:02.296Z"
   },
   {
    "duration": 10,
    "start_time": "2023-05-06T08:15:02.311Z"
   },
   {
    "duration": 5,
    "start_time": "2023-05-06T08:15:02.324Z"
   },
   {
    "duration": 32,
    "start_time": "2023-05-06T08:15:02.331Z"
   },
   {
    "duration": 8,
    "start_time": "2023-05-06T08:15:02.365Z"
   },
   {
    "duration": 21,
    "start_time": "2023-05-06T08:15:02.375Z"
   },
   {
    "duration": 19,
    "start_time": "2023-05-06T08:15:02.398Z"
   },
   {
    "duration": 28,
    "start_time": "2023-05-06T08:15:02.418Z"
   },
   {
    "duration": 16,
    "start_time": "2023-05-06T08:15:02.448Z"
   },
   {
    "duration": 3,
    "start_time": "2023-05-06T08:15:02.466Z"
   },
   {
    "duration": 24,
    "start_time": "2023-05-06T08:15:02.471Z"
   },
   {
    "duration": 7,
    "start_time": "2023-05-06T08:15:02.497Z"
   },
   {
    "duration": 3,
    "start_time": "2023-05-06T08:15:02.506Z"
   },
   {
    "duration": 17,
    "start_time": "2023-05-06T08:15:02.511Z"
   },
   {
    "duration": 9,
    "start_time": "2023-05-06T08:15:02.530Z"
   },
   {
    "duration": 4,
    "start_time": "2023-05-06T08:15:02.540Z"
   },
   {
    "duration": 167,
    "start_time": "2023-05-06T08:15:02.545Z"
   },
   {
    "duration": 5,
    "start_time": "2023-05-06T08:16:07.024Z"
   },
   {
    "duration": 167,
    "start_time": "2023-05-06T08:16:09.212Z"
   },
   {
    "duration": 26,
    "start_time": "2023-05-06T08:16:35.534Z"
   },
   {
    "duration": 19,
    "start_time": "2023-05-06T08:16:42.757Z"
   },
   {
    "duration": 115,
    "start_time": "2023-05-06T09:21:05.513Z"
   },
   {
    "duration": 25,
    "start_time": "2023-05-06T09:24:32.157Z"
   },
   {
    "duration": 24,
    "start_time": "2023-05-06T09:24:52.221Z"
   },
   {
    "duration": 20,
    "start_time": "2023-05-06T09:25:48.904Z"
   },
   {
    "duration": 26,
    "start_time": "2023-05-06T09:26:00.832Z"
   },
   {
    "duration": 20,
    "start_time": "2023-05-06T09:27:35.015Z"
   },
   {
    "duration": 4,
    "start_time": "2023-05-06T10:26:23.068Z"
   },
   {
    "duration": 4,
    "start_time": "2023-05-06T10:26:36.739Z"
   },
   {
    "duration": 67,
    "start_time": "2023-05-06T10:26:46.579Z"
   },
   {
    "duration": 15,
    "start_time": "2023-05-06T10:26:46.648Z"
   },
   {
    "duration": 28,
    "start_time": "2023-05-06T10:26:46.664Z"
   },
   {
    "duration": 16,
    "start_time": "2023-05-06T10:26:46.694Z"
   },
   {
    "duration": 33,
    "start_time": "2023-05-06T10:26:46.711Z"
   },
   {
    "duration": 3,
    "start_time": "2023-05-06T10:26:46.745Z"
   },
   {
    "duration": 9,
    "start_time": "2023-05-06T10:26:46.750Z"
   },
   {
    "duration": 13,
    "start_time": "2023-05-06T10:26:46.761Z"
   },
   {
    "duration": 19,
    "start_time": "2023-05-06T10:26:46.775Z"
   },
   {
    "duration": 10,
    "start_time": "2023-05-06T10:26:46.797Z"
   },
   {
    "duration": 33,
    "start_time": "2023-05-06T10:26:46.808Z"
   },
   {
    "duration": 8,
    "start_time": "2023-05-06T10:26:46.843Z"
   },
   {
    "duration": 5,
    "start_time": "2023-05-06T10:26:46.852Z"
   },
   {
    "duration": 17,
    "start_time": "2023-05-06T10:26:46.858Z"
   },
   {
    "duration": 32,
    "start_time": "2023-05-06T10:26:46.877Z"
   },
   {
    "duration": 15,
    "start_time": "2023-05-06T10:26:46.911Z"
   },
   {
    "duration": 3,
    "start_time": "2023-05-06T10:26:46.928Z"
   },
   {
    "duration": 23,
    "start_time": "2023-05-06T10:26:46.932Z"
   },
   {
    "duration": 17,
    "start_time": "2023-05-06T10:26:46.956Z"
   },
   {
    "duration": 21,
    "start_time": "2023-05-06T10:26:46.974Z"
   },
   {
    "duration": 13,
    "start_time": "2023-05-06T10:26:46.997Z"
   },
   {
    "duration": 27,
    "start_time": "2023-05-06T10:26:47.011Z"
   },
   {
    "duration": 26,
    "start_time": "2023-05-06T10:26:47.039Z"
   },
   {
    "duration": 3,
    "start_time": "2023-05-06T10:26:47.067Z"
   },
   {
    "duration": 3,
    "start_time": "2023-05-06T10:26:50.973Z"
   },
   {
    "duration": 131,
    "start_time": "2023-05-06T10:27:03.808Z"
   },
   {
    "duration": 129,
    "start_time": "2023-05-06T10:29:30.847Z"
   },
   {
    "duration": 45,
    "start_time": "2023-05-06T10:42:44.426Z"
   },
   {
    "duration": 11,
    "start_time": "2023-05-06T10:43:05.412Z"
   },
   {
    "duration": 25,
    "start_time": "2023-05-06T10:43:09.363Z"
   },
   {
    "duration": 3,
    "start_time": "2023-05-06T10:43:11.785Z"
   },
   {
    "duration": 144,
    "start_time": "2023-05-06T10:43:14.265Z"
   },
   {
    "duration": 23,
    "start_time": "2023-05-06T11:00:09.414Z"
   },
   {
    "duration": 22,
    "start_time": "2023-05-06T11:02:32.435Z"
   },
   {
    "duration": 21,
    "start_time": "2023-05-06T11:02:36.555Z"
   },
   {
    "duration": 150,
    "start_time": "2023-05-06T11:08:14.412Z"
   },
   {
    "duration": 210,
    "start_time": "2023-05-06T11:08:51.033Z"
   },
   {
    "duration": 4,
    "start_time": "2023-05-06T11:10:39.125Z"
   },
   {
    "duration": 144,
    "start_time": "2023-05-06T11:10:41.717Z"
   },
   {
    "duration": 176,
    "start_time": "2023-05-06T11:13:04.785Z"
   },
   {
    "duration": 20,
    "start_time": "2023-05-06T11:14:25.027Z"
   },
   {
    "duration": 5,
    "start_time": "2023-05-06T11:28:55.409Z"
   },
   {
    "duration": 148,
    "start_time": "2023-05-06T11:29:21.820Z"
   },
   {
    "duration": 3,
    "start_time": "2023-05-06T11:39:43.319Z"
   },
   {
    "duration": 144,
    "start_time": "2023-05-06T11:39:50.121Z"
   },
   {
    "duration": 63,
    "start_time": "2023-05-06T11:40:44.775Z"
   },
   {
    "duration": 14,
    "start_time": "2023-05-06T11:40:44.840Z"
   },
   {
    "duration": 14,
    "start_time": "2023-05-06T11:40:44.856Z"
   },
   {
    "duration": 31,
    "start_time": "2023-05-06T11:40:44.872Z"
   },
   {
    "duration": 31,
    "start_time": "2023-05-06T11:40:44.904Z"
   },
   {
    "duration": 3,
    "start_time": "2023-05-06T11:40:44.936Z"
   },
   {
    "duration": 8,
    "start_time": "2023-05-06T11:40:44.941Z"
   },
   {
    "duration": 4,
    "start_time": "2023-05-06T11:40:44.950Z"
   },
   {
    "duration": 7,
    "start_time": "2023-05-06T11:40:44.955Z"
   },
   {
    "duration": 32,
    "start_time": "2023-05-06T11:40:44.965Z"
   },
   {
    "duration": 33,
    "start_time": "2023-05-06T11:40:44.999Z"
   },
   {
    "duration": 10,
    "start_time": "2023-05-06T11:40:45.033Z"
   },
   {
    "duration": 4,
    "start_time": "2023-05-06T11:40:45.044Z"
   },
   {
    "duration": 13,
    "start_time": "2023-05-06T11:40:45.049Z"
   },
   {
    "duration": 39,
    "start_time": "2023-05-06T11:40:45.064Z"
   },
   {
    "duration": 16,
    "start_time": "2023-05-06T11:40:45.104Z"
   },
   {
    "duration": 3,
    "start_time": "2023-05-06T11:40:45.122Z"
   },
   {
    "duration": 21,
    "start_time": "2023-05-06T11:40:45.127Z"
   },
   {
    "duration": 7,
    "start_time": "2023-05-06T11:40:45.150Z"
   },
   {
    "duration": 6,
    "start_time": "2023-05-06T11:40:45.158Z"
   },
   {
    "duration": 10,
    "start_time": "2023-05-06T11:40:45.165Z"
   },
   {
    "duration": 24,
    "start_time": "2023-05-06T11:40:45.176Z"
   },
   {
    "duration": 27,
    "start_time": "2023-05-06T11:40:45.202Z"
   },
   {
    "duration": 4,
    "start_time": "2023-05-06T11:40:45.231Z"
   },
   {
    "duration": 137,
    "start_time": "2023-05-06T11:40:45.237Z"
   },
   {
    "duration": 3,
    "start_time": "2023-05-06T11:40:45.376Z"
   },
   {
    "duration": 28,
    "start_time": "2023-05-06T11:40:45.380Z"
   },
   {
    "duration": 161,
    "start_time": "2023-05-06T11:40:45.411Z"
   },
   {
    "duration": 158,
    "start_time": "2023-05-06T11:40:48.685Z"
   },
   {
    "duration": 157,
    "start_time": "2023-05-06T11:42:15.611Z"
   },
   {
    "duration": 135,
    "start_time": "2023-05-06T11:43:27.307Z"
   },
   {
    "duration": 181,
    "start_time": "2023-05-06T11:43:55.515Z"
   },
   {
    "duration": 164,
    "start_time": "2023-05-06T11:44:21.369Z"
   },
   {
    "duration": 265,
    "start_time": "2023-05-06T11:45:02.657Z"
   },
   {
    "duration": 161,
    "start_time": "2023-05-06T11:46:00.669Z"
   },
   {
    "duration": 160,
    "start_time": "2023-05-06T11:47:04.804Z"
   },
   {
    "duration": 3,
    "start_time": "2023-05-06T11:47:08.092Z"
   },
   {
    "duration": 150,
    "start_time": "2023-05-06T11:47:10.932Z"
   },
   {
    "duration": 20,
    "start_time": "2023-05-06T11:48:56.900Z"
   },
   {
    "duration": 22,
    "start_time": "2023-05-06T11:50:09.144Z"
   },
   {
    "duration": 132,
    "start_time": "2023-05-06T12:01:01.125Z"
   },
   {
    "duration": 4,
    "start_time": "2023-05-06T12:15:58.494Z"
   },
   {
    "duration": 6,
    "start_time": "2023-05-06T12:20:19.593Z"
   },
   {
    "duration": 159,
    "start_time": "2023-05-06T12:22:21.225Z"
   },
   {
    "duration": 21,
    "start_time": "2023-05-06T12:24:17.537Z"
   },
   {
    "duration": 25,
    "start_time": "2023-05-06T12:25:28.501Z"
   },
   {
    "duration": 47,
    "start_time": "2023-05-06T12:28:24.113Z"
   },
   {
    "duration": 155,
    "start_time": "2023-05-06T12:29:32.765Z"
   },
   {
    "duration": 76,
    "start_time": "2023-05-06T12:34:05.540Z"
   },
   {
    "duration": 656,
    "start_time": "2023-05-06T17:38:48.574Z"
   },
   {
    "duration": 33,
    "start_time": "2023-05-06T17:38:49.232Z"
   },
   {
    "duration": 22,
    "start_time": "2023-05-06T17:38:49.267Z"
   },
   {
    "duration": 30,
    "start_time": "2023-05-06T17:38:49.294Z"
   },
   {
    "duration": 51,
    "start_time": "2023-05-06T17:38:49.326Z"
   },
   {
    "duration": 6,
    "start_time": "2023-05-06T17:38:49.380Z"
   },
   {
    "duration": 35,
    "start_time": "2023-05-06T17:38:49.388Z"
   },
   {
    "duration": 15,
    "start_time": "2023-05-06T17:38:49.426Z"
   },
   {
    "duration": 19,
    "start_time": "2023-05-06T17:38:49.443Z"
   },
   {
    "duration": 7,
    "start_time": "2023-05-06T17:38:49.465Z"
   },
   {
    "duration": 66,
    "start_time": "2023-05-06T17:38:49.474Z"
   },
   {
    "duration": 16,
    "start_time": "2023-05-06T17:38:49.542Z"
   },
   {
    "duration": 14,
    "start_time": "2023-05-06T17:38:49.559Z"
   },
   {
    "duration": 27,
    "start_time": "2023-05-06T17:38:49.574Z"
   },
   {
    "duration": 36,
    "start_time": "2023-05-06T17:38:49.604Z"
   },
   {
    "duration": 19,
    "start_time": "2023-05-06T17:38:49.643Z"
   },
   {
    "duration": 9,
    "start_time": "2023-05-06T17:38:49.664Z"
   },
   {
    "duration": 48,
    "start_time": "2023-05-06T17:38:49.674Z"
   },
   {
    "duration": 18,
    "start_time": "2023-05-06T17:38:49.724Z"
   },
   {
    "duration": 7,
    "start_time": "2023-05-06T17:38:49.744Z"
   },
   {
    "duration": 42,
    "start_time": "2023-05-06T17:38:49.753Z"
   },
   {
    "duration": 1220,
    "start_time": "2023-05-06T17:38:49.799Z"
   },
   {
    "duration": 39,
    "start_time": "2023-05-06T17:38:51.022Z"
   },
   {
    "duration": 5,
    "start_time": "2023-05-06T17:38:51.062Z"
   },
   {
    "duration": 213,
    "start_time": "2023-05-06T17:38:51.069Z"
   },
   {
    "duration": 40,
    "start_time": "2023-05-06T17:38:51.293Z"
   },
   {
    "duration": 5,
    "start_time": "2023-05-06T17:38:51.336Z"
   },
   {
    "duration": 212,
    "start_time": "2023-05-06T17:38:51.345Z"
   },
   {
    "duration": 33,
    "start_time": "2023-05-06T17:38:51.559Z"
   },
   {
    "duration": 5,
    "start_time": "2023-05-06T17:38:51.594Z"
   },
   {
    "duration": 217,
    "start_time": "2023-05-06T17:38:51.601Z"
   },
   {
    "duration": 27,
    "start_time": "2023-05-06T17:38:51.819Z"
   },
   {
    "duration": 4,
    "start_time": "2023-05-06T17:38:51.848Z"
   },
   {
    "duration": 222,
    "start_time": "2023-05-06T17:38:51.853Z"
   },
   {
    "duration": 198,
    "start_time": "2023-05-06T18:02:53.661Z"
   },
   {
    "duration": 16,
    "start_time": "2023-05-06T18:02:53.862Z"
   },
   {
    "duration": 43,
    "start_time": "2023-05-06T18:02:53.880Z"
   },
   {
    "duration": 30,
    "start_time": "2023-05-06T18:02:53.928Z"
   },
   {
    "duration": 58,
    "start_time": "2023-05-06T18:02:53.961Z"
   },
   {
    "duration": 4,
    "start_time": "2023-05-06T18:02:54.022Z"
   },
   {
    "duration": 23,
    "start_time": "2023-05-06T18:02:54.028Z"
   },
   {
    "duration": 16,
    "start_time": "2023-05-06T18:02:54.054Z"
   },
   {
    "duration": 7,
    "start_time": "2023-05-06T18:02:54.073Z"
   },
   {
    "duration": 14,
    "start_time": "2023-05-06T18:02:54.083Z"
   },
   {
    "duration": 75,
    "start_time": "2023-05-06T18:02:54.100Z"
   },
   {
    "duration": 20,
    "start_time": "2023-05-06T18:02:54.177Z"
   },
   {
    "duration": 12,
    "start_time": "2023-05-06T18:02:54.200Z"
   },
   {
    "duration": 27,
    "start_time": "2023-05-06T18:02:54.215Z"
   },
   {
    "duration": 34,
    "start_time": "2023-05-06T18:02:54.248Z"
   },
   {
    "duration": 33,
    "start_time": "2023-05-06T18:02:54.285Z"
   },
   {
    "duration": 5,
    "start_time": "2023-05-06T18:02:54.320Z"
   },
   {
    "duration": 22,
    "start_time": "2023-05-06T18:02:54.327Z"
   },
   {
    "duration": 21,
    "start_time": "2023-05-06T18:02:54.352Z"
   },
   {
    "duration": 24,
    "start_time": "2023-05-06T18:02:54.375Z"
   },
   {
    "duration": 22,
    "start_time": "2023-05-06T18:02:54.405Z"
   },
   {
    "duration": 18,
    "start_time": "2023-05-06T18:02:54.430Z"
   },
   {
    "duration": 41,
    "start_time": "2023-05-06T18:02:54.450Z"
   },
   {
    "duration": 4,
    "start_time": "2023-05-06T18:02:54.495Z"
   },
   {
    "duration": 202,
    "start_time": "2023-05-06T18:02:54.501Z"
   },
   {
    "duration": 34,
    "start_time": "2023-05-06T18:02:54.705Z"
   },
   {
    "duration": 6,
    "start_time": "2023-05-06T18:02:54.748Z"
   },
   {
    "duration": 275,
    "start_time": "2023-05-06T18:02:54.758Z"
   },
   {
    "duration": 33,
    "start_time": "2023-05-06T18:02:55.037Z"
   },
   {
    "duration": 4,
    "start_time": "2023-05-06T18:02:55.072Z"
   },
   {
    "duration": 217,
    "start_time": "2023-05-06T18:02:55.088Z"
   },
   {
    "duration": 35,
    "start_time": "2023-05-06T18:02:55.312Z"
   },
   {
    "duration": 5,
    "start_time": "2023-05-06T18:02:55.350Z"
   },
   {
    "duration": 316,
    "start_time": "2023-05-06T18:02:55.357Z"
   }
  ],
  "colab": {
   "provenance": []
  },
  "kernelspec": {
   "display_name": "Python 3 (ipykernel)",
   "language": "python",
   "name": "python3"
  },
  "language_info": {
   "codemirror_mode": {
    "name": "ipython",
    "version": 3
   },
   "file_extension": ".py",
   "mimetype": "text/x-python",
   "name": "python",
   "nbconvert_exporter": "python",
   "pygments_lexer": "ipython3",
   "version": "3.9.16"
  },
  "toc": {
   "base_numbering": 1,
   "nav_menu": {},
   "number_sections": true,
   "sideBar": true,
   "skip_h1_title": true,
   "title_cell": "Table of Contents",
   "title_sidebar": "Contents",
   "toc_cell": false,
   "toc_position": {
    "height": "569.6px",
    "left": "26px",
    "top": "110.525px",
    "width": "480.797px"
   },
   "toc_section_display": true,
   "toc_window_display": true
  }
 },
 "nbformat": 4,
 "nbformat_minor": 5
}
