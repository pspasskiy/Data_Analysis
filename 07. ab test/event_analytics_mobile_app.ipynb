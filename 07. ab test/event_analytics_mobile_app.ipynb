{
 "cells": [
  {
   "cell_type": "markdown",
   "metadata": {},
   "source": [
    " <font size=\"6\"><b>Принятие решений в бизнесе</b></font><br />"
   ]
  },
  {
   "cell_type": "markdown",
   "metadata": {},
   "source": [
    " <font size=\"5\"><b>Часть 1. Приоритизация гипотез.</b></font><br />"
   ]
  },
  {
   "cell_type": "markdown",
   "metadata": {},
   "source": [
    "Вместе с отделом маркетинга подготовлен список гипотез для увеличения выручки.\n",
    "Цель - приоритизировать гипотезы, запустить A/B-тест и проанализировать результаты.\n",
    "\n",
    "Предоставлен датасет `/datasets/hypothesis.csv` со следующими данными:\n",
    "* Hypothesis — краткое описание гипотезы;\n",
    "* Reach — охват пользователей по 10-балльной шкале;\n",
    "* Impact — влияние на пользователей по 10-балльной шкале;\n",
    "* Confidence — уверенность в гипотезе по 10-балльной шкале;\n",
    "* Efforts — затраты ресурсов на проверку гипотезы по 10-балльной шкале. Чем больше значение Efforts, тем дороже проверка гипотезы."
   ]
  },
  {
   "cell_type": "code",
   "execution_count": 1,
   "metadata": {},
   "outputs": [],
   "source": [
    "import pandas as pd\n",
    "import numpy as np\n",
    "from datetime import datetime, timedelta\n",
    "from matplotlib import pyplot as plt\n",
    "import datetime as dt\n",
    "import matplotlib.pyplot as plt\n",
    "import scipy.stats as stats"
   ]
  },
  {
   "cell_type": "markdown",
   "metadata": {},
   "source": [
    "### Загрузка данных и подготовка их к анализу"
   ]
  },
  {
   "cell_type": "code",
   "execution_count": 2,
   "metadata": {},
   "outputs": [],
   "source": [
    "data = pd.read_csv('/datasets/hypothesis.csv')"
   ]
  },
  {
   "cell_type": "code",
   "execution_count": 3,
   "metadata": {},
   "outputs": [
    {
     "data": {
      "text/html": [
       "<div>\n",
       "<style scoped>\n",
       "    .dataframe tbody tr th:only-of-type {\n",
       "        vertical-align: middle;\n",
       "    }\n",
       "\n",
       "    .dataframe tbody tr th {\n",
       "        vertical-align: top;\n",
       "    }\n",
       "\n",
       "    .dataframe thead th {\n",
       "        text-align: right;\n",
       "    }\n",
       "</style>\n",
       "<table border=\"1\" class=\"dataframe\">\n",
       "  <thead>\n",
       "    <tr style=\"text-align: right;\">\n",
       "      <th></th>\n",
       "      <th>Hypothesis</th>\n",
       "      <th>Reach</th>\n",
       "      <th>Impact</th>\n",
       "      <th>Confidence</th>\n",
       "      <th>Efforts</th>\n",
       "    </tr>\n",
       "  </thead>\n",
       "  <tbody>\n",
       "    <tr>\n",
       "      <th>0</th>\n",
       "      <td>Добавить два новых канала привлечения трафика,...</td>\n",
       "      <td>3</td>\n",
       "      <td>10</td>\n",
       "      <td>8</td>\n",
       "      <td>6</td>\n",
       "    </tr>\n",
       "    <tr>\n",
       "      <th>1</th>\n",
       "      <td>Запустить собственную службу доставки, что сок...</td>\n",
       "      <td>2</td>\n",
       "      <td>5</td>\n",
       "      <td>4</td>\n",
       "      <td>10</td>\n",
       "    </tr>\n",
       "    <tr>\n",
       "      <th>2</th>\n",
       "      <td>Добавить блоки рекомендаций товаров на сайт ин...</td>\n",
       "      <td>8</td>\n",
       "      <td>3</td>\n",
       "      <td>7</td>\n",
       "      <td>3</td>\n",
       "    </tr>\n",
       "    <tr>\n",
       "      <th>3</th>\n",
       "      <td>Изменить структура категорий, что увеличит кон...</td>\n",
       "      <td>8</td>\n",
       "      <td>3</td>\n",
       "      <td>3</td>\n",
       "      <td>8</td>\n",
       "    </tr>\n",
       "    <tr>\n",
       "      <th>4</th>\n",
       "      <td>Изменить цвет фона главной страницы, чтобы уве...</td>\n",
       "      <td>3</td>\n",
       "      <td>1</td>\n",
       "      <td>1</td>\n",
       "      <td>1</td>\n",
       "    </tr>\n",
       "    <tr>\n",
       "      <th>5</th>\n",
       "      <td>Добавить страницу отзывов клиентов о магазине,...</td>\n",
       "      <td>3</td>\n",
       "      <td>2</td>\n",
       "      <td>2</td>\n",
       "      <td>3</td>\n",
       "    </tr>\n",
       "    <tr>\n",
       "      <th>6</th>\n",
       "      <td>Показать на главной странице баннеры с актуаль...</td>\n",
       "      <td>5</td>\n",
       "      <td>3</td>\n",
       "      <td>8</td>\n",
       "      <td>3</td>\n",
       "    </tr>\n",
       "    <tr>\n",
       "      <th>7</th>\n",
       "      <td>Добавить форму подписки на все основные страни...</td>\n",
       "      <td>10</td>\n",
       "      <td>7</td>\n",
       "      <td>8</td>\n",
       "      <td>5</td>\n",
       "    </tr>\n",
       "    <tr>\n",
       "      <th>8</th>\n",
       "      <td>Запустить акцию, дающую скидку на товар в день...</td>\n",
       "      <td>1</td>\n",
       "      <td>9</td>\n",
       "      <td>9</td>\n",
       "      <td>5</td>\n",
       "    </tr>\n",
       "  </tbody>\n",
       "</table>\n",
       "</div>"
      ],
      "text/plain": [
       "                                          Hypothesis  Reach  Impact  \\\n",
       "0  Добавить два новых канала привлечения трафика,...      3      10   \n",
       "1  Запустить собственную службу доставки, что сок...      2       5   \n",
       "2  Добавить блоки рекомендаций товаров на сайт ин...      8       3   \n",
       "3  Изменить структура категорий, что увеличит кон...      8       3   \n",
       "4  Изменить цвет фона главной страницы, чтобы уве...      3       1   \n",
       "5  Добавить страницу отзывов клиентов о магазине,...      3       2   \n",
       "6  Показать на главной странице баннеры с актуаль...      5       3   \n",
       "7  Добавить форму подписки на все основные страни...     10       7   \n",
       "8  Запустить акцию, дающую скидку на товар в день...      1       9   \n",
       "\n",
       "   Confidence  Efforts  \n",
       "0           8        6  \n",
       "1           4       10  \n",
       "2           7        3  \n",
       "3           3        8  \n",
       "4           1        1  \n",
       "5           2        3  \n",
       "6           8        3  \n",
       "7           8        5  \n",
       "8           9        5  "
      ]
     },
     "execution_count": 3,
     "metadata": {},
     "output_type": "execute_result"
    }
   ],
   "source": [
    "data"
   ]
  },
  {
   "cell_type": "code",
   "execution_count": 4,
   "metadata": {},
   "outputs": [],
   "source": [
    "data.columns = data.columns.str.lower() # преобразуем имена столбцов в нижний регистр"
   ]
  },
  {
   "cell_type": "code",
   "execution_count": 5,
   "metadata": {
    "scrolled": true
   },
   "outputs": [
    {
     "name": "stdout",
     "output_type": "stream",
     "text": [
      "Добавить два новых канала привлечения трафика, что позволит привлекать на 30% больше пользователей\n",
      "Запустить собственную службу доставки, что сократит срок доставки заказов\n",
      "Добавить блоки рекомендаций товаров на сайт интернет магазина, чтобы повысить конверсию и средний чек заказа\n",
      "Изменить структура категорий, что увеличит конверсию, т.к. пользователи быстрее найдут нужный товар\n",
      "Изменить цвет фона главной страницы, чтобы увеличить вовлеченность пользователей\n",
      "Добавить страницу отзывов клиентов о магазине, что позволит увеличить количество заказов\n",
      "Показать на главной странице баннеры с актуальными акциями и распродажами, чтобы увеличить конверсию\n",
      "Добавить форму подписки на все основные страницы, чтобы собрать базу клиентов для email-рассылок\n",
      "Запустить акцию, дающую скидку на товар в день рождения\n"
     ]
    }
   ],
   "source": [
    "print(*data['hypothesis'], sep='\\n') # список гипотез"
   ]
  },
  {
   "cell_type": "code",
   "execution_count": 6,
   "metadata": {},
   "outputs": [
    {
     "name": "stdout",
     "output_type": "stream",
     "text": [
      "<class 'pandas.core.frame.DataFrame'>\n",
      "RangeIndex: 9 entries, 0 to 8\n",
      "Data columns (total 5 columns):\n",
      " #   Column      Non-Null Count  Dtype \n",
      "---  ------      --------------  ----- \n",
      " 0   hypothesis  9 non-null      object\n",
      " 1   reach       9 non-null      int64 \n",
      " 2   impact      9 non-null      int64 \n",
      " 3   confidence  9 non-null      int64 \n",
      " 4   efforts     9 non-null      int64 \n",
      "dtypes: int64(4), object(1)\n",
      "memory usage: 488.0+ bytes\n"
     ]
    }
   ],
   "source": [
    "data.info()"
   ]
  },
  {
   "cell_type": "markdown",
   "metadata": {},
   "source": [
    "**Вывод:** данные в датасете после преобразования названий столбцов пригодны для анализа. Параметры фреймворков представлены в шкалах от 0 до 10, где 0 наименее трудозатратные измерения, а 10 - наиболее трудозатратные."
   ]
  },
  {
   "cell_type": "markdown",
   "metadata": {},
   "source": [
    "### Применение фреймворка ICE для приоритизации гипотез"
   ]
  },
  {
   "cell_type": "code",
   "execution_count": 7,
   "metadata": {
    "scrolled": false
   },
   "outputs": [
    {
     "name": "stdout",
     "output_type": "stream",
     "text": [
      "                                                                                                     hypothesis  \\\n",
      "8  Запустить акцию, дающую скидку на товар в день рождения                                                        \n",
      "0  Добавить два новых канала привлечения трафика, что позволит привлекать на 30% больше пользователей             \n",
      "7  Добавить форму подписки на все основные страницы, чтобы собрать базу клиентов для email-рассылок               \n",
      "6  Показать на главной странице баннеры с актуальными акциями и распродажами, чтобы увеличить конверсию           \n",
      "2  Добавить блоки рекомендаций товаров на сайт интернет магазина, чтобы повысить конверсию и средний чек заказа   \n",
      "1  Запустить собственную службу доставки, что сократит срок доставки заказов                                      \n",
      "5  Добавить страницу отзывов клиентов о магазине, что позволит увеличить количество заказов                       \n",
      "3  Изменить структура категорий, что увеличит конверсию, т.к. пользователи быстрее найдут нужный товар            \n",
      "4  Изменить цвет фона главной страницы, чтобы увеличить вовлеченность пользователей                               \n",
      "\n",
      "     ICE  \n",
      "8  16.20  \n",
      "0  13.33  \n",
      "7  11.20  \n",
      "6  8.00   \n",
      "2  7.00   \n",
      "1  2.00   \n",
      "5  1.33   \n",
      "3  1.12   \n",
      "4  1.00   \n"
     ]
    }
   ],
   "source": [
    "# вывод на экран полного содержимого df\n",
    "pd.options.display.max_colwidth = 0\n",
    "data['ICE'] = round(data['impact'] * data['confidence'] / data['efforts'], 2)\n",
    "print(data[['hypothesis', 'ICE']].sort_values(by='ICE', ascending=False))"
   ]
  },
  {
   "cell_type": "code",
   "execution_count": 8,
   "metadata": {},
   "outputs": [],
   "source": [
    "top3_ice = data.sort_values(by='ICE', ascending=False).head(3)"
   ]
  },
  {
   "cell_type": "code",
   "execution_count": 9,
   "metadata": {
    "scrolled": false
   },
   "outputs": [
    {
     "name": "stdout",
     "output_type": "stream",
     "text": [
      "Наиболее приоритетные гипотезы:                                                                                            hypothesis\n",
      "8  Запустить акцию, дающую скидку на товар в день рождения                                           \n",
      "0  Добавить два новых канала привлечения трафика, что позволит привлекать на 30% больше пользователей\n",
      "7  Добавить форму подписки на все основные страницы, чтобы собрать базу клиентов для email-рассылок  \n"
     ]
    }
   ],
   "source": [
    "print('Наиболее приоритетные гипотезы:', top3_ice[['hypothesis']])"
   ]
  },
  {
   "cell_type": "markdown",
   "metadata": {},
   "source": [
    "### Применение фреймворка RICE для приоритизации гипотез"
   ]
  },
  {
   "cell_type": "code",
   "execution_count": 10,
   "metadata": {
    "scrolled": false
   },
   "outputs": [
    {
     "name": "stdout",
     "output_type": "stream",
     "text": [
      "                                                                                                     hypothesis  \\\n",
      "7  Добавить форму подписки на все основные страницы, чтобы собрать базу клиентов для email-рассылок               \n",
      "2  Добавить блоки рекомендаций товаров на сайт интернет магазина, чтобы повысить конверсию и средний чек заказа   \n",
      "0  Добавить два новых канала привлечения трафика, что позволит привлекать на 30% больше пользователей             \n",
      "6  Показать на главной странице баннеры с актуальными акциями и распродажами, чтобы увеличить конверсию           \n",
      "8  Запустить акцию, дающую скидку на товар в день рождения                                                        \n",
      "3  Изменить структура категорий, что увеличит конверсию, т.к. пользователи быстрее найдут нужный товар            \n",
      "1  Запустить собственную службу доставки, что сократит срок доставки заказов                                      \n",
      "5  Добавить страницу отзывов клиентов о магазине, что позволит увеличить количество заказов                       \n",
      "4  Изменить цвет фона главной страницы, чтобы увеличить вовлеченность пользователей                               \n",
      "\n",
      "    RICE  \n",
      "7  112.0  \n",
      "2  56.0   \n",
      "0  40.0   \n",
      "6  40.0   \n",
      "8  16.2   \n",
      "3  9.0    \n",
      "1  4.0    \n",
      "5  4.0    \n",
      "4  3.0    \n"
     ]
    }
   ],
   "source": [
    "data['RICE'] = data['reach'] * data['impact'] * data['confidence'] / data['efforts']\n",
    "\n",
    "print(data[['hypothesis', 'RICE']].sort_values(by='RICE', ascending=False))"
   ]
  },
  {
   "cell_type": "code",
   "execution_count": 11,
   "metadata": {},
   "outputs": [],
   "source": [
    "top3_rice = data.sort_values(by='RICE', ascending=False).head(3)"
   ]
  },
  {
   "cell_type": "code",
   "execution_count": 12,
   "metadata": {},
   "outputs": [
    {
     "name": "stdout",
     "output_type": "stream",
     "text": [
      "Наиболее приоритетные гипотезы:                                                                                                      hypothesis\n",
      "7  Добавить форму подписки на все основные страницы, чтобы собрать базу клиентов для email-рассылок            \n",
      "2  Добавить блоки рекомендаций товаров на сайт интернет магазина, чтобы повысить конверсию и средний чек заказа\n",
      "0  Добавить два новых канала привлечения трафика, что позволит привлекать на 30% больше пользователей          \n"
     ]
    }
   ],
   "source": [
    "print('Наиболее приоритетные гипотезы:', top3_rice[['hypothesis']])"
   ]
  },
  {
   "cell_type": "markdown",
   "metadata": {},
   "source": [
    "**Вывод:** оценки приоритизации ICE и RICE схожи, отличие последней в том, что она учитывает количество пользователей (Reach), которое затронет изменение. Порядок приоритизации гипотез по значимости (7-ая гипотеза в RICE вместо 8-ой в ICE) поменялся в RICE потому, что в ее формуле в числителе появился Reach, равный 10 для 7-ой гипотезы, т.е. гипотеза \"Добавить блоки рекомендаций товаров на сайт интернет магазина, чтобы повысить конверсию и средний чек заказа\" вовлечет всех пользователей интерент-магазина, что в конечном итоге максимизирует возможно ожидаемое улучшение ключевых метрик."
   ]
  },
  {
   "cell_type": "markdown",
   "metadata": {},
   "source": [
    " <font size=\"5\"><b>Часть 2. Анализ A/B-теста</b></font><br />"
   ]
  },
  {
   "cell_type": "markdown",
   "metadata": {},
   "source": [
    "A/B-тест проведен и получены результаты, которые описаны в файлах:\n",
    "\n",
    "`/datasets/orders.csv`\n",
    "\n",
    "`/datasets/visitors.csv`"
   ]
  },
  {
   "cell_type": "markdown",
   "metadata": {},
   "source": [
    "**Цель исследования** - по итогам теста принять одно из следующих решений:\n",
    "1. Остановить тест, зафиксировать победу одной из групп.\n",
    "2. Остановить тест, зафиксировать отсутствие различий между группами.\n",
    "3. Продолжить тест.\n",
    "\n",
    "**План исследования**\n",
    "\n",
    "1. Загрузка данных и подготовка их анализу\n",
    "\n",
    "2. График кумулятивной выручки по группам\n",
    "\n",
    "3. График кумулятивного среднего чека по группам\n",
    "    \n",
    "4. График относительного изменения кумулятивного среднего чека группы B к группе A\n",
    "\n",
    "5. График кумулятивного среднего количества заказов на посетителя по группам\n",
    "\n",
    "6. Точечный график количества заказов по пользователям\n",
    "\n",
    "7. 95-й и 99-й перцентили количества заказов на пользователя. Граница для определения аномальных пользователей.\n",
    "\n",
    "8. Точечный график стоимостей заказов\n",
    "\n",
    "9. 95-й и 99-й перцентили стоимости заказов. Граница для определения аномальных заказов.\n",
    "\n",
    "10. Cтатистическая значимость различий в среднем количестве заказов на посетителя между группами по «сырым» данным\n",
    "\n",
    "11. Статистическая значимость различий в среднем чеке заказа между группами по «сырым» данным\n",
    "\n",
    "12. Статистическая значимость различий в среднем количестве заказов на посетителя между группами по «очищенным» данным\n",
    "\n",
    "13. Статистическая значимость различий в среднем чеке заказа между группами по «очищенным» данным\n",
    "\n",
    "14. Итоги по результатам теста"
   ]
  },
  {
   "cell_type": "markdown",
   "metadata": {},
   "source": [
    "### Загрузка данных и подготовка их к анализу"
   ]
  },
  {
   "cell_type": "code",
   "execution_count": 13,
   "metadata": {},
   "outputs": [],
   "source": [
    "orders = pd.read_csv('/datasets/orders.csv')\n",
    "visitors = pd.read_csv('/datasets/visitors.csv')"
   ]
  },
  {
   "cell_type": "code",
   "execution_count": 14,
   "metadata": {
    "scrolled": false
   },
   "outputs": [
    {
     "data": {
      "text/html": [
       "<div>\n",
       "<style scoped>\n",
       "    .dataframe tbody tr th:only-of-type {\n",
       "        vertical-align: middle;\n",
       "    }\n",
       "\n",
       "    .dataframe tbody tr th {\n",
       "        vertical-align: top;\n",
       "    }\n",
       "\n",
       "    .dataframe thead th {\n",
       "        text-align: right;\n",
       "    }\n",
       "</style>\n",
       "<table border=\"1\" class=\"dataframe\">\n",
       "  <thead>\n",
       "    <tr style=\"text-align: right;\">\n",
       "      <th></th>\n",
       "      <th>transactionId</th>\n",
       "      <th>visitorId</th>\n",
       "      <th>date</th>\n",
       "      <th>revenue</th>\n",
       "      <th>group</th>\n",
       "    </tr>\n",
       "  </thead>\n",
       "  <tbody>\n",
       "    <tr>\n",
       "      <th>0</th>\n",
       "      <td>3667963787</td>\n",
       "      <td>3312258926</td>\n",
       "      <td>2019-08-15</td>\n",
       "      <td>1650</td>\n",
       "      <td>B</td>\n",
       "    </tr>\n",
       "    <tr>\n",
       "      <th>1</th>\n",
       "      <td>2804400009</td>\n",
       "      <td>3642806036</td>\n",
       "      <td>2019-08-15</td>\n",
       "      <td>730</td>\n",
       "      <td>B</td>\n",
       "    </tr>\n",
       "    <tr>\n",
       "      <th>2</th>\n",
       "      <td>2961555356</td>\n",
       "      <td>4069496402</td>\n",
       "      <td>2019-08-15</td>\n",
       "      <td>400</td>\n",
       "      <td>A</td>\n",
       "    </tr>\n",
       "    <tr>\n",
       "      <th>3</th>\n",
       "      <td>3797467345</td>\n",
       "      <td>1196621759</td>\n",
       "      <td>2019-08-15</td>\n",
       "      <td>9759</td>\n",
       "      <td>B</td>\n",
       "    </tr>\n",
       "    <tr>\n",
       "      <th>4</th>\n",
       "      <td>2282983706</td>\n",
       "      <td>2322279887</td>\n",
       "      <td>2019-08-15</td>\n",
       "      <td>2308</td>\n",
       "      <td>B</td>\n",
       "    </tr>\n",
       "  </tbody>\n",
       "</table>\n",
       "</div>"
      ],
      "text/plain": [
       "   transactionId   visitorId        date  revenue group\n",
       "0  3667963787     3312258926  2019-08-15  1650     B   \n",
       "1  2804400009     3642806036  2019-08-15  730      B   \n",
       "2  2961555356     4069496402  2019-08-15  400      A   \n",
       "3  3797467345     1196621759  2019-08-15  9759     B   \n",
       "4  2282983706     2322279887  2019-08-15  2308     B   "
      ]
     },
     "execution_count": 14,
     "metadata": {},
     "output_type": "execute_result"
    }
   ],
   "source": [
    "orders.head(5)"
   ]
  },
  {
   "cell_type": "code",
   "execution_count": 15,
   "metadata": {
    "scrolled": false
   },
   "outputs": [
    {
     "name": "stdout",
     "output_type": "stream",
     "text": [
      "<class 'pandas.core.frame.DataFrame'>\n",
      "RangeIndex: 1197 entries, 0 to 1196\n",
      "Data columns (total 5 columns):\n",
      " #   Column         Non-Null Count  Dtype \n",
      "---  ------         --------------  ----- \n",
      " 0   transactionId  1197 non-null   int64 \n",
      " 1   visitorId      1197 non-null   int64 \n",
      " 2   date           1197 non-null   object\n",
      " 3   revenue        1197 non-null   int64 \n",
      " 4   group          1197 non-null   object\n",
      "dtypes: int64(3), object(2)\n",
      "memory usage: 46.9+ KB\n"
     ]
    }
   ],
   "source": [
    "orders.info()"
   ]
  },
  {
   "cell_type": "code",
   "execution_count": 16,
   "metadata": {},
   "outputs": [],
   "source": [
    "# преобразуем дату к формату datetime\n",
    "orders['date'] = orders['date'].map(lambda x: dt.datetime.strptime(x, '%Y-%m-%d'))"
   ]
  },
  {
   "cell_type": "code",
   "execution_count": 17,
   "metadata": {},
   "outputs": [],
   "source": [
    "# проверка на вхождение одних и тех же пользователей в разные группы\n",
    "users_groups_dubl = orders.groupby('visitorId').agg({'group': 'nunique'})"
   ]
  },
  {
   "cell_type": "code",
   "execution_count": 18,
   "metadata": {
    "scrolled": false
   },
   "outputs": [
    {
     "data": {
      "text/plain": [
       "group\n",
       "1        973\n",
       "2        58 \n",
       "dtype: int64"
      ]
     },
     "execution_count": 18,
     "metadata": {},
     "output_type": "execute_result"
    }
   ],
   "source": [
    "# кол-во вхождений одних и тех же пользователей в две группы\n",
    "users_groups_dubl.value_counts()"
   ]
  },
  {
   "cell_type": "code",
   "execution_count": 19,
   "metadata": {
    "scrolled": true
   },
   "outputs": [
    {
     "data": {
      "text/html": [
       "<div>\n",
       "<style scoped>\n",
       "    .dataframe tbody tr th:only-of-type {\n",
       "        vertical-align: middle;\n",
       "    }\n",
       "\n",
       "    .dataframe tbody tr th {\n",
       "        vertical-align: top;\n",
       "    }\n",
       "\n",
       "    .dataframe thead th {\n",
       "        text-align: right;\n",
       "    }\n",
       "</style>\n",
       "<table border=\"1\" class=\"dataframe\">\n",
       "  <thead>\n",
       "    <tr style=\"text-align: right;\">\n",
       "      <th></th>\n",
       "      <th>group</th>\n",
       "    </tr>\n",
       "    <tr>\n",
       "      <th>visitorId</th>\n",
       "      <th></th>\n",
       "    </tr>\n",
       "  </thead>\n",
       "  <tbody>\n",
       "    <tr>\n",
       "      <th>8300375</th>\n",
       "      <td>2</td>\n",
       "    </tr>\n",
       "    <tr>\n",
       "      <th>199603092</th>\n",
       "      <td>2</td>\n",
       "    </tr>\n",
       "    <tr>\n",
       "      <th>232979603</th>\n",
       "      <td>2</td>\n",
       "    </tr>\n",
       "    <tr>\n",
       "      <th>237748145</th>\n",
       "      <td>2</td>\n",
       "    </tr>\n",
       "    <tr>\n",
       "      <th>276558944</th>\n",
       "      <td>2</td>\n",
       "    </tr>\n",
       "  </tbody>\n",
       "</table>\n",
       "</div>"
      ],
      "text/plain": [
       "           group\n",
       "visitorId       \n",
       "8300375    2    \n",
       "199603092  2    \n",
       "232979603  2    \n",
       "237748145  2    \n",
       "276558944  2    "
      ]
     },
     "execution_count": 19,
     "metadata": {},
     "output_type": "execute_result"
    }
   ],
   "source": [
    "# пользователи, находящиеся одновременно в разных группах\n",
    "users_groups_dubl.query('group == 2').head(5)"
   ]
  },
  {
   "cell_type": "code",
   "execution_count": 20,
   "metadata": {},
   "outputs": [
    {
     "data": {
      "text/html": [
       "<div>\n",
       "<style scoped>\n",
       "    .dataframe tbody tr th:only-of-type {\n",
       "        vertical-align: middle;\n",
       "    }\n",
       "\n",
       "    .dataframe tbody tr th {\n",
       "        vertical-align: top;\n",
       "    }\n",
       "\n",
       "    .dataframe thead th {\n",
       "        text-align: right;\n",
       "    }\n",
       "</style>\n",
       "<table border=\"1\" class=\"dataframe\">\n",
       "  <thead>\n",
       "    <tr style=\"text-align: right;\">\n",
       "      <th></th>\n",
       "      <th>transactionId</th>\n",
       "      <th>visitorId</th>\n",
       "      <th>date</th>\n",
       "      <th>revenue</th>\n",
       "      <th>group</th>\n",
       "    </tr>\n",
       "  </thead>\n",
       "  <tbody>\n",
       "    <tr>\n",
       "      <th>71</th>\n",
       "      <td>3679129301</td>\n",
       "      <td>8300375</td>\n",
       "      <td>2019-08-01</td>\n",
       "      <td>10510</td>\n",
       "      <td>B</td>\n",
       "    </tr>\n",
       "    <tr>\n",
       "      <th>703</th>\n",
       "      <td>4293855558</td>\n",
       "      <td>8300375</td>\n",
       "      <td>2019-08-07</td>\n",
       "      <td>1790</td>\n",
       "      <td>A</td>\n",
       "    </tr>\n",
       "  </tbody>\n",
       "</table>\n",
       "</div>"
      ],
      "text/plain": [
       "     transactionId  visitorId       date  revenue group\n",
       "71   3679129301     8300375   2019-08-01  10510    B   \n",
       "703  4293855558     8300375   2019-08-07  1790     A   "
      ]
     },
     "execution_count": 20,
     "metadata": {},
     "output_type": "execute_result"
    }
   ],
   "source": [
    "# смотрим на первого пользователя\n",
    "orders.query('visitorId == 8300375')"
   ]
  },
  {
   "cell_type": "code",
   "execution_count": 21,
   "metadata": {},
   "outputs": [],
   "source": [
    "# заменим названия групп у этих пользователей на первую по регистрации группы\n",
    "\n",
    "for t in users_groups_dubl.index:\n",
    "    orders.loc[(orders['visitorId'] == t), 'group'] = \\\n",
    "    orders.query('visitorId == @t')['group'][orders.query('visitorId == @t').index.min()]    "
   ]
  },
  {
   "cell_type": "code",
   "execution_count": 22,
   "metadata": {
    "scrolled": true
   },
   "outputs": [
    {
     "data": {
      "text/html": [
       "<div>\n",
       "<style scoped>\n",
       "    .dataframe tbody tr th:only-of-type {\n",
       "        vertical-align: middle;\n",
       "    }\n",
       "\n",
       "    .dataframe tbody tr th {\n",
       "        vertical-align: top;\n",
       "    }\n",
       "\n",
       "    .dataframe thead th {\n",
       "        text-align: right;\n",
       "    }\n",
       "</style>\n",
       "<table border=\"1\" class=\"dataframe\">\n",
       "  <thead>\n",
       "    <tr style=\"text-align: right;\">\n",
       "      <th></th>\n",
       "      <th>transactionId</th>\n",
       "      <th>visitorId</th>\n",
       "      <th>date</th>\n",
       "      <th>revenue</th>\n",
       "      <th>group</th>\n",
       "    </tr>\n",
       "  </thead>\n",
       "  <tbody>\n",
       "    <tr>\n",
       "      <th>71</th>\n",
       "      <td>3679129301</td>\n",
       "      <td>8300375</td>\n",
       "      <td>2019-08-01</td>\n",
       "      <td>10510</td>\n",
       "      <td>B</td>\n",
       "    </tr>\n",
       "    <tr>\n",
       "      <th>703</th>\n",
       "      <td>4293855558</td>\n",
       "      <td>8300375</td>\n",
       "      <td>2019-08-07</td>\n",
       "      <td>1790</td>\n",
       "      <td>B</td>\n",
       "    </tr>\n",
       "  </tbody>\n",
       "</table>\n",
       "</div>"
      ],
      "text/plain": [
       "     transactionId  visitorId       date  revenue group\n",
       "71   3679129301     8300375   2019-08-01  10510    B   \n",
       "703  4293855558     8300375   2019-08-07  1790     B   "
      ]
     },
     "execution_count": 22,
     "metadata": {},
     "output_type": "execute_result"
    }
   ],
   "source": [
    "# проверка на первом пользователе\n",
    "orders.query('visitorId == 8300375')"
   ]
  },
  {
   "cell_type": "code",
   "execution_count": 23,
   "metadata": {
    "scrolled": true
   },
   "outputs": [
    {
     "data": {
      "text/html": [
       "<div>\n",
       "<style scoped>\n",
       "    .dataframe tbody tr th:only-of-type {\n",
       "        vertical-align: middle;\n",
       "    }\n",
       "\n",
       "    .dataframe tbody tr th {\n",
       "        vertical-align: top;\n",
       "    }\n",
       "\n",
       "    .dataframe thead th {\n",
       "        text-align: right;\n",
       "    }\n",
       "</style>\n",
       "<table border=\"1\" class=\"dataframe\">\n",
       "  <thead>\n",
       "    <tr style=\"text-align: right;\">\n",
       "      <th></th>\n",
       "      <th>date</th>\n",
       "      <th>group</th>\n",
       "      <th>visitors</th>\n",
       "    </tr>\n",
       "  </thead>\n",
       "  <tbody>\n",
       "    <tr>\n",
       "      <th>0</th>\n",
       "      <td>2019-08-01</td>\n",
       "      <td>A</td>\n",
       "      <td>719</td>\n",
       "    </tr>\n",
       "    <tr>\n",
       "      <th>1</th>\n",
       "      <td>2019-08-02</td>\n",
       "      <td>A</td>\n",
       "      <td>619</td>\n",
       "    </tr>\n",
       "    <tr>\n",
       "      <th>2</th>\n",
       "      <td>2019-08-03</td>\n",
       "      <td>A</td>\n",
       "      <td>507</td>\n",
       "    </tr>\n",
       "    <tr>\n",
       "      <th>3</th>\n",
       "      <td>2019-08-04</td>\n",
       "      <td>A</td>\n",
       "      <td>717</td>\n",
       "    </tr>\n",
       "    <tr>\n",
       "      <th>4</th>\n",
       "      <td>2019-08-05</td>\n",
       "      <td>A</td>\n",
       "      <td>756</td>\n",
       "    </tr>\n",
       "  </tbody>\n",
       "</table>\n",
       "</div>"
      ],
      "text/plain": [
       "         date group  visitors\n",
       "0  2019-08-01  A     719     \n",
       "1  2019-08-02  A     619     \n",
       "2  2019-08-03  A     507     \n",
       "3  2019-08-04  A     717     \n",
       "4  2019-08-05  A     756     "
      ]
     },
     "execution_count": 23,
     "metadata": {},
     "output_type": "execute_result"
    }
   ],
   "source": [
    "visitors.head(5)"
   ]
  },
  {
   "cell_type": "code",
   "execution_count": 24,
   "metadata": {
    "scrolled": true
   },
   "outputs": [
    {
     "name": "stdout",
     "output_type": "stream",
     "text": [
      "<class 'pandas.core.frame.DataFrame'>\n",
      "RangeIndex: 62 entries, 0 to 61\n",
      "Data columns (total 3 columns):\n",
      " #   Column    Non-Null Count  Dtype \n",
      "---  ------    --------------  ----- \n",
      " 0   date      62 non-null     object\n",
      " 1   group     62 non-null     object\n",
      " 2   visitors  62 non-null     int64 \n",
      "dtypes: int64(1), object(2)\n",
      "memory usage: 1.6+ KB\n"
     ]
    }
   ],
   "source": [
    "visitors.info()"
   ]
  },
  {
   "cell_type": "code",
   "execution_count": 25,
   "metadata": {},
   "outputs": [],
   "source": [
    "# преобразуем дату к формату datetime\n",
    "visitors['date'] = visitors['date'].map(lambda x: dt.datetime.strptime(x, '%Y-%m-%d'))"
   ]
  },
  {
   "cell_type": "code",
   "execution_count": 26,
   "metadata": {},
   "outputs": [
    {
     "data": {
      "text/plain": [
       "0"
      ]
     },
     "execution_count": 26,
     "metadata": {},
     "output_type": "execute_result"
    }
   ],
   "source": [
    "len(orders)-len(orders.drop_duplicates ()) # кол-во дубликатов"
   ]
  },
  {
   "cell_type": "code",
   "execution_count": 27,
   "metadata": {
    "scrolled": true
   },
   "outputs": [
    {
     "data": {
      "text/plain": [
       "transactionId    0\n",
       "visitorId        0\n",
       "date             0\n",
       "revenue          0\n",
       "group            0\n",
       "dtype: int64"
      ]
     },
     "execution_count": 27,
     "metadata": {},
     "output_type": "execute_result"
    }
   ],
   "source": [
    "orders.isna().sum() # кол-во пропусков"
   ]
  },
  {
   "cell_type": "code",
   "execution_count": 28,
   "metadata": {},
   "outputs": [
    {
     "data": {
      "text/plain": [
       "0"
      ]
     },
     "execution_count": 28,
     "metadata": {},
     "output_type": "execute_result"
    }
   ],
   "source": [
    "len(visitors)-len(visitors.drop_duplicates ()) # кол-во дубликатов"
   ]
  },
  {
   "cell_type": "code",
   "execution_count": 29,
   "metadata": {
    "scrolled": false
   },
   "outputs": [
    {
     "data": {
      "text/plain": [
       "date        0\n",
       "group       0\n",
       "visitors    0\n",
       "dtype: int64"
      ]
     },
     "execution_count": 29,
     "metadata": {},
     "output_type": "execute_result"
    }
   ],
   "source": [
    "visitors.isna().sum() # кол-во пропусков"
   ]
  },
  {
   "cell_type": "markdown",
   "metadata": {},
   "source": [
    "**Вывод:** данные в двух датасетах после преобразований пригодны для анализа."
   ]
  },
  {
   "cell_type": "markdown",
   "metadata": {},
   "source": [
    "### График кумулятивной выручки по группам"
   ]
  },
  {
   "cell_type": "code",
   "execution_count": 30,
   "metadata": {},
   "outputs": [],
   "source": [
    "# массив уникальных пар: дата - группа теста\n",
    "datesGroups = orders[['date','group']].drop_duplicates()"
   ]
  },
  {
   "cell_type": "code",
   "execution_count": 31,
   "metadata": {},
   "outputs": [],
   "source": [
    "# агрегированные кумулятивные данные о заказах по дням\n",
    "ordersAggregated = datesGroups.apply(lambda x: orders[np.logical_and(orders['date'] <= x['date'], \\\n",
    "                                                                     orders['group'] == x['group'])]\\\n",
    ".agg({'date' : 'max', 'group' : 'max', 'transactionId' : 'nunique', 'visitorId' : 'nunique', 'revenue' : 'sum'}), axis=1)\\\n",
    ".sort_values(by=['date','group'])"
   ]
  },
  {
   "cell_type": "code",
   "execution_count": 32,
   "metadata": {
    "scrolled": false
   },
   "outputs": [
    {
     "data": {
      "text/html": [
       "<div>\n",
       "<style scoped>\n",
       "    .dataframe tbody tr th:only-of-type {\n",
       "        vertical-align: middle;\n",
       "    }\n",
       "\n",
       "    .dataframe tbody tr th {\n",
       "        vertical-align: top;\n",
       "    }\n",
       "\n",
       "    .dataframe thead th {\n",
       "        text-align: right;\n",
       "    }\n",
       "</style>\n",
       "<table border=\"1\" class=\"dataframe\">\n",
       "  <thead>\n",
       "    <tr style=\"text-align: right;\">\n",
       "      <th></th>\n",
       "      <th>date</th>\n",
       "      <th>group</th>\n",
       "      <th>transactionId</th>\n",
       "      <th>visitorId</th>\n",
       "      <th>revenue</th>\n",
       "    </tr>\n",
       "  </thead>\n",
       "  <tbody>\n",
       "    <tr>\n",
       "      <th>55</th>\n",
       "      <td>2019-08-01</td>\n",
       "      <td>A</td>\n",
       "      <td>23</td>\n",
       "      <td>19</td>\n",
       "      <td>142779</td>\n",
       "    </tr>\n",
       "    <tr>\n",
       "      <th>66</th>\n",
       "      <td>2019-08-01</td>\n",
       "      <td>B</td>\n",
       "      <td>22</td>\n",
       "      <td>21</td>\n",
       "      <td>107017</td>\n",
       "    </tr>\n",
       "    <tr>\n",
       "      <th>175</th>\n",
       "      <td>2019-08-02</td>\n",
       "      <td>A</td>\n",
       "      <td>43</td>\n",
       "      <td>37</td>\n",
       "      <td>237869</td>\n",
       "    </tr>\n",
       "    <tr>\n",
       "      <th>173</th>\n",
       "      <td>2019-08-02</td>\n",
       "      <td>B</td>\n",
       "      <td>46</td>\n",
       "      <td>43</td>\n",
       "      <td>271280</td>\n",
       "    </tr>\n",
       "    <tr>\n",
       "      <th>291</th>\n",
       "      <td>2019-08-03</td>\n",
       "      <td>A</td>\n",
       "      <td>67</td>\n",
       "      <td>61</td>\n",
       "      <td>350342</td>\n",
       "    </tr>\n",
       "    <tr>\n",
       "      <th>...</th>\n",
       "      <td>...</td>\n",
       "      <td>...</td>\n",
       "      <td>...</td>\n",
       "      <td>...</td>\n",
       "      <td>...</td>\n",
       "    </tr>\n",
       "    <tr>\n",
       "      <th>496</th>\n",
       "      <td>2019-08-29</td>\n",
       "      <td>B</td>\n",
       "      <td>595</td>\n",
       "      <td>517</td>\n",
       "      <td>5398449</td>\n",
       "    </tr>\n",
       "    <tr>\n",
       "      <th>730</th>\n",
       "      <td>2019-08-30</td>\n",
       "      <td>A</td>\n",
       "      <td>549</td>\n",
       "      <td>467</td>\n",
       "      <td>4189929</td>\n",
       "    </tr>\n",
       "    <tr>\n",
       "      <th>690</th>\n",
       "      <td>2019-08-30</td>\n",
       "      <td>B</td>\n",
       "      <td>616</td>\n",
       "      <td>538</td>\n",
       "      <td>5607672</td>\n",
       "    </tr>\n",
       "    <tr>\n",
       "      <th>958</th>\n",
       "      <td>2019-08-31</td>\n",
       "      <td>A</td>\n",
       "      <td>558</td>\n",
       "      <td>475</td>\n",
       "      <td>4258672</td>\n",
       "    </tr>\n",
       "    <tr>\n",
       "      <th>930</th>\n",
       "      <td>2019-08-31</td>\n",
       "      <td>B</td>\n",
       "      <td>639</td>\n",
       "      <td>556</td>\n",
       "      <td>5733891</td>\n",
       "    </tr>\n",
       "  </tbody>\n",
       "</table>\n",
       "<p>62 rows × 5 columns</p>\n",
       "</div>"
      ],
      "text/plain": [
       "          date group  transactionId  visitorId  revenue\n",
       "55  2019-08-01  A     23             19         142779 \n",
       "66  2019-08-01  B     22             21         107017 \n",
       "175 2019-08-02  A     43             37         237869 \n",
       "173 2019-08-02  B     46             43         271280 \n",
       "291 2019-08-03  A     67             61         350342 \n",
       "..         ... ..     ..             ..            ... \n",
       "496 2019-08-29  B     595            517        5398449\n",
       "730 2019-08-30  A     549            467        4189929\n",
       "690 2019-08-30  B     616            538        5607672\n",
       "958 2019-08-31  A     558            475        4258672\n",
       "930 2019-08-31  B     639            556        5733891\n",
       "\n",
       "[62 rows x 5 columns]"
      ]
     },
     "execution_count": 32,
     "metadata": {},
     "output_type": "execute_result"
    }
   ],
   "source": [
    "ordersAggregated"
   ]
  },
  {
   "cell_type": "code",
   "execution_count": 33,
   "metadata": {},
   "outputs": [],
   "source": [
    "# агрегированные кумулятивные данные о посетителях по дням\n",
    "visitorsAggregated = datesGroups.apply(lambda x: visitors[np.logical_and(visitors['date'] <= x['date'],\\\n",
    "                                                                         visitors['group'] == x['group'])]\\\n",
    ".agg({'date' : 'max', 'group' : 'max', 'visitors' : 'sum'}), axis=1)\\\n",
    ".sort_values(by=['date','group'])"
   ]
  },
  {
   "cell_type": "code",
   "execution_count": 34,
   "metadata": {
    "scrolled": false
   },
   "outputs": [
    {
     "name": "stdout",
     "output_type": "stream",
     "text": [
      "        date group  orders  buyers  revenue  visitors\n",
      "0 2019-08-01  A     23      19      142779   719     \n",
      "1 2019-08-01  B     22      21      107017   713     \n",
      "2 2019-08-02  A     43      37      237869   1338    \n",
      "3 2019-08-02  B     46      43      271280   1294    \n",
      "4 2019-08-03  A     67      61      350342   1845    \n"
     ]
    }
   ],
   "source": [
    "# объединением кумулятивные данные в одной таблице\n",
    "cumulativeData = ordersAggregated.merge(visitorsAggregated, left_on=['date', 'group'], right_on=['date', 'group'])\n",
    "# переименовываем столбцы\n",
    "cumulativeData.columns = ['date', 'group', 'orders', 'buyers', 'revenue', 'visitors']\n",
    "\n",
    "print(cumulativeData.head(5))"
   ]
  },
  {
   "cell_type": "code",
   "execution_count": 35,
   "metadata": {},
   "outputs": [
    {
     "data": {
      "text/plain": [
       "0"
      ]
     },
     "execution_count": 35,
     "metadata": {},
     "output_type": "execute_result"
    }
   ],
   "source": [
    "orders.duplicated().sum()"
   ]
  },
  {
   "cell_type": "code",
   "execution_count": 36,
   "metadata": {},
   "outputs": [
    {
     "data": {
      "image/png": "[encoded data removed]",
      "text/plain": [
       "<Figure size 1500x600 with 1 Axes>"
      ]
     },
     "metadata": {},
     "output_type": "display_data"
    }
   ],
   "source": [
    "# датафрейм с кумулятивным количеством заказов и кумулятивной выручкой по дням в группе А\n",
    "cumulativeRevenueA = cumulativeData[cumulativeData['group']=='A'][['date','revenue', 'orders']]\n",
    "\n",
    "# датафрейм с кумулятивным количеством заказов и кумулятивной выручкой по дням в группе B\n",
    "cumulativeRevenueB = cumulativeData[cumulativeData['group']=='B'][['date','revenue', 'orders']]\n",
    "\n",
    "plt.figure(figsize=(15,6))\n",
    "plt.title('График кумулятивной выручки по группам')\n",
    "plt.ylabel(\"Выручка, млн. руб\")\n",
    "\n",
    "# строим график выручки группы А\n",
    "plt.plot(cumulativeRevenueA['date'], cumulativeRevenueA['revenue'], label='A')\n",
    "\n",
    "# строим график выручки группы B\n",
    "plt.plot(cumulativeRevenueB['date'], cumulativeRevenueB['revenue'], label='B')\n",
    "\n",
    "plt.legend(); "
   ]
  },
  {
   "cell_type": "markdown",
   "metadata": {},
   "source": [
    "**Вывод:** Выручка растет в течение всего времени теста у обеих групп. Но во второй половине месяца у группы В наблюдается резкий кратковременный скачок выручки, что может свидетельствовать о всплесках заказов или появлении дорогих покупок у отдельных клиентов. "
   ]
  },
  {
   "cell_type": "markdown",
   "metadata": {},
   "source": [
    "### График кумулятивного среднего чека по группам"
   ]
  },
  {
   "cell_type": "code",
   "execution_count": 37,
   "metadata": {},
   "outputs": [
    {
     "data": {
      "image/png": "[encoded data removed]",
      "text/plain": [
       "<Figure size 1500x600 with 1 Axes>"
      ]
     },
     "metadata": {},
     "output_type": "display_data"
    }
   ],
   "source": [
    "# средний кумулятивный чек = кумулятивная выручка / кумулятивное число заказов\n",
    "plt.figure(figsize=(15,6))\n",
    "plt.title('График кумулятивного среднего чека по группам')\n",
    "plt.ylabel(\"Выручка, руб\")\n",
    "\n",
    "plt.plot(cumulativeRevenueA['date'], cumulativeRevenueA['revenue']/cumulativeRevenueA['orders'], label='A')\n",
    "plt.plot(cumulativeRevenueB['date'], cumulativeRevenueB['revenue']/cumulativeRevenueB['orders'], label='B')\n",
    "plt.legend();"
   ]
  },
  {
   "cell_type": "markdown",
   "metadata": {},
   "source": [
    "**Вывод:** средний чек в обеих группах в первой половине месяца довольно нестабильный в обеих группах, но затем становится равномерным по мере появления бОльшего кол-ва наблюдений (т.е. согласно ЦПТ кумулятивные метрики стремятся к своему среднему значению): для группы А он медленно растет, а для группы B стабильно падает. Во второй половине месяца наблюдается резкий скачок среднего чека для группы В (точно попали дорогие заказы, т.к. кол-во заказов - в знаменателе), это повлияло на общую картину анализа к концу месяца, когда средние чеки стабилизировались. Это явление нужно будет исследовать отдельно."
   ]
  },
  {
   "cell_type": "markdown",
   "metadata": {},
   "source": [
    "### График относительного изменения кумулятивного среднего чека группы B к группе A"
   ]
  },
  {
   "cell_type": "code",
   "execution_count": 38,
   "metadata": {},
   "outputs": [
    {
     "data": {
      "image/png": "[encoded data removed]",
      "text/plain": [
       "<Figure size 1500x600 with 1 Axes>"
      ]
     },
     "metadata": {},
     "output_type": "display_data"
    }
   ],
   "source": [
    "# собираем данные в одном датафрейме\n",
    "mergedCumulativeRevenue = cumulativeRevenueA.merge(cumulativeRevenueB, left_on='date', right_on='date', how='left', \\\n",
    "                                                   suffixes=['A', 'B'])\n",
    "plt.figure(figsize=(15,6))\n",
    "plt.title('График относительного изменения кумулятивного среднего чека группы B к группе A')\n",
    "\n",
    "# cтроим отношение средних чеков\n",
    "plt.plot(mergedCumulativeRevenue['date'], (mergedCumulativeRevenue['revenueB']/mergedCumulativeRevenue['ordersB'])/ \\\n",
    "        (mergedCumulativeRevenue['revenueA']/mergedCumulativeRevenue['ordersA'])-1)\n",
    "\n",
    "# добавляем ось X\n",
    "plt.axhline(y=0, color='black', linestyle='--');"
   ]
  },
  {
   "cell_type": "markdown",
   "metadata": {},
   "source": [
    "**Вывод:** В некоторых датах есть резкие скачки, которые говорят об очень больших различиях в средних чеках в группе В по сравнению с группой А. Скорее всего это влияние дорогих покупок отдельных клиентов на усредненные покупки обычных клиентов."
   ]
  },
  {
   "cell_type": "markdown",
   "metadata": {},
   "source": [
    "### График кумулятивного среднего количества заказов на посетителя по группам"
   ]
  },
  {
   "cell_type": "code",
   "execution_count": 39,
   "metadata": {},
   "outputs": [
    {
     "data": {
      "image/png": "[encoded data removed]",
      "text/plain": [
       "<Figure size 1500x600 with 1 Axes>"
      ]
     },
     "metadata": {},
     "output_type": "display_data"
    }
   ],
   "source": [
    "# считаем кумулятивную конверсию\n",
    "cumulativeData['conversion'] = cumulativeData['orders']/cumulativeData['visitors']\n",
    "\n",
    "# отделяем данные по группе A\n",
    "cumulativeDataA = cumulativeData[cumulativeData['group']=='A']\n",
    "\n",
    "# отделяем данные по группе B\n",
    "cumulativeDataB = cumulativeData[cumulativeData['group']=='B']\n",
    "\n",
    "plt.figure(figsize=(15,6))\n",
    "plt.title('График кумулятивного среднего количества заказов на посетителя по группам')\n",
    "\n",
    "# строим графики\n",
    "plt.plot(cumulativeDataA['date'], cumulativeDataA['conversion'], label='A')\n",
    "plt.plot(cumulativeDataB['date'], cumulativeDataB['conversion'], label='B')\n",
    "plt.legend()\n",
    "\n",
    "# задаем масштаб осей\n",
    "plt.axis([cumulativeData['date'].min(), cumulativeData['date'].max(), 0.02, 0.04]);"
   ]
  },
  {
   "cell_type": "markdown",
   "metadata": {},
   "source": [
    "**Вывод:** По графику первые дни месяца была нестабильная почти симметричная кумулятивная конверсия у обеих групп и группа А была даже лучше по этому показателю на посетителя. Однако, спустя несколько дней, группа B вырвалась вперед, затем графики стабилизировались, сохранив лидирующее положение группы B. При этом у группы В среднее кумулятивное число кол-ва заказов падает, а у группы А - растет."
   ]
  },
  {
   "cell_type": "markdown",
   "metadata": {},
   "source": [
    "То есть, по группе B по кумулятивным данным выявлено **2 факта:**\n",
    "1. бОльшее среднее число заказов в первой половине месяца, но со временем они падают.\n",
    "2. есть дорогие заказы во второй половине месяца, но средний чек со временем падает.\n",
    "\n",
    "Для группы А все наоборот.\n",
    "\n",
    "В целом отношение конверсии еще не установилось, по имеющимся данным пока нельзя сделать окончательные выводы."
   ]
  },
  {
   "cell_type": "markdown",
   "metadata": {},
   "source": [
    "### Точечный график количества заказов по пользователям"
   ]
  },
  {
   "cell_type": "code",
   "execution_count": 40,
   "metadata": {
    "scrolled": true
   },
   "outputs": [
    {
     "name": "stdout",
     "output_type": "stream",
     "text": [
      "       visitorId  orders\n",
      "1023  4256040402  11    \n",
      "591   2458001652  11    \n",
      "569   2378935119  9     \n",
      "487   2038680547  8     \n",
      "44    199603092   5     \n",
      "744   3062433592  5     \n",
      "55    237748145   5     \n",
      "917   3803269165  5     \n",
      "299   1230306981  5     \n",
      "897   3717692402  5     \n"
     ]
    }
   ],
   "source": [
    "# количество заказов по пользователям\n",
    "ordersByUsers = (\n",
    "    orders.groupby('visitorId', as_index=False)\n",
    "    .agg({'transactionId': 'nunique'})\n",
    ")\n",
    "\n",
    "ordersByUsers.columns = ['visitorId', 'orders']\n",
    "\n",
    "print(ordersByUsers.sort_values(by='orders', ascending=False).head(10))"
   ]
  },
  {
   "cell_type": "code",
   "execution_count": 41,
   "metadata": {},
   "outputs": [
    {
     "data": {
      "image/png": "[encoded data removed]",
      "text/plain": [
       "<Figure size 1500x600 with 1 Axes>"
      ]
     },
     "metadata": {},
     "output_type": "display_data"
    }
   ],
   "source": [
    "x_values = pd.Series(range(0,len(ordersByUsers)))\n",
    "plt.figure(figsize=(15,6))\n",
    "plt.title('Точечный график количества заказов по пользователям')\n",
    "plt.scatter(x_values, ordersByUsers['orders']);"
   ]
  },
  {
   "cell_type": "markdown",
   "metadata": {},
   "source": [
    "**Вывод:**  Из точечного графика видно, что основная масса покупателей ограничивается одним заказом, редко двумя-тремя, остальная доля приходится на четырьмя и более, в том числе в выборке есть явно аномальные заказы - больше пяти.  "
   ]
  },
  {
   "cell_type": "markdown",
   "metadata": {},
   "source": [
    "### 95-й и 99-й перцентили количества заказов на пользователя. Граница для определения аномальных пользователей."
   ]
  },
  {
   "cell_type": "code",
   "execution_count": 42,
   "metadata": {},
   "outputs": [
    {
     "name": "stdout",
     "output_type": "stream",
     "text": [
      "[2. 4.]\n"
     ]
    }
   ],
   "source": [
    "print(np.percentile(ordersByUsers['orders'], [95, 99])) "
   ]
  },
  {
   "cell_type": "markdown",
   "metadata": {},
   "source": [
    "**Вывод:** в статистических исследования принято отсеивать 1-5% аномальных значений, т.е. в нашем исследовании не более 5% пользователей сделали больше 2 заказов и не более 1% пользователей сделали больше 4 заказов. Разумно выбрать верхней границей меньше 4 заказов, чтобы исключить меньше пользователей из анализа."
   ]
  },
  {
   "cell_type": "markdown",
   "metadata": {},
   "source": [
    "### Точечный график стоимостей заказов"
   ]
  },
  {
   "cell_type": "code",
   "execution_count": 43,
   "metadata": {
    "scrolled": false
   },
   "outputs": [
    {
     "data": {
      "image/png": "[encoded data removed]",
      "text/plain": [
       "<Figure size 1500x600 with 1 Axes>"
      ]
     },
     "metadata": {},
     "output_type": "display_data"
    }
   ],
   "source": [
    "x_values = pd.Series(range(0,len(orders['revenue'])))\n",
    "plt.figure(figsize=(15,6))\n",
    "plt.title('Точечный график стоимостей заказов')\n",
    "plt.scatter(x_values, orders['revenue']);"
   ]
  },
  {
   "cell_type": "code",
   "execution_count": 44,
   "metadata": {},
   "outputs": [
    {
     "data": {
      "text/html": [
       "<div>\n",
       "<style scoped>\n",
       "    .dataframe tbody tr th:only-of-type {\n",
       "        vertical-align: middle;\n",
       "    }\n",
       "\n",
       "    .dataframe tbody tr th {\n",
       "        vertical-align: top;\n",
       "    }\n",
       "\n",
       "    .dataframe thead th {\n",
       "        text-align: right;\n",
       "    }\n",
       "</style>\n",
       "<table border=\"1\" class=\"dataframe\">\n",
       "  <thead>\n",
       "    <tr style=\"text-align: right;\">\n",
       "      <th></th>\n",
       "      <th>revenue</th>\n",
       "      <th>date</th>\n",
       "    </tr>\n",
       "  </thead>\n",
       "  <tbody>\n",
       "    <tr>\n",
       "      <th>425</th>\n",
       "      <td>1294500</td>\n",
       "      <td>2019-08-19</td>\n",
       "    </tr>\n",
       "    <tr>\n",
       "      <th>1196</th>\n",
       "      <td>202740</td>\n",
       "      <td>2019-08-15</td>\n",
       "    </tr>\n",
       "    <tr>\n",
       "      <th>858</th>\n",
       "      <td>93940</td>\n",
       "      <td>2019-08-27</td>\n",
       "    </tr>\n",
       "    <tr>\n",
       "      <th>1136</th>\n",
       "      <td>92550</td>\n",
       "      <td>2019-08-13</td>\n",
       "    </tr>\n",
       "    <tr>\n",
       "      <th>744</th>\n",
       "      <td>86620</td>\n",
       "      <td>2019-08-27</td>\n",
       "    </tr>\n",
       "  </tbody>\n",
       "</table>\n",
       "</div>"
      ],
      "text/plain": [
       "      revenue       date\n",
       "425   1294500 2019-08-19\n",
       "1196  202740  2019-08-15\n",
       "858   93940   2019-08-27\n",
       "1136  92550   2019-08-13\n",
       "744   86620   2019-08-27"
      ]
     },
     "execution_count": 44,
     "metadata": {},
     "output_type": "execute_result"
    }
   ],
   "source": [
    "# самые дорогие заказы\n",
    "orders[['revenue', 'date']].sort_values(by='revenue', ascending=False).head(5)"
   ]
  },
  {
   "cell_type": "markdown",
   "metadata": {},
   "source": [
    "**Вывод:** Основная доля заказов приходится на сумму до 30 тыс руб. Кроме этого на графике виден самый дорогой аномальный заказ, сделанный во второой половине месяца, который вызвал вспеск заказов в соответсвующем кумулятивном графике выше."
   ]
  },
  {
   "cell_type": "markdown",
   "metadata": {},
   "source": [
    "### 95-й и 99-й перцентили стоимости заказов. Граница для определения аномальных заказов."
   ]
  },
  {
   "cell_type": "code",
   "execution_count": 45,
   "metadata": {},
   "outputs": [
    {
     "name": "stdout",
     "output_type": "stream",
     "text": [
      "[28000.  58233.2]\n"
     ]
    }
   ],
   "source": [
    "print(np.percentile(orders['revenue'], [95, 99]))"
   ]
  },
  {
   "cell_type": "markdown",
   "metadata": {},
   "source": [
    "**Вывод:** не больше 5% заказов сделано на сумму свыше 28 тыс руб и не больше 1% заказов сделано на сумму свыше 58 тыс руб. С целью минимизации потерь наблюдений будем считать заказаы свыше 58 тыс руб аномальными."
   ]
  },
  {
   "cell_type": "markdown",
   "metadata": {},
   "source": [
    "### Cтатистическая значимость различий в среднем количестве заказов на посетителя между группами по «сырым» данным"
   ]
  },
  {
   "cell_type": "markdown",
   "metadata": {},
   "source": [
    "Чтобы посчитать статистическую значимость различий в среднем числе заказов на пользователя по «сырым» данным воспользуемся критерием Манна-Уитни. Он позволяет выявлять различия в значении параметра между малыми выборками.\n",
    "Для расчета подготовим данные."
   ]
  },
  {
   "cell_type": "code",
   "execution_count": 46,
   "metadata": {
    "scrolled": false
   },
   "outputs": [
    {
     "name": "stdout",
     "output_type": "stream",
     "text": [
      "        date  ordersPerDateA  revenuePerDateA  ordersPerDateB  \\\n",
      "0 2019-08-01  23              142779           22               \n",
      "1 2019-08-02  20              95090            24               \n",
      "2 2019-08-03  24              112473           16               \n",
      "3 2019-08-04  14              47016            19               \n",
      "4 2019-08-05  24              111753           24               \n",
      "\n",
      "   revenuePerDateB  ordersCummulativeA  revenueCummulativeA  \\\n",
      "0  107017           23                  142779                \n",
      "1  164263           43                  237869                \n",
      "2  114248           67                  350342                \n",
      "3  132380           81                  397358                \n",
      "4  104893           105                 509111                \n",
      "\n",
      "   ordersCummulativeB  revenueCummulativeB  visitorsPerDateA  \\\n",
      "0  22                  107017               719                \n",
      "1  46                  271280               619                \n",
      "2  62                  385528               507                \n",
      "3  81                  517908               717                \n",
      "4  105                 622801               756                \n",
      "\n",
      "   visitorsPerDateB  visitorsCummulativeA  visitorsCummulativeB  \n",
      "0  713               719                   713                   \n",
      "1  581               1338                  1294                  \n",
      "2  509               1845                  1803                  \n",
      "3  770               2562                  2573                  \n",
      "4  707               3318                  3280                  \n"
     ]
    }
   ],
   "source": [
    "# отделим из исх. данных кол-во пользователей по дням в группе А\n",
    "visitorsADaily = visitors[visitors['group'] == 'A'][['date', 'visitors']]\n",
    "visitorsADaily.columns = ['date', 'visitorsPerDateA']\n",
    "\n",
    "# кумулятивное кол-во посетителей по дням в группе А\n",
    "visitorsACummulative = visitorsADaily.apply(\n",
    "    lambda x: visitorsADaily[visitorsADaily['date'] <= x['date']].\n",
    "    agg({'date': 'max', 'visitorsPerDateA': 'sum'}),\n",
    "                                             axis=1)\n",
    "\n",
    "# переименовываем столбцы\n",
    "visitorsACummulative.columns = ['date', 'visitorsCummulativeA']\n",
    "\n",
    "# отделим из исх. данных кол-во пользователей по дням в группе B\n",
    "visitorsBDaily = visitors[visitors['group'] == 'B'][['date', 'visitors']]\n",
    "visitorsBDaily.columns = ['date', 'visitorsPerDateB']\n",
    "\n",
    "# кумулятивное кол-во посетителей по дням в группе B\n",
    "visitorsBCummulative = visitorsBDaily.apply(\n",
    "    lambda x: visitorsBDaily[visitorsBDaily['date'] <= x['date']].\n",
    "    agg({'date': 'max', 'visitorsPerDateB': 'sum'}),\n",
    "                                             axis=1)\n",
    "\n",
    "# переименовываем столбцы\n",
    "visitorsBCummulative.columns = ['date', 'visitorsCummulativeB']\n",
    "\n",
    "\n",
    "\n",
    "# кол-во заказов и суммарная выручка по ним на каждый день для группы А\n",
    "ordersADaily = (\n",
    "    orders[orders['group'] == 'A'][['date', 'transactionId', 'visitorId', 'revenue']]\n",
    "    .groupby('date', as_index=False)\n",
    "    .agg({'transactionId': pd.Series.nunique, 'revenue': 'sum'})\n",
    "                )\n",
    "# переименовываем столбцы\n",
    "ordersADaily.columns = ['date', 'ordersPerDateA', 'revenuePerDateA']\n",
    "\n",
    "# кумулятивные кол-во заказов и суммарная выручка по ним на каждый день для группы А\n",
    "ordersACummulative = ordersADaily.apply(\n",
    "    lambda x: ordersADaily[ordersADaily['date'] <= x['date']].\n",
    "    agg({'date': 'max', 'ordersPerDateA': 'sum', 'revenuePerDateA': 'sum'}),\n",
    "                                         axis=1).sort_values(by=['date'])\n",
    "\n",
    "\n",
    "# переименовываем столбцы\n",
    "ordersACummulative.columns = ['date', 'ordersCummulativeA', 'revenueCummulativeA']\n",
    "\n",
    "# кол-во заказов и суммарная выручка по ним на каждый день для группы B\n",
    "ordersBDaily = (\n",
    "    orders[orders['group'] == 'B'][['date', 'transactionId', 'visitorId', 'revenue']]\n",
    "    .groupby('date', as_index=False)\n",
    "    .agg({'transactionId': pd.Series.nunique, 'revenue': 'sum'})\n",
    "                )\n",
    "# переименовываем столбцы\n",
    "ordersBDaily.columns = ['date', 'ordersPerDateB', 'revenuePerDateB']\n",
    "\n",
    "# кумулятивные кол-во заказов и суммарная выручка по ним на каждый день для группы B\n",
    "ordersBCummulative = ordersBDaily.apply(\n",
    "    lambda x: ordersBDaily[ordersBDaily['date'] <= x['date']].\n",
    "    agg({'date': 'max', 'ordersPerDateB': 'sum', 'revenuePerDateB': 'sum'}),\n",
    "                                        axis=1).sort_values(by=['date'])\n",
    "\n",
    "# переименовываем столбцы\n",
    "ordersBCummulative.columns = ['date', 'ordersCummulativeB', 'revenueCummulativeB']\n",
    "\n",
    "\n",
    "\n",
    "# объединяем таблицы\n",
    "data = (\n",
    "    ordersADaily.merge(\n",
    "        ordersBDaily, left_on='date', right_on='date', how='left'\n",
    "    )\n",
    "    .merge(ordersACummulative, left_on='date', right_on='date', how='left')\n",
    "    .merge(ordersBCummulative, left_on='date', right_on='date', how='left')\n",
    "    .merge(visitorsADaily, left_on='date', right_on='date', how='left')\n",
    "    .merge(visitorsBDaily, left_on='date', right_on='date', how='left')\n",
    "    .merge(visitorsACummulative, left_on='date', right_on='date', how='left')\n",
    "    .merge(visitorsBCummulative, left_on='date', right_on='date', how='left')\n",
    ")\n",
    "\n",
    "print(data.head(5)) "
   ]
  },
  {
   "cell_type": "markdown",
   "metadata": {},
   "source": [
    "Посчитаем статистическую значимость различия в среднем количестве заказов между группами. Для этого создадим переменные для каждой группы, где пользователи делали хотя бы один заказ."
   ]
  },
  {
   "cell_type": "code",
   "execution_count": 47,
   "metadata": {},
   "outputs": [],
   "source": [
    "# пользователи группы А, которые делали хотя бы один заказ\n",
    "ordersByUsersA = (\n",
    "    orders[orders['group'] == 'A']\n",
    "    .groupby('visitorId', as_index=False)\n",
    "    .agg({'transactionId': pd.Series.nunique})\n",
    ")\n",
    "ordersByUsersA.columns = ['visitorId', 'orders']\n",
    "\n",
    "# пользователи группы B, которые делали хотя бы один заказ\n",
    "ordersByUsersB = (\n",
    "    orders[orders['group'] == 'B']\n",
    "    .groupby('visitorId', as_index=False)\n",
    "    .agg({'transactionId': pd.Series.nunique})\n",
    ")\n",
    "ordersByUsersB.columns = ['visitorId', 'orders']"
   ]
  },
  {
   "cell_type": "markdown",
   "metadata": {},
   "source": [
    "Введем новые переменные `sampleA` и `sampleB` для каждой группы, где каждому пользователю будет соответствовать количество заказов. Тем, кто ничего не заказал, будут соответствовать нули. Эти переменные нужны для расчета выборок критерием Манна-Уитни."
   ]
  },
  {
   "cell_type": "code",
   "execution_count": 48,
   "metadata": {},
   "outputs": [],
   "source": [
    "sampleA = pd.concat(\n",
    "                    [ordersByUsersA['orders'],\n",
    "                    pd.Series(0, index=np.arange(data['visitorsPerDateA'].sum() - len(ordersByUsersA['orders'])),\n",
    "                    name='orders')],axis=0)\n",
    "\n",
    "sampleB = pd.concat(\n",
    "                    [ordersByUsersB['orders'],\n",
    "                    pd.Series(0, index=np.arange(data['visitorsPerDateB'].sum() - len(ordersByUsersB['orders'])),\n",
    "                    name='orders')], axis=0)"
   ]
  },
  {
   "cell_type": "markdown",
   "metadata": {},
   "source": [
    "Сформулируем гипотезы.\n",
    "\n",
    "- **H0:** различий в среднем количестве заказов между группами нет.\n",
    "- **H1:** различия в среднем количестве заказов между группами есть."
   ]
  },
  {
   "cell_type": "code",
   "execution_count": 49,
   "metadata": {},
   "outputs": [
    {
     "name": "stdout",
     "output_type": "stream",
     "text": [
      "0.017\n",
      "0.134\n"
     ]
    }
   ],
   "source": [
    "print(\"{0:.3f}\".format(stats.mannwhitneyu(sampleA, sampleB)[1]))\n",
    "print(\"{0:.3f}\".format(sampleB.mean() / sampleA.mean() - 1)) # относительный выигрыш группы В"
   ]
  },
  {
   "cell_type": "markdown",
   "metadata": {},
   "source": [
    "**Вывод:** p-value=0.017 меньше уровня значимости 0.05, отвергаем нулевую гипотезу в пользу альтернативной гипотезы, т.е. различия в среднем числе заказов на посетителя есть. Относительный выигрыш группы B равен 13.4%."
   ]
  },
  {
   "cell_type": "markdown",
   "metadata": {},
   "source": [
    "### Статистическая значимость различий в среднем чеке заказа между группами по «сырым» данным"
   ]
  },
  {
   "cell_type": "markdown",
   "metadata": {},
   "source": [
    "Чтобы рассчитать статистическую значимость различий в среднем чеке, передадим критерию mannwhitneyu() данные о выручке с заказов."
   ]
  },
  {
   "cell_type": "markdown",
   "metadata": {},
   "source": [
    "Сформулируем гипотезы:\n",
    "\n",
    "- **H0:** различий в среднем чеке между группами нет.\n",
    "- **H1:** различия в среднем чеке между группами есть."
   ]
  },
  {
   "cell_type": "code",
   "execution_count": 50,
   "metadata": {},
   "outputs": [
    {
     "name": "stdout",
     "output_type": "stream",
     "text": [
      "0.646\n"
     ]
    }
   ],
   "source": [
    "print('{0:.3f}'.format(stats.mannwhitneyu(orders[orders['group']=='A']['revenue'], \\\n",
    "                                          orders[orders['group']=='B']['revenue'])[1]))"
   ]
  },
  {
   "cell_type": "markdown",
   "metadata": {},
   "source": [
    "**Вывод:** p-value=0.646 больше 0.05. Следовательно различий в среднем чеке между группами нет."
   ]
  },
  {
   "cell_type": "markdown",
   "metadata": {},
   "source": [
    "### Статистическая значимость различий в среднем количестве заказов на посетителя между группами по «очищенным» данным"
   ]
  },
  {
   "cell_type": "markdown",
   "metadata": {},
   "source": [
    "Сначала посчитаем количество аномальных пользователей. Как было раньше выявлено в исследовании аномальными пользователями считаются пользователи, совершившие больше 4 заказов или оформившие заказы дороже 58233 руб.\n",
    "\n",
    "Сделаем срезы по ним."
   ]
  },
  {
   "cell_type": "code",
   "execution_count": 51,
   "metadata": {},
   "outputs": [
    {
     "name": "stdout",
     "output_type": "stream",
     "text": [
      "1099    148427295 \n",
      "949     887908475 \n",
      "744     888512513 \n",
      "1103    1164614297\n",
      "1136    1307669133\n",
      "Name: visitorId, dtype: int64\n",
      "11\n"
     ]
    }
   ],
   "source": [
    "# пользователи по группам с аномальным кол-вом заказов\n",
    "usersWithManyOrders = pd.concat(\n",
    "    [\n",
    "        ordersByUsersA[ordersByUsersA['orders'] > np.percentile(orders['revenue'], [95, 99])[1]]['visitorId'],\n",
    "        ordersByUsersB[ordersByUsersB['orders'] > np.percentile(orders['revenue'], [95, 99])[1]]['visitorId'],\n",
    "    ],\n",
    "    axis=0,\n",
    ")\n",
    "\n",
    "# пользователи по группам с аномальными суммами заказов\n",
    "usersWithExpensiveOrders = orders[orders['revenue'] > np.percentile(orders['revenue'], [95, 99])[1]]['visitorId']\n",
    "\n",
    "# соединяем датафреймы, удаляя дубликаты\n",
    "abnormalUsers = (\n",
    "    pd.concat([usersWithManyOrders, usersWithExpensiveOrders], axis=0)\n",
    "    .drop_duplicates()\n",
    "    .sort_values()\n",
    ")\n",
    "print(abnormalUsers.head(5))\n",
    "print(abnormalUsers.shape[0]) "
   ]
  },
  {
   "cell_type": "markdown",
   "metadata": {},
   "source": [
    "Всего 15 аномальных пользователей. Для того, чтобы применить критерий Уитни-Манна и узнать сохранились ли различия в группах, необходимо подготовить выборки количества заказов по пользователям по группам теста."
   ]
  },
  {
   "cell_type": "code",
   "execution_count": 52,
   "metadata": {},
   "outputs": [],
   "source": [
    "# \"очищенная\" группа А\n",
    "sampleAFiltered = pd.concat(\n",
    "    [\n",
    "        ordersByUsersA[\n",
    "            np.logical_not(ordersByUsersA['visitorId'].isin(abnormalUsers))\n",
    "        ]['orders'],\n",
    "        pd.Series(\n",
    "            0,\n",
    "            index=np.arange(\n",
    "                data['visitorsPerDateA'].sum() - len(ordersByUsersA['orders'])\n",
    "            ),\n",
    "            name='orders',\n",
    "        ),\n",
    "    ],\n",
    "    axis=0,\n",
    ")\n",
    "\n",
    "# \"очищенная\" группа B\n",
    "sampleBFiltered = pd.concat(\n",
    "    [\n",
    "        ordersByUsersB[\n",
    "            np.logical_not(ordersByUsersB['visitorId'].isin(abnormalUsers))\n",
    "        ]['orders'],\n",
    "        pd.Series(\n",
    "            0,\n",
    "            index=np.arange(\n",
    "                data['visitorsPerDateB'].sum() - len(ordersByUsersB['orders'])\n",
    "            ),\n",
    "            name='orders',\n",
    "        ),\n",
    "    ],\n",
    "    axis=0,\n",
    ")"
   ]
  },
  {
   "cell_type": "markdown",
   "metadata": {},
   "source": [
    "Сформулируем гипотезы.\n",
    "\n",
    "- **H0:** различий в среднем количестве заказов по \"очищенным\" данным между группами нет.\n",
    "- **H1:** различия в среднем количестве заказов по \"очищенным\" данным между группами есть."
   ]
  },
  {
   "cell_type": "code",
   "execution_count": 53,
   "metadata": {
    "scrolled": true
   },
   "outputs": [
    {
     "name": "stdout",
     "output_type": "stream",
     "text": [
      "0.012\n",
      "0.145\n"
     ]
    }
   ],
   "source": [
    "print('{0:.3f}'.format(stats.mannwhitneyu(sampleAFiltered, sampleBFiltered)[1]))\n",
    "print('{0:.3f}'.format(sampleBFiltered.mean()/sampleAFiltered.mean()-1)) "
   ]
  },
  {
   "cell_type": "markdown",
   "metadata": {},
   "source": [
    "**Вывод:** p-value=0.012, отвергаем нулевую гипотезу в пользу альтернативной гипотезы, т.е. различия в среднем числе заказов на посетителя есть. Результаты по среднему количеству заказов практически не изменились (0.017 по \"сырым\" данным). Относительный выигрыш гуппы В в среднем кол-ве заказов на посетителя по сравнению с группой А составил 14.5%"
   ]
  },
  {
   "cell_type": "markdown",
   "metadata": {},
   "source": [
    "### Статистическая значимость различий в среднем чеке заказа между группами по «очищенным» данным"
   ]
  },
  {
   "cell_type": "markdown",
   "metadata": {},
   "source": [
    "Сформулируем гипотезы:\n",
    "\n",
    "- **H0:** различий в среднем чеке по \"очищенным\" данным между группами нет.\n",
    "- **H1:** различия в среднем чеке по \"очищенным\" данным между группами есть."
   ]
  },
  {
   "cell_type": "code",
   "execution_count": 54,
   "metadata": {},
   "outputs": [
    {
     "name": "stdout",
     "output_type": "stream",
     "text": [
      "0.796\n"
     ]
    }
   ],
   "source": [
    "print(\n",
    "    '{0:.3f}'.format(stats.mannwhitneyu(\n",
    "                                        orders[np.logical_and(orders['group'] == 'A',\n",
    "                                        np.logical_not(orders['visitorId'].isin(abnormalUsers)))]['revenue'],\n",
    "                                        orders[np.logical_and(orders['group'] == 'B',\n",
    "                                        np.logical_not(orders['visitorId'].isin(abnormalUsers)))]['revenue'])[1]\n",
    "                    )\n",
    "       )"
   ]
  },
  {
   "cell_type": "markdown",
   "metadata": {},
   "source": [
    "**Вывод:** p-value=0.796 больше 0.05. Следовательно различий в среднем чеке между группами нет. Результаты по среднему чеку мало изменились (0.646 по \"сырым\" данным)."
   ]
  },
  {
   "cell_type": "markdown",
   "metadata": {},
   "source": [
    "### Итоги по результатам теста"
   ]
  },
  {
   "cell_type": "markdown",
   "metadata": {},
   "source": [
    "**В ходе исследования выявлены следующие факты:**\n",
    "\n",
    "I. Существует статистически значимое различие по среднему количеству заказов между группами по «сырым» и «очищенным» данным;\n",
    "\n",
    "II. График кумулятивного среднего количества заказов на посетителя по группам сообщает, что для группы B\n",
    "  - 1. бОльшее среднее число заказов в первой половине месяца, но со временем они падают.\n",
    "  - 2. есть дорогие заказы во второй половине месяца, но средний чек со временем падает.\n",
    "  \n",
    "  Для группы А наоборот:\n",
    "  - 1. меньшее среднее число заказов в первой половине месяца, но со временем они растут.\n",
    "  - 2. нет дорогих заказов во второй половине месяца, но средний чек со временем растет.\n",
    "\n",
    "\n",
    "III. Нет статистически значимого различия по среднему чеку между группами ни по «сырым», ни по «очищенным» данным;\n",
    "\n",
    "Таким образом, с одной стороны, при одинаковом среднем чеке в обеих группах существует статистически значимое различие в среднем количестве заказов в пользу группы B, т.е. она лучше. Но с другой стороны у группы В со временем среднее число заказов падает вместе со средним чеком, в то время как у группы А эти же показатели растут.\n",
    "\n",
    "**Вывод:** равновесие по конверсии еще не установилось, необходимо продолжить наблюдения, так как есть вероятность того, что группа B лучше."
   ]
  },
  {
   "cell_type": "markdown",
   "metadata": {},
   "source": []
  },
  {
   "cell_type": "markdown",
   "metadata": {},
   "source": []
  }
 ],
 "metadata": {
  "ExecuteTimeLog": [
   {
    "duration": 82,
    "start_time": "2023-09-11T18:36:13.113Z"
   },
   {
    "duration": 2,
    "start_time": "2023-09-11T18:44:09.416Z"
   },
   {
    "duration": 778,
    "start_time": "2023-09-11T18:51:36.346Z"
   },
   {
    "duration": 60,
    "start_time": "2023-09-11T19:03:25.088Z"
   },
   {
    "duration": 11,
    "start_time": "2023-09-11T19:03:30.978Z"
   },
   {
    "duration": 12,
    "start_time": "2023-09-11T19:04:05.884Z"
   },
   {
    "duration": 6,
    "start_time": "2023-09-11T19:05:59.254Z"
   },
   {
    "duration": 84,
    "start_time": "2023-09-11T19:06:09.463Z"
   },
   {
    "duration": 68,
    "start_time": "2023-09-11T19:07:05.911Z"
   },
   {
    "duration": 4,
    "start_time": "2023-09-11T19:08:06.441Z"
   },
   {
    "duration": 7,
    "start_time": "2023-09-11T19:08:24.417Z"
   },
   {
    "duration": 3,
    "start_time": "2023-09-11T19:09:05.978Z"
   },
   {
    "duration": 8,
    "start_time": "2023-09-11T19:09:56.412Z"
   },
   {
    "duration": 4,
    "start_time": "2023-09-11T19:10:05.997Z"
   },
   {
    "duration": 8,
    "start_time": "2023-09-11T19:10:10.833Z"
   },
   {
    "duration": 1250,
    "start_time": "2023-09-11T19:11:11.834Z"
   },
   {
    "duration": 1210,
    "start_time": "2023-09-11T19:11:17.367Z"
   },
   {
    "duration": 1360,
    "start_time": "2023-09-11T19:11:24.194Z"
   },
   {
    "duration": 1505,
    "start_time": "2023-09-11T19:11:38.404Z"
   },
   {
    "duration": 1319,
    "start_time": "2023-09-11T19:11:53.784Z"
   },
   {
    "duration": 4,
    "start_time": "2023-09-11T19:12:32.115Z"
   },
   {
    "duration": 4,
    "start_time": "2023-09-11T19:12:35.011Z"
   },
   {
    "duration": 10,
    "start_time": "2023-09-11T20:31:16.364Z"
   },
   {
    "duration": 12,
    "start_time": "2023-09-11T20:42:03.444Z"
   },
   {
    "duration": 18,
    "start_time": "2023-09-11T21:15:09.058Z"
   },
   {
    "duration": 105,
    "start_time": "2023-09-11T21:15:37.723Z"
   },
   {
    "duration": 1222,
    "start_time": "2023-09-11T21:37:51.346Z"
   },
   {
    "duration": 5,
    "start_time": "2023-09-11T21:38:06.310Z"
   },
   {
    "duration": 4,
    "start_time": "2023-09-11T21:38:39.626Z"
   },
   {
    "duration": 5,
    "start_time": "2023-09-11T21:38:48.000Z"
   },
   {
    "duration": 49,
    "start_time": "2023-09-12T16:58:22.535Z"
   },
   {
    "duration": 786,
    "start_time": "2023-09-12T16:58:40.362Z"
   },
   {
    "duration": 3,
    "start_time": "2023-09-12T16:58:47.991Z"
   },
   {
    "duration": 78,
    "start_time": "2023-09-12T16:58:47.996Z"
   },
   {
    "duration": 13,
    "start_time": "2023-09-12T16:58:48.075Z"
   },
   {
    "duration": 13,
    "start_time": "2023-09-12T16:58:48.090Z"
   },
   {
    "duration": 44,
    "start_time": "2023-09-12T16:58:48.104Z"
   },
   {
    "duration": 27,
    "start_time": "2023-09-12T16:58:48.149Z"
   },
   {
    "duration": 38,
    "start_time": "2023-09-12T16:58:48.177Z"
   },
   {
    "duration": 21,
    "start_time": "2023-09-12T16:58:48.217Z"
   },
   {
    "duration": 182,
    "start_time": "2023-09-12T16:58:48.241Z"
   },
   {
    "duration": 2,
    "start_time": "2023-09-12T17:00:38.573Z"
   },
   {
    "duration": 18,
    "start_time": "2023-09-12T17:01:09.781Z"
   },
   {
    "duration": 12,
    "start_time": "2023-09-12T17:01:56.162Z"
   },
   {
    "duration": 8,
    "start_time": "2023-09-12T17:13:53.644Z"
   },
   {
    "duration": 6,
    "start_time": "2023-09-12T17:14:35.497Z"
   },
   {
    "duration": 12,
    "start_time": "2023-09-12T17:14:45.514Z"
   },
   {
    "duration": 7,
    "start_time": "2023-09-12T17:15:30.018Z"
   },
   {
    "duration": 7,
    "start_time": "2023-09-12T17:38:19.783Z"
   },
   {
    "duration": 5,
    "start_time": "2023-09-12T17:42:44.007Z"
   },
   {
    "duration": 6,
    "start_time": "2023-09-12T17:42:52.382Z"
   },
   {
    "duration": 9,
    "start_time": "2023-09-12T17:43:07.430Z"
   },
   {
    "duration": 9,
    "start_time": "2023-09-12T17:43:45.247Z"
   },
   {
    "duration": 10,
    "start_time": "2023-09-12T17:44:38.322Z"
   },
   {
    "duration": 6,
    "start_time": "2023-09-12T17:44:40.786Z"
   },
   {
    "duration": 11,
    "start_time": "2023-09-12T17:50:04.799Z"
   },
   {
    "duration": 8,
    "start_time": "2023-09-12T17:50:16.336Z"
   },
   {
    "duration": 8,
    "start_time": "2023-09-12T17:50:23.908Z"
   },
   {
    "duration": 2110,
    "start_time": "2023-09-12T18:14:00.331Z"
   },
   {
    "duration": 315,
    "start_time": "2023-09-12T18:14:48.977Z"
   },
   {
    "duration": 3,
    "start_time": "2023-09-12T18:14:55.690Z"
   },
   {
    "duration": 11,
    "start_time": "2023-09-12T18:15:01.284Z"
   },
   {
    "duration": 15,
    "start_time": "2023-09-12T18:15:13.731Z"
   },
   {
    "duration": 10,
    "start_time": "2023-09-12T18:15:21.140Z"
   },
   {
    "duration": 457,
    "start_time": "2023-09-12T18:15:51.227Z"
   },
   {
    "duration": 68,
    "start_time": "2023-09-12T18:16:02.619Z"
   },
   {
    "duration": 11,
    "start_time": "2023-09-12T18:16:06.122Z"
   },
   {
    "duration": 4,
    "start_time": "2023-09-12T18:18:12.336Z"
   },
   {
    "duration": 7,
    "start_time": "2023-09-12T18:18:22.173Z"
   },
   {
    "duration": 6,
    "start_time": "2023-09-12T18:18:24.998Z"
   },
   {
    "duration": 6,
    "start_time": "2023-09-12T18:18:28.097Z"
   },
   {
    "duration": 7,
    "start_time": "2023-09-12T18:18:31.384Z"
   },
   {
    "duration": 5,
    "start_time": "2023-09-12T19:24:39.271Z"
   },
   {
    "duration": 10,
    "start_time": "2023-09-12T19:24:48.757Z"
   },
   {
    "duration": 80,
    "start_time": "2023-09-12T19:44:46.004Z"
   },
   {
    "duration": 21,
    "start_time": "2023-09-12T19:45:08.210Z"
   },
   {
    "duration": 19,
    "start_time": "2023-09-12T19:45:53.533Z"
   },
   {
    "duration": 19,
    "start_time": "2023-09-12T19:46:35.778Z"
   },
   {
    "duration": 159,
    "start_time": "2023-09-12T19:47:28.968Z"
   },
   {
    "duration": 11,
    "start_time": "2023-09-12T19:49:13.954Z"
   },
   {
    "duration": 112,
    "start_time": "2023-09-12T19:50:28.291Z"
   },
   {
    "duration": 9,
    "start_time": "2023-09-12T19:52:31.134Z"
   },
   {
    "duration": 9,
    "start_time": "2023-09-12T19:53:00.656Z"
   },
   {
    "duration": 3,
    "start_time": "2023-09-12T19:55:14.425Z"
   },
   {
    "duration": 262,
    "start_time": "2023-09-12T19:56:28.741Z"
   },
   {
    "duration": 288,
    "start_time": "2023-09-12T19:58:30.956Z"
   },
   {
    "duration": 203,
    "start_time": "2023-09-12T20:02:02.301Z"
   },
   {
    "duration": 260,
    "start_time": "2023-09-12T20:02:18.501Z"
   },
   {
    "duration": 196,
    "start_time": "2023-09-12T20:02:27.269Z"
   },
   {
    "duration": 3,
    "start_time": "2023-09-12T20:49:37.494Z"
   },
   {
    "duration": 162,
    "start_time": "2023-09-12T20:51:08.222Z"
   },
   {
    "duration": 191,
    "start_time": "2023-09-12T20:51:27.912Z"
   },
   {
    "duration": 187,
    "start_time": "2023-09-12T20:55:39.441Z"
   },
   {
    "duration": 287,
    "start_time": "2023-09-12T22:03:25.980Z"
   },
   {
    "duration": 281,
    "start_time": "2023-09-12T22:03:51.609Z"
   },
   {
    "duration": 320,
    "start_time": "2023-09-12T22:05:02.216Z"
   },
   {
    "duration": 283,
    "start_time": "2023-09-12T22:06:17.162Z"
   },
   {
    "duration": 201,
    "start_time": "2023-09-12T22:21:04.508Z"
   },
   {
    "duration": 211,
    "start_time": "2023-09-12T22:22:03.572Z"
   },
   {
    "duration": 253,
    "start_time": "2023-09-12T22:23:54.033Z"
   },
   {
    "duration": 749,
    "start_time": "2023-09-13T17:42:02.664Z"
   },
   {
    "duration": 63,
    "start_time": "2023-09-13T17:42:03.415Z"
   },
   {
    "duration": 11,
    "start_time": "2023-09-13T17:42:03.480Z"
   },
   {
    "duration": 8,
    "start_time": "2023-09-13T17:42:03.493Z"
   },
   {
    "duration": 54,
    "start_time": "2023-09-13T17:42:03.502Z"
   },
   {
    "duration": 22,
    "start_time": "2023-09-13T17:42:03.558Z"
   },
   {
    "duration": 21,
    "start_time": "2023-09-13T17:42:03.582Z"
   },
   {
    "duration": 10,
    "start_time": "2023-09-13T17:42:03.604Z"
   },
   {
    "duration": 137,
    "start_time": "2023-09-13T17:42:03.616Z"
   },
   {
    "duration": 7,
    "start_time": "2023-09-13T17:42:03.755Z"
   },
   {
    "duration": 29,
    "start_time": "2023-09-13T17:42:03.763Z"
   },
   {
    "duration": 17,
    "start_time": "2023-09-13T17:42:03.793Z"
   },
   {
    "duration": 14,
    "start_time": "2023-09-13T17:42:03.811Z"
   },
   {
    "duration": 16,
    "start_time": "2023-09-13T17:42:03.827Z"
   },
   {
    "duration": 16,
    "start_time": "2023-09-13T17:42:03.844Z"
   },
   {
    "duration": 22,
    "start_time": "2023-09-13T17:42:03.862Z"
   },
   {
    "duration": 6,
    "start_time": "2023-09-13T17:42:03.886Z"
   },
   {
    "duration": 6,
    "start_time": "2023-09-13T17:42:03.894Z"
   },
   {
    "duration": 9,
    "start_time": "2023-09-13T17:42:03.901Z"
   },
   {
    "duration": 7,
    "start_time": "2023-09-13T17:42:03.912Z"
   },
   {
    "duration": 152,
    "start_time": "2023-09-13T17:42:03.920Z"
   },
   {
    "duration": 10,
    "start_time": "2023-09-13T17:42:04.073Z"
   },
   {
    "duration": 123,
    "start_time": "2023-09-13T17:42:04.084Z"
   },
   {
    "duration": 20,
    "start_time": "2023-09-13T17:42:04.209Z"
   },
   {
    "duration": 281,
    "start_time": "2023-09-13T17:42:04.231Z"
   },
   {
    "duration": 182,
    "start_time": "2023-09-13T17:42:04.514Z"
   },
   {
    "duration": 300,
    "start_time": "2023-09-13T17:42:04.697Z"
   },
   {
    "duration": 300,
    "start_time": "2023-09-13T17:42:04.999Z"
   },
   {
    "duration": 7,
    "start_time": "2023-09-13T17:53:59.622Z"
   },
   {
    "duration": 5,
    "start_time": "2023-09-13T17:54:27.804Z"
   },
   {
    "duration": 4,
    "start_time": "2023-09-13T17:54:49.323Z"
   },
   {
    "duration": 173,
    "start_time": "2023-09-13T17:55:01.543Z"
   },
   {
    "duration": 5,
    "start_time": "2023-09-13T17:56:32.368Z"
   },
   {
    "duration": 4,
    "start_time": "2023-09-13T17:57:04.265Z"
   },
   {
    "duration": 4,
    "start_time": "2023-09-13T18:06:02.951Z"
   },
   {
    "duration": 186,
    "start_time": "2023-09-13T18:06:12.120Z"
   },
   {
    "duration": 657,
    "start_time": "2023-09-13T18:07:04.424Z"
   },
   {
    "duration": 28,
    "start_time": "2023-09-13T18:07:05.083Z"
   },
   {
    "duration": 22,
    "start_time": "2023-09-13T18:07:05.113Z"
   },
   {
    "duration": 30,
    "start_time": "2023-09-13T18:07:05.137Z"
   },
   {
    "duration": 52,
    "start_time": "2023-09-13T18:07:05.169Z"
   },
   {
    "duration": 36,
    "start_time": "2023-09-13T18:07:05.222Z"
   },
   {
    "duration": 27,
    "start_time": "2023-09-13T18:07:05.260Z"
   },
   {
    "duration": 37,
    "start_time": "2023-09-13T18:07:05.288Z"
   },
   {
    "duration": 89,
    "start_time": "2023-09-13T18:07:05.327Z"
   },
   {
    "duration": 7,
    "start_time": "2023-09-13T18:07:05.419Z"
   },
   {
    "duration": 44,
    "start_time": "2023-09-13T18:07:05.427Z"
   },
   {
    "duration": 37,
    "start_time": "2023-09-13T18:07:05.473Z"
   },
   {
    "duration": 41,
    "start_time": "2023-09-13T18:07:05.512Z"
   },
   {
    "duration": 21,
    "start_time": "2023-09-13T18:07:05.555Z"
   },
   {
    "duration": 18,
    "start_time": "2023-09-13T18:07:05.577Z"
   },
   {
    "duration": 44,
    "start_time": "2023-09-13T18:07:05.597Z"
   },
   {
    "duration": 35,
    "start_time": "2023-09-13T18:07:05.642Z"
   },
   {
    "duration": 24,
    "start_time": "2023-09-13T18:07:05.678Z"
   },
   {
    "duration": 25,
    "start_time": "2023-09-13T18:07:05.704Z"
   },
   {
    "duration": 42,
    "start_time": "2023-09-13T18:07:05.731Z"
   },
   {
    "duration": 165,
    "start_time": "2023-09-13T18:07:05.774Z"
   },
   {
    "duration": 14,
    "start_time": "2023-09-13T18:07:05.941Z"
   },
   {
    "duration": 141,
    "start_time": "2023-09-13T18:07:05.957Z"
   },
   {
    "duration": 12,
    "start_time": "2023-09-13T18:07:06.100Z"
   },
   {
    "duration": 305,
    "start_time": "2023-09-13T18:07:06.113Z"
   },
   {
    "duration": 206,
    "start_time": "2023-09-13T18:07:06.420Z"
   },
   {
    "duration": 328,
    "start_time": "2023-09-13T18:07:06.627Z"
   },
   {
    "duration": 1465,
    "start_time": "2023-09-13T18:07:06.958Z"
   },
   {
    "duration": 0,
    "start_time": "2023-09-13T18:07:08.424Z"
   },
   {
    "duration": 234,
    "start_time": "2023-09-13T18:07:24.057Z"
   },
   {
    "duration": 152,
    "start_time": "2023-09-13T18:15:07.536Z"
   },
   {
    "duration": 120,
    "start_time": "2023-09-13T18:15:14.463Z"
   },
   {
    "duration": 9,
    "start_time": "2023-09-13T18:15:17.310Z"
   },
   {
    "duration": 177,
    "start_time": "2023-09-13T18:15:19.447Z"
   },
   {
    "duration": 174,
    "start_time": "2023-09-13T18:15:49.986Z"
   },
   {
    "duration": 161,
    "start_time": "2023-09-13T18:17:37.654Z"
   },
   {
    "duration": 155,
    "start_time": "2023-09-13T18:17:47.296Z"
   },
   {
    "duration": 180,
    "start_time": "2023-09-13T18:27:02.463Z"
   },
   {
    "duration": 173,
    "start_time": "2023-09-13T18:41:17.512Z"
   },
   {
    "duration": 165,
    "start_time": "2023-09-13T18:41:38.262Z"
   },
   {
    "duration": 188,
    "start_time": "2023-09-13T18:42:30.021Z"
   },
   {
    "duration": 195,
    "start_time": "2023-09-13T18:42:54.939Z"
   },
   {
    "duration": 1385,
    "start_time": "2023-09-13T20:21:22.752Z"
   },
   {
    "duration": 108,
    "start_time": "2023-09-13T20:22:06.833Z"
   },
   {
    "duration": 159,
    "start_time": "2023-09-13T20:22:19.284Z"
   },
   {
    "duration": 124,
    "start_time": "2023-09-13T20:22:42.616Z"
   },
   {
    "duration": 8,
    "start_time": "2023-09-13T20:32:19.875Z"
   },
   {
    "duration": 7,
    "start_time": "2023-09-13T20:33:43.126Z"
   },
   {
    "duration": 131,
    "start_time": "2023-09-13T20:33:50.958Z"
   },
   {
    "duration": 127,
    "start_time": "2023-09-13T20:33:59.805Z"
   },
   {
    "duration": 11,
    "start_time": "2023-09-13T20:39:40.519Z"
   },
   {
    "duration": 9,
    "start_time": "2023-09-13T20:39:50.616Z"
   },
   {
    "duration": 143,
    "start_time": "2023-09-13T20:41:17.304Z"
   },
   {
    "duration": 154,
    "start_time": "2023-09-13T20:41:51.449Z"
   },
   {
    "duration": 113,
    "start_time": "2023-09-13T20:45:25.590Z"
   },
   {
    "duration": 11,
    "start_time": "2023-09-13T21:07:04.438Z"
   },
   {
    "duration": 612,
    "start_time": "2023-09-13T21:09:26.217Z"
   },
   {
    "duration": 28,
    "start_time": "2023-09-13T21:09:26.831Z"
   },
   {
    "duration": 13,
    "start_time": "2023-09-13T21:09:26.861Z"
   },
   {
    "duration": 5,
    "start_time": "2023-09-13T21:09:26.876Z"
   },
   {
    "duration": 21,
    "start_time": "2023-09-13T21:09:26.882Z"
   },
   {
    "duration": 10,
    "start_time": "2023-09-13T21:09:26.905Z"
   },
   {
    "duration": 9,
    "start_time": "2023-09-13T21:09:26.917Z"
   },
   {
    "duration": 7,
    "start_time": "2023-09-13T21:09:26.927Z"
   },
   {
    "duration": 53,
    "start_time": "2023-09-13T21:09:26.935Z"
   },
   {
    "duration": 7,
    "start_time": "2023-09-13T21:09:26.990Z"
   },
   {
    "duration": 13,
    "start_time": "2023-09-13T21:09:26.998Z"
   },
   {
    "duration": 13,
    "start_time": "2023-09-13T21:09:27.012Z"
   },
   {
    "duration": 13,
    "start_time": "2023-09-13T21:09:27.026Z"
   },
   {
    "duration": 17,
    "start_time": "2023-09-13T21:09:27.040Z"
   },
   {
    "duration": 5,
    "start_time": "2023-09-13T21:09:27.059Z"
   },
   {
    "duration": 14,
    "start_time": "2023-09-13T21:09:27.065Z"
   },
   {
    "duration": 7,
    "start_time": "2023-09-13T21:09:27.080Z"
   },
   {
    "duration": 19,
    "start_time": "2023-09-13T21:09:27.089Z"
   },
   {
    "duration": 7,
    "start_time": "2023-09-13T21:09:27.110Z"
   },
   {
    "duration": 7,
    "start_time": "2023-09-13T21:09:27.118Z"
   },
   {
    "duration": 159,
    "start_time": "2023-09-13T21:09:27.126Z"
   },
   {
    "duration": 11,
    "start_time": "2023-09-13T21:09:27.286Z"
   },
   {
    "duration": 116,
    "start_time": "2023-09-13T21:09:27.298Z"
   },
   {
    "duration": 8,
    "start_time": "2023-09-13T21:09:27.416Z"
   },
   {
    "duration": 267,
    "start_time": "2023-09-13T21:09:27.425Z"
   },
   {
    "duration": 180,
    "start_time": "2023-09-13T21:09:27.694Z"
   },
   {
    "duration": 275,
    "start_time": "2023-09-13T21:09:27.876Z"
   },
   {
    "duration": 237,
    "start_time": "2023-09-13T21:09:28.155Z"
   },
   {
    "duration": 8,
    "start_time": "2023-09-13T21:09:28.394Z"
   },
   {
    "duration": 128,
    "start_time": "2023-09-13T21:09:28.404Z"
   },
   {
    "duration": 4,
    "start_time": "2023-09-13T21:32:45.647Z"
   },
   {
    "duration": 869,
    "start_time": "2023-09-14T20:29:00.028Z"
   },
   {
    "duration": 78,
    "start_time": "2023-09-14T20:29:00.900Z"
   },
   {
    "duration": 12,
    "start_time": "2023-09-14T20:29:00.980Z"
   },
   {
    "duration": 28,
    "start_time": "2023-09-14T20:29:00.994Z"
   },
   {
    "duration": 47,
    "start_time": "2023-09-14T20:29:01.023Z"
   },
   {
    "duration": 43,
    "start_time": "2023-09-14T20:29:01.072Z"
   },
   {
    "duration": 51,
    "start_time": "2023-09-14T20:29:01.117Z"
   },
   {
    "duration": 25,
    "start_time": "2023-09-14T20:29:01.170Z"
   },
   {
    "duration": 221,
    "start_time": "2023-09-14T20:29:01.196Z"
   },
   {
    "duration": 7,
    "start_time": "2023-09-14T20:29:01.420Z"
   },
   {
    "duration": 40,
    "start_time": "2023-09-14T20:29:01.429Z"
   },
   {
    "duration": 20,
    "start_time": "2023-09-14T20:29:01.471Z"
   },
   {
    "duration": 43,
    "start_time": "2023-09-14T20:29:01.493Z"
   },
   {
    "duration": 55,
    "start_time": "2023-09-14T20:29:01.538Z"
   },
   {
    "duration": 27,
    "start_time": "2023-09-14T20:29:01.594Z"
   },
   {
    "duration": 36,
    "start_time": "2023-09-14T20:29:01.623Z"
   },
   {
    "duration": 34,
    "start_time": "2023-09-14T20:29:01.660Z"
   },
   {
    "duration": 32,
    "start_time": "2023-09-14T20:29:01.696Z"
   },
   {
    "duration": 59,
    "start_time": "2023-09-14T20:29:01.730Z"
   },
   {
    "duration": 34,
    "start_time": "2023-09-14T20:29:01.791Z"
   },
   {
    "duration": 298,
    "start_time": "2023-09-14T20:29:01.826Z"
   },
   {
    "duration": 157,
    "start_time": "2023-09-14T20:29:02.126Z"
   },
   {
    "duration": 151,
    "start_time": "2023-09-14T20:29:02.284Z"
   },
   {
    "duration": 16,
    "start_time": "2023-09-14T20:29:02.437Z"
   },
   {
    "duration": 314,
    "start_time": "2023-09-14T20:29:02.454Z"
   },
   {
    "duration": 206,
    "start_time": "2023-09-14T20:29:02.769Z"
   },
   {
    "duration": 329,
    "start_time": "2023-09-14T20:29:02.979Z"
   },
   {
    "duration": 263,
    "start_time": "2023-09-14T20:29:03.311Z"
   },
   {
    "duration": 11,
    "start_time": "2023-09-14T20:29:03.576Z"
   },
   {
    "duration": 133,
    "start_time": "2023-09-14T20:29:03.589Z"
   },
   {
    "duration": 5,
    "start_time": "2023-09-14T20:29:03.724Z"
   },
   {
    "duration": 462,
    "start_time": "2023-09-14T21:42:01.623Z"
   },
   {
    "duration": 191,
    "start_time": "2023-09-14T21:49:44.891Z"
   },
   {
    "duration": 231,
    "start_time": "2023-09-14T21:53:51.375Z"
   },
   {
    "duration": 14,
    "start_time": "2023-09-14T21:56:43.176Z"
   },
   {
    "duration": 15,
    "start_time": "2023-09-14T21:57:13.403Z"
   },
   {
    "duration": 78,
    "start_time": "2023-09-14T21:57:41.114Z"
   },
   {
    "duration": 81,
    "start_time": "2023-09-14T21:57:50.585Z"
   },
   {
    "duration": 132,
    "start_time": "2023-09-14T21:58:01.478Z"
   },
   {
    "duration": 6,
    "start_time": "2023-09-14T21:58:38.099Z"
   },
   {
    "duration": 15,
    "start_time": "2023-09-14T21:59:59.481Z"
   },
   {
    "duration": 156,
    "start_time": "2023-09-14T22:00:41.096Z"
   },
   {
    "duration": 1377,
    "start_time": "2023-09-15T15:42:47.418Z"
   },
   {
    "duration": 79,
    "start_time": "2023-09-15T15:42:48.798Z"
   },
   {
    "duration": 14,
    "start_time": "2023-09-15T15:42:48.879Z"
   },
   {
    "duration": 19,
    "start_time": "2023-09-15T15:42:48.895Z"
   },
   {
    "duration": 28,
    "start_time": "2023-09-15T15:42:48.916Z"
   },
   {
    "duration": 42,
    "start_time": "2023-09-15T15:42:48.946Z"
   },
   {
    "duration": 28,
    "start_time": "2023-09-15T15:42:48.990Z"
   },
   {
    "duration": 19,
    "start_time": "2023-09-15T15:42:49.020Z"
   },
   {
    "duration": 178,
    "start_time": "2023-09-15T15:42:49.041Z"
   },
   {
    "duration": 7,
    "start_time": "2023-09-15T15:42:49.222Z"
   },
   {
    "duration": 22,
    "start_time": "2023-09-15T15:42:49.231Z"
   },
   {
    "duration": 19,
    "start_time": "2023-09-15T15:42:49.256Z"
   },
   {
    "duration": 11,
    "start_time": "2023-09-15T15:42:49.277Z"
   },
   {
    "duration": 11,
    "start_time": "2023-09-15T15:42:49.290Z"
   },
   {
    "duration": 7,
    "start_time": "2023-09-15T15:42:49.303Z"
   },
   {
    "duration": 13,
    "start_time": "2023-09-15T15:42:49.312Z"
   },
   {
    "duration": 9,
    "start_time": "2023-09-15T15:42:49.344Z"
   },
   {
    "duration": 13,
    "start_time": "2023-09-15T15:42:49.354Z"
   },
   {
    "duration": 12,
    "start_time": "2023-09-15T15:42:49.371Z"
   },
   {
    "duration": 7,
    "start_time": "2023-09-15T15:42:49.384Z"
   },
   {
    "duration": 206,
    "start_time": "2023-09-15T15:42:49.393Z"
   },
   {
    "duration": 10,
    "start_time": "2023-09-15T15:42:49.600Z"
   },
   {
    "duration": 142,
    "start_time": "2023-09-15T15:42:49.612Z"
   },
   {
    "duration": 17,
    "start_time": "2023-09-15T15:42:49.756Z"
   },
   {
    "duration": 334,
    "start_time": "2023-09-15T15:42:49.775Z"
   },
   {
    "duration": 209,
    "start_time": "2023-09-15T15:42:50.110Z"
   },
   {
    "duration": 365,
    "start_time": "2023-09-15T15:42:50.321Z"
   },
   {
    "duration": 233,
    "start_time": "2023-09-15T15:42:50.689Z"
   },
   {
    "duration": 9,
    "start_time": "2023-09-15T15:42:50.923Z"
   },
   {
    "duration": 161,
    "start_time": "2023-09-15T15:42:50.934Z"
   },
   {
    "duration": 3,
    "start_time": "2023-09-15T15:42:51.097Z"
   },
   {
    "duration": 235,
    "start_time": "2023-09-15T15:42:51.102Z"
   },
   {
    "duration": 168,
    "start_time": "2023-09-15T15:42:51.339Z"
   },
   {
    "duration": 100,
    "start_time": "2023-09-15T15:42:51.509Z"
   },
   {
    "duration": 194,
    "start_time": "2023-09-15T15:42:54.066Z"
   },
   {
    "duration": 97,
    "start_time": "2023-09-15T15:43:39.160Z"
   },
   {
    "duration": 114,
    "start_time": "2023-09-15T15:44:05.976Z"
   },
   {
    "duration": 80,
    "start_time": "2023-09-15T15:44:40.460Z"
   },
   {
    "duration": 139,
    "start_time": "2023-09-15T15:45:09.954Z"
   },
   {
    "duration": 7,
    "start_time": "2023-09-15T15:45:40.777Z"
   },
   {
    "duration": 182,
    "start_time": "2023-09-15T15:45:51.123Z"
   },
   {
    "duration": 188,
    "start_time": "2023-09-15T15:45:53.315Z"
   },
   {
    "duration": 137,
    "start_time": "2023-09-15T15:53:14.103Z"
   },
   {
    "duration": 9,
    "start_time": "2023-09-15T16:36:29.932Z"
   },
   {
    "duration": 10,
    "start_time": "2023-09-15T17:19:09.274Z"
   },
   {
    "duration": 44,
    "start_time": "2023-09-16T09:30:41.304Z"
   },
   {
    "duration": 1208,
    "start_time": "2023-09-16T09:30:48.680Z"
   },
   {
    "duration": 62,
    "start_time": "2023-09-16T09:30:49.890Z"
   },
   {
    "duration": 11,
    "start_time": "2023-09-16T09:30:49.954Z"
   },
   {
    "duration": 5,
    "start_time": "2023-09-16T09:30:49.967Z"
   },
   {
    "duration": 8,
    "start_time": "2023-09-16T09:30:49.973Z"
   },
   {
    "duration": 18,
    "start_time": "2023-09-16T09:30:49.982Z"
   },
   {
    "duration": 23,
    "start_time": "2023-09-16T09:30:50.001Z"
   },
   {
    "duration": 17,
    "start_time": "2023-09-16T09:30:50.025Z"
   },
   {
    "duration": 146,
    "start_time": "2023-09-16T09:30:50.044Z"
   },
   {
    "duration": 7,
    "start_time": "2023-09-16T09:30:50.192Z"
   },
   {
    "duration": 20,
    "start_time": "2023-09-16T09:30:50.200Z"
   },
   {
    "duration": 14,
    "start_time": "2023-09-16T09:30:50.221Z"
   },
   {
    "duration": 13,
    "start_time": "2023-09-16T09:30:50.237Z"
   },
   {
    "duration": 9,
    "start_time": "2023-09-16T09:30:50.252Z"
   },
   {
    "duration": 10,
    "start_time": "2023-09-16T09:30:50.262Z"
   },
   {
    "duration": 9,
    "start_time": "2023-09-16T09:30:50.273Z"
   },
   {
    "duration": 7,
    "start_time": "2023-09-16T09:30:50.283Z"
   },
   {
    "duration": 6,
    "start_time": "2023-09-16T09:30:50.291Z"
   },
   {
    "duration": 8,
    "start_time": "2023-09-16T09:30:50.298Z"
   },
   {
    "duration": 12,
    "start_time": "2023-09-16T09:30:50.307Z"
   },
   {
    "duration": 163,
    "start_time": "2023-09-16T09:30:50.321Z"
   },
   {
    "duration": 11,
    "start_time": "2023-09-16T09:30:50.486Z"
   },
   {
    "duration": 113,
    "start_time": "2023-09-16T09:30:50.499Z"
   },
   {
    "duration": 8,
    "start_time": "2023-09-16T09:30:50.614Z"
   },
   {
    "duration": 265,
    "start_time": "2023-09-16T09:30:50.623Z"
   },
   {
    "duration": 176,
    "start_time": "2023-09-16T09:30:50.890Z"
   },
   {
    "duration": 321,
    "start_time": "2023-09-16T09:30:51.068Z"
   },
   {
    "duration": 181,
    "start_time": "2023-09-16T09:30:51.392Z"
   },
   {
    "duration": 8,
    "start_time": "2023-09-16T09:30:51.575Z"
   },
   {
    "duration": 149,
    "start_time": "2023-09-16T09:30:51.584Z"
   },
   {
    "duration": 4,
    "start_time": "2023-09-16T09:30:51.735Z"
   },
   {
    "duration": 201,
    "start_time": "2023-09-16T09:30:51.740Z"
   },
   {
    "duration": 121,
    "start_time": "2023-09-16T09:30:51.942Z"
   },
   {
    "duration": 5,
    "start_time": "2023-09-16T09:30:52.065Z"
   },
   {
    "duration": 158,
    "start_time": "2023-09-16T09:30:52.071Z"
   },
   {
    "duration": 6,
    "start_time": "2023-09-16T09:30:52.231Z"
   },
   {
    "duration": 16,
    "start_time": "2023-09-16T09:30:52.239Z"
   },
   {
    "duration": 8,
    "start_time": "2023-09-16T11:15:09.166Z"
   },
   {
    "duration": 244,
    "start_time": "2023-09-16T11:41:44.551Z"
   },
   {
    "duration": 243,
    "start_time": "2023-09-16T11:42:15.525Z"
   },
   {
    "duration": 249,
    "start_time": "2023-09-16T11:49:56.595Z"
   },
   {
    "duration": 277,
    "start_time": "2023-09-16T12:37:27.596Z"
   },
   {
    "duration": 319,
    "start_time": "2023-09-16T12:37:43.565Z"
   },
   {
    "duration": 218,
    "start_time": "2023-09-16T12:56:23.853Z"
   },
   {
    "duration": 89,
    "start_time": "2023-09-16T13:29:58.572Z"
   },
   {
    "duration": 158,
    "start_time": "2023-09-16T16:46:36.061Z"
   },
   {
    "duration": 2,
    "start_time": "2023-09-16T16:57:49.801Z"
   },
   {
    "duration": 2835,
    "start_time": "2023-09-16T17:00:49.461Z"
   },
   {
    "duration": 150,
    "start_time": "2023-09-16T17:01:20.200Z"
   },
   {
    "duration": 141,
    "start_time": "2023-09-16T17:01:29.391Z"
   },
   {
    "duration": 5,
    "start_time": "2023-09-16T17:17:10.516Z"
   },
   {
    "duration": 9,
    "start_time": "2023-09-16T17:17:53.349Z"
   },
   {
    "duration": 6,
    "start_time": "2023-09-16T17:18:24.012Z"
   },
   {
    "duration": 7,
    "start_time": "2023-09-16T17:18:39.439Z"
   },
   {
    "duration": 6,
    "start_time": "2023-09-16T17:18:44.991Z"
   },
   {
    "duration": 2478,
    "start_time": "2023-09-16T17:19:44.425Z"
   },
   {
    "duration": 9,
    "start_time": "2023-09-16T17:19:53.026Z"
   },
   {
    "duration": 9,
    "start_time": "2023-09-16T17:20:14.128Z"
   },
   {
    "duration": 7,
    "start_time": "2023-09-16T17:20:42.242Z"
   },
   {
    "duration": 2378,
    "start_time": "2023-09-16T17:41:18.588Z"
   },
   {
    "duration": 1994,
    "start_time": "2023-09-16T17:44:51.858Z"
   },
   {
    "duration": 4,
    "start_time": "2023-09-16T17:45:00.434Z"
   },
   {
    "duration": 232,
    "start_time": "2023-09-16T18:37:15.429Z"
   },
   {
    "duration": 187,
    "start_time": "2023-09-16T18:46:51.596Z"
   },
   {
    "duration": 189,
    "start_time": "2023-09-16T18:49:23.734Z"
   },
   {
    "duration": 8,
    "start_time": "2023-09-16T18:50:41.335Z"
   },
   {
    "duration": 7,
    "start_time": "2023-09-16T18:52:24.700Z"
   },
   {
    "duration": 7,
    "start_time": "2023-09-16T18:54:58.981Z"
   },
   {
    "duration": 8,
    "start_time": "2023-09-16T19:04:43.875Z"
   },
   {
    "duration": 83,
    "start_time": "2023-09-16T19:15:17.963Z"
   },
   {
    "duration": 81,
    "start_time": "2023-09-16T19:16:11.261Z"
   },
   {
    "duration": 82,
    "start_time": "2023-09-16T19:17:01.079Z"
   },
   {
    "duration": 194,
    "start_time": "2023-09-16T19:17:48.153Z"
   },
   {
    "duration": 206,
    "start_time": "2023-09-16T19:22:26.155Z"
   },
   {
    "duration": 7,
    "start_time": "2023-09-16T20:11:09.816Z"
   },
   {
    "duration": 8,
    "start_time": "2023-09-16T20:14:06.457Z"
   },
   {
    "duration": 4,
    "start_time": "2023-09-16T20:16:06.248Z"
   },
   {
    "duration": 5,
    "start_time": "2023-09-16T20:25:11.389Z"
   },
   {
    "duration": 13,
    "start_time": "2023-09-16T20:33:22.263Z"
   },
   {
    "duration": 170,
    "start_time": "2023-09-16T20:33:34.852Z"
   },
   {
    "duration": 1057,
    "start_time": "2023-09-16T20:35:26.531Z"
   },
   {
    "duration": 28,
    "start_time": "2023-09-16T20:35:27.589Z"
   },
   {
    "duration": 12,
    "start_time": "2023-09-16T20:35:27.618Z"
   },
   {
    "duration": 13,
    "start_time": "2023-09-16T20:35:27.632Z"
   },
   {
    "duration": 14,
    "start_time": "2023-09-16T20:35:27.647Z"
   },
   {
    "duration": 11,
    "start_time": "2023-09-16T20:35:27.663Z"
   },
   {
    "duration": 10,
    "start_time": "2023-09-16T20:35:27.676Z"
   },
   {
    "duration": 8,
    "start_time": "2023-09-16T20:35:27.687Z"
   },
   {
    "duration": 54,
    "start_time": "2023-09-16T20:35:27.697Z"
   },
   {
    "duration": 7,
    "start_time": "2023-09-16T20:35:27.753Z"
   },
   {
    "duration": 14,
    "start_time": "2023-09-16T20:35:27.761Z"
   },
   {
    "duration": 13,
    "start_time": "2023-09-16T20:35:27.776Z"
   },
   {
    "duration": 20,
    "start_time": "2023-09-16T20:35:27.790Z"
   },
   {
    "duration": 13,
    "start_time": "2023-09-16T20:35:27.811Z"
   },
   {
    "duration": 7,
    "start_time": "2023-09-16T20:35:27.825Z"
   },
   {
    "duration": 9,
    "start_time": "2023-09-16T20:35:27.833Z"
   },
   {
    "duration": 8,
    "start_time": "2023-09-16T20:35:27.843Z"
   },
   {
    "duration": 12,
    "start_time": "2023-09-16T20:35:27.852Z"
   },
   {
    "duration": 14,
    "start_time": "2023-09-16T20:35:27.865Z"
   },
   {
    "duration": 7,
    "start_time": "2023-09-16T20:35:27.880Z"
   },
   {
    "duration": 148,
    "start_time": "2023-09-16T20:35:27.889Z"
   },
   {
    "duration": 12,
    "start_time": "2023-09-16T20:35:28.039Z"
   },
   {
    "duration": 132,
    "start_time": "2023-09-16T20:35:28.052Z"
   },
   {
    "duration": 11,
    "start_time": "2023-09-16T20:35:28.186Z"
   },
   {
    "duration": 265,
    "start_time": "2023-09-16T20:35:28.199Z"
   },
   {
    "duration": 201,
    "start_time": "2023-09-16T20:35:28.466Z"
   },
   {
    "duration": 286,
    "start_time": "2023-09-16T20:35:28.669Z"
   },
   {
    "duration": 200,
    "start_time": "2023-09-16T20:35:28.958Z"
   },
   {
    "duration": 8,
    "start_time": "2023-09-16T20:35:29.159Z"
   },
   {
    "duration": 139,
    "start_time": "2023-09-16T20:35:29.169Z"
   },
   {
    "duration": 4,
    "start_time": "2023-09-16T20:35:29.310Z"
   },
   {
    "duration": 149,
    "start_time": "2023-09-16T20:35:29.316Z"
   },
   {
    "duration": 8,
    "start_time": "2023-09-16T20:35:29.466Z"
   },
   {
    "duration": 19,
    "start_time": "2023-09-16T20:35:29.476Z"
   },
   {
    "duration": 81,
    "start_time": "2023-09-16T20:35:29.496Z"
   },
   {
    "duration": 0,
    "start_time": "2023-09-16T20:35:29.578Z"
   },
   {
    "duration": 79,
    "start_time": "2023-09-16T20:37:53.261Z"
   },
   {
    "duration": 234,
    "start_time": "2023-09-16T20:38:06.080Z"
   },
   {
    "duration": 122,
    "start_time": "2023-09-16T20:38:33.863Z"
   },
   {
    "duration": 13,
    "start_time": "2023-09-16T20:38:38.750Z"
   },
   {
    "duration": 14,
    "start_time": "2023-09-16T20:38:53.248Z"
   },
   {
    "duration": 150,
    "start_time": "2023-09-16T20:38:57.929Z"
   },
   {
    "duration": 8,
    "start_time": "2023-09-16T20:41:53.529Z"
   },
   {
    "duration": 21,
    "start_time": "2023-09-16T20:47:29.523Z"
   },
   {
    "duration": 22,
    "start_time": "2023-09-16T20:47:48.179Z"
   },
   {
    "duration": 5,
    "start_time": "2023-09-16T20:47:51.161Z"
   },
   {
    "duration": 6,
    "start_time": "2023-09-16T20:47:53.461Z"
   },
   {
    "duration": 129,
    "start_time": "2023-09-16T20:48:28.739Z"
   },
   {
    "duration": 149,
    "start_time": "2023-09-16T20:49:05.278Z"
   },
   {
    "duration": 7,
    "start_time": "2023-09-16T20:50:02.534Z"
   },
   {
    "duration": 6,
    "start_time": "2023-09-16T20:50:58.431Z"
   },
   {
    "duration": 30,
    "start_time": "2023-09-16T20:51:01.448Z"
   },
   {
    "duration": 10,
    "start_time": "2023-09-16T21:31:24.645Z"
   },
   {
    "duration": 80,
    "start_time": "2023-09-16T21:32:49.544Z"
   },
   {
    "duration": 8,
    "start_time": "2023-09-16T21:32:55.128Z"
   },
   {
    "duration": 5,
    "start_time": "2023-09-16T21:34:42.618Z"
   },
   {
    "duration": 9,
    "start_time": "2023-09-16T22:04:22.671Z"
   },
   {
    "duration": 93,
    "start_time": "2023-09-16T22:05:30.408Z"
   },
   {
    "duration": 1437,
    "start_time": "2023-09-16T22:25:40.489Z"
   },
   {
    "duration": 7,
    "start_time": "2023-09-16T22:26:27.218Z"
   },
   {
    "duration": 26,
    "start_time": "2023-09-16T22:27:18.740Z"
   },
   {
    "duration": 119,
    "start_time": "2023-09-16T22:29:05.381Z"
   },
   {
    "duration": 21,
    "start_time": "2023-09-16T22:30:09.223Z"
   },
   {
    "duration": 1457,
    "start_time": "2023-09-16T22:41:48.022Z"
   },
   {
    "duration": 8,
    "start_time": "2023-09-16T22:42:16.216Z"
   },
   {
    "duration": 8,
    "start_time": "2023-09-16T22:43:02.625Z"
   },
   {
    "duration": 29,
    "start_time": "2023-09-16T22:52:04.332Z"
   },
   {
    "duration": 3,
    "start_time": "2023-09-16T22:54:50.559Z"
   },
   {
    "duration": 1446,
    "start_time": "2023-09-17T18:01:26.539Z"
   },
   {
    "duration": 82,
    "start_time": "2023-09-17T18:01:27.987Z"
   },
   {
    "duration": 13,
    "start_time": "2023-09-17T18:01:28.071Z"
   },
   {
    "duration": 3,
    "start_time": "2023-09-17T18:01:28.086Z"
   },
   {
    "duration": 16,
    "start_time": "2023-09-17T18:01:28.090Z"
   },
   {
    "duration": 21,
    "start_time": "2023-09-17T18:01:28.108Z"
   },
   {
    "duration": 3,
    "start_time": "2023-09-17T18:01:38.063Z"
   },
   {
    "duration": 5,
    "start_time": "2023-09-17T18:02:23.490Z"
   },
   {
    "duration": 125,
    "start_time": "2023-09-17T18:04:20.241Z"
   },
   {
    "duration": 7,
    "start_time": "2023-09-17T18:05:06.672Z"
   },
   {
    "duration": 15,
    "start_time": "2023-09-17T18:07:23.851Z"
   },
   {
    "duration": 115,
    "start_time": "2023-09-17T18:09:45.649Z"
   },
   {
    "duration": 13,
    "start_time": "2023-09-17T18:10:30.909Z"
   },
   {
    "duration": 6,
    "start_time": "2023-09-17T18:12:22.974Z"
   },
   {
    "duration": 11,
    "start_time": "2023-09-17T18:12:49.644Z"
   },
   {
    "duration": 5,
    "start_time": "2023-09-17T18:13:11.259Z"
   },
   {
    "duration": 8,
    "start_time": "2023-09-17T18:13:45.748Z"
   },
   {
    "duration": 3,
    "start_time": "2023-09-17T18:14:18.471Z"
   },
   {
    "duration": 6,
    "start_time": "2023-09-17T18:27:55.184Z"
   },
   {
    "duration": 8,
    "start_time": "2023-09-17T18:28:44.749Z"
   },
   {
    "duration": 1217,
    "start_time": "2023-09-17T18:34:16.903Z"
   },
   {
    "duration": 44,
    "start_time": "2023-09-17T18:34:18.121Z"
   },
   {
    "duration": 24,
    "start_time": "2023-09-17T18:34:18.167Z"
   },
   {
    "duration": 10,
    "start_time": "2023-09-17T18:34:18.193Z"
   },
   {
    "duration": 37,
    "start_time": "2023-09-17T18:34:18.205Z"
   },
   {
    "duration": 21,
    "start_time": "2023-09-17T18:34:18.244Z"
   },
   {
    "duration": 6,
    "start_time": "2023-09-17T18:34:28.081Z"
   },
   {
    "duration": 9,
    "start_time": "2023-09-17T18:36:37.711Z"
   },
   {
    "duration": 99,
    "start_time": "2023-09-17T18:40:41.515Z"
   },
   {
    "duration": 10,
    "start_time": "2023-09-17T18:48:07.456Z"
   },
   {
    "duration": 3,
    "start_time": "2023-09-17T18:48:27.177Z"
   },
   {
    "duration": 7,
    "start_time": "2023-09-17T18:48:41.997Z"
   },
   {
    "duration": 9,
    "start_time": "2023-09-17T18:50:03.384Z"
   },
   {
    "duration": 7,
    "start_time": "2023-09-17T18:50:16.808Z"
   },
   {
    "duration": 6,
    "start_time": "2023-09-17T18:51:24.385Z"
   },
   {
    "duration": 11,
    "start_time": "2023-09-17T18:51:44.915Z"
   },
   {
    "duration": 7,
    "start_time": "2023-09-17T18:51:59.645Z"
   },
   {
    "duration": 9,
    "start_time": "2023-09-17T18:59:53.109Z"
   },
   {
    "duration": 140,
    "start_time": "2023-09-17T19:00:50.321Z"
   },
   {
    "duration": 79,
    "start_time": "2023-09-17T19:01:03.879Z"
   },
   {
    "duration": 8,
    "start_time": "2023-09-17T19:01:13.937Z"
   },
   {
    "duration": 16,
    "start_time": "2023-09-17T19:01:18.446Z"
   },
   {
    "duration": 15,
    "start_time": "2023-09-17T19:04:27.528Z"
   },
   {
    "duration": 16,
    "start_time": "2023-09-17T19:08:16.033Z"
   },
   {
    "duration": 95,
    "start_time": "2023-09-17T19:08:53.889Z"
   },
   {
    "duration": 11,
    "start_time": "2023-09-17T19:09:00.600Z"
   },
   {
    "duration": 7,
    "start_time": "2023-09-17T19:10:45.571Z"
   },
   {
    "duration": 11,
    "start_time": "2023-09-17T19:10:57.746Z"
   },
   {
    "duration": 9,
    "start_time": "2023-09-17T19:11:08.181Z"
   },
   {
    "duration": 7,
    "start_time": "2023-09-17T19:11:14.189Z"
   },
   {
    "duration": 104,
    "start_time": "2023-09-17T19:12:30.586Z"
   },
   {
    "duration": 11,
    "start_time": "2023-09-17T19:12:42.962Z"
   },
   {
    "duration": 9,
    "start_time": "2023-09-17T19:21:29.686Z"
   },
   {
    "duration": 902,
    "start_time": "2023-09-17T19:21:56.978Z"
   },
   {
    "duration": 1709,
    "start_time": "2023-09-17T19:22:08.883Z"
   },
   {
    "duration": 6,
    "start_time": "2023-09-17T19:22:16.012Z"
   },
   {
    "duration": 8,
    "start_time": "2023-09-17T19:22:32.084Z"
   },
   {
    "duration": 10,
    "start_time": "2023-09-17T19:22:42.315Z"
   },
   {
    "duration": 16,
    "start_time": "2023-09-17T19:23:09.260Z"
   },
   {
    "duration": 97,
    "start_time": "2023-09-17T19:24:04.103Z"
   },
   {
    "duration": 13,
    "start_time": "2023-09-17T19:24:16.565Z"
   },
   {
    "duration": 9,
    "start_time": "2023-09-17T19:25:56.618Z"
   },
   {
    "duration": 4,
    "start_time": "2023-09-17T19:26:51.449Z"
   },
   {
    "duration": 11,
    "start_time": "2023-09-17T19:27:32.400Z"
   },
   {
    "duration": 3,
    "start_time": "2023-09-17T19:27:55.288Z"
   },
   {
    "duration": 9,
    "start_time": "2023-09-17T19:28:00.434Z"
   },
   {
    "duration": 88,
    "start_time": "2023-09-17T19:28:03.990Z"
   },
   {
    "duration": 7,
    "start_time": "2023-09-17T19:28:08.986Z"
   },
   {
    "duration": 89,
    "start_time": "2023-09-17T19:30:38.946Z"
   },
   {
    "duration": 6,
    "start_time": "2023-09-17T19:30:48.598Z"
   },
   {
    "duration": 83,
    "start_time": "2023-09-17T19:32:39.285Z"
   },
   {
    "duration": 13,
    "start_time": "2023-09-17T19:40:24.175Z"
   },
   {
    "duration": 83,
    "start_time": "2023-09-17T19:40:29.911Z"
   },
   {
    "duration": 10,
    "start_time": "2023-09-17T19:40:38.172Z"
   },
   {
    "duration": 11,
    "start_time": "2023-09-17T19:40:54.502Z"
   },
   {
    "duration": 6,
    "start_time": "2023-09-17T19:41:01.984Z"
   },
   {
    "duration": 9,
    "start_time": "2023-09-17T20:01:21.174Z"
   },
   {
    "duration": 9,
    "start_time": "2023-09-17T20:02:54.966Z"
   },
   {
    "duration": 3,
    "start_time": "2023-09-17T20:04:17.229Z"
   },
   {
    "duration": 6,
    "start_time": "2023-09-17T20:04:46.533Z"
   },
   {
    "duration": 4,
    "start_time": "2023-09-17T20:05:37.754Z"
   },
   {
    "duration": 6,
    "start_time": "2023-09-17T20:05:40.986Z"
   },
   {
    "duration": 8,
    "start_time": "2023-09-17T20:05:50.308Z"
   },
   {
    "duration": 9,
    "start_time": "2023-09-17T20:05:54.506Z"
   },
   {
    "duration": 8,
    "start_time": "2023-09-17T20:06:27.662Z"
   },
   {
    "duration": 4,
    "start_time": "2023-09-17T20:06:30.526Z"
   },
   {
    "duration": 5,
    "start_time": "2023-09-17T20:06:33.370Z"
   },
   {
    "duration": 3,
    "start_time": "2023-09-17T20:08:17.579Z"
   },
   {
    "duration": 28,
    "start_time": "2023-09-17T20:08:17.584Z"
   },
   {
    "duration": 13,
    "start_time": "2023-09-17T20:08:17.615Z"
   },
   {
    "duration": 5,
    "start_time": "2023-09-17T20:08:17.631Z"
   },
   {
    "duration": 5,
    "start_time": "2023-09-17T20:08:17.640Z"
   },
   {
    "duration": 10,
    "start_time": "2023-09-17T20:08:17.647Z"
   },
   {
    "duration": 11,
    "start_time": "2023-09-17T20:08:17.659Z"
   },
   {
    "duration": 3,
    "start_time": "2023-09-17T20:08:17.672Z"
   },
   {
    "duration": 11,
    "start_time": "2023-09-17T20:08:17.677Z"
   },
   {
    "duration": 15,
    "start_time": "2023-09-17T20:08:17.725Z"
   },
   {
    "duration": 4,
    "start_time": "2023-09-17T20:08:17.742Z"
   },
   {
    "duration": 18,
    "start_time": "2023-09-17T20:08:17.748Z"
   },
   {
    "duration": 134,
    "start_time": "2023-09-17T20:08:17.768Z"
   },
   {
    "duration": 9,
    "start_time": "2023-09-17T20:08:17.906Z"
   },
   {
    "duration": 18,
    "start_time": "2023-09-17T20:08:17.917Z"
   },
   {
    "duration": 16,
    "start_time": "2023-09-17T20:08:17.937Z"
   },
   {
    "duration": 11,
    "start_time": "2023-09-17T20:08:17.954Z"
   },
   {
    "duration": 14,
    "start_time": "2023-09-17T20:08:17.967Z"
   },
   {
    "duration": 4,
    "start_time": "2023-09-17T20:08:17.984Z"
   },
   {
    "duration": 8,
    "start_time": "2023-09-17T20:08:17.989Z"
   },
   {
    "duration": 31,
    "start_time": "2023-09-17T20:08:17.999Z"
   },
   {
    "duration": 14,
    "start_time": "2023-09-17T20:08:18.032Z"
   },
   {
    "duration": 8,
    "start_time": "2023-09-17T20:08:18.048Z"
   },
   {
    "duration": 18,
    "start_time": "2023-09-17T20:08:18.057Z"
   },
   {
    "duration": 177,
    "start_time": "2023-09-17T20:08:18.077Z"
   },
   {
    "duration": 11,
    "start_time": "2023-09-17T20:08:18.256Z"
   },
   {
    "duration": 133,
    "start_time": "2023-09-17T20:08:18.269Z"
   },
   {
    "duration": 10,
    "start_time": "2023-09-17T20:08:23.478Z"
   },
   {
    "duration": 10,
    "start_time": "2023-09-17T20:18:25.182Z"
   },
   {
    "duration": 5,
    "start_time": "2023-09-17T21:32:11.794Z"
   },
   {
    "duration": 8,
    "start_time": "2023-09-17T21:32:20.189Z"
   },
   {
    "duration": 3,
    "start_time": "2023-09-17T21:33:06.895Z"
   },
   {
    "duration": 12,
    "start_time": "2023-09-17T21:33:09.410Z"
   },
   {
    "duration": 154,
    "start_time": "2023-09-17T21:36:59.089Z"
   },
   {
    "duration": 80,
    "start_time": "2023-09-17T21:37:17.517Z"
   },
   {
    "duration": 79,
    "start_time": "2023-09-17T21:37:34.331Z"
   },
   {
    "duration": 89,
    "start_time": "2023-09-17T21:37:50.870Z"
   },
   {
    "duration": 85,
    "start_time": "2023-09-17T21:38:42.693Z"
   },
   {
    "duration": 84,
    "start_time": "2023-09-17T21:38:49.005Z"
   },
   {
    "duration": 10,
    "start_time": "2023-09-17T21:39:56.569Z"
   },
   {
    "duration": 6,
    "start_time": "2023-09-17T21:40:26.212Z"
   },
   {
    "duration": 13,
    "start_time": "2023-09-17T21:40:37.193Z"
   },
   {
    "duration": 97,
    "start_time": "2023-09-17T21:41:09.101Z"
   },
   {
    "duration": 6,
    "start_time": "2023-09-17T21:41:21.785Z"
   },
   {
    "duration": 5,
    "start_time": "2023-09-17T21:42:55.497Z"
   },
   {
    "duration": 5,
    "start_time": "2023-09-17T21:43:10.716Z"
   },
   {
    "duration": 6,
    "start_time": "2023-09-17T21:43:24.438Z"
   },
   {
    "duration": 3,
    "start_time": "2023-09-17T21:43:32.504Z"
   },
   {
    "duration": 5,
    "start_time": "2023-09-17T21:43:34.281Z"
   },
   {
    "duration": 7,
    "start_time": "2023-09-17T21:43:36.420Z"
   },
   {
    "duration": 7,
    "start_time": "2023-09-17T21:43:38.497Z"
   },
   {
    "duration": 3,
    "start_time": "2023-09-17T21:44:14.701Z"
   },
   {
    "duration": 5,
    "start_time": "2023-09-17T21:44:17.011Z"
   },
   {
    "duration": 6,
    "start_time": "2023-09-17T21:44:19.407Z"
   },
   {
    "duration": 8,
    "start_time": "2023-09-17T21:44:21.708Z"
   },
   {
    "duration": 4,
    "start_time": "2023-09-17T21:44:27.994Z"
   },
   {
    "duration": 13,
    "start_time": "2023-09-17T21:44:35.444Z"
   },
   {
    "duration": 3,
    "start_time": "2023-09-17T21:45:26.143Z"
   },
   {
    "duration": 6,
    "start_time": "2023-09-17T21:45:28.368Z"
   },
   {
    "duration": 19,
    "start_time": "2023-09-17T21:45:36.121Z"
   },
   {
    "duration": 5,
    "start_time": "2023-09-17T21:46:59.053Z"
   },
   {
    "duration": 7,
    "start_time": "2023-09-17T21:47:02.525Z"
   },
   {
    "duration": 3,
    "start_time": "2023-09-17T21:47:08.196Z"
   },
   {
    "duration": 6,
    "start_time": "2023-09-17T21:47:10.433Z"
   },
   {
    "duration": 5,
    "start_time": "2023-09-17T21:47:12.388Z"
   },
   {
    "duration": 7,
    "start_time": "2023-09-17T21:47:14.345Z"
   },
   {
    "duration": 4,
    "start_time": "2023-09-17T21:48:09.112Z"
   },
   {
    "duration": 1164,
    "start_time": "2023-09-17T21:48:36.743Z"
   },
   {
    "duration": 28,
    "start_time": "2023-09-17T21:48:37.908Z"
   },
   {
    "duration": 13,
    "start_time": "2023-09-17T21:48:37.937Z"
   },
   {
    "duration": 3,
    "start_time": "2023-09-17T21:48:37.953Z"
   },
   {
    "duration": 23,
    "start_time": "2023-09-17T21:48:37.957Z"
   },
   {
    "duration": 15,
    "start_time": "2023-09-17T21:48:37.982Z"
   },
   {
    "duration": 24,
    "start_time": "2023-09-17T21:48:37.999Z"
   },
   {
    "duration": 9,
    "start_time": "2023-09-17T21:48:38.025Z"
   },
   {
    "duration": 12,
    "start_time": "2023-09-17T21:48:38.036Z"
   },
   {
    "duration": 19,
    "start_time": "2023-09-17T21:48:38.051Z"
   },
   {
    "duration": 14,
    "start_time": "2023-09-17T21:48:38.072Z"
   },
   {
    "duration": 10,
    "start_time": "2023-09-17T21:48:38.087Z"
   },
   {
    "duration": 58,
    "start_time": "2023-09-17T21:48:38.099Z"
   },
   {
    "duration": 11,
    "start_time": "2023-09-17T21:48:38.159Z"
   },
   {
    "duration": 19,
    "start_time": "2023-09-17T21:48:38.172Z"
   },
   {
    "duration": 18,
    "start_time": "2023-09-17T21:48:38.194Z"
   },
   {
    "duration": 9,
    "start_time": "2023-09-17T21:48:38.215Z"
   },
   {
    "duration": 21,
    "start_time": "2023-09-17T21:48:38.226Z"
   },
   {
    "duration": 5,
    "start_time": "2023-09-17T21:48:38.250Z"
   },
   {
    "duration": 13,
    "start_time": "2023-09-17T21:48:38.257Z"
   },
   {
    "duration": 6,
    "start_time": "2023-09-17T21:48:38.272Z"
   },
   {
    "duration": 18,
    "start_time": "2023-09-17T21:48:38.280Z"
   },
   {
    "duration": 25,
    "start_time": "2023-09-17T21:48:38.300Z"
   },
   {
    "duration": 11,
    "start_time": "2023-09-17T21:48:38.327Z"
   },
   {
    "duration": 197,
    "start_time": "2023-09-17T21:48:38.340Z"
   },
   {
    "duration": 12,
    "start_time": "2023-09-17T21:48:38.539Z"
   },
   {
    "duration": 141,
    "start_time": "2023-09-17T21:48:38.552Z"
   },
   {
    "duration": 10,
    "start_time": "2023-09-17T21:48:38.696Z"
   },
   {
    "duration": 9,
    "start_time": "2023-09-17T21:48:38.724Z"
   },
   {
    "duration": 3,
    "start_time": "2023-09-17T21:48:49.283Z"
   },
   {
    "duration": 5,
    "start_time": "2023-09-17T21:48:56.916Z"
   },
   {
    "duration": 13,
    "start_time": "2023-09-17T21:49:08.154Z"
   },
   {
    "duration": 7,
    "start_time": "2023-09-17T21:49:36.413Z"
   },
   {
    "duration": 7,
    "start_time": "2023-09-17T21:49:38.101Z"
   },
   {
    "duration": 3,
    "start_time": "2023-09-17T21:49:52.708Z"
   },
   {
    "duration": 5,
    "start_time": "2023-09-17T21:49:54.737Z"
   },
   {
    "duration": 13,
    "start_time": "2023-09-17T21:49:57.677Z"
   },
   {
    "duration": 6,
    "start_time": "2023-09-17T21:52:11.224Z"
   },
   {
    "duration": 13,
    "start_time": "2023-09-17T21:52:17.736Z"
   },
   {
    "duration": 6,
    "start_time": "2023-09-17T21:53:43.217Z"
   },
   {
    "duration": 18,
    "start_time": "2023-09-17T21:53:46.260Z"
   },
   {
    "duration": 5,
    "start_time": "2023-09-17T21:53:54.550Z"
   },
   {
    "duration": 106,
    "start_time": "2023-09-17T22:36:27.997Z"
   },
   {
    "duration": 10,
    "start_time": "2023-09-17T22:36:46.162Z"
   },
   {
    "duration": 9,
    "start_time": "2023-09-17T22:41:28.249Z"
   },
   {
    "duration": 12,
    "start_time": "2023-09-17T22:42:07.295Z"
   },
   {
    "duration": 115,
    "start_time": "2023-09-17T22:42:10.680Z"
   },
   {
    "duration": 10,
    "start_time": "2023-09-17T22:42:13.251Z"
   },
   {
    "duration": 4,
    "start_time": "2023-09-17T22:45:32.255Z"
   },
   {
    "duration": 6,
    "start_time": "2023-09-17T22:45:34.590Z"
   },
   {
    "duration": 12,
    "start_time": "2023-09-17T22:45:37.574Z"
   },
   {
    "duration": 1211,
    "start_time": "2023-09-17T22:46:24.982Z"
   },
   {
    "duration": 54,
    "start_time": "2023-09-17T22:46:26.195Z"
   },
   {
    "duration": 14,
    "start_time": "2023-09-17T22:46:26.251Z"
   },
   {
    "duration": 21,
    "start_time": "2023-09-17T22:46:26.267Z"
   },
   {
    "duration": 51,
    "start_time": "2023-09-17T22:46:26.290Z"
   },
   {
    "duration": 38,
    "start_time": "2023-09-17T22:46:26.343Z"
   },
   {
    "duration": 30,
    "start_time": "2023-09-17T22:46:26.382Z"
   },
   {
    "duration": 14,
    "start_time": "2023-09-17T22:46:26.414Z"
   },
   {
    "duration": 28,
    "start_time": "2023-09-17T22:46:26.429Z"
   },
   {
    "duration": 51,
    "start_time": "2023-09-17T22:46:26.460Z"
   },
   {
    "duration": 87,
    "start_time": "2023-09-17T22:46:26.513Z"
   },
   {
    "duration": 49,
    "start_time": "2023-09-17T22:46:26.602Z"
   },
   {
    "duration": 107,
    "start_time": "2023-09-17T22:46:26.653Z"
   },
   {
    "duration": 41,
    "start_time": "2023-09-17T22:46:26.762Z"
   },
   {
    "duration": 17,
    "start_time": "2023-09-17T22:46:26.804Z"
   },
   {
    "duration": 27,
    "start_time": "2023-09-17T22:46:26.822Z"
   },
   {
    "duration": 21,
    "start_time": "2023-09-17T22:46:26.851Z"
   },
   {
    "duration": 23,
    "start_time": "2023-09-17T22:46:26.874Z"
   },
   {
    "duration": 26,
    "start_time": "2023-09-17T22:46:26.898Z"
   },
   {
    "duration": 17,
    "start_time": "2023-09-17T22:46:26.926Z"
   },
   {
    "duration": 6,
    "start_time": "2023-09-17T22:46:26.945Z"
   },
   {
    "duration": 38,
    "start_time": "2023-09-17T22:46:26.953Z"
   },
   {
    "duration": 111,
    "start_time": "2023-09-17T22:46:26.992Z"
   },
   {
    "duration": 25,
    "start_time": "2023-09-17T22:46:27.105Z"
   },
   {
    "duration": 189,
    "start_time": "2023-09-17T22:46:27.132Z"
   },
   {
    "duration": 10,
    "start_time": "2023-09-17T22:46:27.322Z"
   },
   {
    "duration": 139,
    "start_time": "2023-09-17T22:46:27.334Z"
   },
   {
    "duration": 9,
    "start_time": "2023-09-17T22:46:27.476Z"
   },
   {
    "duration": 44,
    "start_time": "2023-09-17T22:46:27.486Z"
   },
   {
    "duration": 34,
    "start_time": "2023-09-17T22:46:27.532Z"
   },
   {
    "duration": 36,
    "start_time": "2023-09-17T22:46:27.568Z"
   },
   {
    "duration": 15,
    "start_time": "2023-09-17T22:46:42.871Z"
   },
   {
    "duration": 6,
    "start_time": "2023-09-17T22:47:19.066Z"
   },
   {
    "duration": 12,
    "start_time": "2023-09-17T22:47:31.193Z"
   },
   {
    "duration": 5,
    "start_time": "2023-09-17T22:49:40.323Z"
   },
   {
    "duration": 145,
    "start_time": "2023-09-17T22:52:13.010Z"
   },
   {
    "duration": 1091,
    "start_time": "2023-09-17T22:53:07.065Z"
   },
   {
    "duration": 1120,
    "start_time": "2023-09-17T22:55:39.049Z"
   },
   {
    "duration": 28,
    "start_time": "2023-09-17T22:55:40.171Z"
   },
   {
    "duration": 13,
    "start_time": "2023-09-17T22:55:40.200Z"
   },
   {
    "duration": 3,
    "start_time": "2023-09-17T22:55:40.214Z"
   },
   {
    "duration": 6,
    "start_time": "2023-09-17T22:55:40.219Z"
   },
   {
    "duration": 11,
    "start_time": "2023-09-17T22:55:40.226Z"
   },
   {
    "duration": 9,
    "start_time": "2023-09-17T22:55:40.239Z"
   },
   {
    "duration": 4,
    "start_time": "2023-09-17T22:55:40.249Z"
   },
   {
    "duration": 17,
    "start_time": "2023-09-17T22:55:40.254Z"
   },
   {
    "duration": 18,
    "start_time": "2023-09-17T22:55:40.274Z"
   },
   {
    "duration": 20,
    "start_time": "2023-09-17T22:55:40.294Z"
   },
   {
    "duration": 10,
    "start_time": "2023-09-17T22:55:40.317Z"
   },
   {
    "duration": 57,
    "start_time": "2023-09-17T22:55:40.328Z"
   },
   {
    "duration": 7,
    "start_time": "2023-09-17T22:55:40.387Z"
   },
   {
    "duration": 12,
    "start_time": "2023-09-17T22:55:40.395Z"
   },
   {
    "duration": 11,
    "start_time": "2023-09-17T22:55:40.409Z"
   },
   {
    "duration": 12,
    "start_time": "2023-09-17T22:55:40.422Z"
   },
   {
    "duration": 21,
    "start_time": "2023-09-17T22:55:40.435Z"
   },
   {
    "duration": 5,
    "start_time": "2023-09-17T22:55:40.458Z"
   },
   {
    "duration": 7,
    "start_time": "2023-09-17T22:55:40.464Z"
   },
   {
    "duration": 6,
    "start_time": "2023-09-17T22:55:40.473Z"
   },
   {
    "duration": 6,
    "start_time": "2023-09-17T22:55:40.481Z"
   },
   {
    "duration": 9,
    "start_time": "2023-09-17T22:55:40.488Z"
   },
   {
    "duration": 25,
    "start_time": "2023-09-17T22:55:40.500Z"
   },
   {
    "duration": 164,
    "start_time": "2023-09-17T22:55:40.527Z"
   },
   {
    "duration": 11,
    "start_time": "2023-09-17T22:55:40.693Z"
   },
   {
    "duration": 131,
    "start_time": "2023-09-17T22:55:40.705Z"
   },
   {
    "duration": 11,
    "start_time": "2023-09-17T22:55:40.839Z"
   },
   {
    "duration": 8,
    "start_time": "2023-09-17T22:55:40.852Z"
   },
   {
    "duration": 7,
    "start_time": "2023-09-17T22:55:40.861Z"
   },
   {
    "duration": 12,
    "start_time": "2023-09-17T22:55:40.870Z"
   },
   {
    "duration": 12,
    "start_time": "2023-09-17T22:55:40.884Z"
   },
   {
    "duration": 7,
    "start_time": "2023-09-17T22:55:40.898Z"
   },
   {
    "duration": 27,
    "start_time": "2023-09-17T22:55:40.907Z"
   },
   {
    "duration": 115,
    "start_time": "2023-09-17T22:57:34.969Z"
   },
   {
    "duration": 8,
    "start_time": "2023-09-17T22:57:40.230Z"
   },
   {
    "duration": 120,
    "start_time": "2023-09-17T23:00:30.849Z"
   },
   {
    "duration": 9,
    "start_time": "2023-09-17T23:00:33.891Z"
   },
   {
    "duration": 128,
    "start_time": "2023-09-17T23:05:05.345Z"
   },
   {
    "duration": 104,
    "start_time": "2023-09-17T23:05:12.878Z"
   },
   {
    "duration": 10,
    "start_time": "2023-09-17T23:06:03.989Z"
   },
   {
    "duration": 9,
    "start_time": "2023-09-17T23:07:50.140Z"
   },
   {
    "duration": 1489,
    "start_time": "2023-09-18T07:46:06.598Z"
   },
   {
    "duration": 71,
    "start_time": "2023-09-18T07:46:08.089Z"
   },
   {
    "duration": 14,
    "start_time": "2023-09-18T07:46:08.162Z"
   },
   {
    "duration": 3,
    "start_time": "2023-09-18T07:46:08.179Z"
   },
   {
    "duration": 8,
    "start_time": "2023-09-18T07:46:08.184Z"
   },
   {
    "duration": 22,
    "start_time": "2023-09-18T07:46:08.193Z"
   },
   {
    "duration": 21,
    "start_time": "2023-09-18T07:46:08.219Z"
   },
   {
    "duration": 6,
    "start_time": "2023-09-18T07:46:08.242Z"
   },
   {
    "duration": 30,
    "start_time": "2023-09-18T07:46:08.249Z"
   },
   {
    "duration": 10,
    "start_time": "2023-09-18T07:46:08.283Z"
   },
   {
    "duration": 15,
    "start_time": "2023-09-18T07:46:08.294Z"
   },
   {
    "duration": 30,
    "start_time": "2023-09-18T07:46:08.318Z"
   },
   {
    "duration": 150,
    "start_time": "2023-09-18T07:46:08.350Z"
   },
   {
    "duration": 10,
    "start_time": "2023-09-18T07:46:08.503Z"
   },
   {
    "duration": 22,
    "start_time": "2023-09-18T07:46:08.515Z"
   },
   {
    "duration": 33,
    "start_time": "2023-09-18T07:46:08.539Z"
   },
   {
    "duration": 16,
    "start_time": "2023-09-18T07:46:08.574Z"
   },
   {
    "duration": 28,
    "start_time": "2023-09-18T07:46:08.592Z"
   },
   {
    "duration": 9,
    "start_time": "2023-09-18T07:46:08.626Z"
   },
   {
    "duration": 14,
    "start_time": "2023-09-18T07:46:08.637Z"
   },
   {
    "duration": 28,
    "start_time": "2023-09-18T07:46:08.652Z"
   },
   {
    "duration": 14,
    "start_time": "2023-09-18T07:46:08.682Z"
   },
   {
    "duration": 30,
    "start_time": "2023-09-18T07:46:08.698Z"
   },
   {
    "duration": 24,
    "start_time": "2023-09-18T07:46:08.730Z"
   },
   {
    "duration": 204,
    "start_time": "2023-09-18T07:46:08.756Z"
   },
   {
    "duration": 13,
    "start_time": "2023-09-18T07:46:08.962Z"
   },
   {
    "duration": 158,
    "start_time": "2023-09-18T07:46:08.976Z"
   },
   {
    "duration": 22,
    "start_time": "2023-09-18T07:46:09.138Z"
   },
   {
    "duration": 22,
    "start_time": "2023-09-18T07:46:09.161Z"
   },
   {
    "duration": 3,
    "start_time": "2023-09-18T07:46:18.285Z"
   },
   {
    "duration": 5,
    "start_time": "2023-09-18T07:46:29.775Z"
   },
   {
    "duration": 14,
    "start_time": "2023-09-18T07:46:31.870Z"
   },
   {
    "duration": 1271,
    "start_time": "2023-09-18T07:46:44.485Z"
   },
   {
    "duration": 29,
    "start_time": "2023-09-18T07:46:45.758Z"
   },
   {
    "duration": 15,
    "start_time": "2023-09-18T07:46:45.789Z"
   },
   {
    "duration": 21,
    "start_time": "2023-09-18T07:46:45.805Z"
   },
   {
    "duration": 13,
    "start_time": "2023-09-18T07:46:45.828Z"
   },
   {
    "duration": 21,
    "start_time": "2023-09-18T07:46:45.843Z"
   },
   {
    "duration": 40,
    "start_time": "2023-09-18T07:46:45.866Z"
   },
   {
    "duration": 32,
    "start_time": "2023-09-18T07:46:45.908Z"
   },
   {
    "duration": 35,
    "start_time": "2023-09-18T07:46:45.943Z"
   },
   {
    "duration": 33,
    "start_time": "2023-09-18T07:46:45.980Z"
   },
   {
    "duration": 21,
    "start_time": "2023-09-18T07:46:46.014Z"
   },
   {
    "duration": 38,
    "start_time": "2023-09-18T07:46:46.037Z"
   },
   {
    "duration": 69,
    "start_time": "2023-09-18T07:46:46.077Z"
   },
   {
    "duration": 9,
    "start_time": "2023-09-18T07:46:46.150Z"
   },
   {
    "duration": 27,
    "start_time": "2023-09-18T07:46:46.161Z"
   },
   {
    "duration": 44,
    "start_time": "2023-09-18T07:46:46.190Z"
   },
   {
    "duration": 21,
    "start_time": "2023-09-18T07:46:46.236Z"
   },
   {
    "duration": 25,
    "start_time": "2023-09-18T07:46:46.259Z"
   },
   {
    "duration": 36,
    "start_time": "2023-09-18T07:46:46.286Z"
   },
   {
    "duration": 29,
    "start_time": "2023-09-18T07:46:46.324Z"
   },
   {
    "duration": 12,
    "start_time": "2023-09-18T07:46:46.355Z"
   },
   {
    "duration": 25,
    "start_time": "2023-09-18T07:46:46.368Z"
   },
   {
    "duration": 34,
    "start_time": "2023-09-18T07:46:46.395Z"
   },
   {
    "duration": 12,
    "start_time": "2023-09-18T07:46:46.431Z"
   },
   {
    "duration": 209,
    "start_time": "2023-09-18T07:46:46.445Z"
   },
   {
    "duration": 15,
    "start_time": "2023-09-18T07:46:46.656Z"
   },
   {
    "duration": 144,
    "start_time": "2023-09-18T07:46:46.673Z"
   },
   {
    "duration": 14,
    "start_time": "2023-09-18T07:46:46.818Z"
   },
   {
    "duration": 18,
    "start_time": "2023-09-18T07:46:46.834Z"
   },
   {
    "duration": 3,
    "start_time": "2023-09-18T07:46:52.042Z"
   },
   {
    "duration": 6,
    "start_time": "2023-09-18T07:46:54.525Z"
   },
   {
    "duration": 13,
    "start_time": "2023-09-18T07:46:56.781Z"
   },
   {
    "duration": 5,
    "start_time": "2023-09-18T07:47:07.790Z"
   },
   {
    "duration": 15,
    "start_time": "2023-09-18T07:47:09.869Z"
   },
   {
    "duration": 12,
    "start_time": "2023-09-18T07:48:19.428Z"
   },
   {
    "duration": 11,
    "start_time": "2023-09-18T07:48:26.663Z"
   },
   {
    "duration": 6,
    "start_time": "2023-09-18T08:02:39.264Z"
   },
   {
    "duration": 109,
    "start_time": "2023-09-18T08:25:28.196Z"
   },
   {
    "duration": 3,
    "start_time": "2023-09-18T08:25:34.532Z"
   },
   {
    "duration": 6,
    "start_time": "2023-09-18T08:25:41.100Z"
   },
   {
    "duration": 5,
    "start_time": "2023-09-18T08:26:49.286Z"
   },
   {
    "duration": 8,
    "start_time": "2023-09-18T08:27:02.028Z"
   },
   {
    "duration": 6,
    "start_time": "2023-09-18T08:27:44.155Z"
   },
   {
    "duration": 1242,
    "start_time": "2023-09-18T08:28:26.611Z"
   },
   {
    "duration": 29,
    "start_time": "2023-09-18T08:28:27.856Z"
   },
   {
    "duration": 15,
    "start_time": "2023-09-18T08:28:27.887Z"
   },
   {
    "duration": 5,
    "start_time": "2023-09-18T08:28:27.905Z"
   },
   {
    "duration": 20,
    "start_time": "2023-09-18T08:28:27.912Z"
   },
   {
    "duration": 13,
    "start_time": "2023-09-18T08:28:27.934Z"
   },
   {
    "duration": 12,
    "start_time": "2023-09-18T08:28:27.949Z"
   },
   {
    "duration": 4,
    "start_time": "2023-09-18T08:28:27.963Z"
   },
   {
    "duration": 8,
    "start_time": "2023-09-18T08:28:27.969Z"
   },
   {
    "duration": 37,
    "start_time": "2023-09-18T08:28:27.979Z"
   },
   {
    "duration": 24,
    "start_time": "2023-09-18T08:28:28.018Z"
   },
   {
    "duration": 8,
    "start_time": "2023-09-18T08:28:28.044Z"
   },
   {
    "duration": 56,
    "start_time": "2023-09-18T08:28:28.054Z"
   },
   {
    "duration": 9,
    "start_time": "2023-09-18T08:28:28.113Z"
   },
   {
    "duration": 16,
    "start_time": "2023-09-18T08:28:28.124Z"
   },
   {
    "duration": 22,
    "start_time": "2023-09-18T08:28:28.143Z"
   },
   {
    "duration": 13,
    "start_time": "2023-09-18T08:28:28.167Z"
   },
   {
    "duration": 34,
    "start_time": "2023-09-18T08:28:28.182Z"
   },
   {
    "duration": 13,
    "start_time": "2023-09-18T08:28:28.217Z"
   },
   {
    "duration": 9,
    "start_time": "2023-09-18T08:28:28.232Z"
   },
   {
    "duration": 8,
    "start_time": "2023-09-18T08:28:28.244Z"
   },
   {
    "duration": 11,
    "start_time": "2023-09-18T08:28:28.254Z"
   },
   {
    "duration": 7,
    "start_time": "2023-09-18T08:28:28.267Z"
   },
   {
    "duration": 7,
    "start_time": "2023-09-18T08:28:28.309Z"
   },
   {
    "duration": 214,
    "start_time": "2023-09-18T08:28:28.317Z"
   },
   {
    "duration": 13,
    "start_time": "2023-09-18T08:28:39.585Z"
   },
   {
    "duration": 6,
    "start_time": "2023-09-18T08:28:44.056Z"
   },
   {
    "duration": 9,
    "start_time": "2023-09-18T08:32:07.624Z"
   },
   {
    "duration": 4,
    "start_time": "2023-09-18T08:33:25.274Z"
   },
   {
    "duration": 162,
    "start_time": "2023-09-18T08:34:03.804Z"
   },
   {
    "duration": 225,
    "start_time": "2023-09-18T08:55:09.935Z"
   },
   {
    "duration": 188,
    "start_time": "2023-09-18T08:55:16.775Z"
   },
   {
    "duration": 329,
    "start_time": "2023-09-18T08:55:21.994Z"
   },
   {
    "duration": 15,
    "start_time": "2023-09-18T08:55:52.159Z"
   },
   {
    "duration": 7,
    "start_time": "2023-09-18T08:56:10.433Z"
   },
   {
    "duration": 8,
    "start_time": "2023-09-18T08:57:12.987Z"
   },
   {
    "duration": 10,
    "start_time": "2023-09-18T08:58:35.869Z"
   },
   {
    "duration": 21,
    "start_time": "2023-09-18T08:58:55.309Z"
   },
   {
    "duration": 9,
    "start_time": "2023-09-18T08:59:20.935Z"
   },
   {
    "duration": 3,
    "start_time": "2023-09-18T09:00:23.478Z"
   },
   {
    "duration": 9,
    "start_time": "2023-09-18T09:00:42.507Z"
   },
   {
    "duration": 11,
    "start_time": "2023-09-18T09:06:40.641Z"
   },
   {
    "duration": 12,
    "start_time": "2023-09-18T09:06:47.670Z"
   },
   {
    "duration": 19,
    "start_time": "2023-09-18T09:07:01.497Z"
   },
   {
    "duration": 11,
    "start_time": "2023-09-18T09:07:51.139Z"
   },
   {
    "duration": 7,
    "start_time": "2023-09-18T09:08:21.685Z"
   },
   {
    "duration": 8,
    "start_time": "2023-09-18T09:08:30.250Z"
   },
   {
    "duration": 4,
    "start_time": "2023-09-18T09:08:40.794Z"
   },
   {
    "duration": 7,
    "start_time": "2023-09-18T09:19:11.352Z"
   },
   {
    "duration": 7,
    "start_time": "2023-09-18T09:19:20.747Z"
   },
   {
    "duration": 5,
    "start_time": "2023-09-18T09:51:32.052Z"
   },
   {
    "duration": 8,
    "start_time": "2023-09-18T09:51:37.336Z"
   },
   {
    "duration": 8,
    "start_time": "2023-09-18T09:51:56.852Z"
   },
   {
    "duration": 25,
    "start_time": "2023-09-18T09:52:00.861Z"
   },
   {
    "duration": 33,
    "start_time": "2023-09-18T09:53:05.207Z"
   },
   {
    "duration": 1437,
    "start_time": "2023-09-18T09:55:22.242Z"
   },
   {
    "duration": 32,
    "start_time": "2023-09-18T09:55:23.681Z"
   },
   {
    "duration": 31,
    "start_time": "2023-09-18T09:55:23.716Z"
   },
   {
    "duration": 5,
    "start_time": "2023-09-18T09:55:23.751Z"
   },
   {
    "duration": 10,
    "start_time": "2023-09-18T09:55:23.760Z"
   },
   {
    "duration": 16,
    "start_time": "2023-09-18T09:55:23.772Z"
   },
   {
    "duration": 38,
    "start_time": "2023-09-18T09:55:23.790Z"
   },
   {
    "duration": 6,
    "start_time": "2023-09-18T09:55:23.831Z"
   },
   {
    "duration": 16,
    "start_time": "2023-09-18T09:55:23.840Z"
   },
   {
    "duration": 11,
    "start_time": "2023-09-18T09:55:23.858Z"
   },
   {
    "duration": 11,
    "start_time": "2023-09-18T09:55:23.871Z"
   },
   {
    "duration": 27,
    "start_time": "2023-09-18T09:55:23.884Z"
   },
   {
    "duration": 72,
    "start_time": "2023-09-18T09:55:23.914Z"
   },
   {
    "duration": 14,
    "start_time": "2023-09-18T09:55:23.991Z"
   },
   {
    "duration": 33,
    "start_time": "2023-09-18T09:55:24.006Z"
   },
   {
    "duration": 44,
    "start_time": "2023-09-18T09:55:24.042Z"
   },
   {
    "duration": 25,
    "start_time": "2023-09-18T09:55:24.088Z"
   },
   {
    "duration": 26,
    "start_time": "2023-09-18T09:55:24.115Z"
   },
   {
    "duration": 8,
    "start_time": "2023-09-18T09:55:24.144Z"
   },
   {
    "duration": 18,
    "start_time": "2023-09-18T09:55:24.154Z"
   },
   {
    "duration": 19,
    "start_time": "2023-09-18T09:55:24.174Z"
   },
   {
    "duration": 18,
    "start_time": "2023-09-18T09:55:24.195Z"
   },
   {
    "duration": 11,
    "start_time": "2023-09-18T09:55:24.220Z"
   },
   {
    "duration": 8,
    "start_time": "2023-09-18T09:55:24.237Z"
   },
   {
    "duration": 223,
    "start_time": "2023-09-18T09:55:24.247Z"
   },
   {
    "duration": 16,
    "start_time": "2023-09-18T09:55:26.708Z"
   },
   {
    "duration": 9,
    "start_time": "2023-09-18T09:55:30.289Z"
   },
   {
    "duration": 8,
    "start_time": "2023-09-18T09:55:33.167Z"
   },
   {
    "duration": 5,
    "start_time": "2023-09-18T09:55:35.796Z"
   },
   {
    "duration": 142,
    "start_time": "2023-09-18T09:55:39.210Z"
   },
   {
    "duration": 7,
    "start_time": "2023-09-18T09:55:55.237Z"
   },
   {
    "duration": 8,
    "start_time": "2023-09-18T09:55:57.993Z"
   },
   {
    "duration": 6,
    "start_time": "2023-09-18T09:56:24.734Z"
   },
   {
    "duration": 12,
    "start_time": "2023-09-18T09:56:27.203Z"
   },
   {
    "duration": 6,
    "start_time": "2023-09-18T09:57:05.163Z"
   },
   {
    "duration": 14,
    "start_time": "2023-09-18T09:57:07.387Z"
   },
   {
    "duration": 21,
    "start_time": "2023-09-18T09:57:47.901Z"
   },
   {
    "duration": 6,
    "start_time": "2023-09-18T09:58:06.793Z"
   },
   {
    "duration": 15,
    "start_time": "2023-09-18T09:59:31.240Z"
   },
   {
    "duration": 12,
    "start_time": "2023-09-18T10:00:18.263Z"
   },
   {
    "duration": 6,
    "start_time": "2023-09-18T10:19:33.566Z"
   },
   {
    "duration": 4,
    "start_time": "2023-09-18T10:20:05.551Z"
   },
   {
    "duration": 4,
    "start_time": "2023-09-18T10:24:03.447Z"
   },
   {
    "duration": 12,
    "start_time": "2023-09-18T10:24:12.179Z"
   },
   {
    "duration": 4,
    "start_time": "2023-09-18T10:24:56.445Z"
   },
   {
    "duration": 12,
    "start_time": "2023-09-18T10:24:59.069Z"
   },
   {
    "duration": 142,
    "start_time": "2023-09-18T10:26:18.054Z"
   },
   {
    "duration": 26,
    "start_time": "2023-09-18T10:26:20.405Z"
   },
   {
    "duration": 7,
    "start_time": "2023-09-18T10:26:23.688Z"
   },
   {
    "duration": 133,
    "start_time": "2023-09-18T10:27:03.142Z"
   },
   {
    "duration": 9,
    "start_time": "2023-09-18T10:37:34.152Z"
   },
   {
    "duration": 3,
    "start_time": "2023-09-18T10:37:43.330Z"
   },
   {
    "duration": 59,
    "start_time": "2023-09-18T10:37:43.335Z"
   },
   {
    "duration": 10,
    "start_time": "2023-09-18T10:37:43.396Z"
   },
   {
    "duration": 31,
    "start_time": "2023-09-18T10:37:43.409Z"
   },
   {
    "duration": 16,
    "start_time": "2023-09-18T10:37:43.443Z"
   },
   {
    "duration": 57,
    "start_time": "2023-09-18T10:37:43.463Z"
   },
   {
    "duration": 36,
    "start_time": "2023-09-18T10:37:43.522Z"
   },
   {
    "duration": 17,
    "start_time": "2023-09-18T10:37:43.560Z"
   },
   {
    "duration": 50,
    "start_time": "2023-09-18T10:37:43.579Z"
   },
   {
    "duration": 32,
    "start_time": "2023-09-18T10:37:43.631Z"
   },
   {
    "duration": 26,
    "start_time": "2023-09-18T10:37:43.667Z"
   },
   {
    "duration": 35,
    "start_time": "2023-09-18T10:37:43.696Z"
   },
   {
    "duration": 143,
    "start_time": "2023-09-18T10:37:43.733Z"
   },
   {
    "duration": 10,
    "start_time": "2023-09-18T10:37:43.878Z"
   },
   {
    "duration": 52,
    "start_time": "2023-09-18T10:37:43.890Z"
   },
   {
    "duration": 25,
    "start_time": "2023-09-18T10:37:43.944Z"
   },
   {
    "duration": 21,
    "start_time": "2023-09-18T10:37:43.971Z"
   },
   {
    "duration": 43,
    "start_time": "2023-09-18T10:37:43.994Z"
   },
   {
    "duration": 16,
    "start_time": "2023-09-18T10:37:44.040Z"
   },
   {
    "duration": 44,
    "start_time": "2023-09-18T10:37:44.058Z"
   },
   {
    "duration": 32,
    "start_time": "2023-09-18T10:37:44.104Z"
   },
   {
    "duration": 26,
    "start_time": "2023-09-18T10:37:44.138Z"
   },
   {
    "duration": 30,
    "start_time": "2023-09-18T10:37:44.166Z"
   },
   {
    "duration": 18,
    "start_time": "2023-09-18T10:37:44.198Z"
   },
   {
    "duration": 219,
    "start_time": "2023-09-18T10:37:44.218Z"
   },
   {
    "duration": 13,
    "start_time": "2023-09-18T10:37:44.439Z"
   },
   {
    "duration": 32,
    "start_time": "2023-09-18T10:37:44.454Z"
   },
   {
    "duration": 8,
    "start_time": "2023-09-18T10:37:44.488Z"
   },
   {
    "duration": 5,
    "start_time": "2023-09-18T10:37:44.500Z"
   },
   {
    "duration": 27,
    "start_time": "2023-09-18T10:37:44.512Z"
   },
   {
    "duration": 8,
    "start_time": "2023-09-18T10:37:44.542Z"
   },
   {
    "duration": 25,
    "start_time": "2023-09-18T10:37:44.552Z"
   },
   {
    "duration": 149,
    "start_time": "2023-09-18T10:37:44.579Z"
   },
   {
    "duration": 11,
    "start_time": "2023-09-18T10:37:44.730Z"
   },
   {
    "duration": 48,
    "start_time": "2023-09-18T10:37:44.743Z"
   },
   {
    "duration": 382,
    "start_time": "2023-09-18T10:37:44.793Z"
   },
   {
    "duration": 320,
    "start_time": "2023-09-18T10:37:45.177Z"
   },
   {
    "duration": 377,
    "start_time": "2023-09-18T10:37:45.499Z"
   },
   {
    "duration": 276,
    "start_time": "2023-09-18T10:37:45.878Z"
   },
   {
    "duration": 11,
    "start_time": "2023-09-18T10:37:46.156Z"
   },
   {
    "duration": 190,
    "start_time": "2023-09-18T10:37:46.169Z"
   },
   {
    "duration": 6,
    "start_time": "2023-09-18T10:37:46.362Z"
   },
   {
    "duration": 198,
    "start_time": "2023-09-18T10:37:46.370Z"
   },
   {
    "duration": 19,
    "start_time": "2023-09-18T10:37:46.570Z"
   },
   {
    "duration": 21,
    "start_time": "2023-09-18T10:37:46.592Z"
   },
   {
    "duration": 370,
    "start_time": "2023-09-18T10:37:46.616Z"
   },
   {
    "duration": 238,
    "start_time": "2023-09-18T10:37:46.989Z"
   },
   {
    "duration": 7,
    "start_time": "2023-09-18T10:37:47.230Z"
   },
   {
    "duration": 42,
    "start_time": "2023-09-18T10:37:52.443Z"
   },
   {
    "duration": 5,
    "start_time": "2023-09-18T10:49:14.494Z"
   },
   {
    "duration": 204,
    "start_time": "2023-09-18T10:49:14.501Z"
   },
   {
    "duration": 69,
    "start_time": "2023-09-18T10:49:14.707Z"
   },
   {
    "duration": 26,
    "start_time": "2023-09-18T10:49:14.778Z"
   },
   {
    "duration": 21,
    "start_time": "2023-09-18T10:49:14.806Z"
   },
   {
    "duration": 56,
    "start_time": "2023-09-18T10:49:14.829Z"
   },
   {
    "duration": 18,
    "start_time": "2023-09-18T10:49:14.887Z"
   },
   {
    "duration": 23,
    "start_time": "2023-09-18T10:49:14.907Z"
   },
   {
    "duration": 13,
    "start_time": "2023-09-18T10:49:14.933Z"
   },
   {
    "duration": 24,
    "start_time": "2023-09-18T10:49:14.948Z"
   },
   {
    "duration": 10,
    "start_time": "2023-09-18T10:49:14.974Z"
   },
   {
    "duration": 10,
    "start_time": "2023-09-18T10:49:14.985Z"
   },
   {
    "duration": 65,
    "start_time": "2023-09-18T10:49:14.997Z"
   },
   {
    "duration": 8,
    "start_time": "2023-09-18T10:49:15.064Z"
   },
   {
    "duration": 54,
    "start_time": "2023-09-18T10:49:15.074Z"
   },
   {
    "duration": 30,
    "start_time": "2023-09-18T10:49:15.130Z"
   },
   {
    "duration": 29,
    "start_time": "2023-09-18T10:49:15.162Z"
   },
   {
    "duration": 153,
    "start_time": "2023-09-18T10:49:15.193Z"
   },
   {
    "duration": 16,
    "start_time": "2023-09-18T10:49:15.348Z"
   },
   {
    "duration": 41,
    "start_time": "2023-09-18T10:49:15.367Z"
   },
   {
    "duration": 26,
    "start_time": "2023-09-18T10:49:15.410Z"
   },
   {
    "duration": 8,
    "start_time": "2023-09-18T10:49:15.438Z"
   },
   {
    "duration": 16,
    "start_time": "2023-09-18T10:49:15.448Z"
   },
   {
    "duration": 6,
    "start_time": "2023-09-18T10:49:15.467Z"
   },
   {
    "duration": 187,
    "start_time": "2023-09-18T10:49:15.475Z"
   },
   {
    "duration": 12,
    "start_time": "2023-09-18T10:49:15.663Z"
   },
   {
    "duration": 7,
    "start_time": "2023-09-18T10:49:15.677Z"
   },
   {
    "duration": 27,
    "start_time": "2023-09-18T10:49:15.686Z"
   },
   {
    "duration": 13,
    "start_time": "2023-09-18T10:49:15.714Z"
   },
   {
    "duration": 28,
    "start_time": "2023-09-18T10:49:15.729Z"
   },
   {
    "duration": 5,
    "start_time": "2023-09-18T10:49:15.759Z"
   },
   {
    "duration": 17,
    "start_time": "2023-09-18T10:49:15.766Z"
   },
   {
    "duration": 155,
    "start_time": "2023-09-18T10:49:15.786Z"
   },
   {
    "duration": 11,
    "start_time": "2023-09-18T10:49:15.943Z"
   },
   {
    "duration": 11,
    "start_time": "2023-09-18T10:49:15.956Z"
   },
   {
    "duration": 274,
    "start_time": "2023-09-18T10:49:15.969Z"
   },
   {
    "duration": 323,
    "start_time": "2023-09-18T10:49:16.245Z"
   },
   {
    "duration": 28,
    "start_time": "2023-09-18T10:56:23.543Z"
   },
   {
    "duration": 4,
    "start_time": "2023-09-18T10:58:29.375Z"
   },
   {
    "duration": 48,
    "start_time": "2023-09-18T10:58:29.382Z"
   },
   {
    "duration": 12,
    "start_time": "2023-09-18T10:58:29.432Z"
   },
   {
    "duration": 5,
    "start_time": "2023-09-18T10:58:29.447Z"
   },
   {
    "duration": 11,
    "start_time": "2023-09-18T10:58:29.454Z"
   },
   {
    "duration": 14,
    "start_time": "2023-09-18T10:58:29.467Z"
   },
   {
    "duration": 10,
    "start_time": "2023-09-18T10:58:29.483Z"
   },
   {
    "duration": 8,
    "start_time": "2023-09-18T10:58:29.509Z"
   },
   {
    "duration": 7,
    "start_time": "2023-09-18T10:58:29.521Z"
   },
   {
    "duration": 17,
    "start_time": "2023-09-18T10:58:29.530Z"
   },
   {
    "duration": 11,
    "start_time": "2023-09-18T10:58:29.549Z"
   },
   {
    "duration": 12,
    "start_time": "2023-09-18T10:58:29.561Z"
   },
   {
    "duration": 59,
    "start_time": "2023-09-18T10:58:29.577Z"
   },
   {
    "duration": 9,
    "start_time": "2023-09-18T10:58:29.638Z"
   },
   {
    "duration": 14,
    "start_time": "2023-09-18T10:58:29.649Z"
   },
   {
    "duration": 15,
    "start_time": "2023-09-18T10:58:29.665Z"
   },
   {
    "duration": 14,
    "start_time": "2023-09-18T10:58:29.682Z"
   },
   {
    "duration": 14,
    "start_time": "2023-09-18T10:58:29.698Z"
   },
   {
    "duration": 16,
    "start_time": "2023-09-18T10:58:29.713Z"
   },
   {
    "duration": 13,
    "start_time": "2023-09-18T10:58:29.731Z"
   },
   {
    "duration": 13,
    "start_time": "2023-09-18T10:58:29.746Z"
   },
   {
    "duration": 22,
    "start_time": "2023-09-18T10:58:29.761Z"
   },
   {
    "duration": 10,
    "start_time": "2023-09-18T10:58:29.784Z"
   },
   {
    "duration": 7,
    "start_time": "2023-09-18T10:58:29.796Z"
   },
   {
    "duration": 185,
    "start_time": "2023-09-18T10:58:29.804Z"
   },
   {
    "duration": 11,
    "start_time": "2023-09-18T10:58:29.991Z"
   },
   {
    "duration": 23,
    "start_time": "2023-09-18T10:58:30.004Z"
   },
   {
    "duration": 48,
    "start_time": "2023-09-18T10:58:30.029Z"
   },
   {
    "duration": 76,
    "start_time": "2023-09-18T10:58:30.079Z"
   },
   {
    "duration": 64,
    "start_time": "2023-09-18T10:58:30.157Z"
   },
   {
    "duration": 41,
    "start_time": "2023-09-18T10:58:30.224Z"
   },
   {
    "duration": 32,
    "start_time": "2023-09-18T10:58:30.267Z"
   },
   {
    "duration": 142,
    "start_time": "2023-09-18T10:58:30.302Z"
   },
   {
    "duration": 11,
    "start_time": "2023-09-18T10:58:30.446Z"
   },
   {
    "duration": 44,
    "start_time": "2023-09-18T10:58:30.459Z"
   },
   {
    "duration": 282,
    "start_time": "2023-09-18T10:58:30.505Z"
   },
   {
    "duration": 254,
    "start_time": "2023-09-18T10:58:30.791Z"
   },
   {
    "duration": 321,
    "start_time": "2023-09-18T10:58:31.047Z"
   },
   {
    "duration": 261,
    "start_time": "2023-09-18T10:58:31.370Z"
   },
   {
    "duration": 10,
    "start_time": "2023-09-18T10:58:31.633Z"
   },
   {
    "duration": 182,
    "start_time": "2023-09-18T10:58:31.645Z"
   },
   {
    "duration": 5,
    "start_time": "2023-09-18T10:58:31.829Z"
   },
   {
    "duration": 189,
    "start_time": "2023-09-18T10:58:31.835Z"
   },
   {
    "duration": 11,
    "start_time": "2023-09-18T10:58:32.026Z"
   },
   {
    "duration": 5,
    "start_time": "2023-09-18T10:58:32.039Z"
   },
   {
    "duration": 266,
    "start_time": "2023-09-18T10:58:32.046Z"
   },
   {
    "duration": 273,
    "start_time": "2023-09-18T10:58:32.314Z"
   },
   {
    "duration": 8,
    "start_time": "2023-09-18T10:58:32.590Z"
   },
   {
    "duration": 53,
    "start_time": "2023-09-18T10:58:32.599Z"
   },
   {
    "duration": 12,
    "start_time": "2023-09-18T10:58:32.654Z"
   },
   {
    "duration": 4,
    "start_time": "2023-09-18T11:03:10.141Z"
   },
   {
    "duration": 3,
    "start_time": "2023-09-18T11:11:29.053Z"
   },
   {
    "duration": 48,
    "start_time": "2023-09-18T11:11:29.058Z"
   },
   {
    "duration": 12,
    "start_time": "2023-09-18T11:11:29.108Z"
   },
   {
    "duration": 4,
    "start_time": "2023-09-18T11:11:29.122Z"
   },
   {
    "duration": 9,
    "start_time": "2023-09-18T11:11:29.128Z"
   },
   {
    "duration": 12,
    "start_time": "2023-09-18T11:11:29.139Z"
   },
   {
    "duration": 9,
    "start_time": "2023-09-18T11:11:29.153Z"
   },
   {
    "duration": 6,
    "start_time": "2023-09-18T11:11:29.164Z"
   },
   {
    "duration": 41,
    "start_time": "2023-09-18T11:11:29.172Z"
   },
   {
    "duration": 12,
    "start_time": "2023-09-18T11:11:29.215Z"
   },
   {
    "duration": 4,
    "start_time": "2023-09-18T11:11:29.230Z"
   },
   {
    "duration": 16,
    "start_time": "2023-09-18T11:11:29.236Z"
   },
   {
    "duration": 53,
    "start_time": "2023-09-18T11:11:29.254Z"
   },
   {
    "duration": 13,
    "start_time": "2023-09-18T11:11:29.309Z"
   },
   {
    "duration": 12,
    "start_time": "2023-09-18T11:11:29.324Z"
   },
   {
    "duration": 21,
    "start_time": "2023-09-18T11:11:29.338Z"
   },
   {
    "duration": 15,
    "start_time": "2023-09-18T11:11:29.360Z"
   },
   {
    "duration": 11,
    "start_time": "2023-09-18T11:11:29.377Z"
   },
   {
    "duration": 6,
    "start_time": "2023-09-18T11:11:29.409Z"
   },
   {
    "duration": 10,
    "start_time": "2023-09-18T11:11:29.418Z"
   },
   {
    "duration": 6,
    "start_time": "2023-09-18T11:11:29.430Z"
   },
   {
    "duration": 13,
    "start_time": "2023-09-18T11:11:29.437Z"
   },
   {
    "duration": 6,
    "start_time": "2023-09-18T11:11:29.452Z"
   },
   {
    "duration": 14,
    "start_time": "2023-09-18T11:11:29.459Z"
   },
   {
    "duration": 206,
    "start_time": "2023-09-18T11:11:29.474Z"
   },
   {
    "duration": 11,
    "start_time": "2023-09-18T11:11:29.682Z"
   },
   {
    "duration": 19,
    "start_time": "2023-09-18T11:11:29.695Z"
   },
   {
    "duration": 21,
    "start_time": "2023-09-18T11:11:29.715Z"
   },
   {
    "duration": 31,
    "start_time": "2023-09-18T11:11:29.739Z"
   },
   {
    "duration": 35,
    "start_time": "2023-09-18T11:11:29.772Z"
   },
   {
    "duration": 22,
    "start_time": "2023-09-18T11:11:29.810Z"
   },
   {
    "duration": 33,
    "start_time": "2023-09-18T11:11:29.835Z"
   },
   {
    "duration": 152,
    "start_time": "2023-09-18T11:11:29.870Z"
   },
   {
    "duration": 47,
    "start_time": "2023-09-18T11:11:30.025Z"
   },
   {
    "duration": 81,
    "start_time": "2023-09-18T11:11:30.074Z"
   },
   {
    "duration": 268,
    "start_time": "2023-09-18T11:11:30.157Z"
   },
   {
    "duration": 237,
    "start_time": "2023-09-18T11:11:30.427Z"
   },
   {
    "duration": 315,
    "start_time": "2023-09-18T11:11:30.666Z"
   },
   {
    "duration": 339,
    "start_time": "2023-09-18T11:11:30.983Z"
   },
   {
    "duration": 11,
    "start_time": "2023-09-18T11:11:31.324Z"
   },
   {
    "duration": 171,
    "start_time": "2023-09-18T11:11:31.337Z"
   },
   {
    "duration": 10,
    "start_time": "2023-09-18T11:11:31.510Z"
   },
   {
    "duration": 199,
    "start_time": "2023-09-18T11:11:31.524Z"
   },
   {
    "duration": 10,
    "start_time": "2023-09-18T11:11:31.726Z"
   },
   {
    "duration": 35,
    "start_time": "2023-09-18T11:11:31.738Z"
   },
   {
    "duration": 266,
    "start_time": "2023-09-18T11:11:31.775Z"
   },
   {
    "duration": 150,
    "start_time": "2023-09-18T11:11:32.043Z"
   },
   {
    "duration": 6,
    "start_time": "2023-09-18T11:11:32.195Z"
   },
   {
    "duration": 36,
    "start_time": "2023-09-18T11:11:32.209Z"
   },
   {
    "duration": 19,
    "start_time": "2023-09-18T11:11:32.247Z"
   },
   {
    "duration": 18,
    "start_time": "2023-09-18T11:11:35.479Z"
   },
   {
    "duration": 12,
    "start_time": "2023-09-18T11:14:33.220Z"
   },
   {
    "duration": 12,
    "start_time": "2023-09-18T11:17:22.793Z"
   },
   {
    "duration": 9,
    "start_time": "2023-09-18T11:19:31.815Z"
   },
   {
    "duration": 4,
    "start_time": "2023-09-18T11:19:37.123Z"
   },
   {
    "duration": 55,
    "start_time": "2023-09-18T11:19:37.129Z"
   },
   {
    "duration": 10,
    "start_time": "2023-09-18T11:19:37.186Z"
   },
   {
    "duration": 47,
    "start_time": "2023-09-18T11:19:37.197Z"
   },
   {
    "duration": 23,
    "start_time": "2023-09-18T11:19:37.246Z"
   },
   {
    "duration": 44,
    "start_time": "2023-09-18T11:19:37.271Z"
   },
   {
    "duration": 28,
    "start_time": "2023-09-18T11:19:37.324Z"
   },
   {
    "duration": 48,
    "start_time": "2023-09-18T11:19:37.354Z"
   },
   {
    "duration": 123,
    "start_time": "2023-09-18T11:19:37.404Z"
   },
   {
    "duration": 56,
    "start_time": "2023-09-18T11:19:37.529Z"
   },
   {
    "duration": 34,
    "start_time": "2023-09-18T11:19:37.587Z"
   },
   {
    "duration": 32,
    "start_time": "2023-09-18T11:19:37.624Z"
   },
   {
    "duration": 79,
    "start_time": "2023-09-18T11:19:37.658Z"
   },
   {
    "duration": 8,
    "start_time": "2023-09-18T11:19:37.740Z"
   },
   {
    "duration": 32,
    "start_time": "2023-09-18T11:19:37.750Z"
   },
   {
    "duration": 23,
    "start_time": "2023-09-18T11:19:37.784Z"
   },
   {
    "duration": 21,
    "start_time": "2023-09-18T11:19:37.809Z"
   },
   {
    "duration": 16,
    "start_time": "2023-09-18T11:19:37.832Z"
   },
   {
    "duration": 6,
    "start_time": "2023-09-18T11:19:37.850Z"
   },
   {
    "duration": 18,
    "start_time": "2023-09-18T11:19:37.857Z"
   },
   {
    "duration": 10,
    "start_time": "2023-09-18T11:19:37.877Z"
   },
   {
    "duration": 15,
    "start_time": "2023-09-18T11:19:37.888Z"
   },
   {
    "duration": 9,
    "start_time": "2023-09-18T11:19:37.914Z"
   },
   {
    "duration": 15,
    "start_time": "2023-09-18T11:19:37.924Z"
   },
   {
    "duration": 187,
    "start_time": "2023-09-18T11:19:37.940Z"
   },
   {
    "duration": 12,
    "start_time": "2023-09-18T11:19:38.129Z"
   },
   {
    "duration": 8,
    "start_time": "2023-09-18T11:19:38.143Z"
   },
   {
    "duration": 24,
    "start_time": "2023-09-18T11:19:38.153Z"
   },
   {
    "duration": 14,
    "start_time": "2023-09-18T11:19:38.179Z"
   },
   {
    "duration": 28,
    "start_time": "2023-09-18T11:19:38.195Z"
   },
   {
    "duration": 12,
    "start_time": "2023-09-18T11:19:38.226Z"
   },
   {
    "duration": 19,
    "start_time": "2023-09-18T11:19:38.240Z"
   },
   {
    "duration": 140,
    "start_time": "2023-09-18T11:19:38.260Z"
   },
   {
    "duration": 29,
    "start_time": "2023-09-18T11:19:38.402Z"
   },
   {
    "duration": 9,
    "start_time": "2023-09-18T11:19:38.433Z"
   },
   {
    "duration": 248,
    "start_time": "2023-09-18T11:19:38.445Z"
   },
   {
    "duration": 247,
    "start_time": "2023-09-18T11:19:38.694Z"
   },
   {
    "duration": 313,
    "start_time": "2023-09-18T11:19:38.943Z"
   },
   {
    "duration": 241,
    "start_time": "2023-09-18T11:19:39.260Z"
   },
   {
    "duration": 16,
    "start_time": "2023-09-18T11:19:39.510Z"
   },
   {
    "duration": 156,
    "start_time": "2023-09-18T11:19:39.531Z"
   },
   {
    "duration": 4,
    "start_time": "2023-09-18T11:19:39.689Z"
   },
   {
    "duration": 181,
    "start_time": "2023-09-18T11:19:39.695Z"
   },
   {
    "duration": 10,
    "start_time": "2023-09-18T11:19:39.878Z"
   },
   {
    "duration": 23,
    "start_time": "2023-09-18T11:19:39.890Z"
   },
   {
    "duration": 242,
    "start_time": "2023-09-18T11:19:39.915Z"
   },
   {
    "duration": 147,
    "start_time": "2023-09-18T11:19:40.159Z"
   },
   {
    "duration": 15,
    "start_time": "2023-09-18T11:19:40.308Z"
   },
   {
    "duration": 28,
    "start_time": "2023-09-18T11:19:40.329Z"
   },
   {
    "duration": 9,
    "start_time": "2023-09-18T11:19:40.359Z"
   },
   {
    "duration": 14,
    "start_time": "2023-09-18T11:19:40.370Z"
   },
   {
    "duration": 32,
    "start_time": "2023-09-18T11:19:40.386Z"
   },
   {
    "duration": 37,
    "start_time": "2023-09-18T11:19:42.449Z"
   },
   {
    "duration": 26,
    "start_time": "2023-09-18T11:20:13.349Z"
   },
   {
    "duration": 27,
    "start_time": "2023-09-18T11:20:28.836Z"
   },
   {
    "duration": 112,
    "start_time": "2023-09-18T11:22:57.722Z"
   },
   {
    "duration": 100,
    "start_time": "2023-09-18T11:23:55.228Z"
   },
   {
    "duration": 4,
    "start_time": "2023-09-18T11:24:27.736Z"
   },
   {
    "duration": 44,
    "start_time": "2023-09-18T11:24:27.743Z"
   },
   {
    "duration": 9,
    "start_time": "2023-09-18T11:24:27.789Z"
   },
   {
    "duration": 18,
    "start_time": "2023-09-18T11:24:27.800Z"
   },
   {
    "duration": 10,
    "start_time": "2023-09-18T11:24:27.822Z"
   },
   {
    "duration": 13,
    "start_time": "2023-09-18T11:24:27.834Z"
   },
   {
    "duration": 9,
    "start_time": "2023-09-18T11:24:27.849Z"
   },
   {
    "duration": 42,
    "start_time": "2023-09-18T11:24:27.860Z"
   },
   {
    "duration": 8,
    "start_time": "2023-09-18T11:24:27.904Z"
   },
   {
    "duration": 13,
    "start_time": "2023-09-18T11:24:27.914Z"
   },
   {
    "duration": 4,
    "start_time": "2023-09-18T11:24:27.930Z"
   },
   {
    "duration": 11,
    "start_time": "2023-09-18T11:24:27.936Z"
   },
   {
    "duration": 55,
    "start_time": "2023-09-18T11:24:27.949Z"
   },
   {
    "duration": 20,
    "start_time": "2023-09-18T11:24:28.006Z"
   },
   {
    "duration": 12,
    "start_time": "2023-09-18T11:24:28.028Z"
   },
   {
    "duration": 13,
    "start_time": "2023-09-18T11:24:28.042Z"
   },
   {
    "duration": 16,
    "start_time": "2023-09-18T11:24:28.057Z"
   },
   {
    "duration": 21,
    "start_time": "2023-09-18T11:24:28.075Z"
   },
   {
    "duration": 18,
    "start_time": "2023-09-18T11:24:28.098Z"
   },
   {
    "duration": 8,
    "start_time": "2023-09-18T11:24:28.122Z"
   },
   {
    "duration": 7,
    "start_time": "2023-09-18T11:24:28.132Z"
   },
   {
    "duration": 9,
    "start_time": "2023-09-18T11:24:28.140Z"
   },
   {
    "duration": 6,
    "start_time": "2023-09-18T11:24:28.151Z"
   },
   {
    "duration": 7,
    "start_time": "2023-09-18T11:24:28.159Z"
   },
   {
    "duration": 216,
    "start_time": "2023-09-18T11:24:28.168Z"
   },
   {
    "duration": 12,
    "start_time": "2023-09-18T11:24:28.386Z"
   },
   {
    "duration": 13,
    "start_time": "2023-09-18T11:24:28.415Z"
   },
   {
    "duration": 18,
    "start_time": "2023-09-18T11:24:28.430Z"
   },
   {
    "duration": 4,
    "start_time": "2023-09-18T11:24:28.452Z"
   },
   {
    "duration": 16,
    "start_time": "2023-09-18T11:24:28.458Z"
   },
   {
    "duration": 9,
    "start_time": "2023-09-18T11:24:28.476Z"
   },
   {
    "duration": 37,
    "start_time": "2023-09-18T11:24:28.486Z"
   },
   {
    "duration": 141,
    "start_time": "2023-09-18T11:24:28.526Z"
   },
   {
    "duration": 10,
    "start_time": "2023-09-18T11:24:28.668Z"
   },
   {
    "duration": 10,
    "start_time": "2023-09-18T11:24:28.679Z"
   },
   {
    "duration": 343,
    "start_time": "2023-09-18T11:24:28.691Z"
   },
   {
    "duration": 241,
    "start_time": "2023-09-18T11:24:29.036Z"
   },
   {
    "duration": 369,
    "start_time": "2023-09-18T11:24:29.279Z"
   },
   {
    "duration": 254,
    "start_time": "2023-09-18T11:24:29.650Z"
   },
   {
    "duration": 19,
    "start_time": "2023-09-18T11:24:29.906Z"
   },
   {
    "duration": 171,
    "start_time": "2023-09-18T11:24:29.927Z"
   },
   {
    "duration": 5,
    "start_time": "2023-09-18T11:24:30.100Z"
   },
   {
    "duration": 286,
    "start_time": "2023-09-18T11:24:30.108Z"
   },
   {
    "duration": 31,
    "start_time": "2023-09-18T11:24:30.395Z"
   },
   {
    "duration": 4,
    "start_time": "2023-09-18T11:24:30.428Z"
   },
   {
    "duration": 288,
    "start_time": "2023-09-18T11:24:30.434Z"
   },
   {
    "duration": 140,
    "start_time": "2023-09-18T11:24:30.725Z"
   },
   {
    "duration": 6,
    "start_time": "2023-09-18T11:24:30.867Z"
   },
   {
    "duration": 51,
    "start_time": "2023-09-18T11:24:30.874Z"
   },
   {
    "duration": 12,
    "start_time": "2023-09-18T11:24:30.927Z"
   },
   {
    "duration": 25,
    "start_time": "2023-09-18T11:24:30.941Z"
   },
   {
    "duration": 51,
    "start_time": "2023-09-18T11:24:30.968Z"
   },
   {
    "duration": 54,
    "start_time": "2023-09-18T11:24:31.021Z"
   },
   {
    "duration": 20,
    "start_time": "2023-09-18T11:24:31.078Z"
   },
   {
    "duration": 13,
    "start_time": "2023-09-18T11:31:58.332Z"
   },
   {
    "duration": 1458,
    "start_time": "2023-09-18T11:32:14.937Z"
   },
   {
    "duration": 34,
    "start_time": "2023-09-18T11:32:16.397Z"
   },
   {
    "duration": 15,
    "start_time": "2023-09-18T11:32:16.432Z"
   },
   {
    "duration": 10,
    "start_time": "2023-09-18T11:32:16.449Z"
   },
   {
    "duration": 8,
    "start_time": "2023-09-18T11:32:16.461Z"
   },
   {
    "duration": 15,
    "start_time": "2023-09-18T11:32:16.471Z"
   },
   {
    "duration": 13,
    "start_time": "2023-09-18T11:32:16.488Z"
   },
   {
    "duration": 21,
    "start_time": "2023-09-18T11:32:16.503Z"
   },
   {
    "duration": 6,
    "start_time": "2023-09-18T11:32:16.526Z"
   },
   {
    "duration": 15,
    "start_time": "2023-09-18T11:32:16.535Z"
   },
   {
    "duration": 28,
    "start_time": "2023-09-18T11:32:16.552Z"
   },
   {
    "duration": 31,
    "start_time": "2023-09-18T11:32:16.582Z"
   },
   {
    "duration": 76,
    "start_time": "2023-09-18T11:32:16.615Z"
   },
   {
    "duration": 15,
    "start_time": "2023-09-18T11:32:16.693Z"
   },
   {
    "duration": 37,
    "start_time": "2023-09-18T11:32:16.710Z"
   },
   {
    "duration": 38,
    "start_time": "2023-09-18T11:32:16.748Z"
   },
   {
    "duration": 55,
    "start_time": "2023-09-18T11:32:16.788Z"
   },
   {
    "duration": 40,
    "start_time": "2023-09-18T11:32:16.845Z"
   },
   {
    "duration": 20,
    "start_time": "2023-09-18T11:32:16.887Z"
   },
   {
    "duration": 36,
    "start_time": "2023-09-18T11:32:16.909Z"
   },
   {
    "duration": 19,
    "start_time": "2023-09-18T11:32:16.947Z"
   },
   {
    "duration": 34,
    "start_time": "2023-09-18T11:32:16.968Z"
   },
   {
    "duration": 22,
    "start_time": "2023-09-18T11:32:17.003Z"
   },
   {
    "duration": 14,
    "start_time": "2023-09-18T11:32:17.027Z"
   },
   {
    "duration": 191,
    "start_time": "2023-09-18T11:32:17.042Z"
   },
   {
    "duration": 13,
    "start_time": "2023-09-18T11:32:17.235Z"
   },
   {
    "duration": 17,
    "start_time": "2023-09-18T11:32:17.250Z"
   },
   {
    "duration": 23,
    "start_time": "2023-09-18T11:32:17.271Z"
   },
   {
    "duration": 29,
    "start_time": "2023-09-18T11:32:17.296Z"
   },
   {
    "duration": 25,
    "start_time": "2023-09-18T11:32:17.327Z"
   },
   {
    "duration": 28,
    "start_time": "2023-09-18T11:32:17.355Z"
   },
   {
    "duration": 44,
    "start_time": "2023-09-18T11:32:17.385Z"
   },
   {
    "duration": 146,
    "start_time": "2023-09-18T11:32:17.431Z"
   },
   {
    "duration": 14,
    "start_time": "2023-09-18T11:32:17.578Z"
   },
   {
    "duration": 29,
    "start_time": "2023-09-18T11:32:17.594Z"
   },
   {
    "duration": 338,
    "start_time": "2023-09-18T11:32:17.625Z"
   },
   {
    "duration": 240,
    "start_time": "2023-09-18T11:32:17.965Z"
   },
   {
    "duration": 356,
    "start_time": "2023-09-18T11:32:18.209Z"
   },
   {
    "duration": 270,
    "start_time": "2023-09-18T11:32:18.567Z"
   },
   {
    "duration": 10,
    "start_time": "2023-09-18T11:32:18.838Z"
   },
   {
    "duration": 180,
    "start_time": "2023-09-18T11:32:18.849Z"
   },
   {
    "duration": 5,
    "start_time": "2023-09-18T11:32:19.030Z"
   },
   {
    "duration": 189,
    "start_time": "2023-09-18T11:32:19.040Z"
   },
   {
    "duration": 10,
    "start_time": "2023-09-18T11:32:19.231Z"
   },
   {
    "duration": 9,
    "start_time": "2023-09-18T11:32:19.243Z"
   },
   {
    "duration": 265,
    "start_time": "2023-09-18T11:32:19.254Z"
   },
   {
    "duration": 175,
    "start_time": "2023-09-18T11:32:19.520Z"
   },
   {
    "duration": 22,
    "start_time": "2023-09-18T11:32:19.698Z"
   },
   {
    "duration": 53,
    "start_time": "2023-09-18T11:32:19.726Z"
   },
   {
    "duration": 9,
    "start_time": "2023-09-18T11:32:19.781Z"
   },
   {
    "duration": 11,
    "start_time": "2023-09-18T11:32:19.792Z"
   },
   {
    "duration": 22,
    "start_time": "2023-09-18T11:32:19.804Z"
   },
   {
    "duration": 69,
    "start_time": "2023-09-18T11:32:19.828Z"
   },
   {
    "duration": 18,
    "start_time": "2023-09-18T11:32:19.899Z"
   },
   {
    "duration": 4,
    "start_time": "2023-09-18T18:39:54.850Z"
   },
   {
    "duration": 1575,
    "start_time": "2023-09-18T18:40:09.196Z"
   },
   {
    "duration": 75,
    "start_time": "2023-09-18T18:40:10.774Z"
   },
   {
    "duration": 14,
    "start_time": "2023-09-18T18:40:10.851Z"
   },
   {
    "duration": 19,
    "start_time": "2023-09-18T18:40:10.866Z"
   },
   {
    "duration": 16,
    "start_time": "2023-09-18T18:40:10.887Z"
   },
   {
    "duration": 27,
    "start_time": "2023-09-18T18:40:10.905Z"
   },
   {
    "duration": 13,
    "start_time": "2023-09-18T18:40:10.934Z"
   },
   {
    "duration": 6,
    "start_time": "2023-09-18T18:40:10.948Z"
   },
   {
    "duration": 9,
    "start_time": "2023-09-18T18:40:10.956Z"
   },
   {
    "duration": 11,
    "start_time": "2023-09-18T18:40:10.969Z"
   },
   {
    "duration": 12,
    "start_time": "2023-09-18T18:40:10.982Z"
   },
   {
    "duration": 19,
    "start_time": "2023-09-18T18:40:10.996Z"
   },
   {
    "duration": 146,
    "start_time": "2023-09-18T18:40:11.016Z"
   },
   {
    "duration": 9,
    "start_time": "2023-09-18T18:40:11.164Z"
   },
   {
    "duration": 13,
    "start_time": "2023-09-18T18:40:11.174Z"
   },
   {
    "duration": 30,
    "start_time": "2023-09-18T18:40:11.188Z"
   },
   {
    "duration": 29,
    "start_time": "2023-09-18T18:40:11.220Z"
   },
   {
    "duration": 73,
    "start_time": "2023-09-18T18:40:11.251Z"
   },
   {
    "duration": 24,
    "start_time": "2023-09-18T18:40:11.326Z"
   },
   {
    "duration": 31,
    "start_time": "2023-09-18T18:40:11.352Z"
   },
   {
    "duration": 18,
    "start_time": "2023-09-18T18:40:11.385Z"
   },
   {
    "duration": 29,
    "start_time": "2023-09-18T18:40:11.405Z"
   },
   {
    "duration": 36,
    "start_time": "2023-09-18T18:40:11.436Z"
   },
   {
    "duration": 35,
    "start_time": "2023-09-18T18:40:11.474Z"
   },
   {
    "duration": 212,
    "start_time": "2023-09-18T18:40:11.515Z"
   },
   {
    "duration": 11,
    "start_time": "2023-09-18T18:40:11.729Z"
   },
   {
    "duration": 18,
    "start_time": "2023-09-18T18:40:11.742Z"
   },
   {
    "duration": 21,
    "start_time": "2023-09-18T18:40:11.764Z"
   },
   {
    "duration": 23,
    "start_time": "2023-09-18T18:40:11.786Z"
   },
   {
    "duration": 25,
    "start_time": "2023-09-18T18:40:11.818Z"
   },
   {
    "duration": 19,
    "start_time": "2023-09-18T18:40:11.845Z"
   },
   {
    "duration": 8,
    "start_time": "2023-09-18T18:40:11.866Z"
   },
   {
    "duration": 151,
    "start_time": "2023-09-18T18:40:11.875Z"
   },
   {
    "duration": 12,
    "start_time": "2023-09-18T18:40:12.028Z"
   },
   {
    "duration": 12,
    "start_time": "2023-09-18T18:40:12.042Z"
   },
   {
    "duration": 382,
    "start_time": "2023-09-18T18:40:12.056Z"
   },
   {
    "duration": 296,
    "start_time": "2023-09-18T18:40:12.440Z"
   },
   {
    "duration": 390,
    "start_time": "2023-09-18T18:40:12.739Z"
   },
   {
    "duration": 240,
    "start_time": "2023-09-18T18:40:13.131Z"
   },
   {
    "duration": 9,
    "start_time": "2023-09-18T18:40:13.373Z"
   },
   {
    "duration": 178,
    "start_time": "2023-09-18T18:40:13.384Z"
   },
   {
    "duration": 4,
    "start_time": "2023-09-18T18:40:13.564Z"
   },
   {
    "duration": 189,
    "start_time": "2023-09-18T18:40:13.570Z"
   },
   {
    "duration": 9,
    "start_time": "2023-09-18T18:40:13.761Z"
   },
   {
    "duration": 19,
    "start_time": "2023-09-18T18:40:13.772Z"
   },
   {
    "duration": 266,
    "start_time": "2023-09-18T18:40:13.793Z"
   },
   {
    "duration": 162,
    "start_time": "2023-09-18T18:40:14.062Z"
   },
   {
    "duration": 7,
    "start_time": "2023-09-18T18:40:14.226Z"
   },
   {
    "duration": 35,
    "start_time": "2023-09-18T18:40:14.234Z"
   },
   {
    "duration": 9,
    "start_time": "2023-09-18T18:40:14.270Z"
   },
   {
    "duration": 37,
    "start_time": "2023-09-18T18:40:14.281Z"
   },
   {
    "duration": 11,
    "start_time": "2023-09-18T18:40:14.320Z"
   },
   {
    "duration": 34,
    "start_time": "2023-09-18T18:40:14.333Z"
   },
   {
    "duration": 11,
    "start_time": "2023-09-18T18:40:14.369Z"
   },
   {
    "duration": 7,
    "start_time": "2023-09-18T18:50:18.900Z"
   },
   {
    "duration": 9,
    "start_time": "2023-09-18T18:50:30.423Z"
   },
   {
    "duration": 7,
    "start_time": "2023-09-18T18:50:53.393Z"
   },
   {
    "duration": 8,
    "start_time": "2023-09-18T18:54:36.076Z"
   },
   {
    "duration": 8,
    "start_time": "2023-09-18T19:18:39.282Z"
   },
   {
    "duration": 15,
    "start_time": "2023-09-18T19:25:04.001Z"
   },
   {
    "duration": 10,
    "start_time": "2023-09-18T19:33:23.646Z"
   },
   {
    "duration": 13,
    "start_time": "2023-09-18T19:33:37.578Z"
   },
   {
    "duration": 15,
    "start_time": "2023-09-18T19:34:12.637Z"
   },
   {
    "duration": 13,
    "start_time": "2023-09-18T19:34:32.029Z"
   },
   {
    "duration": 12,
    "start_time": "2023-09-18T19:35:29.295Z"
   },
   {
    "duration": 2134,
    "start_time": "2023-09-18T19:45:15.836Z"
   },
   {
    "duration": 1607,
    "start_time": "2023-09-18T19:45:32.742Z"
   },
   {
    "duration": 1373,
    "start_time": "2023-09-18T19:46:00.844Z"
   },
   {
    "duration": 1462,
    "start_time": "2023-09-18T19:46:23.515Z"
   },
   {
    "duration": 11,
    "start_time": "2023-09-18T19:47:31.821Z"
   },
   {
    "duration": 12,
    "start_time": "2023-09-18T19:47:52.831Z"
   },
   {
    "duration": 9,
    "start_time": "2023-09-18T19:48:09.056Z"
   },
   {
    "duration": 7,
    "start_time": "2023-09-18T19:48:24.471Z"
   },
   {
    "duration": 8,
    "start_time": "2023-09-18T19:48:42.278Z"
   },
   {
    "duration": 10,
    "start_time": "2023-09-18T19:48:46.936Z"
   },
   {
    "duration": 27,
    "start_time": "2023-09-18T19:49:52.732Z"
   },
   {
    "duration": 12,
    "start_time": "2023-09-18T19:50:23.050Z"
   },
   {
    "duration": 11,
    "start_time": "2023-09-18T19:50:29.736Z"
   },
   {
    "duration": 1392,
    "start_time": "2023-09-18T19:50:57.345Z"
   },
   {
    "duration": 1387,
    "start_time": "2023-09-18T19:51:23.402Z"
   },
   {
    "duration": 6,
    "start_time": "2023-09-18T19:51:29.786Z"
   },
   {
    "duration": 1523,
    "start_time": "2023-09-18T19:52:15.297Z"
   },
   {
    "duration": 1373,
    "start_time": "2023-09-18T19:52:37.147Z"
   },
   {
    "duration": 1396,
    "start_time": "2023-09-18T19:52:48.627Z"
   },
   {
    "duration": 7,
    "start_time": "2023-09-18T19:53:11.299Z"
   },
   {
    "duration": 12,
    "start_time": "2023-09-18T19:53:15.763Z"
   },
   {
    "duration": 5,
    "start_time": "2023-09-18T19:53:44.599Z"
   },
   {
    "duration": 12,
    "start_time": "2023-09-18T19:53:55.852Z"
   },
   {
    "duration": 12,
    "start_time": "2023-09-18T19:54:29.903Z"
   },
   {
    "duration": 89,
    "start_time": "2023-09-18T19:54:35.501Z"
   },
   {
    "duration": 23,
    "start_time": "2023-09-18T19:54:43.684Z"
   },
   {
    "duration": 8,
    "start_time": "2023-09-18T19:55:01.689Z"
   },
   {
    "duration": 8,
    "start_time": "2023-09-18T19:55:06.485Z"
   },
   {
    "duration": 13,
    "start_time": "2023-09-18T19:55:09.028Z"
   },
   {
    "duration": 14,
    "start_time": "2023-09-18T19:55:18.529Z"
   },
   {
    "duration": 16,
    "start_time": "2023-09-18T19:55:26.846Z"
   },
   {
    "duration": 18,
    "start_time": "2023-09-18T19:55:43.413Z"
   },
   {
    "duration": 12,
    "start_time": "2023-09-18T19:55:53.774Z"
   },
   {
    "duration": 5,
    "start_time": "2023-09-18T19:56:06.473Z"
   },
   {
    "duration": 6,
    "start_time": "2023-09-18T19:56:16.546Z"
   },
   {
    "duration": 5,
    "start_time": "2023-09-18T19:56:34.375Z"
   },
   {
    "duration": 8,
    "start_time": "2023-09-18T19:56:37.257Z"
   },
   {
    "duration": 3,
    "start_time": "2023-09-18T20:14:38.057Z"
   },
   {
    "duration": 5,
    "start_time": "2023-09-18T20:19:24.887Z"
   },
   {
    "duration": 130,
    "start_time": "2023-09-18T20:29:08.099Z"
   },
   {
    "duration": 83,
    "start_time": "2023-09-18T20:29:16.383Z"
   },
   {
    "duration": 9,
    "start_time": "2023-09-18T20:29:27.598Z"
   },
   {
    "duration": 80,
    "start_time": "2023-09-18T21:12:12.832Z"
   },
   {
    "duration": 99,
    "start_time": "2023-09-18T21:12:35.560Z"
   },
   {
    "duration": 24,
    "start_time": "2023-09-18T21:13:46.996Z"
   },
   {
    "duration": 1223,
    "start_time": "2023-09-18T21:17:49.289Z"
   },
   {
    "duration": 38,
    "start_time": "2023-09-18T21:17:50.514Z"
   },
   {
    "duration": 18,
    "start_time": "2023-09-18T21:17:50.554Z"
   },
   {
    "duration": 7,
    "start_time": "2023-09-18T21:17:50.575Z"
   },
   {
    "duration": 8,
    "start_time": "2023-09-18T21:17:50.584Z"
   },
   {
    "duration": 20,
    "start_time": "2023-09-18T21:17:50.594Z"
   },
   {
    "duration": 17,
    "start_time": "2023-09-18T21:17:50.618Z"
   },
   {
    "duration": 4,
    "start_time": "2023-09-18T21:17:50.636Z"
   },
   {
    "duration": 16,
    "start_time": "2023-09-18T21:17:50.642Z"
   },
   {
    "duration": 10,
    "start_time": "2023-09-18T21:17:50.660Z"
   },
   {
    "duration": 5,
    "start_time": "2023-09-18T21:17:50.672Z"
   },
   {
    "duration": 7,
    "start_time": "2023-09-18T21:17:50.679Z"
   },
   {
    "duration": 77,
    "start_time": "2023-09-18T21:17:50.687Z"
   },
   {
    "duration": 8,
    "start_time": "2023-09-18T21:17:50.766Z"
   },
   {
    "duration": 15,
    "start_time": "2023-09-18T21:17:50.776Z"
   },
   {
    "duration": 24,
    "start_time": "2023-09-18T21:17:50.792Z"
   },
   {
    "duration": 12,
    "start_time": "2023-09-18T21:17:50.818Z"
   },
   {
    "duration": 7,
    "start_time": "2023-09-18T21:17:57.799Z"
   },
   {
    "duration": 8,
    "start_time": "2023-09-18T21:18:27.724Z"
   },
   {
    "duration": 5,
    "start_time": "2023-09-18T21:18:58.751Z"
   },
   {
    "duration": 11,
    "start_time": "2023-09-18T21:19:04.120Z"
   },
   {
    "duration": 6,
    "start_time": "2023-09-18T21:23:54.114Z"
   },
   {
    "duration": 4,
    "start_time": "2023-09-18T21:24:04.582Z"
   },
   {
    "duration": 114,
    "start_time": "2023-09-18T21:24:16.526Z"
   },
   {
    "duration": 4,
    "start_time": "2023-09-18T21:24:29.668Z"
   },
   {
    "duration": 9,
    "start_time": "2023-09-18T21:24:54.062Z"
   },
   {
    "duration": 117,
    "start_time": "2023-09-18T21:26:23.032Z"
   },
   {
    "duration": 8,
    "start_time": "2023-09-18T21:26:37.641Z"
   },
   {
    "duration": 10,
    "start_time": "2023-09-18T21:27:28.555Z"
   },
   {
    "duration": 22,
    "start_time": "2023-09-18T21:28:25.343Z"
   },
   {
    "duration": 7,
    "start_time": "2023-09-18T21:28:43.598Z"
   },
   {
    "duration": 8,
    "start_time": "2023-09-18T21:30:25.037Z"
   },
   {
    "duration": 9,
    "start_time": "2023-09-18T21:32:31.932Z"
   },
   {
    "duration": 10,
    "start_time": "2023-09-18T21:36:03.203Z"
   },
   {
    "duration": 30,
    "start_time": "2023-09-18T21:42:37.838Z"
   },
   {
    "duration": 14,
    "start_time": "2023-09-18T21:43:47.124Z"
   },
   {
    "duration": 75,
    "start_time": "2023-09-18T21:44:18.429Z"
   },
   {
    "duration": 7,
    "start_time": "2023-09-18T21:45:36.169Z"
   },
   {
    "duration": 9,
    "start_time": "2023-09-18T21:46:25.120Z"
   },
   {
    "duration": 9,
    "start_time": "2023-09-18T21:46:32.432Z"
   },
   {
    "duration": 10,
    "start_time": "2023-09-18T21:46:42.168Z"
   },
   {
    "duration": 9,
    "start_time": "2023-09-18T21:47:05.880Z"
   },
   {
    "duration": 81,
    "start_time": "2023-09-18T21:48:22.244Z"
   },
   {
    "duration": 6,
    "start_time": "2023-09-18T21:48:24.355Z"
   },
   {
    "duration": 8,
    "start_time": "2023-09-18T21:48:26.222Z"
   },
   {
    "duration": 1303,
    "start_time": "2023-09-18T21:49:24.192Z"
   },
   {
    "duration": 33,
    "start_time": "2023-09-18T21:49:25.497Z"
   },
   {
    "duration": 14,
    "start_time": "2023-09-18T21:49:25.532Z"
   },
   {
    "duration": 4,
    "start_time": "2023-09-18T21:49:25.548Z"
   },
   {
    "duration": 11,
    "start_time": "2023-09-18T21:49:25.554Z"
   },
   {
    "duration": 17,
    "start_time": "2023-09-18T21:49:25.567Z"
   },
   {
    "duration": 23,
    "start_time": "2023-09-18T21:49:25.586Z"
   },
   {
    "duration": 10,
    "start_time": "2023-09-18T21:49:25.611Z"
   },
   {
    "duration": 5,
    "start_time": "2023-09-18T21:49:25.623Z"
   },
   {
    "duration": 11,
    "start_time": "2023-09-18T21:49:25.631Z"
   },
   {
    "duration": 6,
    "start_time": "2023-09-18T21:49:25.644Z"
   },
   {
    "duration": 8,
    "start_time": "2023-09-18T21:49:25.652Z"
   },
   {
    "duration": 69,
    "start_time": "2023-09-18T21:49:25.662Z"
   },
   {
    "duration": 9,
    "start_time": "2023-09-18T21:49:25.733Z"
   },
   {
    "duration": 15,
    "start_time": "2023-09-18T21:49:25.745Z"
   },
   {
    "duration": 15,
    "start_time": "2023-09-18T21:49:25.762Z"
   },
   {
    "duration": 14,
    "start_time": "2023-09-18T21:49:25.779Z"
   },
   {
    "duration": 8,
    "start_time": "2023-09-18T21:49:25.794Z"
   },
   {
    "duration": 986,
    "start_time": "2023-09-18T21:51:40.444Z"
   },
   {
    "duration": 8,
    "start_time": "2023-09-18T21:51:50.540Z"
   },
   {
    "duration": 12,
    "start_time": "2023-09-18T21:51:52.300Z"
   },
   {
    "duration": 18,
    "start_time": "2023-09-18T21:52:06.604Z"
   },
   {
    "duration": 16,
    "start_time": "2023-09-18T22:06:32.209Z"
   },
   {
    "duration": 10,
    "start_time": "2023-09-18T22:06:44.374Z"
   },
   {
    "duration": 3495,
    "start_time": "2023-09-18T22:13:19.872Z"
   },
   {
    "duration": 10,
    "start_time": "2023-09-18T22:13:42.648Z"
   },
   {
    "duration": 8,
    "start_time": "2023-09-18T22:13:45.675Z"
   },
   {
    "duration": 10,
    "start_time": "2023-09-18T22:30:36.720Z"
   },
   {
    "duration": 1482,
    "start_time": "2023-09-18T22:31:32.381Z"
   },
   {
    "duration": 30,
    "start_time": "2023-09-18T22:31:33.866Z"
   },
   {
    "duration": 25,
    "start_time": "2023-09-18T22:31:33.898Z"
   },
   {
    "duration": 6,
    "start_time": "2023-09-18T22:31:33.925Z"
   },
   {
    "duration": 11,
    "start_time": "2023-09-18T22:31:33.935Z"
   },
   {
    "duration": 21,
    "start_time": "2023-09-18T22:31:33.949Z"
   },
   {
    "duration": 26,
    "start_time": "2023-09-18T22:31:33.972Z"
   },
   {
    "duration": 19,
    "start_time": "2023-09-18T22:31:34.001Z"
   },
   {
    "duration": 11,
    "start_time": "2023-09-18T22:31:34.025Z"
   },
   {
    "duration": 10,
    "start_time": "2023-09-18T22:31:34.039Z"
   },
   {
    "duration": 5,
    "start_time": "2023-09-18T22:31:34.051Z"
   },
   {
    "duration": 18,
    "start_time": "2023-09-18T22:31:34.058Z"
   },
   {
    "duration": 84,
    "start_time": "2023-09-18T22:31:34.078Z"
   },
   {
    "duration": 11,
    "start_time": "2023-09-18T22:31:34.166Z"
   },
   {
    "duration": 13,
    "start_time": "2023-09-18T22:31:34.179Z"
   },
   {
    "duration": 19,
    "start_time": "2023-09-18T22:31:34.193Z"
   },
   {
    "duration": 572,
    "start_time": "2023-09-18T22:31:38.624Z"
   },
   {
    "duration": 1338,
    "start_time": "2023-09-18T22:32:07.665Z"
   },
   {
    "duration": 33,
    "start_time": "2023-09-18T22:32:09.006Z"
   },
   {
    "duration": 19,
    "start_time": "2023-09-18T22:32:09.042Z"
   },
   {
    "duration": 5,
    "start_time": "2023-09-18T22:32:09.064Z"
   },
   {
    "duration": 12,
    "start_time": "2023-09-18T22:32:09.070Z"
   },
   {
    "duration": 16,
    "start_time": "2023-09-18T22:32:09.084Z"
   },
   {
    "duration": 31,
    "start_time": "2023-09-18T22:32:09.102Z"
   },
   {
    "duration": 7,
    "start_time": "2023-09-18T22:32:09.135Z"
   },
   {
    "duration": 32,
    "start_time": "2023-09-18T22:32:09.144Z"
   },
   {
    "duration": 17,
    "start_time": "2023-09-18T22:32:09.179Z"
   },
   {
    "duration": 10,
    "start_time": "2023-09-18T22:32:09.198Z"
   },
   {
    "duration": 14,
    "start_time": "2023-09-18T22:32:09.214Z"
   },
   {
    "duration": 56,
    "start_time": "2023-09-18T22:32:09.230Z"
   },
   {
    "duration": 11,
    "start_time": "2023-09-18T22:32:09.288Z"
   },
   {
    "duration": 17,
    "start_time": "2023-09-18T22:32:12.427Z"
   },
   {
    "duration": 26,
    "start_time": "2023-09-18T22:32:14.901Z"
   },
   {
    "duration": 8,
    "start_time": "2023-09-18T22:32:20.070Z"
   },
   {
    "duration": 8,
    "start_time": "2023-09-18T22:32:23.070Z"
   },
   {
    "duration": 13,
    "start_time": "2023-09-18T22:33:01.408Z"
   },
   {
    "duration": 10,
    "start_time": "2023-09-18T22:35:18.325Z"
   },
   {
    "duration": 15,
    "start_time": "2023-09-18T22:35:29.661Z"
   },
   {
    "duration": 4139,
    "start_time": "2023-09-18T22:35:59.203Z"
   },
   {
    "duration": 18,
    "start_time": "2023-09-18T22:36:14.431Z"
   },
   {
    "duration": 1369,
    "start_time": "2023-09-18T22:38:00.291Z"
   },
   {
    "duration": 2338,
    "start_time": "2023-09-18T22:38:16.103Z"
   },
   {
    "duration": 13,
    "start_time": "2023-09-18T22:38:28.873Z"
   },
   {
    "duration": 13,
    "start_time": "2023-09-18T22:41:39.428Z"
   },
   {
    "duration": 2410,
    "start_time": "2023-09-18T22:41:55.377Z"
   },
   {
    "duration": 17,
    "start_time": "2023-09-18T22:42:50.650Z"
   },
   {
    "duration": 2799,
    "start_time": "2023-09-18T22:43:51.731Z"
   },
   {
    "duration": 10,
    "start_time": "2023-09-18T22:44:08.284Z"
   },
   {
    "duration": 29,
    "start_time": "2023-09-18T22:48:21.930Z"
   },
   {
    "duration": 2612,
    "start_time": "2023-09-18T22:48:57.582Z"
   },
   {
    "duration": 3010,
    "start_time": "2023-09-18T22:49:30.118Z"
   },
   {
    "duration": 11,
    "start_time": "2023-09-18T22:49:39.163Z"
   },
   {
    "duration": 3292,
    "start_time": "2023-09-18T22:53:46.073Z"
   },
   {
    "duration": 21,
    "start_time": "2023-09-18T22:53:54.026Z"
   },
   {
    "duration": 2882,
    "start_time": "2023-09-18T22:54:19.792Z"
   },
   {
    "duration": 15,
    "start_time": "2023-09-18T22:54:23.031Z"
   },
   {
    "duration": 2823,
    "start_time": "2023-09-18T22:55:01.159Z"
   },
   {
    "duration": 20,
    "start_time": "2023-09-18T22:55:04.031Z"
   },
   {
    "duration": 2674,
    "start_time": "2023-09-18T22:55:19.006Z"
   },
   {
    "duration": 14,
    "start_time": "2023-09-18T22:55:22.389Z"
   },
   {
    "duration": 1277,
    "start_time": "2023-09-18T22:55:48.164Z"
   },
   {
    "duration": 2620,
    "start_time": "2023-09-18T22:55:54.900Z"
   },
   {
    "duration": 15,
    "start_time": "2023-09-18T22:56:34.758Z"
   },
   {
    "duration": 2636,
    "start_time": "2023-09-18T22:56:55.435Z"
   },
   {
    "duration": 11,
    "start_time": "2023-09-18T22:56:58.464Z"
   },
   {
    "duration": 2848,
    "start_time": "2023-09-18T22:57:20.086Z"
   },
   {
    "duration": 16,
    "start_time": "2023-09-18T22:57:31.527Z"
   },
   {
    "duration": 2782,
    "start_time": "2023-09-18T22:57:49.102Z"
   },
   {
    "duration": 12,
    "start_time": "2023-09-18T22:57:54.825Z"
   },
   {
    "duration": 20,
    "start_time": "2023-09-18T22:57:58.304Z"
   },
   {
    "duration": 10,
    "start_time": "2023-09-18T23:00:40.549Z"
   },
   {
    "duration": 21,
    "start_time": "2023-09-18T23:00:58.633Z"
   },
   {
    "duration": 1313,
    "start_time": "2023-09-18T23:01:34.634Z"
   },
   {
    "duration": 29,
    "start_time": "2023-09-18T23:01:35.949Z"
   },
   {
    "duration": 14,
    "start_time": "2023-09-18T23:01:35.980Z"
   },
   {
    "duration": 4,
    "start_time": "2023-09-18T23:01:35.996Z"
   },
   {
    "duration": 13,
    "start_time": "2023-09-18T23:01:36.003Z"
   },
   {
    "duration": 19,
    "start_time": "2023-09-18T23:01:36.022Z"
   },
   {
    "duration": 17,
    "start_time": "2023-09-18T23:01:36.043Z"
   },
   {
    "duration": 7,
    "start_time": "2023-09-18T23:01:36.062Z"
   },
   {
    "duration": 12,
    "start_time": "2023-09-18T23:01:36.072Z"
   },
   {
    "duration": 37,
    "start_time": "2023-09-18T23:01:36.087Z"
   },
   {
    "duration": 9,
    "start_time": "2023-09-18T23:01:36.127Z"
   },
   {
    "duration": 19,
    "start_time": "2023-09-18T23:01:36.138Z"
   },
   {
    "duration": 76,
    "start_time": "2023-09-18T23:01:36.158Z"
   },
   {
    "duration": 9,
    "start_time": "2023-09-18T23:01:36.242Z"
   },
   {
    "duration": 12,
    "start_time": "2023-09-18T23:01:36.253Z"
   },
   {
    "duration": 18,
    "start_time": "2023-09-18T23:01:36.268Z"
   },
   {
    "duration": 14,
    "start_time": "2023-09-18T23:01:36.288Z"
   },
   {
    "duration": 29,
    "start_time": "2023-09-18T23:01:36.303Z"
   },
   {
    "duration": 17,
    "start_time": "2023-09-18T23:01:44.429Z"
   },
   {
    "duration": 11,
    "start_time": "2023-09-18T23:01:49.082Z"
   },
   {
    "duration": 402,
    "start_time": "2023-09-18T23:02:06.491Z"
   },
   {
    "duration": 183,
    "start_time": "2023-09-18T23:02:49.634Z"
   },
   {
    "duration": 13,
    "start_time": "2023-09-18T23:02:58.095Z"
   },
   {
    "duration": 309,
    "start_time": "2023-09-18T23:03:17.068Z"
   },
   {
    "duration": 14,
    "start_time": "2023-09-18T23:13:18.125Z"
   },
   {
    "duration": 28,
    "start_time": "2023-09-18T23:18:22.809Z"
   },
   {
    "duration": 8,
    "start_time": "2023-09-18T23:19:15.432Z"
   },
   {
    "duration": 2404,
    "start_time": "2023-09-18T23:19:56.899Z"
   },
   {
    "duration": 8,
    "start_time": "2023-09-18T23:20:03.248Z"
   },
   {
    "duration": 19,
    "start_time": "2023-09-18T23:21:25.931Z"
   },
   {
    "duration": 2665,
    "start_time": "2023-09-18T23:21:31.075Z"
   },
   {
    "duration": 10,
    "start_time": "2023-09-18T23:21:37.527Z"
   },
   {
    "duration": 180,
    "start_time": "2023-09-18T23:23:45.289Z"
   },
   {
    "duration": 105,
    "start_time": "2023-09-18T23:25:16.801Z"
   },
   {
    "duration": 2761,
    "start_time": "2023-09-18T23:25:40.408Z"
   },
   {
    "duration": 12,
    "start_time": "2023-09-18T23:25:46.238Z"
   },
   {
    "duration": 1709,
    "start_time": "2023-09-18T23:28:37.775Z"
   },
   {
    "duration": 12,
    "start_time": "2023-09-18T23:28:46.534Z"
   },
   {
    "duration": 21,
    "start_time": "2023-09-18T23:29:28.966Z"
   },
   {
    "duration": 12,
    "start_time": "2023-09-18T23:29:37.987Z"
   },
   {
    "duration": 8,
    "start_time": "2023-09-18T23:29:47.646Z"
   },
   {
    "duration": 16,
    "start_time": "2023-09-18T23:34:08.836Z"
   },
   {
    "duration": 16,
    "start_time": "2023-09-18T23:34:24.469Z"
   },
   {
    "duration": 7,
    "start_time": "2023-09-18T23:34:39.642Z"
   },
   {
    "duration": 1767,
    "start_time": "2023-09-18T23:37:49.898Z"
   },
   {
    "duration": 17,
    "start_time": "2023-09-18T23:38:00.413Z"
   },
   {
    "duration": 1695,
    "start_time": "2023-09-18T23:42:46.782Z"
   },
   {
    "duration": 1840,
    "start_time": "2023-09-18T23:42:54.286Z"
   },
   {
    "duration": 7,
    "start_time": "2023-09-18T23:43:01.557Z"
   },
   {
    "duration": 25,
    "start_time": "2023-09-18T23:44:11.102Z"
   },
   {
    "duration": 7,
    "start_time": "2023-09-18T23:44:24.794Z"
   },
   {
    "duration": 9,
    "start_time": "2023-09-18T23:44:51.000Z"
   },
   {
    "duration": 11,
    "start_time": "2023-09-18T23:48:54.531Z"
   },
   {
    "duration": 7,
    "start_time": "2023-09-18T23:49:03.590Z"
   },
   {
    "duration": 23,
    "start_time": "2023-09-18T23:59:46.546Z"
   },
   {
    "duration": 12,
    "start_time": "2023-09-19T00:00:16.373Z"
   },
   {
    "duration": 14,
    "start_time": "2023-09-19T00:02:44.669Z"
   },
   {
    "duration": 23,
    "start_time": "2023-09-19T00:03:20.953Z"
   },
   {
    "duration": 14,
    "start_time": "2023-09-19T00:03:56.654Z"
   },
   {
    "duration": 30,
    "start_time": "2023-09-19T00:04:06.142Z"
   },
   {
    "duration": 13,
    "start_time": "2023-09-19T00:06:29.988Z"
   },
   {
    "duration": 8,
    "start_time": "2023-09-19T00:06:37.738Z"
   },
   {
    "duration": 13,
    "start_time": "2023-09-19T00:09:38.359Z"
   },
   {
    "duration": 15,
    "start_time": "2023-09-19T00:10:05.530Z"
   },
   {
    "duration": 8,
    "start_time": "2023-09-19T00:11:34.968Z"
   },
   {
    "duration": 27,
    "start_time": "2023-09-19T00:23:50.936Z"
   },
   {
    "duration": 140,
    "start_time": "2023-09-19T00:24:32.921Z"
   },
   {
    "duration": 15,
    "start_time": "2023-09-19T00:24:37.653Z"
   },
   {
    "duration": 15,
    "start_time": "2023-09-19T00:24:45.774Z"
   },
   {
    "duration": 9,
    "start_time": "2023-09-19T00:24:56.104Z"
   },
   {
    "duration": 11,
    "start_time": "2023-09-19T00:25:01.738Z"
   },
   {
    "duration": 13,
    "start_time": "2023-09-19T00:35:48.028Z"
   },
   {
    "duration": 10,
    "start_time": "2023-09-19T00:36:11.871Z"
   },
   {
    "duration": 55,
    "start_time": "2023-09-19T00:37:03.602Z"
   },
   {
    "duration": 4224,
    "start_time": "2023-09-19T00:37:11.500Z"
   },
   {
    "duration": 11,
    "start_time": "2023-09-19T00:37:54.289Z"
   },
   {
    "duration": 1309,
    "start_time": "2023-09-19T00:40:08.764Z"
   },
   {
    "duration": 29,
    "start_time": "2023-09-19T00:40:10.075Z"
   },
   {
    "duration": 27,
    "start_time": "2023-09-19T00:40:10.106Z"
   },
   {
    "duration": 6,
    "start_time": "2023-09-19T00:40:10.135Z"
   },
   {
    "duration": 12,
    "start_time": "2023-09-19T00:40:10.146Z"
   },
   {
    "duration": 19,
    "start_time": "2023-09-19T00:40:10.161Z"
   },
   {
    "duration": 13,
    "start_time": "2023-09-19T00:40:10.182Z"
   },
   {
    "duration": 28,
    "start_time": "2023-09-19T00:40:10.196Z"
   },
   {
    "duration": 16,
    "start_time": "2023-09-19T00:40:10.227Z"
   },
   {
    "duration": 28,
    "start_time": "2023-09-19T00:40:10.245Z"
   },
   {
    "duration": 10,
    "start_time": "2023-09-19T00:40:10.276Z"
   },
   {
    "duration": 14,
    "start_time": "2023-09-19T00:40:10.288Z"
   },
   {
    "duration": 76,
    "start_time": "2023-09-19T00:40:10.304Z"
   },
   {
    "duration": 10,
    "start_time": "2023-09-19T00:40:10.385Z"
   },
   {
    "duration": 39,
    "start_time": "2023-09-19T00:40:10.397Z"
   },
   {
    "duration": 14,
    "start_time": "2023-09-19T00:40:10.444Z"
   },
   {
    "duration": 8,
    "start_time": "2023-09-19T00:40:10.460Z"
   },
   {
    "duration": 13,
    "start_time": "2023-09-19T00:40:10.470Z"
   },
   {
    "duration": 9,
    "start_time": "2023-09-19T00:40:10.485Z"
   },
   {
    "duration": 23,
    "start_time": "2023-09-19T00:40:10.496Z"
   },
   {
    "duration": 3915,
    "start_time": "2023-09-19T00:40:10.523Z"
   },
   {
    "duration": 12,
    "start_time": "2023-09-19T00:40:14.440Z"
   },
   {
    "duration": 11,
    "start_time": "2023-09-19T00:40:14.454Z"
   },
   {
    "duration": 14,
    "start_time": "2023-09-19T00:40:14.467Z"
   },
   {
    "duration": 45,
    "start_time": "2023-09-19T00:40:14.483Z"
   },
   {
    "duration": 28,
    "start_time": "2023-09-19T00:40:14.530Z"
   },
   {
    "duration": 25,
    "start_time": "2023-09-19T00:40:14.561Z"
   },
   {
    "duration": 29,
    "start_time": "2023-09-19T00:40:14.588Z"
   },
   {
    "duration": 33,
    "start_time": "2023-09-19T00:40:14.619Z"
   },
   {
    "duration": 20,
    "start_time": "2023-09-19T00:40:14.654Z"
   },
   {
    "duration": 210,
    "start_time": "2023-09-19T00:40:14.676Z"
   },
   {
    "duration": 12,
    "start_time": "2023-09-19T00:40:14.888Z"
   },
   {
    "duration": 27,
    "start_time": "2023-09-19T00:40:14.902Z"
   },
   {
    "duration": 21,
    "start_time": "2023-09-19T00:40:14.931Z"
   },
   {
    "duration": 27,
    "start_time": "2023-09-19T00:40:14.954Z"
   },
   {
    "duration": 54,
    "start_time": "2023-09-19T00:40:14.983Z"
   },
   {
    "duration": 43,
    "start_time": "2023-09-19T00:40:15.042Z"
   },
   {
    "duration": 42,
    "start_time": "2023-09-19T00:40:15.088Z"
   },
   {
    "duration": 165,
    "start_time": "2023-09-19T00:40:15.135Z"
   },
   {
    "duration": 16,
    "start_time": "2023-09-19T00:40:15.302Z"
   },
   {
    "duration": 57,
    "start_time": "2023-09-19T00:40:15.323Z"
   },
   {
    "duration": 409,
    "start_time": "2023-09-19T00:40:15.382Z"
   },
   {
    "duration": 277,
    "start_time": "2023-09-19T00:40:15.793Z"
   },
   {
    "duration": 360,
    "start_time": "2023-09-19T00:40:16.072Z"
   },
   {
    "duration": 281,
    "start_time": "2023-09-19T00:40:16.436Z"
   },
   {
    "duration": 12,
    "start_time": "2023-09-19T00:40:16.719Z"
   },
   {
    "duration": 173,
    "start_time": "2023-09-19T00:40:16.733Z"
   },
   {
    "duration": 7,
    "start_time": "2023-09-19T00:40:16.910Z"
   },
   {
    "duration": 205,
    "start_time": "2023-09-19T00:40:16.924Z"
   },
   {
    "duration": 13,
    "start_time": "2023-09-19T00:40:17.134Z"
   },
   {
    "duration": 14,
    "start_time": "2023-09-19T00:40:17.149Z"
   },
   {
    "duration": 250,
    "start_time": "2023-09-19T00:40:17.165Z"
   },
   {
    "duration": 160,
    "start_time": "2023-09-19T00:40:17.417Z"
   },
   {
    "duration": 7,
    "start_time": "2023-09-19T00:40:17.579Z"
   },
   {
    "duration": 63,
    "start_time": "2023-09-19T00:40:17.587Z"
   },
   {
    "duration": 8,
    "start_time": "2023-09-19T00:40:17.652Z"
   },
   {
    "duration": 17,
    "start_time": "2023-09-19T00:40:17.661Z"
   },
   {
    "duration": 8,
    "start_time": "2023-09-19T00:40:17.680Z"
   },
   {
    "duration": 49,
    "start_time": "2023-09-19T00:40:17.708Z"
   },
   {
    "duration": 31,
    "start_time": "2023-09-19T00:40:17.760Z"
   },
   {
    "duration": 13,
    "start_time": "2023-09-19T00:58:55.681Z"
   },
   {
    "duration": 1350,
    "start_time": "2023-09-19T00:59:21.179Z"
   },
   {
    "duration": 33,
    "start_time": "2023-09-19T00:59:22.541Z"
   },
   {
    "duration": 21,
    "start_time": "2023-09-19T00:59:22.576Z"
   },
   {
    "duration": 5,
    "start_time": "2023-09-19T00:59:22.600Z"
   },
   {
    "duration": 15,
    "start_time": "2023-09-19T00:59:22.607Z"
   },
   {
    "duration": 28,
    "start_time": "2023-09-19T00:59:22.624Z"
   },
   {
    "duration": 17,
    "start_time": "2023-09-19T00:59:22.653Z"
   },
   {
    "duration": 5,
    "start_time": "2023-09-19T00:59:22.672Z"
   },
   {
    "duration": 9,
    "start_time": "2023-09-19T00:59:22.679Z"
   },
   {
    "duration": 29,
    "start_time": "2023-09-19T00:59:22.692Z"
   },
   {
    "duration": 6,
    "start_time": "2023-09-19T00:59:22.723Z"
   },
   {
    "duration": 19,
    "start_time": "2023-09-19T00:59:22.731Z"
   },
   {
    "duration": 74,
    "start_time": "2023-09-19T00:59:22.753Z"
   },
   {
    "duration": 14,
    "start_time": "2023-09-19T00:59:22.831Z"
   },
   {
    "duration": 25,
    "start_time": "2023-09-19T00:59:22.847Z"
   },
   {
    "duration": 19,
    "start_time": "2023-09-19T00:59:22.875Z"
   },
   {
    "duration": 9,
    "start_time": "2023-09-19T00:59:22.896Z"
   },
   {
    "duration": 32,
    "start_time": "2023-09-19T00:59:22.907Z"
   },
   {
    "duration": 12,
    "start_time": "2023-09-19T00:59:22.944Z"
   },
   {
    "duration": 12,
    "start_time": "2023-09-19T00:59:22.958Z"
   },
   {
    "duration": 3953,
    "start_time": "2023-09-19T00:59:22.971Z"
   },
   {
    "duration": 30,
    "start_time": "2023-09-19T00:59:26.926Z"
   },
   {
    "duration": 9,
    "start_time": "2023-09-19T00:59:26.957Z"
   },
   {
    "duration": 12,
    "start_time": "2023-09-19T00:59:26.971Z"
   },
   {
    "duration": 6,
    "start_time": "2023-09-19T00:59:26.985Z"
   },
   {
    "duration": 18,
    "start_time": "2023-09-19T00:59:26.992Z"
   },
   {
    "duration": 10,
    "start_time": "2023-09-19T00:59:27.012Z"
   },
   {
    "duration": 12,
    "start_time": "2023-09-19T00:59:27.031Z"
   },
   {
    "duration": 11,
    "start_time": "2023-09-19T00:59:27.046Z"
   },
   {
    "duration": 6,
    "start_time": "2023-09-19T00:59:27.059Z"
   },
   {
    "duration": 276,
    "start_time": "2023-09-19T00:59:27.067Z"
   },
   {
    "duration": 17,
    "start_time": "2023-09-19T00:59:27.345Z"
   },
   {
    "duration": 3,
    "start_time": "2023-09-19T00:59:27.364Z"
   },
   {
    "duration": 5,
    "start_time": "2023-09-19T00:59:27.368Z"
   },
   {
    "duration": 8,
    "start_time": "2023-09-19T00:59:27.375Z"
   },
   {
    "duration": 6,
    "start_time": "2023-09-19T00:59:27.411Z"
   },
   {
    "duration": 23,
    "start_time": "2023-09-19T00:59:27.419Z"
   },
   {
    "duration": 5,
    "start_time": "2023-09-19T00:59:27.445Z"
   },
   {
    "duration": 178,
    "start_time": "2023-09-19T00:59:27.452Z"
   },
   {
    "duration": 14,
    "start_time": "2023-09-19T00:59:27.634Z"
   },
   {
    "duration": 15,
    "start_time": "2023-09-19T00:59:27.650Z"
   },
   {
    "duration": 434,
    "start_time": "2023-09-19T00:59:27.667Z"
   },
   {
    "duration": 286,
    "start_time": "2023-09-19T00:59:28.109Z"
   },
   {
    "duration": 410,
    "start_time": "2023-09-19T00:59:28.398Z"
   },
   {
    "duration": 290,
    "start_time": "2023-09-19T00:59:28.811Z"
   },
   {
    "duration": 12,
    "start_time": "2023-09-19T00:59:29.103Z"
   },
   {
    "duration": 180,
    "start_time": "2023-09-19T00:59:29.119Z"
   },
   {
    "duration": 21,
    "start_time": "2023-09-19T00:59:29.301Z"
   },
   {
    "duration": 195,
    "start_time": "2023-09-19T00:59:29.323Z"
   },
   {
    "duration": 12,
    "start_time": "2023-09-19T00:59:29.520Z"
   },
   {
    "duration": 9,
    "start_time": "2023-09-19T00:59:29.535Z"
   },
   {
    "duration": 300,
    "start_time": "2023-09-19T00:59:29.546Z"
   },
   {
    "duration": 178,
    "start_time": "2023-09-19T00:59:29.848Z"
   },
   {
    "duration": 18,
    "start_time": "2023-09-19T00:59:30.028Z"
   },
   {
    "duration": 154,
    "start_time": "2023-09-19T00:59:30.050Z"
   },
   {
    "duration": 14,
    "start_time": "2023-09-19T00:59:30.206Z"
   },
   {
    "duration": 88,
    "start_time": "2023-09-19T00:59:30.223Z"
   },
   {
    "duration": 51,
    "start_time": "2023-09-19T00:59:30.316Z"
   },
   {
    "duration": 71,
    "start_time": "2023-09-19T00:59:30.370Z"
   },
   {
    "duration": 25,
    "start_time": "2023-09-19T00:59:30.443Z"
   },
   {
    "duration": 54,
    "start_time": "2023-09-22T11:23:55.726Z"
   },
   {
    "duration": 1095,
    "start_time": "2023-09-22T11:24:05.816Z"
   },
   {
    "duration": 67,
    "start_time": "2023-09-22T11:24:06.912Z"
   },
   {
    "duration": 11,
    "start_time": "2023-09-22T11:24:06.980Z"
   },
   {
    "duration": 19,
    "start_time": "2023-09-22T11:24:06.993Z"
   },
   {
    "duration": 13,
    "start_time": "2023-09-22T11:24:07.014Z"
   },
   {
    "duration": 23,
    "start_time": "2023-09-22T11:24:07.029Z"
   },
   {
    "duration": 24,
    "start_time": "2023-09-22T11:24:07.055Z"
   },
   {
    "duration": 19,
    "start_time": "2023-09-22T11:24:07.081Z"
   },
   {
    "duration": 20,
    "start_time": "2023-09-22T11:24:07.102Z"
   },
   {
    "duration": 21,
    "start_time": "2023-09-22T11:24:07.125Z"
   },
   {
    "duration": 25,
    "start_time": "2023-09-22T11:24:07.147Z"
   },
   {
    "duration": 26,
    "start_time": "2023-09-22T11:24:07.174Z"
   },
   {
    "duration": 179,
    "start_time": "2023-09-22T11:24:07.203Z"
   },
   {
    "duration": 7,
    "start_time": "2023-09-22T11:24:07.383Z"
   },
   {
    "duration": 48,
    "start_time": "2023-09-22T11:24:07.391Z"
   },
   {
    "duration": 39,
    "start_time": "2023-09-22T11:24:07.442Z"
   },
   {
    "duration": 17,
    "start_time": "2023-09-22T11:24:07.483Z"
   },
   {
    "duration": 14,
    "start_time": "2023-09-22T11:24:07.501Z"
   },
   {
    "duration": 11,
    "start_time": "2023-09-22T11:24:07.516Z"
   },
   {
    "duration": 29,
    "start_time": "2023-09-22T11:24:07.529Z"
   },
   {
    "duration": 3036,
    "start_time": "2023-09-22T11:24:07.561Z"
   },
   {
    "duration": 10,
    "start_time": "2023-09-22T11:24:10.598Z"
   },
   {
    "duration": 13,
    "start_time": "2023-09-22T11:24:10.609Z"
   },
   {
    "duration": 33,
    "start_time": "2023-09-22T11:24:10.624Z"
   },
   {
    "duration": 6,
    "start_time": "2023-09-22T11:24:10.659Z"
   },
   {
    "duration": 10,
    "start_time": "2023-09-22T11:24:10.668Z"
   },
   {
    "duration": 6,
    "start_time": "2023-09-22T11:24:10.680Z"
   },
   {
    "duration": 40,
    "start_time": "2023-09-22T11:24:10.689Z"
   },
   {
    "duration": 22,
    "start_time": "2023-09-22T11:24:10.731Z"
   },
   {
    "duration": 29,
    "start_time": "2023-09-22T11:24:10.754Z"
   },
   {
    "duration": 170,
    "start_time": "2023-09-22T11:24:10.785Z"
   },
   {
    "duration": 10,
    "start_time": "2023-09-22T11:24:10.969Z"
   },
   {
    "duration": 14,
    "start_time": "2023-09-22T11:24:10.981Z"
   },
   {
    "duration": 19,
    "start_time": "2023-09-22T11:24:10.996Z"
   },
   {
    "duration": 29,
    "start_time": "2023-09-22T11:24:11.016Z"
   },
   {
    "duration": 15,
    "start_time": "2023-09-22T11:24:11.046Z"
   },
   {
    "duration": 8,
    "start_time": "2023-09-22T11:24:11.062Z"
   },
   {
    "duration": 5,
    "start_time": "2023-09-22T11:24:11.072Z"
   },
   {
    "duration": 112,
    "start_time": "2023-09-22T11:24:11.078Z"
   },
   {
    "duration": 9,
    "start_time": "2023-09-22T11:24:11.192Z"
   },
   {
    "duration": 9,
    "start_time": "2023-09-22T11:24:11.202Z"
   },
   {
    "duration": 288,
    "start_time": "2023-09-22T11:24:11.213Z"
   },
   {
    "duration": 203,
    "start_time": "2023-09-22T11:24:11.503Z"
   },
   {
    "duration": 308,
    "start_time": "2023-09-22T11:24:11.708Z"
   },
   {
    "duration": 204,
    "start_time": "2023-09-22T11:24:12.018Z"
   },
   {
    "duration": 8,
    "start_time": "2023-09-22T11:24:12.223Z"
   },
   {
    "duration": 142,
    "start_time": "2023-09-22T11:24:12.233Z"
   },
   {
    "duration": 5,
    "start_time": "2023-09-22T11:24:12.377Z"
   },
   {
    "duration": 155,
    "start_time": "2023-09-22T11:24:12.383Z"
   },
   {
    "duration": 29,
    "start_time": "2023-09-22T11:24:12.540Z"
   },
   {
    "duration": 4,
    "start_time": "2023-09-22T11:24:12.571Z"
   },
   {
    "duration": 228,
    "start_time": "2023-09-22T11:24:12.577Z"
   },
   {
    "duration": 160,
    "start_time": "2023-09-22T11:24:12.806Z"
   },
   {
    "duration": 7,
    "start_time": "2023-09-22T11:24:12.967Z"
   },
   {
    "duration": 41,
    "start_time": "2023-09-22T11:24:12.976Z"
   },
   {
    "duration": 7,
    "start_time": "2023-09-22T11:24:13.018Z"
   },
   {
    "duration": 38,
    "start_time": "2023-09-22T11:24:13.027Z"
   },
   {
    "duration": 43,
    "start_time": "2023-09-22T11:24:13.067Z"
   },
   {
    "duration": 49,
    "start_time": "2023-09-22T11:24:13.112Z"
   },
   {
    "duration": 10,
    "start_time": "2023-09-22T11:24:13.162Z"
   }
  ],
  "kernelspec": {
   "display_name": "Python 3 (ipykernel)",
   "language": "python",
   "name": "python3"
  },
  "language_info": {
   "codemirror_mode": {
    "name": "ipython",
    "version": 3
   },
   "file_extension": ".py",
   "mimetype": "text/x-python",
   "name": "python",
   "nbconvert_exporter": "python",
   "pygments_lexer": "ipython3",
   "version": "3.9.16"
  },
  "toc": {
   "base_numbering": 1,
   "nav_menu": {},
   "number_sections": true,
   "sideBar": true,
   "skip_h1_title": true,
   "title_cell": "Table of Contents",
   "title_sidebar": "Contents",
   "toc_cell": false,
   "toc_position": {
    "height": "calc(100% - 180px)",
    "left": "10px",
    "top": "150px",
    "width": "574px"
   },
   "toc_section_display": true,
   "toc_window_display": false
  }
 },
 "nbformat": 4,
 "nbformat_minor": 2
}
