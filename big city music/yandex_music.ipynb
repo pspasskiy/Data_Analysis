{
 "cells": [
  {
   "cell_type": "markdown",
   "metadata": {
    "deletable": false,
    "editable": false,
    "id": "E0vqbgi9ay0H"
   },
   "source": [
    "# Яндекс.Музыка"
   ]
  },
  {
   "cell_type": "markdown",
   "metadata": {
    "deletable": false,
    "editable": false,
    "id": "VUC88oWjTJw2"
   },
   "source": [
    "Сравнение Москвы и Петербурга окружено мифами. Например:\n",
    " * Москва — мегаполис, подчинённый жёсткому ритму рабочей недели;\n",
    " * Петербург — культурная столица, со своими вкусами.\n",
    "\n",
    "На данных Яндекс Музыки вы сравните поведение пользователей двух столиц.\n",
    "\n",
    "**Цель исследования** — проверьте три гипотезы:\n",
    "1. Активность пользователей зависит от дня недели. Причём в Москве и Петербурге это проявляется по-разному.\n",
    "2. В понедельник утром в Москве преобладают одни жанры, а в Петербурге — другие. Так же и вечером пятницы преобладают разные жанры — в зависимости от города. \n",
    "3. Москва и Петербург предпочитают разные жанры музыки. В Москве чаще слушают поп-музыку, в Петербурге — русский рэп.\n",
    "\n",
    "**Ход исследования**\n",
    "\n",
    "Данные о поведении пользователей вы получите из файла `yandex_music_project.csv`. О качестве данных ничего не известно. Поэтому перед проверкой гипотез понадобится обзор данных. \n",
    "\n",
    "Вы проверите данные на ошибки и оцените их влияние на исследование. Затем, на этапе предобработки вы поищете возможность исправить самые критичные ошибки данных.\n",
    " \n",
    "Таким образом, исследование пройдёт в три этапа:\n",
    " 1. Обзор данных.\n",
    " 2. Предобработка данных.\n",
    " 3. Проверка гипотез.\n",
    "\n"
   ]
  },
  {
   "cell_type": "markdown",
   "metadata": {
    "deletable": false,
    "editable": false,
    "id": "Ml1hmfXC_Zcs"
   },
   "source": [
    "## Обзор данных\n",
    "\n",
    "Составьте первое представление о данных Яндекс Музыки.\n",
    "\n",
    "\n"
   ]
  },
  {
   "cell_type": "markdown",
   "metadata": {
    "deletable": false,
    "editable": false,
    "id": "57eAOGIz_Zcs",
    "tags": [
     "start_task"
    ]
   },
   "source": [
    "**Задание 1**\n",
    "\n",
    "Основной инструмент аналитика — `pandas`. Импортируйте эту библиотеку."
   ]
  },
  {
   "cell_type": "code",
   "execution_count": 1,
   "metadata": {
    "deletable": false,
    "id": "AXN7PHPN_Zcs"
   },
   "outputs": [],
   "source": [
    "# импорт библиотеки pandas\n",
    "import pandas as pd"
   ]
  },
  {
   "cell_type": "markdown",
   "metadata": {
    "deletable": false,
    "editable": false,
    "id": "SG23P8tt_Zcs",
    "tags": [
     "start_task"
    ]
   },
   "source": [
    "**Задание 2**\n",
    "\n",
    "Прочитайте файл `yandex_music_project.csv` из папки `/datasets` и сохраните его в переменной `df`:"
   ]
  },
  {
   "cell_type": "code",
   "execution_count": 2,
   "metadata": {
    "deletable": false,
    "id": "fFVu7vqh_Zct"
   },
   "outputs": [],
   "source": [
    "# чтение файла с данными и сохранение в df\n",
    "df = pd.read_csv('/datasets/yandex_music_project.csv')"
   ]
  },
  {
   "cell_type": "markdown",
   "metadata": {
    "deletable": false,
    "editable": false,
    "id": "rDoOMd3uTqnZ",
    "tags": [
     "start_task"
    ]
   },
   "source": [
    "**Задание 3**\n",
    "\n",
    "\n",
    "Выведите на экран первые десять строк таблицы:"
   ]
  },
  {
   "cell_type": "code",
   "execution_count": 3,
   "metadata": {
    "deletable": false,
    "id": "oWTVX3gW_Zct"
   },
   "outputs": [
    {
     "data": {
      "text/html": [
       "<div>\n",
       "<style scoped>\n",
       "    .dataframe tbody tr th:only-of-type {\n",
       "        vertical-align: middle;\n",
       "    }\n",
       "\n",
       "    .dataframe tbody tr th {\n",
       "        vertical-align: top;\n",
       "    }\n",
       "\n",
       "    .dataframe thead th {\n",
       "        text-align: right;\n",
       "    }\n",
       "</style>\n",
       "<table border=\"1\" class=\"dataframe\">\n",
       "  <thead>\n",
       "    <tr style=\"text-align: right;\">\n",
       "      <th></th>\n",
       "      <th>userID</th>\n",
       "      <th>Track</th>\n",
       "      <th>artist</th>\n",
       "      <th>genre</th>\n",
       "      <th>City</th>\n",
       "      <th>time</th>\n",
       "      <th>Day</th>\n",
       "    </tr>\n",
       "  </thead>\n",
       "  <tbody>\n",
       "    <tr>\n",
       "      <th>0</th>\n",
       "      <td>FFB692EC</td>\n",
       "      <td>Kamigata To Boots</td>\n",
       "      <td>The Mass Missile</td>\n",
       "      <td>rock</td>\n",
       "      <td>Saint-Petersburg</td>\n",
       "      <td>20:28:33</td>\n",
       "      <td>Wednesday</td>\n",
       "    </tr>\n",
       "    <tr>\n",
       "      <th>1</th>\n",
       "      <td>55204538</td>\n",
       "      <td>Delayed Because of Accident</td>\n",
       "      <td>Andreas Rönnberg</td>\n",
       "      <td>rock</td>\n",
       "      <td>Moscow</td>\n",
       "      <td>14:07:09</td>\n",
       "      <td>Friday</td>\n",
       "    </tr>\n",
       "    <tr>\n",
       "      <th>2</th>\n",
       "      <td>20EC38</td>\n",
       "      <td>Funiculì funiculà</td>\n",
       "      <td>Mario Lanza</td>\n",
       "      <td>pop</td>\n",
       "      <td>Saint-Petersburg</td>\n",
       "      <td>20:58:07</td>\n",
       "      <td>Wednesday</td>\n",
       "    </tr>\n",
       "    <tr>\n",
       "      <th>3</th>\n",
       "      <td>A3DD03C9</td>\n",
       "      <td>Dragons in the Sunset</td>\n",
       "      <td>Fire + Ice</td>\n",
       "      <td>folk</td>\n",
       "      <td>Saint-Petersburg</td>\n",
       "      <td>08:37:09</td>\n",
       "      <td>Monday</td>\n",
       "    </tr>\n",
       "    <tr>\n",
       "      <th>4</th>\n",
       "      <td>E2DC1FAE</td>\n",
       "      <td>Soul People</td>\n",
       "      <td>Space Echo</td>\n",
       "      <td>dance</td>\n",
       "      <td>Moscow</td>\n",
       "      <td>08:34:34</td>\n",
       "      <td>Monday</td>\n",
       "    </tr>\n",
       "    <tr>\n",
       "      <th>5</th>\n",
       "      <td>842029A1</td>\n",
       "      <td>Преданная</td>\n",
       "      <td>IMPERVTOR</td>\n",
       "      <td>rusrap</td>\n",
       "      <td>Saint-Petersburg</td>\n",
       "      <td>13:09:41</td>\n",
       "      <td>Friday</td>\n",
       "    </tr>\n",
       "    <tr>\n",
       "      <th>6</th>\n",
       "      <td>4CB90AA5</td>\n",
       "      <td>True</td>\n",
       "      <td>Roman Messer</td>\n",
       "      <td>dance</td>\n",
       "      <td>Moscow</td>\n",
       "      <td>13:00:07</td>\n",
       "      <td>Wednesday</td>\n",
       "    </tr>\n",
       "    <tr>\n",
       "      <th>7</th>\n",
       "      <td>F03E1C1F</td>\n",
       "      <td>Feeling This Way</td>\n",
       "      <td>Polina Griffith</td>\n",
       "      <td>dance</td>\n",
       "      <td>Moscow</td>\n",
       "      <td>20:47:49</td>\n",
       "      <td>Wednesday</td>\n",
       "    </tr>\n",
       "    <tr>\n",
       "      <th>8</th>\n",
       "      <td>8FA1D3BE</td>\n",
       "      <td>И вновь продолжается бой</td>\n",
       "      <td>NaN</td>\n",
       "      <td>ruspop</td>\n",
       "      <td>Moscow</td>\n",
       "      <td>09:17:40</td>\n",
       "      <td>Friday</td>\n",
       "    </tr>\n",
       "    <tr>\n",
       "      <th>9</th>\n",
       "      <td>E772D5C0</td>\n",
       "      <td>Pessimist</td>\n",
       "      <td>NaN</td>\n",
       "      <td>dance</td>\n",
       "      <td>Saint-Petersburg</td>\n",
       "      <td>21:20:49</td>\n",
       "      <td>Wednesday</td>\n",
       "    </tr>\n",
       "  </tbody>\n",
       "</table>\n",
       "</div>"
      ],
      "text/plain": [
       "     userID                        Track            artist   genre  \\\n",
       "0  FFB692EC            Kamigata To Boots  The Mass Missile    rock   \n",
       "1  55204538  Delayed Because of Accident  Andreas Rönnberg    rock   \n",
       "2    20EC38            Funiculì funiculà       Mario Lanza     pop   \n",
       "3  A3DD03C9        Dragons in the Sunset        Fire + Ice    folk   \n",
       "4  E2DC1FAE                  Soul People        Space Echo   dance   \n",
       "5  842029A1                    Преданная         IMPERVTOR  rusrap   \n",
       "6  4CB90AA5                         True      Roman Messer   dance   \n",
       "7  F03E1C1F             Feeling This Way   Polina Griffith   dance   \n",
       "8  8FA1D3BE     И вновь продолжается бой               NaN  ruspop   \n",
       "9  E772D5C0                    Pessimist               NaN   dance   \n",
       "\n",
       "             City        time        Day  \n",
       "0  Saint-Petersburg  20:28:33  Wednesday  \n",
       "1            Moscow  14:07:09     Friday  \n",
       "2  Saint-Petersburg  20:58:07  Wednesday  \n",
       "3  Saint-Petersburg  08:37:09     Monday  \n",
       "4            Moscow  08:34:34     Monday  \n",
       "5  Saint-Petersburg  13:09:41     Friday  \n",
       "6            Moscow  13:00:07  Wednesday  \n",
       "7            Moscow  20:47:49  Wednesday  \n",
       "8            Moscow  09:17:40     Friday  \n",
       "9  Saint-Petersburg  21:20:49  Wednesday  "
      ]
     },
     "execution_count": 3,
     "metadata": {},
     "output_type": "execute_result"
    }
   ],
   "source": [
    "# получение первых 10 строк таблицы df\n",
    "df.head(10)"
   ]
  },
  {
   "cell_type": "markdown",
   "metadata": {
    "deletable": false,
    "editable": false,
    "id": "EO73Kwic_Zct",
    "tags": [
     "start_task"
    ]
   },
   "source": [
    "**Задание 4**\n",
    "\n",
    "\n",
    "Одной командой получить общую информацию о таблице c помощью метода `info()`:"
   ]
  },
  {
   "cell_type": "code",
   "execution_count": 4,
   "metadata": {
    "deletable": false,
    "id": "DSf2kIb-_Zct"
   },
   "outputs": [
    {
     "name": "stdout",
     "output_type": "stream",
     "text": [
      "<class 'pandas.core.frame.DataFrame'>\n",
      "RangeIndex: 65079 entries, 0 to 65078\n",
      "Data columns (total 7 columns):\n",
      " #   Column    Non-Null Count  Dtype \n",
      "---  ------    --------------  ----- \n",
      " 0     userID  65079 non-null  object\n",
      " 1   Track     63848 non-null  object\n",
      " 2   artist    57876 non-null  object\n",
      " 3   genre     63881 non-null  object\n",
      " 4     City    65079 non-null  object\n",
      " 5   time      65079 non-null  object\n",
      " 6   Day       65079 non-null  object\n",
      "dtypes: object(7)\n",
      "memory usage: 3.5+ MB\n"
     ]
    }
   ],
   "source": [
    "# получение общей информации о данных в таблице df\n",
    "df.info()"
   ]
  },
  {
   "cell_type": "markdown",
   "metadata": {
    "deletable": false,
    "editable": false,
    "id": "TaQ2Iwbr_Zct"
   },
   "source": [
    "Итак, в таблице семь столбцов. Тип данных во всех столбцах — `object`.\n",
    "\n",
    "Согласно документации к данным:\n",
    "* `userID` — идентификатор пользователя;\n",
    "* `Track` — название трека;  \n",
    "* `artist` — имя исполнителя;\n",
    "* `genre` — название жанра;\n",
    "* `City` — город пользователя;\n",
    "* `time` — время начала прослушивания;\n",
    "* `Day` — день недели.\n",
    "\n",
    "Количество значений в столбцах различается. Значит, в данных есть пропущенные значения."
   ]
  },
  {
   "cell_type": "markdown",
   "metadata": {
    "deletable": false,
    "editable": false,
    "id": "4P0UCWzswgEm",
    "tags": [
     "start_task"
    ]
   },
   "source": [
    "**Задание 5**\n",
    "\n",
    "**Вопрос со свободной формой ответа**\n",
    "\n",
    "В названиях колонок видны три нарушения стиля:\n",
    "1. Строчные буквы сочетаются с прописными.\n",
    "2. Встречаются пробелы."
   ]
  },
  {
   "cell_type": "code",
   "execution_count": 5,
   "metadata": {
    "id": "c137-ZstwgEm"
   },
   "outputs": [],
   "source": [
    "# Напишите ваш ответ здесь комментарием. Не удаляйте символ #. Не меняйте тип этой ячейки на Markdown.\n",
    "# 3. Встречаются прописные буквы."
   ]
  },
  {
   "cell_type": "markdown",
   "metadata": {
    "deletable": false,
    "editable": false,
    "id": "MCB6-dXG_Zct"
   },
   "source": [
    "**Выводы**\n",
    "\n",
    "В каждой строке таблицы — данные о прослушанном треке. Часть колонок описывает саму композицию: название, исполнителя и жанр. Остальные данные рассказывают о пользователе: из какого он города, когда он слушал музыку. \n",
    "\n",
    "Предварительно можно утверждать, что, данных достаточно для проверки гипотез. Но встречаются пропуски в данных, а в названиях колонок — расхождения с хорошим стилем.\n",
    "\n",
    "Чтобы двигаться дальше, нужно устранить проблемы в данных."
   ]
  },
  {
   "cell_type": "markdown",
   "metadata": {
    "deletable": false,
    "editable": false,
    "id": "SjYF6Ub9_Zct"
   },
   "source": [
    "## Предобработка данных\n",
    "Исправьте стиль в заголовках столбцов, исключите пропуски. Затем проверьте данные на дубликаты."
   ]
  },
  {
   "cell_type": "markdown",
   "metadata": {
    "deletable": false,
    "editable": false,
    "id": "dIaKXr29_Zct",
    "tags": [
     "start_task"
    ]
   },
   "source": [
    "### Стиль заголовков\n",
    "\n",
    "**Задание 6**\n",
    "\n",
    "Выведите на экран названия столбцов:"
   ]
  },
  {
   "cell_type": "code",
   "execution_count": 6,
   "metadata": {
    "deletable": false,
    "id": "oKOTdF_Q_Zct"
   },
   "outputs": [
    {
     "data": {
      "text/plain": [
       "Index(['  userID', 'Track', 'artist', 'genre', '  City  ', 'time', 'Day'], dtype='object')"
      ]
     },
     "execution_count": 6,
     "metadata": {},
     "output_type": "execute_result"
    }
   ],
   "source": [
    "# перечень названий столбцов таблицы df\n",
    "df.columns"
   ]
  },
  {
   "cell_type": "markdown",
   "metadata": {
    "deletable": false,
    "editable": false,
    "id": "zj5534cv_Zct",
    "tags": [
     "start_task"
    ]
   },
   "source": [
    "**Задание 7**\n",
    "\n",
    "\n",
    "Приведите названия в соответствие с хорошим стилем:\n",
    "* несколько слов в названии запишите в «змеином_регистре»,\n",
    "* все символы сделайте строчными,\n",
    "* устраните пробелы.\n",
    "\n",
    "Для этого переименуйте колонки так:\n",
    "* `'  userID'` → `'user_id'`;\n",
    "* `'Track'` → `'track'`;\n",
    "* `'  City  '` → `'city'`;\n",
    "* `'Day'` → `'day'`."
   ]
  },
  {
   "cell_type": "code",
   "execution_count": 7,
   "metadata": {
    "deletable": false,
    "id": "ISlFqs5y_Zct"
   },
   "outputs": [],
   "source": [
    "# переименование столбцов\n",
    "df = df.rename(columns = {'  userID': 'user_id',\n",
    "   'Track': 'track',\n",
    "   '  City  ': 'city',\n",
    "   'Day': 'day'})"
   ]
  },
  {
   "cell_type": "markdown",
   "metadata": {
    "deletable": false,
    "editable": false,
    "id": "1dqbh00J_Zct",
    "tags": [
     "start_task"
    ]
   },
   "source": [
    "**Задание 8**\n",
    "\n",
    "\n",
    "Проверьте результат. Для этого ещё раз выведите на экран названия столбцов:"
   ]
  },
  {
   "cell_type": "code",
   "execution_count": 8,
   "metadata": {
    "deletable": false,
    "id": "d4NOAmTW_Zct"
   },
   "outputs": [
    {
     "data": {
      "text/plain": [
       "Index(['user_id', 'track', 'artist', 'genre', 'city', 'time', 'day'], dtype='object')"
      ]
     },
     "execution_count": 8,
     "metadata": {},
     "output_type": "execute_result"
    }
   ],
   "source": [
    "# проверка результатов - перечень названий столбцов\n",
    "df.columns"
   ]
  },
  {
   "cell_type": "markdown",
   "metadata": {
    "deletable": false,
    "editable": false,
    "id": "5ISfbcfY_Zct",
    "tags": [
     "start_task"
    ]
   },
   "source": [
    "### Пропуски значений\n",
    "\n",
    "**Задание 9**\n",
    "\n",
    "Сначала посчитайте, сколько в таблице пропущенных значений. Для этого достаточно двух методов `pandas`:"
   ]
  },
  {
   "cell_type": "code",
   "execution_count": 9,
   "metadata": {
    "deletable": false,
    "id": "RskX29qr_Zct"
   },
   "outputs": [
    {
     "data": {
      "text/plain": [
       "user_id       0\n",
       "track      1231\n",
       "artist     7203\n",
       "genre      1198\n",
       "city          0\n",
       "time          0\n",
       "day           0\n",
       "dtype: int64"
      ]
     },
     "execution_count": 9,
     "metadata": {},
     "output_type": "execute_result"
    }
   ],
   "source": [
    "# подсчёт пропусков\n",
    "df.isna().sum()"
   ]
  },
  {
   "cell_type": "markdown",
   "metadata": {
    "deletable": false,
    "editable": false,
    "id": "qubhgnlO_Zct"
   },
   "source": [
    "Не все пропущенные значения влияют на исследование. Так в `track` и `artist` пропуски не важны для вашей работы. Достаточно заменить их явными обозначениями.\n",
    "\n",
    "Но пропуски в `genre` могут помешать сравнению музыкальных вкусов в Москве и Санкт-Петербурге. На практике было бы правильно установить причину пропусков и восстановить данные. Такой возможности нет в учебном проекте. Придётся:\n",
    "* заполнить и эти пропуски явными обозначениями,\n",
    "* оценить, насколько они повредят расчётам. "
   ]
  },
  {
   "cell_type": "markdown",
   "metadata": {
    "deletable": false,
    "editable": false,
    "id": "fSv2laPA_Zct",
    "tags": [
     "start_task"
    ]
   },
   "source": [
    "**Задание 10**\n",
    "\n",
    "Замените пропущенные значения в столбцах `track`, `artist` и `genre` на строку `'unknown'`. Для этого создайте список `columns_to_replace`, переберите его элементы циклом `for` и для каждого столбца выполните замену пропущенных значений:"
   ]
  },
  {
   "cell_type": "code",
   "execution_count": 10,
   "metadata": {
    "deletable": false,
    "id": "KplB5qWs_Zct"
   },
   "outputs": [],
   "source": [
    "# перебор названий столбцов в цикле и замена пропущенных значений на 'unknown'\n",
    "columns_to_replace = ['track', 'artist', 'genre']\n",
    "for column in columns_to_replace:\n",
    "    df[column] = df[column].fillna('unknown')"
   ]
  },
  {
   "cell_type": "markdown",
   "metadata": {
    "deletable": false,
    "editable": false,
    "id": "Ilsm-MZo_Zct",
    "tags": [
     "start_task"
    ]
   },
   "source": [
    "**Задание 11**\n",
    "\n",
    "Убедитесь, что в таблице не осталось пропусков. Для этого ещё раз посчитайте пропущенные значения."
   ]
  },
  {
   "cell_type": "code",
   "execution_count": 11,
   "metadata": {
    "deletable": false,
    "id": "Tq4nYRX4_Zct"
   },
   "outputs": [
    {
     "data": {
      "text/plain": [
       "user_id    0\n",
       "track      0\n",
       "artist     0\n",
       "genre      0\n",
       "city       0\n",
       "time       0\n",
       "day        0\n",
       "dtype: int64"
      ]
     },
     "execution_count": 11,
     "metadata": {},
     "output_type": "execute_result"
    }
   ],
   "source": [
    "# подсчёт пропусков\n",
    "df.isna().sum()"
   ]
  },
  {
   "cell_type": "markdown",
   "metadata": {
    "deletable": false,
    "editable": false,
    "id": "BWKRtBJ3_Zct",
    "tags": [
     "start_task"
    ]
   },
   "source": [
    "### Дубликаты\n",
    "\n",
    "**Задание 12**\n",
    "\n",
    "Посчитайте явные дубликаты в таблице одной командой:"
   ]
  },
  {
   "cell_type": "code",
   "execution_count": 12,
   "metadata": {
    "deletable": false,
    "id": "36eES_S0_Zct"
   },
   "outputs": [
    {
     "data": {
      "text/plain": [
       "3826"
      ]
     },
     "execution_count": 12,
     "metadata": {},
     "output_type": "execute_result"
    }
   ],
   "source": [
    "# подсчёт явных дубликатов\n",
    "df.duplicated().sum()"
   ]
  },
  {
   "cell_type": "markdown",
   "metadata": {
    "deletable": false,
    "editable": false,
    "id": "Ot25h6XR_Zct",
    "tags": [
     "start_task"
    ]
   },
   "source": [
    "**Задание 13**\n",
    "\n",
    "Вызовите специальный метод `pandas`, чтобы удалить явные дубликаты:"
   ]
  },
  {
   "cell_type": "code",
   "execution_count": 13,
   "metadata": {
    "deletable": false,
    "id": "exFHq6tt_Zct"
   },
   "outputs": [],
   "source": [
    "# удаление явных дубликатов (с удалением старых индексов и формированием новых)\n",
    "df = df.drop_duplicates()"
   ]
  },
  {
   "cell_type": "markdown",
   "metadata": {
    "deletable": false,
    "editable": false,
    "id": "Im2YwBEG_Zct",
    "tags": [
     "start_task"
    ]
   },
   "source": [
    "**Задание 14**\n",
    "\n",
    "Ещё раз посчитайте явные дубликаты в таблице — убедитесь, что полностью от них избавились:"
   ]
  },
  {
   "cell_type": "code",
   "execution_count": 14,
   "metadata": {
    "deletable": false,
    "id": "-8PuNWQ0_Zct"
   },
   "outputs": [
    {
     "data": {
      "text/plain": [
       "0"
      ]
     },
     "execution_count": 14,
     "metadata": {},
     "output_type": "execute_result"
    }
   ],
   "source": [
    "# проверка на отсутствие дубликатов\n",
    "df.duplicated().sum()"
   ]
  },
  {
   "cell_type": "markdown",
   "metadata": {
    "deletable": false,
    "editable": false,
    "id": "QlFBsxAr_Zct"
   },
   "source": [
    "Теперь избавьтесь от неявных дубликатов в колонке `genre`. Например, название одного и того же жанра может быть записано немного по-разному. Такие ошибки тоже повлияют на результат исследования."
   ]
  },
  {
   "cell_type": "markdown",
   "metadata": {
    "deletable": false,
    "editable": false,
    "id": "eSjWwsOh_Zct",
    "tags": [
     "start_task"
    ]
   },
   "source": [
    "**Задание 15**\n",
    "\n",
    "Выведите на экран список уникальных названий жанров, отсортированный в алфавитном порядке. Для этого:\n",
    "* извлеките нужный столбец датафрейма, \n",
    "* примените к нему метод сортировки,\n",
    "* для отсортированного столбца вызовите метод, который вернёт уникальные значения из столбца."
   ]
  },
  {
   "cell_type": "code",
   "execution_count": 15,
   "metadata": {
    "deletable": false,
    "id": "JIUcqzZN_Zct"
   },
   "outputs": [
    {
     "data": {
      "text/plain": [
       "array(['acid', 'acoustic', 'action', 'adult', 'africa', 'afrikaans',\n",
       "       'alternative', 'alternativepunk', 'ambient', 'americana',\n",
       "       'animated', 'anime', 'arabesk', 'arabic', 'arena',\n",
       "       'argentinetango', 'art', 'audiobook', 'author', 'avantgarde',\n",
       "       'axé', 'baile', 'balkan', 'beats', 'bigroom', 'black', 'bluegrass',\n",
       "       'blues', 'bollywood', 'bossa', 'brazilian', 'breakbeat', 'breaks',\n",
       "       'broadway', 'cantautori', 'cantopop', 'canzone', 'caribbean',\n",
       "       'caucasian', 'celtic', 'chamber', 'chanson', 'children', 'chill',\n",
       "       'chinese', 'choral', 'christian', 'christmas', 'classical',\n",
       "       'classicmetal', 'club', 'colombian', 'comedy', 'conjazz',\n",
       "       'contemporary', 'country', 'cuban', 'dance', 'dancehall',\n",
       "       'dancepop', 'dark', 'death', 'deep', 'deutschrock', 'deutschspr',\n",
       "       'dirty', 'disco', 'dnb', 'documentary', 'downbeat', 'downtempo',\n",
       "       'drum', 'dub', 'dubstep', 'eastern', 'easy', 'electronic',\n",
       "       'electropop', 'emo', 'entehno', 'epicmetal', 'estrada', 'ethnic',\n",
       "       'eurofolk', 'european', 'experimental', 'extrememetal', 'fado',\n",
       "       'fairytail', 'film', 'fitness', 'flamenco', 'folk', 'folklore',\n",
       "       'folkmetal', 'folkrock', 'folktronica', 'forró', 'frankreich',\n",
       "       'französisch', 'french', 'funk', 'future', 'gangsta', 'garage',\n",
       "       'german', 'ghazal', 'gitarre', 'glitch', 'gospel', 'gothic',\n",
       "       'grime', 'grunge', 'gypsy', 'handsup', \"hard'n'heavy\", 'hardcore',\n",
       "       'hardstyle', 'hardtechno', 'hip', 'hip-hop', 'hiphop',\n",
       "       'historisch', 'holiday', 'hop', 'horror', 'house', 'hymn', 'idm',\n",
       "       'independent', 'indian', 'indie', 'indipop', 'industrial',\n",
       "       'inspirational', 'instrumental', 'international', 'irish', 'jam',\n",
       "       'japanese', 'jazz', 'jewish', 'jpop', 'jungle', 'k-pop',\n",
       "       'karadeniz', 'karaoke', 'kayokyoku', 'korean', 'laiko', 'latin',\n",
       "       'latino', 'leftfield', 'local', 'lounge', 'loungeelectronic',\n",
       "       'lovers', 'malaysian', 'mandopop', 'marschmusik', 'meditative',\n",
       "       'mediterranean', 'melodic', 'metal', 'metalcore', 'mexican',\n",
       "       'middle', 'minimal', 'miscellaneous', 'modern', 'mood', 'mpb',\n",
       "       'muslim', 'native', 'neoklassik', 'neue', 'new', 'newage',\n",
       "       'newwave', 'nu', 'nujazz', 'numetal', 'oceania', 'old', 'opera',\n",
       "       'orchestral', 'other', 'piano', 'podcasts', 'pop', 'popdance',\n",
       "       'popelectronic', 'popeurodance', 'poprussian', 'post',\n",
       "       'posthardcore', 'postrock', 'power', 'progmetal', 'progressive',\n",
       "       'psychedelic', 'punjabi', 'punk', 'quebecois', 'ragga', 'ram',\n",
       "       'rancheras', 'rap', 'rave', 'reggae', 'reggaeton', 'regional',\n",
       "       'relax', 'religious', 'retro', 'rhythm', 'rnb', 'rnr', 'rock',\n",
       "       'rockabilly', 'rockalternative', 'rockindie', 'rockother',\n",
       "       'romance', 'roots', 'ruspop', 'rusrap', 'rusrock', 'russian',\n",
       "       'salsa', 'samba', 'scenic', 'schlager', 'self', 'sertanejo',\n",
       "       'shanson', 'shoegazing', 'showtunes', 'singer', 'ska', 'skarock',\n",
       "       'slow', 'smooth', 'soft', 'soul', 'soulful', 'sound', 'soundtrack',\n",
       "       'southern', 'specialty', 'speech', 'spiritual', 'sport',\n",
       "       'stonerrock', 'surf', 'swing', 'synthpop', 'synthrock',\n",
       "       'sängerportrait', 'tango', 'tanzorchester', 'taraftar', 'tatar',\n",
       "       'tech', 'techno', 'teen', 'thrash', 'top', 'traditional',\n",
       "       'tradjazz', 'trance', 'tribal', 'trip', 'triphop', 'tropical',\n",
       "       'türk', 'türkçe', 'ukrrock', 'unknown', 'urban', 'uzbek',\n",
       "       'variété', 'vi', 'videogame', 'vocal', 'western', 'world',\n",
       "       'worldbeat', 'ïîï', 'электроника'], dtype=object)"
      ]
     },
     "execution_count": 15,
     "metadata": {},
     "output_type": "execute_result"
    }
   ],
   "source": [
    "# Просмотр уникальных названий жанров\n",
    "genre = df[['genre']]\n",
    "genre_sorted = genre.sort_values(by='genre')\n",
    "genre_sorted_unique = genre_sorted['genre'].unique()\n",
    "genre_sorted_unique"
   ]
  },
  {
   "cell_type": "markdown",
   "metadata": {
    "deletable": false,
    "editable": false,
    "id": "qej-Qmuo_Zct",
    "tags": [
     "start_task"
    ]
   },
   "source": [
    "**Задание 16**\n",
    "\n",
    "Просмотрите список и найдите неявные дубликаты названия `hiphop`. Это могут быть названия с ошибками или альтернативные названия того же жанра.\n",
    "\n",
    "Вы увидите следующие неявные дубликаты:\n",
    "* *hip*,\n",
    "* *hop*,\n",
    "* *hip-hop*.\n",
    "\n",
    "Чтобы очистить от них таблицу используйте метод `replace()` с двумя аргументами: списком строк-дубликатов (включащий *hip*, *hop* и *hip-hop*) и строкой с правильным значением. Вам нужно исправить колонку `genre` в таблице `df`: заменить каждое значение из списка дубликатов на верное. Вместо `hip`, `hop` и `hip-hop` в таблице должно быть значение `hiphop`:"
   ]
  },
  {
   "cell_type": "code",
   "execution_count": 16,
   "metadata": {
    "deletable": false,
    "id": "ErNDkmns_Zct"
   },
   "outputs": [],
   "source": [
    "# Устранение неявных дубликатов\n",
    "duplicates = ['hip', 'hop', 'hip-hop']\n",
    "name = 'hiphop'\n",
    "df = df.replace(duplicates, name)"
   ]
  },
  {
   "cell_type": "markdown",
   "metadata": {
    "deletable": false,
    "editable": false,
    "id": "zQKF16_RG15m",
    "tags": [
     "start_task"
    ]
   },
   "source": [
    "**Задание 17**\n",
    "\n",
    "Проверьте, что заменили неправильные названия:\n",
    "\n",
    "*   hip\n",
    "*   hop\n",
    "*   hip-hop\n",
    "\n",
    "Выведите отсортированный список уникальных значений столбца `genre`:"
   ]
  },
  {
   "cell_type": "code",
   "execution_count": 17,
   "metadata": {
    "deletable": false,
    "id": "wvixALnFG15m"
   },
   "outputs": [
    {
     "data": {
      "text/plain": [
       "array(['acid', 'acoustic', 'action', 'adult', 'africa', 'afrikaans',\n",
       "       'alternative', 'alternativepunk', 'ambient', 'americana',\n",
       "       'animated', 'anime', 'arabesk', 'arabic', 'arena',\n",
       "       'argentinetango', 'art', 'audiobook', 'author', 'avantgarde',\n",
       "       'axé', 'baile', 'balkan', 'beats', 'bigroom', 'black', 'bluegrass',\n",
       "       'blues', 'bollywood', 'bossa', 'brazilian', 'breakbeat', 'breaks',\n",
       "       'broadway', 'cantautori', 'cantopop', 'canzone', 'caribbean',\n",
       "       'caucasian', 'celtic', 'chamber', 'chanson', 'children', 'chill',\n",
       "       'chinese', 'choral', 'christian', 'christmas', 'classical',\n",
       "       'classicmetal', 'club', 'colombian', 'comedy', 'conjazz',\n",
       "       'contemporary', 'country', 'cuban', 'dance', 'dancehall',\n",
       "       'dancepop', 'dark', 'death', 'deep', 'deutschrock', 'deutschspr',\n",
       "       'dirty', 'disco', 'dnb', 'documentary', 'downbeat', 'downtempo',\n",
       "       'drum', 'dub', 'dubstep', 'eastern', 'easy', 'electronic',\n",
       "       'electropop', 'emo', 'entehno', 'epicmetal', 'estrada', 'ethnic',\n",
       "       'eurofolk', 'european', 'experimental', 'extrememetal', 'fado',\n",
       "       'fairytail', 'film', 'fitness', 'flamenco', 'folk', 'folklore',\n",
       "       'folkmetal', 'folkrock', 'folktronica', 'forró', 'frankreich',\n",
       "       'französisch', 'french', 'funk', 'future', 'gangsta', 'garage',\n",
       "       'german', 'ghazal', 'gitarre', 'glitch', 'gospel', 'gothic',\n",
       "       'grime', 'grunge', 'gypsy', 'handsup', \"hard'n'heavy\", 'hardcore',\n",
       "       'hardstyle', 'hardtechno', 'hiphop', 'historisch', 'holiday',\n",
       "       'horror', 'house', 'hymn', 'idm', 'independent', 'indian', 'indie',\n",
       "       'indipop', 'industrial', 'inspirational', 'instrumental',\n",
       "       'international', 'irish', 'jam', 'japanese', 'jazz', 'jewish',\n",
       "       'jpop', 'jungle', 'k-pop', 'karadeniz', 'karaoke', 'kayokyoku',\n",
       "       'korean', 'laiko', 'latin', 'latino', 'leftfield', 'local',\n",
       "       'lounge', 'loungeelectronic', 'lovers', 'malaysian', 'mandopop',\n",
       "       'marschmusik', 'meditative', 'mediterranean', 'melodic', 'metal',\n",
       "       'metalcore', 'mexican', 'middle', 'minimal', 'miscellaneous',\n",
       "       'modern', 'mood', 'mpb', 'muslim', 'native', 'neoklassik', 'neue',\n",
       "       'new', 'newage', 'newwave', 'nu', 'nujazz', 'numetal', 'oceania',\n",
       "       'old', 'opera', 'orchestral', 'other', 'piano', 'podcasts', 'pop',\n",
       "       'popdance', 'popelectronic', 'popeurodance', 'poprussian', 'post',\n",
       "       'posthardcore', 'postrock', 'power', 'progmetal', 'progressive',\n",
       "       'psychedelic', 'punjabi', 'punk', 'quebecois', 'ragga', 'ram',\n",
       "       'rancheras', 'rap', 'rave', 'reggae', 'reggaeton', 'regional',\n",
       "       'relax', 'religious', 'retro', 'rhythm', 'rnb', 'rnr', 'rock',\n",
       "       'rockabilly', 'rockalternative', 'rockindie', 'rockother',\n",
       "       'romance', 'roots', 'ruspop', 'rusrap', 'rusrock', 'russian',\n",
       "       'salsa', 'samba', 'scenic', 'schlager', 'self', 'sertanejo',\n",
       "       'shanson', 'shoegazing', 'showtunes', 'singer', 'ska', 'skarock',\n",
       "       'slow', 'smooth', 'soft', 'soul', 'soulful', 'sound', 'soundtrack',\n",
       "       'southern', 'specialty', 'speech', 'spiritual', 'sport',\n",
       "       'stonerrock', 'surf', 'swing', 'synthpop', 'synthrock',\n",
       "       'sängerportrait', 'tango', 'tanzorchester', 'taraftar', 'tatar',\n",
       "       'tech', 'techno', 'teen', 'thrash', 'top', 'traditional',\n",
       "       'tradjazz', 'trance', 'tribal', 'trip', 'triphop', 'tropical',\n",
       "       'türk', 'türkçe', 'ukrrock', 'unknown', 'urban', 'uzbek',\n",
       "       'variété', 'vi', 'videogame', 'vocal', 'western', 'world',\n",
       "       'worldbeat', 'ïîï', 'электроника'], dtype=object)"
      ]
     },
     "execution_count": 17,
     "metadata": {},
     "output_type": "execute_result"
    }
   ],
   "source": [
    "# Проверка на неявные дубликаты\n",
    "df['genre'].sort_values().unique()"
   ]
  },
  {
   "cell_type": "markdown",
   "metadata": {
    "deletable": false,
    "editable": false,
    "id": "jz6a9-7HQUDd"
   },
   "source": [
    "**Выводы**\n",
    "\n",
    "Предобработка обнаружила три проблемы в данных:\n",
    "\n",
    "- нарушения в стиле заголовков,\n",
    "- пропущенные значения,\n",
    "- дубликаты — явные и неявные.\n",
    "\n",
    "Вы исправили заголовки, чтобы упростить работу с таблицей. Без дубликатов исследование станет более точным.\n",
    "\n",
    "Пропущенные значения вы заменили на `'unknown'`. Ещё предстоит увидеть, не повредят ли исследованию пропуски в колонке `genre`.\n",
    "\n",
    "Теперь можно перейти к проверке гипотез. "
   ]
  },
  {
   "cell_type": "markdown",
   "metadata": {
    "deletable": false,
    "editable": false,
    "id": "WttZHXH0SqKk"
   },
   "source": [
    "## Проверка гипотез"
   ]
  },
  {
   "cell_type": "markdown",
   "metadata": {
    "deletable": false,
    "editable": false,
    "id": "Im936VVi_Zcu"
   },
   "source": [
    "### Сравнение поведения пользователей двух столиц"
   ]
  },
  {
   "cell_type": "markdown",
   "metadata": {
    "deletable": false,
    "editable": false,
    "id": "nwt_MuaL_Zcu"
   },
   "source": [
    "Первая гипотеза утверждает, что пользователи по-разному слушают музыку в Москве и Санкт-Петербурге. Проверьте это предположение по данным о трёх днях недели — понедельнике, среде и пятнице. Для этого:\n",
    "\n",
    "* Разделите пользователей Москвы и Санкт-Петербурга\n",
    "* Сравните, сколько треков послушала каждая группа пользователей в понедельник, среду и пятницу.\n"
   ]
  },
  {
   "cell_type": "markdown",
   "metadata": {
    "deletable": false,
    "editable": false,
    "id": "8Dw_YMmT_Zcu",
    "tags": [
     "start_task"
    ]
   },
   "source": [
    "**Задание 18**\n",
    "\n",
    "Для тренировки сначала выполните каждый из расчётов по отдельности. \n",
    "\n",
    "Оцените активность пользователей в каждом городе. Сгруппируйте данные по городу и посчитайте прослушивания в каждой группе.\n",
    "\n"
   ]
  },
  {
   "cell_type": "code",
   "execution_count": 18,
   "metadata": {
    "deletable": false,
    "id": "0_Qs96oh_Zcu"
   },
   "outputs": [
    {
     "data": {
      "text/plain": [
       "city\n",
       "Moscow              42741\n",
       "Saint-Petersburg    18512\n",
       "Name: time, dtype: int64"
      ]
     },
     "execution_count": 18,
     "metadata": {},
     "output_type": "execute_result"
    }
   ],
   "source": [
    "# Подсчёт прослушиваний в каждом городе\n",
    "df.groupby('city')['time'].count()"
   ]
  },
  {
   "cell_type": "markdown",
   "metadata": {
    "deletable": false,
    "editable": false,
    "id": "dzli3w8o_Zcu",
    "tags": [
     "start_task"
    ]
   },
   "source": [
    "В Москве прослушиваний больше, чем в Петербурге. Из этого не следует, что московские пользователи чаще слушают музыку. Просто самих пользователей в Москве больше.\n",
    "\n",
    "**Задание 19**\n",
    "\n",
    "Теперь сгруппируйте данные по дню недели и подсчитайте прослушивания в понедельник, среду и пятницу. Учтите, что в данных есть информация только о прослушиваниях только за эти дни.\n"
   ]
  },
  {
   "cell_type": "code",
   "execution_count": 19,
   "metadata": {
    "deletable": false,
    "id": "uZMKjiJz_Zcu"
   },
   "outputs": [
    {
     "data": {
      "text/plain": [
       "day\n",
       "Friday       21840\n",
       "Monday       21354\n",
       "Wednesday    18059\n",
       "Name: time, dtype: int64"
      ]
     },
     "execution_count": 19,
     "metadata": {},
     "output_type": "execute_result"
    }
   ],
   "source": [
    "# Подсчёт прослушиваний в каждый из трёх дней\n",
    "df.groupby('day')['time'].count()"
   ]
  },
  {
   "cell_type": "markdown",
   "metadata": {
    "deletable": false,
    "editable": false,
    "id": "cC2tNrlL_Zcu"
   },
   "source": [
    "В среднем пользователи из двух городов менее активны по средам. Но картина может измениться, если рассмотреть каждый город в отдельности."
   ]
  },
  {
   "cell_type": "markdown",
   "metadata": {
    "deletable": false,
    "editable": false,
    "id": "POzs8bGa_Zcu",
    "tags": [
     "start_task"
    ]
   },
   "source": [
    "**Задание 20**\n",
    "\n",
    "\n",
    "Вы видели, как работает группировка по городу и по дням недели. Теперь напишите функцию, которая объединит два эти расчёта.\n",
    "\n",
    "Создайте функцию `number_tracks()`, которая посчитает прослушивания для заданного дня и города. Ей понадобятся два параметра:\n",
    "* день недели,\n",
    "* название города.\n",
    "\n",
    "В функции сохраните в переменную строки исходной таблицы, у которых значение:\n",
    "  * в колонке `day` равно параметру `day`,\n",
    "  * в колонке `city` равно параметру `city`.\n",
    "\n",
    "Для этого примените последовательную фильтрацию с логической индексацией (или сложные логические выражения в одну строку, если вы уже знакомы с ними).\n",
    "\n",
    "Затем посчитайте значения в столбце `user_id` получившейся таблицы. Результат сохраните в новую переменную. Верните эту переменную из функции."
   ]
  },
  {
   "cell_type": "code",
   "execution_count": 41,
   "metadata": {
    "deletable": false,
    "id": "Nz3GdQB1_Zcu"
   },
   "outputs": [],
   "source": [
    "# <создание функции number_tracks()>\n",
    "# Объявляется функция с двумя параметрами: day, city.\n",
    "# В переменной track_list сохраняются те строки таблицы df, для которых \n",
    "# значение в столбце 'day' равно параметру day и одновременно значение\n",
    "# в столбце 'city' равно параметру city (используйте последовательную фильтрацию\n",
    "# с помощью логической индексации или сложные логические выражения в одну строку, если вы уже знакомы с ними).\n",
    "# В переменной track_list_count сохраняется число значений столбца 'user_id',\n",
    "# рассчитанное методом count() для таблицы track_list.\n",
    "# Функция возвращает число - значение track_list_count.\n",
    "def number_tracks(day, city):\n",
    "    #day_filt = df[df['day'] == day]\n",
    "    #track_list = day_filt[day_filt['city'] == city]\n",
    "    track_list = df[(df['day'] == day) & (df['city'] == city)]\n",
    "                 #df[(df['day'] == day) & [(df['city'] == city)]\n",
    "    track_list_count = track_list['user_id'].count()\n",
    "    return track_list_count\n",
    "\n",
    "# Функция для подсчёта прослушиваний для конкретного города и дня.\n",
    "# С помощью последовательной фильтрации с логической индексацией она \n",
    "# сначала получит из исходной таблицы строки с нужным днём,\n",
    "# затем из результата отфильтрует строки с нужным городом,\n",
    "# методом count() посчитает количество значений в колонке user_id. \n",
    "# Это количество функция вернёт в качестве результата"
   ]
  },
  {
   "cell_type": "markdown",
   "metadata": {
    "deletable": false,
    "editable": false,
    "id": "ytf7xFrFJQ2r",
    "tags": [
     "start_task"
    ]
   },
   "source": [
    "**Задание 21**\n",
    "\n",
    "Вызовите `number_tracks()` шесть раз, меняя значение параметров — так, чтобы получить данные для каждого города в каждый из трёх дней."
   ]
  },
  {
   "cell_type": "code",
   "execution_count": 42,
   "metadata": {
    "deletable": false,
    "id": "rJcRATNQ_Zcu"
   },
   "outputs": [
    {
     "data": {
      "text/plain": [
       "15740"
      ]
     },
     "execution_count": 42,
     "metadata": {},
     "output_type": "execute_result"
    }
   ],
   "source": [
    "# количество прослушиваний в Москве по понедельникам\n",
    "number_tracks('Monday', 'Moscow')"
   ]
  },
  {
   "cell_type": "code",
   "execution_count": 268,
   "metadata": {
    "deletable": false,
    "id": "hq_ncZ5T_Zcu"
   },
   "outputs": [
    {
     "data": {
      "text/plain": [
       "5614"
      ]
     },
     "execution_count": 268,
     "metadata": {},
     "output_type": "execute_result"
    }
   ],
   "source": [
    "# количество прослушиваний в Санкт-Петербурге по понедельникам\n",
    "number_tracks('Monday', 'Saint-Petersburg')"
   ]
  },
  {
   "cell_type": "code",
   "execution_count": 269,
   "metadata": {
    "deletable": false,
    "id": "_NTy2VPU_Zcu"
   },
   "outputs": [
    {
     "data": {
      "text/plain": [
       "11056"
      ]
     },
     "execution_count": 269,
     "metadata": {},
     "output_type": "execute_result"
    }
   ],
   "source": [
    "# количество прослушиваний в Москве по средам\n",
    "number_tracks('Wednesday', 'Moscow')"
   ]
  },
  {
   "cell_type": "code",
   "execution_count": 270,
   "metadata": {
    "deletable": false,
    "id": "j2y3TAwo_Zcu"
   },
   "outputs": [
    {
     "data": {
      "text/plain": [
       "7003"
      ]
     },
     "execution_count": 270,
     "metadata": {},
     "output_type": "execute_result"
    }
   ],
   "source": [
    "# количество прослушиваний в Санкт-Петербурге по средам\n",
    "number_tracks('Wednesday', 'Saint-Petersburg')"
   ]
  },
  {
   "cell_type": "code",
   "execution_count": 271,
   "metadata": {
    "deletable": false,
    "id": "vYDw5u_K_Zcu"
   },
   "outputs": [
    {
     "data": {
      "text/plain": [
       "15945"
      ]
     },
     "execution_count": 271,
     "metadata": {},
     "output_type": "execute_result"
    }
   ],
   "source": [
    "# количество прослушиваний в Москве по пятницам\n",
    "number_tracks('Friday', 'Moscow')"
   ]
  },
  {
   "cell_type": "code",
   "execution_count": 272,
   "metadata": {
    "deletable": false,
    "id": "8_yzFtW3_Zcu"
   },
   "outputs": [
    {
     "data": {
      "text/plain": [
       "5895"
      ]
     },
     "execution_count": 272,
     "metadata": {},
     "output_type": "execute_result"
    }
   ],
   "source": [
    "# количество прослушиваний в Санкт-Петербурге по пятницам\n",
    "number_tracks('Friday', 'Saint-Petersburg')"
   ]
  },
  {
   "cell_type": "markdown",
   "metadata": {
    "deletable": false,
    "editable": false,
    "id": "7QXffbO-_Zcu",
    "tags": [
     "start_task"
    ]
   },
   "source": [
    "**Задание 22**\n",
    "\n",
    "Создайте c помощью конструктора `pd.DataFrame` таблицу, где\n",
    "* названия колонок — `['city', 'monday', 'wednesday', 'friday']`;\n",
    "* данные — результаты, которые вы получили с помощью `number_tracks`."
   ]
  },
  {
   "cell_type": "code",
   "execution_count": 273,
   "metadata": {
    "deletable": false,
    "id": "APAcLpOr_Zcu"
   },
   "outputs": [
    {
     "data": {
      "text/html": [
       "<div>\n",
       "<style scoped>\n",
       "    .dataframe tbody tr th:only-of-type {\n",
       "        vertical-align: middle;\n",
       "    }\n",
       "\n",
       "    .dataframe tbody tr th {\n",
       "        vertical-align: top;\n",
       "    }\n",
       "\n",
       "    .dataframe thead th {\n",
       "        text-align: right;\n",
       "    }\n",
       "</style>\n",
       "<table border=\"1\" class=\"dataframe\">\n",
       "  <thead>\n",
       "    <tr style=\"text-align: right;\">\n",
       "      <th></th>\n",
       "      <th>city</th>\n",
       "      <th>monday</th>\n",
       "      <th>wednesday</th>\n",
       "      <th>friday</th>\n",
       "    </tr>\n",
       "  </thead>\n",
       "  <tbody>\n",
       "    <tr>\n",
       "      <th>0</th>\n",
       "      <td>Moscow</td>\n",
       "      <td>15740</td>\n",
       "      <td>11056</td>\n",
       "      <td>15945</td>\n",
       "    </tr>\n",
       "    <tr>\n",
       "      <th>1</th>\n",
       "      <td>Saint-Petersburg</td>\n",
       "      <td>5614</td>\n",
       "      <td>7003</td>\n",
       "      <td>5895</td>\n",
       "    </tr>\n",
       "  </tbody>\n",
       "</table>\n",
       "</div>"
      ],
      "text/plain": [
       "               city monday wednesday friday\n",
       "0            Moscow  15740     11056  15945\n",
       "1  Saint-Petersburg   5614      7003   5895"
      ]
     },
     "execution_count": 273,
     "metadata": {},
     "output_type": "execute_result"
    }
   ],
   "source": [
    "# Таблица с результатами\n",
    "columns = ['city', 'monday', 'wednesday', 'friday']\n",
    "data    = [{'city': 'Moscow',           'monday': '15740', 'wednesday': '11056', 'friday': '15945'},\n",
    "           {'city': 'Saint-Petersburg', 'monday': '5614', 'wednesday': '7003', 'friday': '5895'}]\n",
    "\n",
    "pd.DataFrame(columns=columns, data=data)\n"
   ]
  },
  {
   "cell_type": "markdown",
   "metadata": {
    "deletable": false,
    "editable": false,
    "id": "-EgPIHYu_Zcu"
   },
   "source": [
    "**Выводы**\n",
    "\n",
    "Данные показывают разницу поведения пользователей:\n",
    "\n",
    "- В Москве пик прослушиваний приходится на понедельник и пятницу, а в среду заметен спад.\n",
    "- В Петербурге, наоборот, больше слушают музыку по средам. Активность в понедельник и пятницу здесь почти в равной мере уступает среде.\n",
    "\n",
    "Значит, данные говорят в пользу первой гипотезы."
   ]
  },
  {
   "cell_type": "markdown",
   "metadata": {
    "deletable": false,
    "editable": false,
    "id": "atZAxtq4_Zcu"
   },
   "source": [
    "### Музыка в начале и в конце недели"
   ]
  },
  {
   "cell_type": "markdown",
   "metadata": {
    "deletable": false,
    "editable": false,
    "id": "eXrQqXFH_Zcu"
   },
   "source": [
    "Согласно второй гипотезе, утром в понедельник в Москве преобладают одни жанры, а в Петербурге — другие. Так же и вечером пятницы преобладают разные жанры — в зависимости от города."
   ]
  },
  {
   "cell_type": "markdown",
   "metadata": {
    "deletable": false,
    "editable": false,
    "id": "S8UcW6Hw_Zcu",
    "tags": [
     "start_task"
    ]
   },
   "source": [
    "**Задание 23**\n",
    "\n",
    "Сохраните таблицы с данными в две переменные:\n",
    "* по Москве — в `moscow_general`;\n",
    "* по Санкт-Петербургу — в `spb_general`."
   ]
  },
  {
   "cell_type": "code",
   "execution_count": 274,
   "metadata": {
    "deletable": false,
    "id": "qeaFfM_P_Zcu"
   },
   "outputs": [],
   "source": [
    "# получение таблицы moscow_general из тех строк таблицы df, \n",
    "# для которых значение в столбце 'city' равно 'Moscow'\n",
    "moscow_general = df[df['city'] == 'Moscow']"
   ]
  },
  {
   "cell_type": "code",
   "execution_count": 275,
   "metadata": {
    "deletable": false,
    "id": "ORaVRKto_Zcu"
   },
   "outputs": [],
   "source": [
    "# получение таблицы spb_general из тех строк таблицы df,\n",
    "# для которых значение в столбце 'city' равно 'Saint-Petersburg'\n",
    "spb_general = df[df['city'] == 'Saint-Petersburg']"
   ]
  },
  {
   "cell_type": "markdown",
   "metadata": {
    "deletable": false,
    "id": "MEJV-CX2_Zcu",
    "tags": [
     "start_task"
    ]
   },
   "source": [
    "**Задание 24**\n",
    "\n",
    "Создайте функцию `genre_weekday()` с четырьмя параметрами:\n",
    "* таблица (датафрейм) с данными,\n",
    "* день недели,\n",
    "* начальная временная метка в формате 'hh:mm', \n",
    "* последняя временная метка в формате 'hh:mm'.\n",
    "\n",
    "Функция должна вернуть информацию о топ-10 жанров тех треков, которые прослушивали в указанный день, в промежутке между двумя отметками времени."
   ]
  },
  {
   "cell_type": "code",
   "execution_count": 276,
   "metadata": {
    "deletable": false,
    "id": "laJT9BYl_Zcu"
   },
   "outputs": [],
   "source": [
    "# Объявление функции genre_weekday() с параметрами table, day, time1, time2,\n",
    "# которая возвращает информацию о самых популярных жанрах в указанный день в\n",
    "# заданное время:\n",
    "# 1) в переменную genre_df сохраняются те строки переданного датафрейма table, для\n",
    "#    которых одновременно:\n",
    "#    - значение в столбце day равно значению аргумента day\n",
    "#    - значение в столбце time больше значения аргумента time1\n",
    "#    - значение в столбце time меньше значения аргумента time2\n",
    "#    Используйте последовательную фильтрацию с помощью логической индексации.\n",
    "# 2) сгруппировать датафрейм genre_df по столбцу genre, взять один из его\n",
    "#    столбцов и посчитать методом count() количество записей для каждого из\n",
    "#    присутствующих жанров, получившийся Series записать в переменную\n",
    "#    genre_df_grouped\n",
    "# 3) отсортировать genre_df_grouped по убыванию встречаемости и сохранить\n",
    "#    в переменную genre_df_sorted\n",
    "# 4) вернуть Series из 10 первых значений genre_df_sorted, это будут топ-10\n",
    "#    популярных жанров (в указанный день, в заданное время)\n",
    "\n",
    "def genre_weekday(df, day, time1, time2):\n",
    "    # последовательная фильтрация\n",
    "    # оставляем в genre_df только те строки df, у которых день равен day\n",
    "    genre_df = df[df['day'] == day] # ваш код здесь\n",
    "    # оставляем в genre_df только те строки genre_df, у которых время меньше time2\n",
    "    genre_df = genre_df[genre_df['time'] < time2] # ваш код здесь\n",
    "    # оставляем в genre_df только те строки genre_df, у которых время больше time1\n",
    "    genre_df = genre_df[genre_df['time'] > time1] # ваш код здесь\n",
    "    # сгруппируем отфильтрованный датафрейм по столбцу с названиями жанров, возьмём столбец genre и посчитаем кол-во строк для каждого жанра методом count()\n",
    "    genre_df_grouped = genre_df.groupby('genre')['genre'].count() # ваш код здесь\n",
    "    # отсортируем результат по убыванию (чтобы в начале Series оказались самые популярные жанры)\n",
    "    genre_df_sorted = genre_df_grouped.sort_values(ascending=False) # ваш код здесь\n",
    "    # вернём Series с 10 самыми популярными жанрами в указанный отрезок времени заданного дня\n",
    "    return genre_df_sorted[:10]"
   ]
  },
  {
   "cell_type": "markdown",
   "metadata": {
    "deletable": false,
    "editable": false,
    "id": "la2s2_PF_Zcu",
    "tags": [
     "start_task"
    ]
   },
   "source": [
    "**Задание 25**\n",
    "\n",
    "\n",
    "Cравните результаты функции `genre_weekday()` для Москвы и Санкт-Петербурга в понедельник утром (с 7:00 до 11:00) и в пятницу вечером (с 17:00 до 23:00):"
   ]
  },
  {
   "cell_type": "code",
   "execution_count": 277,
   "metadata": {
    "deletable": false,
    "id": "yz7itPUQ_Zcu"
   },
   "outputs": [
    {
     "data": {
      "text/plain": [
       "genre\n",
       "pop            781\n",
       "dance          549\n",
       "electronic     480\n",
       "rock           474\n",
       "hiphop         286\n",
       "ruspop         186\n",
       "world          181\n",
       "rusrap         175\n",
       "alternative    164\n",
       "unknown        161\n",
       "Name: genre, dtype: int64"
      ]
     },
     "execution_count": 277,
     "metadata": {},
     "output_type": "execute_result"
    }
   ],
   "source": [
    "# вызов функции для утра понедельника в Москве (вместо df — таблица moscow_general)\n",
    "# объекты, хранящие время, являются строками и сравниваются как строки\n",
    "# пример вызова: genre_weekday(moscow_general, 'Monday', '07:00', '11:00')\n",
    "genre_weekday(moscow_general, 'Monday', '07:00', '11:00')"
   ]
  },
  {
   "cell_type": "code",
   "execution_count": 278,
   "metadata": {
    "deletable": false,
    "id": "kwUcHPdy_Zcu"
   },
   "outputs": [
    {
     "data": {
      "text/plain": [
       "genre\n",
       "pop            218\n",
       "dance          182\n",
       "rock           162\n",
       "electronic     147\n",
       "hiphop          80\n",
       "ruspop          64\n",
       "alternative     58\n",
       "rusrap          55\n",
       "jazz            44\n",
       "classical       40\n",
       "Name: genre, dtype: int64"
      ]
     },
     "execution_count": 278,
     "metadata": {},
     "output_type": "execute_result"
    }
   ],
   "source": [
    "# вызов функции для утра понедельника в Петербурге (вместо df — таблица spb_general)\n",
    "genre_weekday(spb_general, 'Monday', '07:00', '11:00')"
   ]
  },
  {
   "cell_type": "code",
   "execution_count": 279,
   "metadata": {
    "deletable": false,
    "id": "EzXVRE1o_Zcu"
   },
   "outputs": [
    {
     "data": {
      "text/plain": [
       "genre\n",
       "pop            713\n",
       "rock           517\n",
       "dance          495\n",
       "electronic     482\n",
       "hiphop         273\n",
       "world          208\n",
       "ruspop         170\n",
       "alternative    163\n",
       "classical      163\n",
       "rusrap         142\n",
       "Name: genre, dtype: int64"
      ]
     },
     "execution_count": 279,
     "metadata": {},
     "output_type": "execute_result"
    }
   ],
   "source": [
    "# вызов функции для вечера пятницы в Москве\n",
    "genre_weekday(moscow_general, 'Friday', '17:00', '23:00')"
   ]
  },
  {
   "cell_type": "code",
   "execution_count": 280,
   "metadata": {
    "deletable": false,
    "id": "JZaEKu5v_Zcu"
   },
   "outputs": [
    {
     "name": "stdout",
     "output_type": "stream",
     "text": [
      "genre\n",
      "pop            256\n",
      "electronic     216\n",
      "rock           216\n",
      "dance          210\n",
      "hiphop          97\n",
      "alternative     63\n",
      "jazz            61\n",
      "classical       60\n",
      "rusrap          59\n",
      "world           54\n",
      "Name: genre, dtype: int64\n"
     ]
    }
   ],
   "source": [
    "# вызов функции для вечера пятницы в Петербурге\n",
    "print(genre_weekday(spb_general, 'Friday', '17:00', '23:00'))"
   ]
  },
  {
   "cell_type": "markdown",
   "metadata": {
    "deletable": false,
    "editable": false,
    "id": "wrCe4MNX_Zcu"
   },
   "source": [
    "**Выводы**\n",
    "\n",
    "Если сравнить топ-10 жанров в понедельник утром, можно сделать такие выводы:\n",
    "\n",
    "1. В Москве и Петербурге слушают похожую музыку. Единственное отличие — в московский рейтинг вошёл жанр “world”, а в петербургский — джаз и классика.\n",
    "\n",
    "2. В Москве пропущенных значений оказалось так много, что значение `'unknown'` заняло десятое место среди самых популярных жанров. Значит, пропущенные значения занимают существенную долю в данных и угрожают достоверности исследования.\n",
    "\n",
    "Вечер пятницы не меняет эту картину. Некоторые жанры поднимаются немного выше, другие спускаются, но в целом топ-10 остаётся тем же самым.\n",
    "\n",
    "Таким образом, вторая гипотеза подтвердилась лишь частично:\n",
    "* Пользователи слушают похожую музыку в начале недели и в конце.\n",
    "* Разница между Москвой и Петербургом не слишком выражена. В Москве чаще слушают русскую популярную музыку, в Петербурге — джаз.\n",
    "\n",
    "Однако пропуски в данных ставят под сомнение этот результат. В Москве их так много, что рейтинг топ-10 мог бы выглядеть иначе, если бы не утерянные  данные о жанрах."
   ]
  },
  {
   "cell_type": "markdown",
   "metadata": {
    "deletable": false,
    "editable": false,
    "id": "JolODAqr_Zcu"
   },
   "source": [
    "### Жанровые предпочтения в Москве и Петербурге\n",
    "\n",
    "Гипотеза: Петербург — столица рэпа, музыку этого жанра там слушают чаще, чем в Москве.  А Москва — город контрастов, в котором, тем не менее, преобладает поп-музыка."
   ]
  },
  {
   "cell_type": "markdown",
   "metadata": {
    "deletable": false,
    "editable": false,
    "id": "DlegSvaT_Zcu",
    "tags": [
     "start_task"
    ]
   },
   "source": [
    "**Задание 26**\n",
    "\n",
    "Сгруппируйте таблицу `moscow_general` по жанру и посчитайте прослушивания треков каждого жанра методом `count()`. Затем отсортируйте результат в порядке убывания и сохраните его в таблице `moscow_genres`."
   ]
  },
  {
   "cell_type": "code",
   "execution_count": 281,
   "metadata": {
    "deletable": false,
    "id": "r19lIPke_Zcu"
   },
   "outputs": [],
   "source": [
    "# одной строкой: группировка таблицы moscow_general по столбцу 'genre',\n",
    "# подсчёт числа значений 'genre' в этой группировке методом count(), \n",
    "# сортировка получившегося Series в порядке убывания и сохранение в moscow_genres\n",
    "msk_general = moscow_general.groupby('genre')['genre'].count()\n",
    "moscow_genres = msk_general.sort_values(ascending=False)"
   ]
  },
  {
   "cell_type": "markdown",
   "metadata": {
    "deletable": false,
    "editable": false,
    "id": "6kMuomxTiIr8",
    "tags": [
     "start_task"
    ]
   },
   "source": [
    "**Задание 27**\n",
    "\n",
    "Выведите на экран первые десять строк `moscow_genres`:"
   ]
  },
  {
   "cell_type": "code",
   "execution_count": 282,
   "metadata": {
    "deletable": false,
    "id": "WhCSooF8_Zcv"
   },
   "outputs": [
    {
     "data": {
      "text/plain": [
       "genre\n",
       "pop            5892\n",
       "dance          4435\n",
       "rock           3965\n",
       "electronic     3786\n",
       "hiphop         2096\n",
       "classical      1616\n",
       "world          1432\n",
       "alternative    1379\n",
       "ruspop         1372\n",
       "rusrap         1161\n",
       "Name: genre, dtype: int64"
      ]
     },
     "execution_count": 282,
     "metadata": {},
     "output_type": "execute_result"
    }
   ],
   "source": [
    "# просмотр первых 10 строк moscow_genres\n",
    "moscow_genres[:10]"
   ]
  },
  {
   "cell_type": "markdown",
   "metadata": {
    "deletable": false,
    "editable": false,
    "id": "cnPG2vnN_Zcv",
    "tags": [
     "start_task"
    ]
   },
   "source": [
    "**Задание 28**\n",
    "\n",
    "\n",
    "Теперь повторите то же и для Петербурга.\n",
    "\n",
    "Сгруппируйте таблицу `spb_general` по жанру. Посчитайте прослушивания треков каждого жанра. Результат отсортируйте в порядке убывания и сохраните в таблице `spb_genres`:\n"
   ]
  },
  {
   "cell_type": "code",
   "execution_count": 283,
   "metadata": {
    "deletable": false,
    "id": "gluLIpE7_Zcv"
   },
   "outputs": [],
   "source": [
    "# одной строкой: группировка таблицы spb_general по столбцу 'genre', \n",
    "# подсчёт числа значений 'genre' в этой группировке методом count(), \n",
    "# сортировка получившегося Series в порядке убывания и сохранение в spb_genres\n",
    "spb1_general = spb_general.groupby('genre')['genre'].count()\n",
    "spb_genres = spb1_general.sort_values(ascending=False)"
   ]
  },
  {
   "cell_type": "markdown",
   "metadata": {
    "deletable": false,
    "editable": false,
    "id": "5Doha_ODgyQ8",
    "tags": [
     "start_task"
    ]
   },
   "source": [
    "**Задание 29**\n",
    "\n",
    "Выведите на экран первые десять строк `spb_genres`:"
   ]
  },
  {
   "cell_type": "code",
   "execution_count": 284,
   "metadata": {
    "deletable": false,
    "id": "uaGJHjVU_Zcv"
   },
   "outputs": [
    {
     "data": {
      "text/plain": [
       "genre\n",
       "pop            2431\n",
       "dance          1932\n",
       "rock           1879\n",
       "electronic     1736\n",
       "hiphop          960\n",
       "alternative     649\n",
       "classical       646\n",
       "rusrap          564\n",
       "ruspop          538\n",
       "world           515\n",
       "Name: genre, dtype: int64"
      ]
     },
     "execution_count": 284,
     "metadata": {},
     "output_type": "execute_result"
    }
   ],
   "source": [
    "# просмотр первых 10 строк spb_genres\n",
    "spb_genres[:10]"
   ]
  },
  {
   "cell_type": "markdown",
   "metadata": {
    "deletable": false,
    "editable": false,
    "id": "RY51YJYu_Zcv"
   },
   "source": [
    "**Выводы**"
   ]
  },
  {
   "cell_type": "markdown",
   "metadata": {
    "deletable": false,
    "editable": false,
    "id": "nVhnJEm__Zcv"
   },
   "source": [
    "Гипотеза частично подтвердилась:\n",
    "* Поп-музыка — самый популярный жанр в Москве, как и предполагала гипотеза. Более того, в топ-10 жанров встречается близкий жанр — русская популярная музыка.\n",
    "* Вопреки ожиданиям, рэп одинаково популярен в Москве и Петербурге. \n"
   ]
  },
  {
   "cell_type": "markdown",
   "metadata": {
    "deletable": false,
    "editable": false,
    "id": "ykKQ0N65_Zcv"
   },
   "source": [
    "## Итоги исследования"
   ]
  },
  {
   "cell_type": "markdown",
   "metadata": {
    "deletable": false,
    "editable": false,
    "id": "tjUwbHb3_Zcv"
   },
   "source": [
    "Вы проверили три гипотезы и установили:\n",
    "\n",
    "1. День недели по-разному влияет на активность пользователей в Москве и Петербурге. \n",
    "\n",
    "Первая гипотеза полностью подтвердилась.\n",
    "\n",
    "2. Музыкальные предпочтения не сильно меняются в течение недели — будь то Москва или Петербург. Небольшие различия заметны в начале недели, по понедельникам:\n",
    "* в Москве слушают музыку жанра “world”,\n",
    "* в Петербурге — джаз и классику.\n",
    "\n",
    "Таким образом, вторая гипотеза подтвердилась лишь отчасти. Этот результат мог оказаться иным, если бы не пропуски в данных.\n",
    "\n",
    "3. Во вкусах пользователей Москвы и Петербурга больше общего чем различий. Вопреки ожиданиям, предпочтения жанров в Петербурге напоминают московские.\n",
    "\n",
    "Третья гипотеза не подтвердилась. Если различия в предпочтениях и существуют, на основной массе пользователей они незаметны.\n",
    "\n",
    "**На практике исследования содержат проверки статистических гипотез.**\n",
    "Из данных одного сервиса не всегда можно сделать вывод о всех жителях города.\n",
    "Проверки статистических гипотез покажут, насколько они достоверны, исходя из имеющихся данных. \n",
    "С методами проверок гипотез вы ещё познакомитесь в следующих темах."
   ]
  }
 ],
 "metadata": {
  "ExecuteTimeLog": [
   {
    "duration": 414,
    "start_time": "2023-04-14T15:19:43.426Z"
   },
   {
    "duration": 64,
    "start_time": "2023-04-14T15:21:34.118Z"
   },
   {
    "duration": 492,
    "start_time": "2023-04-14T15:22:51.589Z"
   },
   {
    "duration": 17,
    "start_time": "2023-04-14T15:23:28.663Z"
   },
   {
    "duration": 8,
    "start_time": "2023-04-14T15:28:42.398Z"
   },
   {
    "duration": 49,
    "start_time": "2023-04-14T15:28:54.826Z"
   },
   {
    "duration": 3,
    "start_time": "2023-04-14T15:35:58.386Z"
   },
   {
    "duration": 7,
    "start_time": "2023-04-14T15:46:29.813Z"
   },
   {
    "duration": 6,
    "start_time": "2023-04-14T15:46:49.809Z"
   },
   {
    "duration": 6,
    "start_time": "2023-04-14T15:46:57.101Z"
   },
   {
    "duration": 8,
    "start_time": "2023-04-14T15:47:41.176Z"
   },
   {
    "duration": 8,
    "start_time": "2023-04-14T15:48:11.631Z"
   },
   {
    "duration": 4,
    "start_time": "2023-04-14T15:49:17.880Z"
   },
   {
    "duration": 3,
    "start_time": "2023-04-14T15:50:06.400Z"
   },
   {
    "duration": 8,
    "start_time": "2023-04-14T15:56:25.121Z"
   },
   {
    "duration": 4,
    "start_time": "2023-04-14T15:57:39.576Z"
   },
   {
    "duration": 87,
    "start_time": "2023-04-14T15:58:55.645Z"
   },
   {
    "duration": 16,
    "start_time": "2023-04-14T16:01:48.647Z"
   },
   {
    "duration": 8,
    "start_time": "2023-04-14T16:02:55.472Z"
   },
   {
    "duration": 21,
    "start_time": "2023-04-14T16:04:48.846Z"
   },
   {
    "duration": 12,
    "start_time": "2023-04-14T16:06:03.391Z"
   },
   {
    "duration": 12,
    "start_time": "2023-04-14T16:06:11.413Z"
   },
   {
    "duration": 8,
    "start_time": "2023-04-14T16:06:15.577Z"
   },
   {
    "duration": 12,
    "start_time": "2023-04-14T16:07:04.732Z"
   },
   {
    "duration": 6,
    "start_time": "2023-04-14T16:08:13.058Z"
   },
   {
    "duration": 28,
    "start_time": "2023-04-14T16:08:42.131Z"
   },
   {
    "duration": 7,
    "start_time": "2023-04-14T16:09:09.558Z"
   },
   {
    "duration": 5,
    "start_time": "2023-04-14T16:09:26.825Z"
   },
   {
    "duration": 30,
    "start_time": "2023-04-14T16:51:42.371Z"
   },
   {
    "duration": 28,
    "start_time": "2023-04-14T16:51:49.610Z"
   },
   {
    "duration": 26,
    "start_time": "2023-04-14T16:52:52.419Z"
   },
   {
    "duration": 1400,
    "start_time": "2023-04-14T17:01:30.029Z"
   },
   {
    "duration": 7,
    "start_time": "2023-04-14T17:07:58.485Z"
   },
   {
    "duration": 1857,
    "start_time": "2023-04-14T17:08:34.351Z"
   },
   {
    "duration": 5,
    "start_time": "2023-04-14T17:09:15.256Z"
   },
   {
    "duration": 11,
    "start_time": "2023-04-14T17:10:44.258Z"
   },
   {
    "duration": 759,
    "start_time": "2023-04-14T17:11:03.737Z"
   },
   {
    "duration": 5,
    "start_time": "2023-04-14T17:11:35.338Z"
   },
   {
    "duration": 1311,
    "start_time": "2023-04-14T17:11:49.898Z"
   },
   {
    "duration": 2022,
    "start_time": "2023-04-14T17:16:13.704Z"
   },
   {
    "duration": 12,
    "start_time": "2023-04-14T17:17:27.170Z"
   },
   {
    "duration": 13,
    "start_time": "2023-04-14T17:18:33.871Z"
   },
   {
    "duration": 11,
    "start_time": "2023-04-14T17:21:51.400Z"
   },
   {
    "duration": 15,
    "start_time": "2023-04-14T17:22:05.039Z"
   },
   {
    "duration": 12,
    "start_time": "2023-04-14T17:23:49.964Z"
   },
   {
    "duration": 11,
    "start_time": "2023-04-14T17:24:32.978Z"
   },
   {
    "duration": 20,
    "start_time": "2023-04-14T17:32:22.647Z"
   },
   {
    "duration": 21,
    "start_time": "2023-04-14T17:32:56.069Z"
   },
   {
    "duration": 31,
    "start_time": "2023-04-14T17:36:05.047Z"
   },
   {
    "duration": 25,
    "start_time": "2023-04-14T17:36:16.158Z"
   },
   {
    "duration": 11,
    "start_time": "2023-04-14T17:40:04.376Z"
   },
   {
    "duration": 9,
    "start_time": "2023-04-14T17:40:30.878Z"
   },
   {
    "duration": 9,
    "start_time": "2023-04-14T17:40:45.325Z"
   },
   {
    "duration": 8,
    "start_time": "2023-04-14T17:40:51.329Z"
   },
   {
    "duration": 8,
    "start_time": "2023-04-14T17:40:59.002Z"
   },
   {
    "duration": 78,
    "start_time": "2023-04-14T17:43:00.434Z"
   },
   {
    "duration": 79,
    "start_time": "2023-04-14T17:43:19.572Z"
   },
   {
    "duration": 67,
    "start_time": "2023-04-14T17:43:28.724Z"
   },
   {
    "duration": 89,
    "start_time": "2023-04-14T17:46:54.781Z"
   },
   {
    "duration": 67,
    "start_time": "2023-04-14T17:47:39.770Z"
   },
   {
    "duration": 67,
    "start_time": "2023-04-14T17:51:17.616Z"
   },
   {
    "duration": 66,
    "start_time": "2023-04-14T17:52:25.857Z"
   },
   {
    "duration": 93,
    "start_time": "2023-04-14T17:52:30.401Z"
   },
   {
    "duration": 72,
    "start_time": "2023-04-14T17:55:33.043Z"
   },
   {
    "duration": 72,
    "start_time": "2023-04-14T17:56:11.725Z"
   },
   {
    "duration": 82,
    "start_time": "2023-04-14T17:58:17.889Z"
   },
   {
    "duration": 87,
    "start_time": "2023-04-14T17:58:42.677Z"
   },
   {
    "duration": 81,
    "start_time": "2023-04-14T17:59:59.721Z"
   },
   {
    "duration": 77,
    "start_time": "2023-04-14T18:00:53.053Z"
   },
   {
    "duration": 83,
    "start_time": "2023-04-14T18:00:59.894Z"
   },
   {
    "duration": 71,
    "start_time": "2023-04-14T18:01:16.134Z"
   },
   {
    "duration": 76,
    "start_time": "2023-04-14T18:13:52.042Z"
   },
   {
    "duration": 65,
    "start_time": "2023-04-14T18:15:30.172Z"
   },
   {
    "duration": 7,
    "start_time": "2023-04-14T19:58:27.050Z"
   },
   {
    "duration": 12,
    "start_time": "2023-04-14T20:01:14.026Z"
   },
   {
    "duration": 7,
    "start_time": "2023-04-14T20:03:05.158Z"
   },
   {
    "duration": 7,
    "start_time": "2023-04-14T20:03:39.358Z"
   },
   {
    "duration": 9,
    "start_time": "2023-04-14T20:06:20.466Z"
   },
   {
    "duration": 7,
    "start_time": "2023-04-14T20:06:37.019Z"
   },
   {
    "duration": 7,
    "start_time": "2023-04-14T20:08:00.180Z"
   },
   {
    "duration": 46,
    "start_time": "2023-04-14T20:08:25.070Z"
   },
   {
    "duration": 45,
    "start_time": "2023-04-14T20:08:49.815Z"
   },
   {
    "duration": 40,
    "start_time": "2023-04-14T20:09:09.851Z"
   },
   {
    "duration": 41,
    "start_time": "2023-04-14T20:10:37.665Z"
   },
   {
    "duration": 8,
    "start_time": "2023-04-14T20:11:24.271Z"
   },
   {
    "duration": 41,
    "start_time": "2023-04-14T20:16:43.832Z"
   },
   {
    "duration": 7,
    "start_time": "2023-04-14T20:19:42.556Z"
   },
   {
    "duration": 43,
    "start_time": "2023-04-14T20:21:54.096Z"
   },
   {
    "duration": 41,
    "start_time": "2023-04-14T20:23:54.041Z"
   },
   {
    "duration": 41,
    "start_time": "2023-04-14T20:28:22.570Z"
   },
   {
    "duration": 68,
    "start_time": "2023-04-14T20:28:30.127Z"
   },
   {
    "duration": 43,
    "start_time": "2023-04-14T20:28:50.023Z"
   },
   {
    "duration": 11,
    "start_time": "2023-04-14T20:50:25.082Z"
   },
   {
    "duration": 937,
    "start_time": "2023-04-14T20:56:32.591Z"
   },
   {
    "duration": 26,
    "start_time": "2023-04-14T20:58:42.764Z"
   },
   {
    "duration": 870,
    "start_time": "2023-04-14T21:00:19.410Z"
   },
   {
    "duration": 23,
    "start_time": "2023-04-14T21:02:18.141Z"
   },
   {
    "duration": 874,
    "start_time": "2023-04-14T21:09:27.382Z"
   },
   {
    "duration": 905,
    "start_time": "2023-04-14T21:12:58.029Z"
   },
   {
    "duration": 22,
    "start_time": "2023-04-14T21:13:16.921Z"
   },
   {
    "duration": 22,
    "start_time": "2023-04-14T21:14:09.308Z"
   },
   {
    "duration": 22,
    "start_time": "2023-04-14T21:14:24.228Z"
   },
   {
    "duration": 4,
    "start_time": "2023-04-14T21:14:45.403Z"
   },
   {
    "duration": 9,
    "start_time": "2023-04-14T21:17:09.632Z"
   },
   {
    "duration": 16,
    "start_time": "2023-04-14T21:18:02.783Z"
   },
   {
    "duration": 10,
    "start_time": "2023-04-14T21:18:43.952Z"
   },
   {
    "duration": 12,
    "start_time": "2023-04-14T21:19:05.632Z"
   },
   {
    "duration": 9,
    "start_time": "2023-04-14T21:19:17.328Z"
   },
   {
    "duration": 9,
    "start_time": "2023-04-14T21:21:10.108Z"
   },
   {
    "duration": 10,
    "start_time": "2023-04-14T21:21:17.484Z"
   },
   {
    "duration": 8,
    "start_time": "2023-04-14T21:21:36.024Z"
   },
   {
    "duration": 4,
    "start_time": "2023-04-14T21:23:23.542Z"
   },
   {
    "duration": 23,
    "start_time": "2023-04-14T21:24:52.433Z"
   },
   {
    "duration": 22,
    "start_time": "2023-04-14T21:25:21.851Z"
   },
   {
    "duration": 38,
    "start_time": "2023-04-14T21:27:33.549Z"
   },
   {
    "duration": 40,
    "start_time": "2023-04-14T21:28:25.807Z"
   },
   {
    "duration": 7,
    "start_time": "2023-04-14T21:29:19.143Z"
   },
   {
    "duration": 40,
    "start_time": "2023-04-14T21:29:36.595Z"
   },
   {
    "duration": 6,
    "start_time": "2023-04-14T21:29:55.273Z"
   },
   {
    "duration": 7,
    "start_time": "2023-04-14T21:30:44.961Z"
   },
   {
    "duration": 953,
    "start_time": "2023-04-14T21:37:04.439Z"
   },
   {
    "duration": 893,
    "start_time": "2023-04-14T21:37:43.368Z"
   },
   {
    "duration": 864,
    "start_time": "2023-04-14T21:38:23.024Z"
   },
   {
    "duration": 3,
    "start_time": "2023-04-14T21:39:17.286Z"
   },
   {
    "duration": 199,
    "start_time": "2023-04-14T21:39:17.290Z"
   },
   {
    "duration": 11,
    "start_time": "2023-04-14T21:39:17.491Z"
   },
   {
    "duration": 64,
    "start_time": "2023-04-14T21:39:17.504Z"
   },
   {
    "duration": 6,
    "start_time": "2023-04-14T21:39:17.570Z"
   },
   {
    "duration": 15,
    "start_time": "2023-04-14T21:39:17.578Z"
   },
   {
    "duration": 10,
    "start_time": "2023-04-14T21:39:17.594Z"
   },
   {
    "duration": 4,
    "start_time": "2023-04-14T21:39:17.605Z"
   },
   {
    "duration": 29,
    "start_time": "2023-04-14T21:39:17.610Z"
   },
   {
    "duration": 22,
    "start_time": "2023-04-14T21:39:17.640Z"
   },
   {
    "duration": 43,
    "start_time": "2023-04-14T21:39:17.664Z"
   },
   {
    "duration": 67,
    "start_time": "2023-04-14T21:39:17.708Z"
   },
   {
    "duration": 75,
    "start_time": "2023-04-14T21:39:17.776Z"
   },
   {
    "duration": 68,
    "start_time": "2023-04-14T21:39:17.852Z"
   },
   {
    "duration": 42,
    "start_time": "2023-04-14T21:39:17.922Z"
   },
   {
    "duration": 112,
    "start_time": "2023-04-14T21:39:17.966Z"
   },
   {
    "duration": 48,
    "start_time": "2023-04-14T21:39:18.080Z"
   },
   {
    "duration": 4,
    "start_time": "2023-04-14T21:39:18.130Z"
   },
   {
    "duration": 10,
    "start_time": "2023-04-14T21:39:18.135Z"
   },
   {
    "duration": 6,
    "start_time": "2023-04-14T21:39:18.147Z"
   },
   {
    "duration": 5,
    "start_time": "2023-04-14T21:39:18.154Z"
   },
   {
    "duration": 16,
    "start_time": "2023-04-14T21:39:18.161Z"
   },
   {
    "duration": 8,
    "start_time": "2023-04-14T21:39:18.178Z"
   },
   {
    "duration": 6,
    "start_time": "2023-04-14T21:39:18.188Z"
   },
   {
    "duration": 11,
    "start_time": "2023-04-14T21:39:18.195Z"
   },
   {
    "duration": 22,
    "start_time": "2023-04-14T21:39:18.208Z"
   },
   {
    "duration": 6,
    "start_time": "2023-04-14T21:39:18.232Z"
   },
   {
    "duration": 28,
    "start_time": "2023-04-14T21:39:18.240Z"
   },
   {
    "duration": 6,
    "start_time": "2023-04-14T21:39:18.271Z"
   },
   {
    "duration": 78,
    "start_time": "2023-04-14T21:39:18.278Z"
   },
   {
    "duration": 0,
    "start_time": "2023-04-14T21:39:18.358Z"
   },
   {
    "duration": 0,
    "start_time": "2023-04-14T21:39:18.360Z"
   },
   {
    "duration": 0,
    "start_time": "2023-04-14T21:39:18.361Z"
   },
   {
    "duration": 0,
    "start_time": "2023-04-14T21:39:18.362Z"
   },
   {
    "duration": 0,
    "start_time": "2023-04-14T21:39:18.363Z"
   },
   {
    "duration": 0,
    "start_time": "2023-04-14T21:39:18.365Z"
   },
   {
    "duration": 0,
    "start_time": "2023-04-14T21:39:18.366Z"
   },
   {
    "duration": 0,
    "start_time": "2023-04-14T21:39:18.367Z"
   },
   {
    "duration": 40,
    "start_time": "2023-04-14T21:40:07.004Z"
   },
   {
    "duration": 40,
    "start_time": "2023-04-14T21:40:44.116Z"
   },
   {
    "duration": 16,
    "start_time": "2023-04-14T21:42:43.939Z"
   },
   {
    "duration": 71,
    "start_time": "2023-04-14T21:43:09.783Z"
   },
   {
    "duration": 44,
    "start_time": "2023-04-14T21:43:38.344Z"
   },
   {
    "duration": 3,
    "start_time": "2023-04-14T21:43:59.568Z"
   },
   {
    "duration": 179,
    "start_time": "2023-04-14T21:43:59.573Z"
   },
   {
    "duration": 12,
    "start_time": "2023-04-14T21:43:59.754Z"
   },
   {
    "duration": 42,
    "start_time": "2023-04-14T21:43:59.768Z"
   },
   {
    "duration": 2,
    "start_time": "2023-04-14T21:43:59.812Z"
   },
   {
    "duration": 7,
    "start_time": "2023-04-14T21:43:59.816Z"
   },
   {
    "duration": 17,
    "start_time": "2023-04-14T21:43:59.825Z"
   },
   {
    "duration": 4,
    "start_time": "2023-04-14T21:43:59.844Z"
   },
   {
    "duration": 49,
    "start_time": "2023-04-14T21:43:59.850Z"
   },
   {
    "duration": 12,
    "start_time": "2023-04-14T21:43:59.901Z"
   },
   {
    "duration": 0,
    "start_time": "2023-04-14T21:43:59.916Z"
   },
   {
    "duration": 0,
    "start_time": "2023-04-14T21:43:59.917Z"
   },
   {
    "duration": 0,
    "start_time": "2023-04-14T21:43:59.918Z"
   },
   {
    "duration": 0,
    "start_time": "2023-04-14T21:43:59.919Z"
   },
   {
    "duration": 0,
    "start_time": "2023-04-14T21:43:59.920Z"
   },
   {
    "duration": 0,
    "start_time": "2023-04-14T21:43:59.921Z"
   },
   {
    "duration": 43,
    "start_time": "2023-04-14T21:44:03.887Z"
   },
   {
    "duration": 50,
    "start_time": "2023-04-14T21:44:49.812Z"
   },
   {
    "duration": 11,
    "start_time": "2023-04-14T21:47:46.382Z"
   },
   {
    "duration": 1179,
    "start_time": "2023-04-14T21:48:37.947Z"
   },
   {
    "duration": 4,
    "start_time": "2023-04-14T21:51:29.971Z"
   },
   {
    "duration": 474,
    "start_time": "2023-04-14T21:52:20.335Z"
   },
   {
    "duration": 29,
    "start_time": "2023-04-14T21:53:24.763Z"
   },
   {
    "duration": 417,
    "start_time": "2023-04-14T21:53:58.639Z"
   },
   {
    "duration": 26,
    "start_time": "2023-04-14T21:55:08.815Z"
   },
   {
    "duration": 2,
    "start_time": "2023-04-14T21:56:19.019Z"
   },
   {
    "duration": 172,
    "start_time": "2023-04-14T21:56:19.023Z"
   },
   {
    "duration": 10,
    "start_time": "2023-04-14T21:56:19.197Z"
   },
   {
    "duration": 32,
    "start_time": "2023-04-14T21:56:19.209Z"
   },
   {
    "duration": 2,
    "start_time": "2023-04-14T21:56:19.243Z"
   },
   {
    "duration": 9,
    "start_time": "2023-04-14T21:56:19.246Z"
   },
   {
    "duration": 22,
    "start_time": "2023-04-14T21:56:23.035Z"
   },
   {
    "duration": 4,
    "start_time": "2023-04-14T21:56:27.384Z"
   },
   {
    "duration": 11,
    "start_time": "2023-04-14T21:57:13.340Z"
   },
   {
    "duration": 4,
    "start_time": "2023-04-14T21:57:17.090Z"
   },
   {
    "duration": 3,
    "start_time": "2023-04-14T22:00:26.315Z"
   },
   {
    "duration": 225,
    "start_time": "2023-04-14T22:00:26.320Z"
   },
   {
    "duration": 15,
    "start_time": "2023-04-14T22:00:26.547Z"
   },
   {
    "duration": 42,
    "start_time": "2023-04-14T22:00:26.563Z"
   },
   {
    "duration": 8,
    "start_time": "2023-04-14T22:00:26.607Z"
   },
   {
    "duration": 12,
    "start_time": "2023-04-14T22:00:26.617Z"
   },
   {
    "duration": 10,
    "start_time": "2023-04-14T22:00:26.631Z"
   },
   {
    "duration": 7,
    "start_time": "2023-04-14T22:00:26.643Z"
   },
   {
    "duration": 37,
    "start_time": "2023-04-14T22:00:26.652Z"
   },
   {
    "duration": 27,
    "start_time": "2023-04-14T22:00:30.383Z"
   },
   {
    "duration": 50,
    "start_time": "2023-04-14T22:01:02.655Z"
   },
   {
    "duration": 104,
    "start_time": "2023-04-14T22:01:25.183Z"
   },
   {
    "duration": 52,
    "start_time": "2023-04-14T22:01:33.825Z"
   },
   {
    "duration": 3,
    "start_time": "2023-04-14T22:01:53.424Z"
   },
   {
    "duration": 185,
    "start_time": "2023-04-14T22:01:53.429Z"
   },
   {
    "duration": 12,
    "start_time": "2023-04-14T22:01:53.616Z"
   },
   {
    "duration": 45,
    "start_time": "2023-04-14T22:01:53.630Z"
   },
   {
    "duration": 11,
    "start_time": "2023-04-14T22:01:53.677Z"
   },
   {
    "duration": 23,
    "start_time": "2023-04-14T22:01:53.689Z"
   },
   {
    "duration": 18,
    "start_time": "2023-04-14T22:01:53.713Z"
   },
   {
    "duration": 13,
    "start_time": "2023-04-14T22:01:53.733Z"
   },
   {
    "duration": 37,
    "start_time": "2023-04-14T22:01:53.748Z"
   },
   {
    "duration": 47,
    "start_time": "2023-04-14T22:01:53.787Z"
   },
   {
    "duration": 27,
    "start_time": "2023-04-14T22:01:53.837Z"
   },
   {
    "duration": 70,
    "start_time": "2023-04-14T22:01:53.866Z"
   },
   {
    "duration": 93,
    "start_time": "2023-04-14T22:01:53.938Z"
   },
   {
    "duration": 77,
    "start_time": "2023-04-14T22:01:54.034Z"
   },
   {
    "duration": 45,
    "start_time": "2023-04-14T22:01:54.113Z"
   },
   {
    "duration": 99,
    "start_time": "2023-04-14T22:01:54.160Z"
   },
   {
    "duration": 60,
    "start_time": "2023-04-14T22:01:58.825Z"
   },
   {
    "duration": 59,
    "start_time": "2023-04-14T22:02:20.466Z"
   },
   {
    "duration": 45,
    "start_time": "2023-04-14T22:03:26.299Z"
   },
   {
    "duration": 66,
    "start_time": "2023-04-14T22:03:51.410Z"
   },
   {
    "duration": 77,
    "start_time": "2023-04-14T22:04:01.784Z"
   },
   {
    "duration": 3,
    "start_time": "2023-04-14T22:04:52.292Z"
   },
   {
    "duration": 192,
    "start_time": "2023-04-14T22:04:52.298Z"
   },
   {
    "duration": 12,
    "start_time": "2023-04-14T22:04:52.492Z"
   },
   {
    "duration": 47,
    "start_time": "2023-04-14T22:04:52.507Z"
   },
   {
    "duration": 6,
    "start_time": "2023-04-14T22:04:52.555Z"
   },
   {
    "duration": 26,
    "start_time": "2023-04-14T22:04:52.563Z"
   },
   {
    "duration": 10,
    "start_time": "2023-04-14T22:04:52.591Z"
   },
   {
    "duration": 11,
    "start_time": "2023-04-14T22:04:52.603Z"
   },
   {
    "duration": 47,
    "start_time": "2023-04-14T22:04:52.617Z"
   },
   {
    "duration": 49,
    "start_time": "2023-04-14T22:04:52.665Z"
   },
   {
    "duration": 29,
    "start_time": "2023-04-14T22:04:52.716Z"
   },
   {
    "duration": 76,
    "start_time": "2023-04-14T22:04:52.747Z"
   },
   {
    "duration": 78,
    "start_time": "2023-04-14T22:04:52.824Z"
   },
   {
    "duration": 62,
    "start_time": "2023-04-14T22:04:52.903Z"
   },
   {
    "duration": 55,
    "start_time": "2023-04-14T22:04:52.967Z"
   },
   {
    "duration": 95,
    "start_time": "2023-04-14T22:04:53.024Z"
   },
   {
    "duration": 50,
    "start_time": "2023-04-15T17:45:38.031Z"
   },
   {
    "duration": 404,
    "start_time": "2023-04-15T17:45:59.247Z"
   },
   {
    "duration": 228,
    "start_time": "2023-04-15T17:45:59.656Z"
   },
   {
    "duration": 18,
    "start_time": "2023-04-15T17:45:59.886Z"
   },
   {
    "duration": 28,
    "start_time": "2023-04-15T17:45:59.906Z"
   },
   {
    "duration": 3,
    "start_time": "2023-04-15T17:45:59.935Z"
   },
   {
    "duration": 21,
    "start_time": "2023-04-15T17:45:59.939Z"
   },
   {
    "duration": 11,
    "start_time": "2023-04-15T17:45:59.961Z"
   },
   {
    "duration": 6,
    "start_time": "2023-04-15T17:45:59.974Z"
   },
   {
    "duration": 28,
    "start_time": "2023-04-15T17:45:59.982Z"
   },
   {
    "duration": 46,
    "start_time": "2023-04-15T17:46:00.013Z"
   },
   {
    "duration": 35,
    "start_time": "2023-04-15T17:46:00.061Z"
   },
   {
    "duration": 109,
    "start_time": "2023-04-15T17:46:00.098Z"
   },
   {
    "duration": 90,
    "start_time": "2023-04-15T17:46:00.209Z"
   },
   {
    "duration": 81,
    "start_time": "2023-04-15T17:46:00.301Z"
   },
   {
    "duration": 37,
    "start_time": "2023-04-15T17:46:00.383Z"
   },
   {
    "duration": 119,
    "start_time": "2023-04-15T17:46:00.421Z"
   },
   {
    "duration": 48,
    "start_time": "2023-04-15T17:46:00.542Z"
   },
   {
    "duration": 13,
    "start_time": "2023-04-15T17:46:04.331Z"
   },
   {
    "duration": 27,
    "start_time": "2023-04-15T17:59:26.748Z"
   },
   {
    "duration": 16,
    "start_time": "2023-04-15T18:01:32.717Z"
   },
   {
    "duration": 33,
    "start_time": "2023-04-15T18:02:37.372Z"
   },
   {
    "duration": 26,
    "start_time": "2023-04-15T18:02:44.781Z"
   },
   {
    "duration": 28,
    "start_time": "2023-04-15T18:02:57.176Z"
   },
   {
    "duration": 35,
    "start_time": "2023-04-15T18:03:26.141Z"
   },
   {
    "duration": 25,
    "start_time": "2023-04-15T18:04:41.651Z"
   },
   {
    "duration": 25,
    "start_time": "2023-04-15T18:11:30.806Z"
   },
   {
    "duration": 25,
    "start_time": "2023-04-15T18:11:42.318Z"
   },
   {
    "duration": 4,
    "start_time": "2023-04-15T18:21:16.933Z"
   },
   {
    "duration": 12,
    "start_time": "2023-04-15T18:39:51.216Z"
   },
   {
    "duration": 13,
    "start_time": "2023-04-15T18:47:34.645Z"
   },
   {
    "duration": 8,
    "start_time": "2023-04-15T19:23:29.020Z"
   },
   {
    "duration": 18,
    "start_time": "2023-04-15T19:24:31.211Z"
   },
   {
    "duration": 9,
    "start_time": "2023-04-15T19:25:32.423Z"
   },
   {
    "duration": 20,
    "start_time": "2023-04-15T19:25:57.314Z"
   },
   {
    "duration": 4,
    "start_time": "2023-04-15T19:29:01.775Z"
   },
   {
    "duration": 4,
    "start_time": "2023-04-15T19:30:26.980Z"
   },
   {
    "duration": 30,
    "start_time": "2023-04-15T19:31:18.206Z"
   },
   {
    "duration": 19,
    "start_time": "2023-04-15T19:32:58.504Z"
   },
   {
    "duration": 5,
    "start_time": "2023-04-15T19:33:12.956Z"
   },
   {
    "duration": 16,
    "start_time": "2023-04-15T19:35:45.203Z"
   },
   {
    "duration": 23,
    "start_time": "2023-04-15T19:35:49.250Z"
   },
   {
    "duration": 8,
    "start_time": "2023-04-15T19:36:23.336Z"
   },
   {
    "duration": 15,
    "start_time": "2023-04-15T19:37:07.913Z"
   },
   {
    "duration": 14,
    "start_time": "2023-04-15T19:37:27.307Z"
   },
   {
    "duration": 17,
    "start_time": "2023-04-15T19:38:21.006Z"
   },
   {
    "duration": 18,
    "start_time": "2023-04-15T19:38:23.847Z"
   },
   {
    "duration": 9,
    "start_time": "2023-04-15T19:55:06.316Z"
   },
   {
    "duration": 9,
    "start_time": "2023-04-15T19:55:35.355Z"
   },
   {
    "duration": 51,
    "start_time": "2023-04-15T19:58:56.283Z"
   },
   {
    "duration": 48,
    "start_time": "2023-04-15T19:59:14.821Z"
   },
   {
    "duration": 52,
    "start_time": "2023-04-15T19:59:55.438Z"
   },
   {
    "duration": 8,
    "start_time": "2023-04-15T20:02:17.715Z"
   },
   {
    "duration": 8,
    "start_time": "2023-04-15T20:03:49.625Z"
   },
   {
    "duration": 8,
    "start_time": "2023-04-15T20:04:23.242Z"
   },
   {
    "duration": 10,
    "start_time": "2023-04-15T20:46:45.507Z"
   },
   {
    "duration": 9,
    "start_time": "2023-04-15T20:46:48.089Z"
   },
   {
    "duration": 5,
    "start_time": "2023-04-15T21:09:48.398Z"
   },
   {
    "duration": 5,
    "start_time": "2023-04-15T21:15:30.496Z"
   },
   {
    "duration": 5,
    "start_time": "2023-04-15T21:18:36.631Z"
   },
   {
    "duration": 4,
    "start_time": "2023-04-15T21:18:49.029Z"
   },
   {
    "duration": 4,
    "start_time": "2023-04-15T21:19:11.277Z"
   },
   {
    "duration": 4,
    "start_time": "2023-04-15T21:21:45.483Z"
   },
   {
    "duration": 16,
    "start_time": "2023-04-15T21:26:59.952Z"
   },
   {
    "duration": 2,
    "start_time": "2023-04-15T21:27:23.615Z"
   },
   {
    "duration": 12,
    "start_time": "2023-04-15T21:30:49.950Z"
   },
   {
    "duration": 18,
    "start_time": "2023-04-15T21:31:43.112Z"
   },
   {
    "duration": 13,
    "start_time": "2023-04-15T21:32:03.854Z"
   },
   {
    "duration": 24,
    "start_time": "2023-04-15T21:33:26.759Z"
   },
   {
    "duration": 14,
    "start_time": "2023-04-15T21:33:30.086Z"
   },
   {
    "duration": 9,
    "start_time": "2023-04-15T22:00:10.235Z"
   },
   {
    "duration": 8,
    "start_time": "2023-04-15T22:00:18.042Z"
   },
   {
    "duration": 8,
    "start_time": "2023-04-15T22:02:09.006Z"
   },
   {
    "duration": 10,
    "start_time": "2023-04-15T22:03:53.419Z"
   },
   {
    "duration": 7,
    "start_time": "2023-04-15T22:03:59.247Z"
   },
   {
    "duration": 8,
    "start_time": "2023-04-15T22:04:45.423Z"
   },
   {
    "duration": 5,
    "start_time": "2023-04-15T22:06:12.331Z"
   },
   {
    "duration": 8,
    "start_time": "2023-04-15T22:07:44.113Z"
   },
   {
    "duration": 5,
    "start_time": "2023-04-15T22:08:26.189Z"
   },
   {
    "duration": 12,
    "start_time": "2023-04-15T22:10:13.599Z"
   },
   {
    "duration": 12,
    "start_time": "2023-04-15T22:10:19.935Z"
   },
   {
    "duration": 14,
    "start_time": "2023-04-15T22:10:31.049Z"
   },
   {
    "duration": 12,
    "start_time": "2023-04-15T22:10:40.519Z"
   },
   {
    "duration": 19,
    "start_time": "2023-04-15T22:11:00.210Z"
   },
   {
    "duration": 11,
    "start_time": "2023-04-15T22:11:36.221Z"
   },
   {
    "duration": 15,
    "start_time": "2023-04-15T22:12:45.732Z"
   },
   {
    "duration": 16,
    "start_time": "2023-04-15T22:13:23.660Z"
   },
   {
    "duration": 17,
    "start_time": "2023-04-15T22:13:45.724Z"
   },
   {
    "duration": 14,
    "start_time": "2023-04-15T22:14:22.400Z"
   },
   {
    "duration": 14,
    "start_time": "2023-04-15T22:15:10.264Z"
   },
   {
    "duration": 37,
    "start_time": "2023-04-15T22:19:56.445Z"
   },
   {
    "duration": 40,
    "start_time": "2023-04-15T22:22:13.399Z"
   },
   {
    "duration": 2,
    "start_time": "2023-04-15T22:23:59.510Z"
   },
   {
    "duration": 160,
    "start_time": "2023-04-15T22:23:59.514Z"
   },
   {
    "duration": 9,
    "start_time": "2023-04-15T22:23:59.676Z"
   },
   {
    "duration": 26,
    "start_time": "2023-04-15T22:23:59.687Z"
   },
   {
    "duration": 2,
    "start_time": "2023-04-15T22:23:59.714Z"
   },
   {
    "duration": 4,
    "start_time": "2023-04-15T22:23:59.718Z"
   },
   {
    "duration": 33,
    "start_time": "2023-04-15T22:23:59.724Z"
   },
   {
    "duration": 12,
    "start_time": "2023-04-15T22:23:59.758Z"
   },
   {
    "duration": 25,
    "start_time": "2023-04-15T22:23:59.772Z"
   },
   {
    "duration": 18,
    "start_time": "2023-04-15T22:23:59.798Z"
   },
   {
    "duration": 19,
    "start_time": "2023-04-15T22:23:59.818Z"
   },
   {
    "duration": 70,
    "start_time": "2023-04-15T22:23:59.839Z"
   },
   {
    "duration": 77,
    "start_time": "2023-04-15T22:23:59.911Z"
   },
   {
    "duration": 56,
    "start_time": "2023-04-15T22:23:59.989Z"
   },
   {
    "duration": 40,
    "start_time": "2023-04-15T22:24:00.047Z"
   },
   {
    "duration": 96,
    "start_time": "2023-04-15T22:24:00.089Z"
   },
   {
    "duration": 33,
    "start_time": "2023-04-15T22:24:00.187Z"
   },
   {
    "duration": 11,
    "start_time": "2023-04-15T22:24:00.222Z"
   },
   {
    "duration": 30,
    "start_time": "2023-04-15T22:24:00.235Z"
   },
   {
    "duration": 3,
    "start_time": "2023-04-15T22:24:00.268Z"
   },
   {
    "duration": 38,
    "start_time": "2023-04-15T22:24:00.273Z"
   },
   {
    "duration": 14,
    "start_time": "2023-04-15T22:24:00.313Z"
   },
   {
    "duration": 39,
    "start_time": "2023-04-15T22:24:00.328Z"
   },
   {
    "duration": 14,
    "start_time": "2023-04-15T22:24:00.369Z"
   },
   {
    "duration": 25,
    "start_time": "2023-04-15T22:24:00.385Z"
   },
   {
    "duration": 14,
    "start_time": "2023-04-15T22:24:00.412Z"
   },
   {
    "duration": 15,
    "start_time": "2023-04-15T22:24:00.427Z"
   },
   {
    "duration": 11,
    "start_time": "2023-04-15T22:24:00.455Z"
   },
   {
    "duration": 25,
    "start_time": "2023-04-15T22:24:00.467Z"
   },
   {
    "duration": 23,
    "start_time": "2023-04-15T22:24:00.493Z"
   },
   {
    "duration": 25,
    "start_time": "2023-04-15T22:24:00.517Z"
   },
   {
    "duration": 16,
    "start_time": "2023-04-15T22:24:00.544Z"
   },
   {
    "duration": 30,
    "start_time": "2023-04-15T22:24:00.562Z"
   },
   {
    "duration": 12,
    "start_time": "2023-04-15T22:24:00.594Z"
   },
   {
    "duration": 13,
    "start_time": "2023-04-15T22:24:21.315Z"
   },
   {
    "duration": 27,
    "start_time": "2023-04-15T22:24:56.355Z"
   },
   {
    "duration": 4,
    "start_time": "2023-04-15T22:26:02.943Z"
   },
   {
    "duration": 7,
    "start_time": "2023-04-15T22:26:32.901Z"
   },
   {
    "duration": 11,
    "start_time": "2023-04-15T22:27:39.776Z"
   },
   {
    "duration": 8,
    "start_time": "2023-04-15T22:28:07.154Z"
   },
   {
    "duration": 2,
    "start_time": "2023-04-15T22:28:38.851Z"
   },
   {
    "duration": 205,
    "start_time": "2023-04-15T22:28:38.855Z"
   },
   {
    "duration": 16,
    "start_time": "2023-04-15T22:28:39.062Z"
   },
   {
    "duration": 44,
    "start_time": "2023-04-15T22:28:39.080Z"
   },
   {
    "duration": 3,
    "start_time": "2023-04-15T22:28:39.126Z"
   },
   {
    "duration": 19,
    "start_time": "2023-04-15T22:28:39.130Z"
   },
   {
    "duration": 19,
    "start_time": "2023-04-15T22:28:39.151Z"
   },
   {
    "duration": 5,
    "start_time": "2023-04-15T22:28:39.171Z"
   },
   {
    "duration": 25,
    "start_time": "2023-04-15T22:28:39.178Z"
   },
   {
    "duration": 20,
    "start_time": "2023-04-15T22:28:39.205Z"
   },
   {
    "duration": 34,
    "start_time": "2023-04-15T22:28:39.227Z"
   },
   {
    "duration": 67,
    "start_time": "2023-04-15T22:28:39.263Z"
   },
   {
    "duration": 82,
    "start_time": "2023-04-15T22:28:39.332Z"
   },
   {
    "duration": 65,
    "start_time": "2023-04-15T22:28:39.416Z"
   },
   {
    "duration": 38,
    "start_time": "2023-04-15T22:28:39.483Z"
   },
   {
    "duration": 100,
    "start_time": "2023-04-15T22:28:39.522Z"
   },
   {
    "duration": 43,
    "start_time": "2023-04-15T22:28:39.624Z"
   },
   {
    "duration": 12,
    "start_time": "2023-04-15T22:28:39.669Z"
   },
   {
    "duration": 12,
    "start_time": "2023-04-15T22:28:39.683Z"
   },
   {
    "duration": 3,
    "start_time": "2023-04-15T22:28:39.697Z"
   },
   {
    "duration": 23,
    "start_time": "2023-04-15T22:28:39.702Z"
   },
   {
    "duration": 40,
    "start_time": "2023-04-15T22:28:39.727Z"
   },
   {
    "duration": 16,
    "start_time": "2023-04-15T22:28:39.768Z"
   },
   {
    "duration": 16,
    "start_time": "2023-04-15T22:28:39.787Z"
   },
   {
    "duration": 19,
    "start_time": "2023-04-15T22:28:39.804Z"
   },
   {
    "duration": 46,
    "start_time": "2023-04-15T22:28:39.824Z"
   },
   {
    "duration": 11,
    "start_time": "2023-04-15T22:28:39.872Z"
   },
   {
    "duration": 16,
    "start_time": "2023-04-15T22:28:39.885Z"
   },
   {
    "duration": 12,
    "start_time": "2023-04-15T22:28:39.903Z"
   },
   {
    "duration": 21,
    "start_time": "2023-04-15T22:28:39.917Z"
   },
   {
    "duration": 33,
    "start_time": "2023-04-15T22:28:39.940Z"
   },
   {
    "duration": 13,
    "start_time": "2023-04-15T22:28:39.974Z"
   },
   {
    "duration": 21,
    "start_time": "2023-04-15T22:28:39.989Z"
   },
   {
    "duration": 44,
    "start_time": "2023-04-15T22:28:40.012Z"
   },
   {
    "duration": 10,
    "start_time": "2023-04-15T22:28:43.358Z"
   },
   {
    "duration": 7,
    "start_time": "2023-04-15T22:28:59.687Z"
   },
   {
    "duration": 2,
    "start_time": "2023-04-15T22:29:21.318Z"
   },
   {
    "duration": 164,
    "start_time": "2023-04-15T22:29:21.322Z"
   },
   {
    "duration": 11,
    "start_time": "2023-04-15T22:29:21.487Z"
   },
   {
    "duration": 31,
    "start_time": "2023-04-15T22:29:21.499Z"
   },
   {
    "duration": 2,
    "start_time": "2023-04-15T22:29:21.532Z"
   },
   {
    "duration": 8,
    "start_time": "2023-04-15T22:29:21.535Z"
   },
   {
    "duration": 6,
    "start_time": "2023-04-15T22:29:21.555Z"
   },
   {
    "duration": 3,
    "start_time": "2023-04-15T22:29:21.563Z"
   },
   {
    "duration": 23,
    "start_time": "2023-04-15T22:29:21.568Z"
   },
   {
    "duration": 20,
    "start_time": "2023-04-15T22:29:21.593Z"
   },
   {
    "duration": 25,
    "start_time": "2023-04-15T22:29:21.615Z"
   },
   {
    "duration": 71,
    "start_time": "2023-04-15T22:29:21.641Z"
   },
   {
    "duration": 75,
    "start_time": "2023-04-15T22:29:21.714Z"
   },
   {
    "duration": 51,
    "start_time": "2023-04-15T22:29:21.790Z"
   },
   {
    "duration": 38,
    "start_time": "2023-04-15T22:29:21.842Z"
   },
   {
    "duration": 92,
    "start_time": "2023-04-15T22:29:21.882Z"
   },
   {
    "duration": 35,
    "start_time": "2023-04-15T22:29:21.976Z"
   },
   {
    "duration": 10,
    "start_time": "2023-04-15T22:29:22.013Z"
   },
   {
    "duration": 31,
    "start_time": "2023-04-15T22:29:22.025Z"
   },
   {
    "duration": 4,
    "start_time": "2023-04-15T22:29:22.058Z"
   },
   {
    "duration": 24,
    "start_time": "2023-04-15T22:29:22.063Z"
   },
   {
    "duration": 14,
    "start_time": "2023-04-15T22:29:22.088Z"
   },
   {
    "duration": 21,
    "start_time": "2023-04-15T22:29:22.103Z"
   },
   {
    "duration": 31,
    "start_time": "2023-04-15T22:29:22.126Z"
   },
   {
    "duration": 17,
    "start_time": "2023-04-15T22:29:22.159Z"
   },
   {
    "duration": 21,
    "start_time": "2023-04-15T22:29:22.177Z"
   },
   {
    "duration": 14,
    "start_time": "2023-04-15T22:29:22.200Z"
   },
   {
    "duration": 32,
    "start_time": "2023-04-15T22:29:22.216Z"
   },
   {
    "duration": 12,
    "start_time": "2023-04-15T22:29:22.249Z"
   },
   {
    "duration": 4,
    "start_time": "2023-04-15T22:29:22.263Z"
   },
   {
    "duration": 24,
    "start_time": "2023-04-15T22:29:22.268Z"
   },
   {
    "duration": 10,
    "start_time": "2023-04-15T22:29:22.294Z"
   },
   {
    "duration": 19,
    "start_time": "2023-04-15T22:29:22.306Z"
   },
   {
    "duration": 30,
    "start_time": "2023-04-15T22:29:22.326Z"
   },
   {
    "duration": 10,
    "start_time": "2023-04-15T22:29:27.504Z"
   },
   {
    "duration": 3,
    "start_time": "2023-04-15T22:31:09.785Z"
   },
   {
    "duration": 166,
    "start_time": "2023-04-15T22:31:09.790Z"
   },
   {
    "duration": 12,
    "start_time": "2023-04-15T22:31:09.957Z"
   },
   {
    "duration": 29,
    "start_time": "2023-04-15T22:31:09.970Z"
   },
   {
    "duration": 3,
    "start_time": "2023-04-15T22:31:10.001Z"
   },
   {
    "duration": 31,
    "start_time": "2023-04-15T22:31:10.005Z"
   },
   {
    "duration": 23,
    "start_time": "2023-04-15T22:31:10.037Z"
   },
   {
    "duration": 32,
    "start_time": "2023-04-15T22:31:10.061Z"
   },
   {
    "duration": 25,
    "start_time": "2023-04-15T22:31:10.095Z"
   },
   {
    "duration": 20,
    "start_time": "2023-04-15T22:31:10.122Z"
   },
   {
    "duration": 27,
    "start_time": "2023-04-15T22:31:10.145Z"
   },
   {
    "duration": 63,
    "start_time": "2023-04-15T22:31:10.173Z"
   },
   {
    "duration": 71,
    "start_time": "2023-04-15T22:31:10.237Z"
   },
   {
    "duration": 62,
    "start_time": "2023-04-15T22:31:10.310Z"
   },
   {
    "duration": 35,
    "start_time": "2023-04-15T22:31:10.373Z"
   },
   {
    "duration": 97,
    "start_time": "2023-04-15T22:31:10.409Z"
   },
   {
    "duration": 31,
    "start_time": "2023-04-15T22:31:10.507Z"
   },
   {
    "duration": 22,
    "start_time": "2023-04-15T22:31:10.540Z"
   },
   {
    "duration": 11,
    "start_time": "2023-04-15T22:31:10.563Z"
   },
   {
    "duration": 3,
    "start_time": "2023-04-15T22:31:10.576Z"
   },
   {
    "duration": 23,
    "start_time": "2023-04-15T22:31:10.581Z"
   },
   {
    "duration": 15,
    "start_time": "2023-04-15T22:31:10.605Z"
   },
   {
    "duration": 44,
    "start_time": "2023-04-15T22:31:10.621Z"
   },
   {
    "duration": 17,
    "start_time": "2023-04-15T22:31:10.666Z"
   },
   {
    "duration": 17,
    "start_time": "2023-04-15T22:31:10.684Z"
   },
   {
    "duration": 14,
    "start_time": "2023-04-15T22:31:10.703Z"
   },
   {
    "duration": 13,
    "start_time": "2023-04-15T22:31:10.719Z"
   },
   {
    "duration": 13,
    "start_time": "2023-04-15T22:31:10.756Z"
   },
   {
    "duration": 15,
    "start_time": "2023-04-15T22:31:10.772Z"
   },
   {
    "duration": 7,
    "start_time": "2023-04-15T22:31:10.788Z"
   },
   {
    "duration": 19,
    "start_time": "2023-04-15T22:31:10.796Z"
   },
   {
    "duration": 21,
    "start_time": "2023-04-15T22:31:10.817Z"
   },
   {
    "duration": 31,
    "start_time": "2023-04-15T22:31:10.839Z"
   },
   {
    "duration": 12,
    "start_time": "2023-04-15T22:31:10.872Z"
   },
   {
    "duration": 12,
    "start_time": "2023-04-15T22:31:13.026Z"
   },
   {
    "duration": 12,
    "start_time": "2023-04-15T22:31:44.412Z"
   },
   {
    "duration": 7,
    "start_time": "2023-04-15T22:33:27.152Z"
   },
   {
    "duration": 4,
    "start_time": "2023-04-15T22:34:47.586Z"
   },
   {
    "duration": 8,
    "start_time": "2023-04-15T22:37:04.757Z"
   },
   {
    "duration": 4,
    "start_time": "2023-04-15T22:37:24.782Z"
   },
   {
    "duration": 8,
    "start_time": "2023-04-15T22:40:21.128Z"
   },
   {
    "duration": 8,
    "start_time": "2023-04-15T22:41:05.970Z"
   },
   {
    "duration": 8,
    "start_time": "2023-04-15T22:41:30.484Z"
   },
   {
    "duration": 2,
    "start_time": "2023-04-15T22:42:56.688Z"
   },
   {
    "duration": 198,
    "start_time": "2023-04-15T22:42:56.692Z"
   },
   {
    "duration": 11,
    "start_time": "2023-04-15T22:42:56.892Z"
   },
   {
    "duration": 29,
    "start_time": "2023-04-15T22:42:56.904Z"
   },
   {
    "duration": 2,
    "start_time": "2023-04-15T22:42:56.936Z"
   },
   {
    "duration": 12,
    "start_time": "2023-04-15T22:42:56.955Z"
   },
   {
    "duration": 17,
    "start_time": "2023-04-15T22:42:56.968Z"
   },
   {
    "duration": 4,
    "start_time": "2023-04-15T22:42:56.986Z"
   },
   {
    "duration": 31,
    "start_time": "2023-04-15T22:42:56.992Z"
   },
   {
    "duration": 19,
    "start_time": "2023-04-15T22:42:57.024Z"
   },
   {
    "duration": 23,
    "start_time": "2023-04-15T22:42:57.046Z"
   },
   {
    "duration": 58,
    "start_time": "2023-04-15T22:42:57.071Z"
   },
   {
    "duration": 78,
    "start_time": "2023-04-15T22:42:57.131Z"
   },
   {
    "duration": 62,
    "start_time": "2023-04-15T22:42:57.211Z"
   },
   {
    "duration": 33,
    "start_time": "2023-04-15T22:42:57.275Z"
   },
   {
    "duration": 100,
    "start_time": "2023-04-15T22:42:57.309Z"
   },
   {
    "duration": 34,
    "start_time": "2023-04-15T22:42:57.410Z"
   },
   {
    "duration": 11,
    "start_time": "2023-04-15T22:42:57.456Z"
   },
   {
    "duration": 11,
    "start_time": "2023-04-15T22:42:57.468Z"
   },
   {
    "duration": 3,
    "start_time": "2023-04-15T22:42:57.481Z"
   },
   {
    "duration": 21,
    "start_time": "2023-04-15T22:42:57.485Z"
   },
   {
    "duration": 15,
    "start_time": "2023-04-15T22:42:57.508Z"
   },
   {
    "duration": 41,
    "start_time": "2023-04-15T22:42:57.524Z"
   },
   {
    "duration": 15,
    "start_time": "2023-04-15T22:42:57.567Z"
   },
   {
    "duration": 18,
    "start_time": "2023-04-15T22:42:57.583Z"
   },
   {
    "duration": 16,
    "start_time": "2023-04-15T22:42:57.603Z"
   },
   {
    "duration": 47,
    "start_time": "2023-04-15T22:42:57.620Z"
   },
   {
    "duration": 10,
    "start_time": "2023-04-15T22:42:57.669Z"
   },
   {
    "duration": 11,
    "start_time": "2023-04-15T22:42:57.682Z"
   },
   {
    "duration": 5,
    "start_time": "2023-04-15T22:42:57.695Z"
   },
   {
    "duration": 21,
    "start_time": "2023-04-15T22:42:57.701Z"
   },
   {
    "duration": 12,
    "start_time": "2023-04-15T22:42:57.724Z"
   },
   {
    "duration": 36,
    "start_time": "2023-04-15T22:42:57.737Z"
   },
   {
    "duration": 11,
    "start_time": "2023-04-15T22:42:57.774Z"
   },
   {
    "duration": 8,
    "start_time": "2023-04-15T22:42:57.786Z"
   },
   {
    "duration": 8,
    "start_time": "2023-04-15T22:42:57.795Z"
   },
   {
    "duration": 6,
    "start_time": "2023-04-15T22:43:00.904Z"
   },
   {
    "duration": 4,
    "start_time": "2023-04-15T22:43:06.531Z"
   },
   {
    "duration": 417,
    "start_time": "2023-04-16T15:10:08.504Z"
   },
   {
    "duration": 225,
    "start_time": "2023-04-16T15:10:08.924Z"
   },
   {
    "duration": 16,
    "start_time": "2023-04-16T15:10:09.151Z"
   },
   {
    "duration": 24,
    "start_time": "2023-04-16T15:10:09.169Z"
   },
   {
    "duration": 8,
    "start_time": "2023-04-16T15:10:09.195Z"
   },
   {
    "duration": 7,
    "start_time": "2023-04-16T15:10:09.204Z"
   },
   {
    "duration": 14,
    "start_time": "2023-04-16T15:10:09.212Z"
   },
   {
    "duration": 10,
    "start_time": "2023-04-16T15:10:09.227Z"
   },
   {
    "duration": 27,
    "start_time": "2023-04-16T15:10:09.238Z"
   },
   {
    "duration": 23,
    "start_time": "2023-04-16T15:10:09.267Z"
   },
   {
    "duration": 20,
    "start_time": "2023-04-16T15:10:09.291Z"
   },
   {
    "duration": 65,
    "start_time": "2023-04-16T15:10:09.312Z"
   },
   {
    "duration": 68,
    "start_time": "2023-04-16T15:10:09.379Z"
   },
   {
    "duration": 50,
    "start_time": "2023-04-16T15:10:09.450Z"
   },
   {
    "duration": 47,
    "start_time": "2023-04-16T15:10:09.502Z"
   },
   {
    "duration": 85,
    "start_time": "2023-04-16T15:10:09.551Z"
   },
   {
    "duration": 32,
    "start_time": "2023-04-16T15:10:09.638Z"
   },
   {
    "duration": 11,
    "start_time": "2023-04-16T15:10:09.672Z"
   },
   {
    "duration": 14,
    "start_time": "2023-04-16T15:10:09.684Z"
   },
   {
    "duration": 48,
    "start_time": "2023-04-16T15:11:08.301Z"
   },
   {
    "duration": 3,
    "start_time": "2023-04-16T15:12:51.204Z"
   },
   {
    "duration": 77,
    "start_time": "2023-04-16T15:13:12.229Z"
   },
   {
    "duration": 3,
    "start_time": "2023-04-16T15:14:02.991Z"
   },
   {
    "duration": 21,
    "start_time": "2023-04-16T15:14:07.938Z"
   },
   {
    "duration": 3,
    "start_time": "2023-04-16T15:16:24.225Z"
   },
   {
    "duration": 18,
    "start_time": "2023-04-16T15:16:28.142Z"
   },
   {
    "duration": 3,
    "start_time": "2023-04-16T15:19:36.923Z"
   },
   {
    "duration": 18,
    "start_time": "2023-04-16T15:19:40.720Z"
   },
   {
    "duration": 3,
    "start_time": "2023-04-16T15:20:07.938Z"
   },
   {
    "duration": 3,
    "start_time": "2023-04-16T15:20:35.910Z"
   },
   {
    "duration": 519,
    "start_time": "2023-04-16T15:20:39.833Z"
   },
   {
    "duration": 4,
    "start_time": "2023-04-16T15:21:06.442Z"
   },
   {
    "duration": 392,
    "start_time": "2023-04-16T15:21:09.085Z"
   },
   {
    "duration": 3,
    "start_time": "2023-04-16T15:24:08.475Z"
   },
   {
    "duration": 392,
    "start_time": "2023-04-16T15:24:11.717Z"
   },
   {
    "duration": 60,
    "start_time": "2023-04-16T15:34:59.741Z"
   },
   {
    "duration": 4,
    "start_time": "2023-04-16T15:40:09.943Z"
   },
   {
    "duration": 14,
    "start_time": "2023-04-16T15:40:13.033Z"
   },
   {
    "duration": 4,
    "start_time": "2023-04-16T15:41:55.387Z"
   },
   {
    "duration": 19,
    "start_time": "2023-04-16T15:41:58.204Z"
   },
   {
    "duration": 3,
    "start_time": "2023-04-16T15:51:37.482Z"
   },
   {
    "duration": 15,
    "start_time": "2023-04-16T15:51:40.509Z"
   }
  ],
  "colab": {
   "collapsed_sections": [
    "E0vqbgi9ay0H",
    "VUC88oWjTJw2"
   ],
   "provenance": []
  },
  "kernelspec": {
   "display_name": "Python 3 (ipykernel)",
   "language": "python",
   "name": "python3"
  },
  "language_info": {
   "codemirror_mode": {
    "name": "ipython",
    "version": 3
   },
   "file_extension": ".py",
   "mimetype": "text/x-python",
   "name": "python",
   "nbconvert_exporter": "python",
   "pygments_lexer": "ipython3",
   "version": "3.9.5"
  },
  "toc": {
   "base_numbering": 1,
   "nav_menu": {
    "height": "215px",
    "width": "403px"
   },
   "number_sections": true,
   "sideBar": true,
   "skip_h1_title": true,
   "title_cell": "Table of Contents",
   "title_sidebar": "Contents",
   "toc_cell": false,
   "toc_position": {
    "height": "calc(100% - 180px)",
    "left": "10px",
    "top": "150px",
    "width": "285.825px"
   },
   "toc_section_display": true,
   "toc_window_display": false
  }
 },
 "nbformat": 4,
 "nbformat_minor": 1
}
