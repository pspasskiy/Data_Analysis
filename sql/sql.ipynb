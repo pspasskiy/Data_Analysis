{
 "cells": [
  {
   "cell_type": "markdown",
   "metadata": {},
   "source": [
    " <font size=\"6\"><b>Анализ SQL базы данных книжного магазина</b></font><br />"
   ]
  },
  {
   "cell_type": "markdown",
   "metadata": {},
   "source": [
    "**Цель** - проанализировать содержимое БД на языке SQL согласно запросам заказчика.\n",
    "\n",
    "**Описание данных**\n",
    "\n",
    "Предоставлены 5 таблиц:\n",
    "\n",
    "\n",
    "Таблица `books`\n",
    "\n",
    "Содержит данные о книгах:\n",
    "\n",
    "* book_id — идентификатор книги;\n",
    "* author_id — идентификатор автора;\n",
    "* title — название книги;\n",
    "* num_pages — количество страниц;\n",
    "* publication_date — дата публикации книги;\n",
    "* publisher_id — идентификатор издателя.\n",
    "\n",
    "\n",
    "Таблица `authors`\n",
    "\n",
    "Содержит данные об авторах:\n",
    "\n",
    " * author_id — идентификатор автора;\n",
    " * author — имя автора.\n",
    " \n",
    "\n",
    "Таблица `publishers`\n",
    "\n",
    "Содержит данные об издательствах:\n",
    "\n",
    " * publisher_id — идентификатор издательства;\n",
    " * publisher — название издательства;\n",
    "\n",
    "\n",
    "Таблица `ratings`\n",
    "\n",
    "Содержит данные о пользовательских оценках книг:\n",
    "\n",
    " * rating_id — идентификатор оценки;\n",
    " * book_id — идентификатор книги;\n",
    " * username — имя пользователя, оставившего оценку;\n",
    " * rating — оценка книги.\n",
    "\n",
    "\n",
    "Таблица `reviews`\n",
    "\n",
    "Содержит данные о пользовательских обзорах на книги:\n",
    "\n",
    " * review_id — идентификатор обзора;\n",
    " * book_id — идентификатор книги;\n",
    " * username — имя пользователя, написавшего обзор;\n",
    " * text — текст обзора.\n",
    " \n",
    " \n",
    " **Задачи**\n",
    " \n",
    "1. Посчитайте, сколько книг вышло после 1 января 2000 года;\n",
    "2. Для каждой книги посчитайте количество обзоров и среднюю оценку;\n",
    "3. Определите издательство, которое выпустило наибольшее число книг толще 50 страниц — так вы исключите из анализа брошюры;\n",
    "4. Определите автора с самой высокой средней оценкой книг — учитывайте только книги с 50 и более оценками;\n",
    "5. Посчитайте среднее количество обзоров от пользователей, которые поставили больше 48 оценок."
   ]
  },
  {
   "cell_type": "markdown",
   "metadata": {},
   "source": [
    "#### Загрузка и изучение данных"
   ]
  },
  {
   "cell_type": "code",
   "execution_count": 33,
   "metadata": {},
   "outputs": [],
   "source": [
    "# импортируем библиотеки\n",
    "import pandas as pd\n",
    "import sqlalchemy as sa"
   ]
  },
  {
   "cell_type": "code",
   "execution_count": 34,
   "metadata": {},
   "outputs": [],
   "source": [
    "# устанавливаем параметры\n",
    "db_config = {\n",
    "'user': 'praktikum_student', # имя пользователя\n",
    "'pwd': 'Sdf4$2;d-d30pp', # пароль\n",
    "'host': 'rc1b-wcoijxj3yxfsf3fs.mdb.yandexcloud.net',\n",
    "'port': 6432, # порт подключения\n",
    "'db': 'data-analyst-final-project-db' # название базы данных\n",
    "}\n",
    "connection_string = 'postgresql://{user}:{pwd}@{host}:{port}/{db}'.format(**db_config)\n",
    "\n",
    "# сохраняем коннектор\n",
    "engine = sa.create_engine(connection_string, connect_args={'sslmode':'require'})"
   ]
  },
  {
   "cell_type": "code",
   "execution_count": 35,
   "metadata": {},
   "outputs": [],
   "source": [
    "# чтобы выполнить SQL-запрос, пишем функцию с использованием Pandas\n",
    "def get_sql_data(query:str, engine:sa.engine.base.Engine=engine) -> pd.DataFrame: \n",
    "    '''Открываем соединение, получаем данные из sql, закрываем соединение'''\n",
    "    with engine.connect() as con:\n",
    "        return pd.read_sql(sql=sa.text(query), con = con)"
   ]
  },
  {
   "cell_type": "code",
   "execution_count": 36,
   "metadata": {},
   "outputs": [
    {
     "data": {
      "text/html": [
       "<div>\n",
       "<style scoped>\n",
       "    .dataframe tbody tr th:only-of-type {\n",
       "        vertical-align: middle;\n",
       "    }\n",
       "\n",
       "    .dataframe tbody tr th {\n",
       "        vertical-align: top;\n",
       "    }\n",
       "\n",
       "    .dataframe thead th {\n",
       "        text-align: right;\n",
       "    }\n",
       "</style>\n",
       "<table border=\"1\" class=\"dataframe\">\n",
       "  <thead>\n",
       "    <tr style=\"text-align: right;\">\n",
       "      <th></th>\n",
       "      <th>book_id</th>\n",
       "      <th>author_id</th>\n",
       "      <th>title</th>\n",
       "      <th>num_pages</th>\n",
       "      <th>publication_date</th>\n",
       "      <th>publisher_id</th>\n",
       "    </tr>\n",
       "  </thead>\n",
       "  <tbody>\n",
       "    <tr>\n",
       "      <th>0</th>\n",
       "      <td>1</td>\n",
       "      <td>546</td>\n",
       "      <td>'Salem's Lot</td>\n",
       "      <td>594</td>\n",
       "      <td>2005-11-01</td>\n",
       "      <td>93</td>\n",
       "    </tr>\n",
       "    <tr>\n",
       "      <th>1</th>\n",
       "      <td>2</td>\n",
       "      <td>465</td>\n",
       "      <td>1 000 Places to See Before You Die</td>\n",
       "      <td>992</td>\n",
       "      <td>2003-05-22</td>\n",
       "      <td>336</td>\n",
       "    </tr>\n",
       "    <tr>\n",
       "      <th>2</th>\n",
       "      <td>3</td>\n",
       "      <td>407</td>\n",
       "      <td>13 Little Blue Envelopes (Little Blue Envelope...</td>\n",
       "      <td>322</td>\n",
       "      <td>2010-12-21</td>\n",
       "      <td>135</td>\n",
       "    </tr>\n",
       "    <tr>\n",
       "      <th>3</th>\n",
       "      <td>4</td>\n",
       "      <td>82</td>\n",
       "      <td>1491: New Revelations of the Americas Before C...</td>\n",
       "      <td>541</td>\n",
       "      <td>2006-10-10</td>\n",
       "      <td>309</td>\n",
       "    </tr>\n",
       "    <tr>\n",
       "      <th>4</th>\n",
       "      <td>5</td>\n",
       "      <td>125</td>\n",
       "      <td>1776</td>\n",
       "      <td>386</td>\n",
       "      <td>2006-07-04</td>\n",
       "      <td>268</td>\n",
       "    </tr>\n",
       "  </tbody>\n",
       "</table>\n",
       "</div>"
      ],
      "text/plain": [
       "   book_id  author_id                                              title  \\\n",
       "0        1        546                                       'Salem's Lot   \n",
       "1        2        465                 1 000 Places to See Before You Die   \n",
       "2        3        407  13 Little Blue Envelopes (Little Blue Envelope...   \n",
       "3        4         82  1491: New Revelations of the Americas Before C...   \n",
       "4        5        125                                               1776   \n",
       "\n",
       "   num_pages publication_date  publisher_id  \n",
       "0        594       2005-11-01            93  \n",
       "1        992       2003-05-22           336  \n",
       "2        322       2010-12-21           135  \n",
       "3        541       2006-10-10           309  \n",
       "4        386       2006-07-04           268  "
      ]
     },
     "execution_count": 36,
     "metadata": {},
     "output_type": "execute_result"
    }
   ],
   "source": [
    "# формируем запрос и выводим данные\n",
    "query_books = '''SELECT * FROM books LIMIT 5'''\n",
    "get_sql_data(query_books)"
   ]
  },
  {
   "cell_type": "code",
   "execution_count": 37,
   "metadata": {},
   "outputs": [
    {
     "name": "stdout",
     "output_type": "stream",
     "text": [
      "<class 'pandas.core.frame.DataFrame'>\n",
      "RangeIndex: 5 entries, 0 to 4\n",
      "Data columns (total 6 columns):\n",
      " #   Column            Non-Null Count  Dtype \n",
      "---  ------            --------------  ----- \n",
      " 0   book_id           5 non-null      int64 \n",
      " 1   author_id         5 non-null      int64 \n",
      " 2   title             5 non-null      object\n",
      " 3   num_pages         5 non-null      int64 \n",
      " 4   publication_date  5 non-null      object\n",
      " 5   publisher_id      5 non-null      int64 \n",
      "dtypes: int64(4), object(2)\n",
      "memory usage: 368.0+ bytes\n"
     ]
    }
   ],
   "source": [
    "get_sql_data(query_books).info()"
   ]
  },
  {
   "cell_type": "code",
   "execution_count": 38,
   "metadata": {},
   "outputs": [
    {
     "data": {
      "text/html": [
       "<div>\n",
       "<style scoped>\n",
       "    .dataframe tbody tr th:only-of-type {\n",
       "        vertical-align: middle;\n",
       "    }\n",
       "\n",
       "    .dataframe tbody tr th {\n",
       "        vertical-align: top;\n",
       "    }\n",
       "\n",
       "    .dataframe thead th {\n",
       "        text-align: right;\n",
       "    }\n",
       "</style>\n",
       "<table border=\"1\" class=\"dataframe\">\n",
       "  <thead>\n",
       "    <tr style=\"text-align: right;\">\n",
       "      <th></th>\n",
       "      <th>author_id</th>\n",
       "      <th>author</th>\n",
       "    </tr>\n",
       "  </thead>\n",
       "  <tbody>\n",
       "    <tr>\n",
       "      <th>0</th>\n",
       "      <td>1</td>\n",
       "      <td>A.S. Byatt</td>\n",
       "    </tr>\n",
       "    <tr>\n",
       "      <th>1</th>\n",
       "      <td>2</td>\n",
       "      <td>Aesop/Laura Harris/Laura Gibbs</td>\n",
       "    </tr>\n",
       "    <tr>\n",
       "      <th>2</th>\n",
       "      <td>3</td>\n",
       "      <td>Agatha Christie</td>\n",
       "    </tr>\n",
       "    <tr>\n",
       "      <th>3</th>\n",
       "      <td>4</td>\n",
       "      <td>Alan Brennert</td>\n",
       "    </tr>\n",
       "    <tr>\n",
       "      <th>4</th>\n",
       "      <td>5</td>\n",
       "      <td>Alan Moore/David   Lloyd</td>\n",
       "    </tr>\n",
       "  </tbody>\n",
       "</table>\n",
       "</div>"
      ],
      "text/plain": [
       "   author_id                          author\n",
       "0          1                      A.S. Byatt\n",
       "1          2  Aesop/Laura Harris/Laura Gibbs\n",
       "2          3                 Agatha Christie\n",
       "3          4                   Alan Brennert\n",
       "4          5        Alan Moore/David   Lloyd"
      ]
     },
     "execution_count": 38,
     "metadata": {},
     "output_type": "execute_result"
    }
   ],
   "source": [
    "# формируем запрос и выводим данные\n",
    "query_authors = '''SELECT * FROM authors LIMIT 5'''\n",
    "get_sql_data(query_authors)"
   ]
  },
  {
   "cell_type": "code",
   "execution_count": 39,
   "metadata": {},
   "outputs": [
    {
     "name": "stdout",
     "output_type": "stream",
     "text": [
      "<class 'pandas.core.frame.DataFrame'>\n",
      "RangeIndex: 5 entries, 0 to 4\n",
      "Data columns (total 2 columns):\n",
      " #   Column     Non-Null Count  Dtype \n",
      "---  ------     --------------  ----- \n",
      " 0   author_id  5 non-null      int64 \n",
      " 1   author     5 non-null      object\n",
      "dtypes: int64(1), object(1)\n",
      "memory usage: 208.0+ bytes\n"
     ]
    }
   ],
   "source": [
    "get_sql_data(query_authors).info()"
   ]
  },
  {
   "cell_type": "code",
   "execution_count": 40,
   "metadata": {},
   "outputs": [
    {
     "data": {
      "text/html": [
       "<div>\n",
       "<style scoped>\n",
       "    .dataframe tbody tr th:only-of-type {\n",
       "        vertical-align: middle;\n",
       "    }\n",
       "\n",
       "    .dataframe tbody tr th {\n",
       "        vertical-align: top;\n",
       "    }\n",
       "\n",
       "    .dataframe thead th {\n",
       "        text-align: right;\n",
       "    }\n",
       "</style>\n",
       "<table border=\"1\" class=\"dataframe\">\n",
       "  <thead>\n",
       "    <tr style=\"text-align: right;\">\n",
       "      <th></th>\n",
       "      <th>publisher_id</th>\n",
       "      <th>publisher</th>\n",
       "    </tr>\n",
       "  </thead>\n",
       "  <tbody>\n",
       "    <tr>\n",
       "      <th>0</th>\n",
       "      <td>1</td>\n",
       "      <td>Ace</td>\n",
       "    </tr>\n",
       "    <tr>\n",
       "      <th>1</th>\n",
       "      <td>2</td>\n",
       "      <td>Ace Book</td>\n",
       "    </tr>\n",
       "    <tr>\n",
       "      <th>2</th>\n",
       "      <td>3</td>\n",
       "      <td>Ace Books</td>\n",
       "    </tr>\n",
       "    <tr>\n",
       "      <th>3</th>\n",
       "      <td>4</td>\n",
       "      <td>Ace Hardcover</td>\n",
       "    </tr>\n",
       "    <tr>\n",
       "      <th>4</th>\n",
       "      <td>5</td>\n",
       "      <td>Addison Wesley Publishing Company</td>\n",
       "    </tr>\n",
       "  </tbody>\n",
       "</table>\n",
       "</div>"
      ],
      "text/plain": [
       "   publisher_id                          publisher\n",
       "0             1                                Ace\n",
       "1             2                           Ace Book\n",
       "2             3                          Ace Books\n",
       "3             4                      Ace Hardcover\n",
       "4             5  Addison Wesley Publishing Company"
      ]
     },
     "execution_count": 40,
     "metadata": {},
     "output_type": "execute_result"
    }
   ],
   "source": [
    "# формируем запрос и выводим данные\n",
    "query_publishers = '''SELECT * FROM publishers LIMIT 5'''\n",
    "get_sql_data(query_publishers)"
   ]
  },
  {
   "cell_type": "code",
   "execution_count": 41,
   "metadata": {},
   "outputs": [
    {
     "name": "stdout",
     "output_type": "stream",
     "text": [
      "<class 'pandas.core.frame.DataFrame'>\n",
      "RangeIndex: 5 entries, 0 to 4\n",
      "Data columns (total 2 columns):\n",
      " #   Column        Non-Null Count  Dtype \n",
      "---  ------        --------------  ----- \n",
      " 0   publisher_id  5 non-null      int64 \n",
      " 1   publisher     5 non-null      object\n",
      "dtypes: int64(1), object(1)\n",
      "memory usage: 208.0+ bytes\n"
     ]
    }
   ],
   "source": [
    "get_sql_data(query_publishers).info()"
   ]
  },
  {
   "cell_type": "code",
   "execution_count": 42,
   "metadata": {},
   "outputs": [
    {
     "data": {
      "text/html": [
       "<div>\n",
       "<style scoped>\n",
       "    .dataframe tbody tr th:only-of-type {\n",
       "        vertical-align: middle;\n",
       "    }\n",
       "\n",
       "    .dataframe tbody tr th {\n",
       "        vertical-align: top;\n",
       "    }\n",
       "\n",
       "    .dataframe thead th {\n",
       "        text-align: right;\n",
       "    }\n",
       "</style>\n",
       "<table border=\"1\" class=\"dataframe\">\n",
       "  <thead>\n",
       "    <tr style=\"text-align: right;\">\n",
       "      <th></th>\n",
       "      <th>rating_id</th>\n",
       "      <th>book_id</th>\n",
       "      <th>username</th>\n",
       "      <th>rating</th>\n",
       "    </tr>\n",
       "  </thead>\n",
       "  <tbody>\n",
       "    <tr>\n",
       "      <th>0</th>\n",
       "      <td>1</td>\n",
       "      <td>1</td>\n",
       "      <td>ryanfranco</td>\n",
       "      <td>4</td>\n",
       "    </tr>\n",
       "    <tr>\n",
       "      <th>1</th>\n",
       "      <td>2</td>\n",
       "      <td>1</td>\n",
       "      <td>grantpatricia</td>\n",
       "      <td>2</td>\n",
       "    </tr>\n",
       "    <tr>\n",
       "      <th>2</th>\n",
       "      <td>3</td>\n",
       "      <td>1</td>\n",
       "      <td>brandtandrea</td>\n",
       "      <td>5</td>\n",
       "    </tr>\n",
       "    <tr>\n",
       "      <th>3</th>\n",
       "      <td>4</td>\n",
       "      <td>2</td>\n",
       "      <td>lorichen</td>\n",
       "      <td>3</td>\n",
       "    </tr>\n",
       "    <tr>\n",
       "      <th>4</th>\n",
       "      <td>5</td>\n",
       "      <td>2</td>\n",
       "      <td>mariokeller</td>\n",
       "      <td>2</td>\n",
       "    </tr>\n",
       "  </tbody>\n",
       "</table>\n",
       "</div>"
      ],
      "text/plain": [
       "   rating_id  book_id       username  rating\n",
       "0          1        1     ryanfranco       4\n",
       "1          2        1  grantpatricia       2\n",
       "2          3        1   brandtandrea       5\n",
       "3          4        2       lorichen       3\n",
       "4          5        2    mariokeller       2"
      ]
     },
     "execution_count": 42,
     "metadata": {},
     "output_type": "execute_result"
    }
   ],
   "source": [
    "# формируем запрос и выводим данные\n",
    "query_ratings = '''SELECT * FROM ratings LIMIT 5'''\n",
    "get_sql_data(query_ratings)"
   ]
  },
  {
   "cell_type": "code",
   "execution_count": 43,
   "metadata": {},
   "outputs": [
    {
     "name": "stdout",
     "output_type": "stream",
     "text": [
      "<class 'pandas.core.frame.DataFrame'>\n",
      "RangeIndex: 5 entries, 0 to 4\n",
      "Data columns (total 4 columns):\n",
      " #   Column     Non-Null Count  Dtype \n",
      "---  ------     --------------  ----- \n",
      " 0   rating_id  5 non-null      int64 \n",
      " 1   book_id    5 non-null      int64 \n",
      " 2   username   5 non-null      object\n",
      " 3   rating     5 non-null      int64 \n",
      "dtypes: int64(3), object(1)\n",
      "memory usage: 288.0+ bytes\n"
     ]
    }
   ],
   "source": [
    "get_sql_data(query_ratings).info()"
   ]
  },
  {
   "cell_type": "code",
   "execution_count": 44,
   "metadata": {},
   "outputs": [
    {
     "data": {
      "text/html": [
       "<div>\n",
       "<style scoped>\n",
       "    .dataframe tbody tr th:only-of-type {\n",
       "        vertical-align: middle;\n",
       "    }\n",
       "\n",
       "    .dataframe tbody tr th {\n",
       "        vertical-align: top;\n",
       "    }\n",
       "\n",
       "    .dataframe thead th {\n",
       "        text-align: right;\n",
       "    }\n",
       "</style>\n",
       "<table border=\"1\" class=\"dataframe\">\n",
       "  <thead>\n",
       "    <tr style=\"text-align: right;\">\n",
       "      <th></th>\n",
       "      <th>review_id</th>\n",
       "      <th>book_id</th>\n",
       "      <th>username</th>\n",
       "      <th>text</th>\n",
       "    </tr>\n",
       "  </thead>\n",
       "  <tbody>\n",
       "    <tr>\n",
       "      <th>0</th>\n",
       "      <td>1</td>\n",
       "      <td>1</td>\n",
       "      <td>brandtandrea</td>\n",
       "      <td>Mention society tell send professor analysis. ...</td>\n",
       "    </tr>\n",
       "    <tr>\n",
       "      <th>1</th>\n",
       "      <td>2</td>\n",
       "      <td>1</td>\n",
       "      <td>ryanfranco</td>\n",
       "      <td>Foot glass pretty audience hit themselves. Amo...</td>\n",
       "    </tr>\n",
       "    <tr>\n",
       "      <th>2</th>\n",
       "      <td>3</td>\n",
       "      <td>2</td>\n",
       "      <td>lorichen</td>\n",
       "      <td>Listen treat keep worry. Miss husband tax but ...</td>\n",
       "    </tr>\n",
       "    <tr>\n",
       "      <th>3</th>\n",
       "      <td>4</td>\n",
       "      <td>3</td>\n",
       "      <td>johnsonamanda</td>\n",
       "      <td>Finally month interesting blue could nature cu...</td>\n",
       "    </tr>\n",
       "    <tr>\n",
       "      <th>4</th>\n",
       "      <td>5</td>\n",
       "      <td>3</td>\n",
       "      <td>scotttamara</td>\n",
       "      <td>Nation purpose heavy give wait song will. List...</td>\n",
       "    </tr>\n",
       "  </tbody>\n",
       "</table>\n",
       "</div>"
      ],
      "text/plain": [
       "   review_id  book_id       username  \\\n",
       "0          1        1   brandtandrea   \n",
       "1          2        1     ryanfranco   \n",
       "2          3        2       lorichen   \n",
       "3          4        3  johnsonamanda   \n",
       "4          5        3    scotttamara   \n",
       "\n",
       "                                                text  \n",
       "0  Mention society tell send professor analysis. ...  \n",
       "1  Foot glass pretty audience hit themselves. Amo...  \n",
       "2  Listen treat keep worry. Miss husband tax but ...  \n",
       "3  Finally month interesting blue could nature cu...  \n",
       "4  Nation purpose heavy give wait song will. List...  "
      ]
     },
     "execution_count": 44,
     "metadata": {},
     "output_type": "execute_result"
    }
   ],
   "source": [
    "# формируем запрос и выводим данные\n",
    "query_reviews = '''SELECT * FROM reviews LIMIT 5'''\n",
    "get_sql_data(query_reviews)"
   ]
  },
  {
   "cell_type": "code",
   "execution_count": 45,
   "metadata": {},
   "outputs": [
    {
     "name": "stdout",
     "output_type": "stream",
     "text": [
      "<class 'pandas.core.frame.DataFrame'>\n",
      "RangeIndex: 5 entries, 0 to 4\n",
      "Data columns (total 4 columns):\n",
      " #   Column     Non-Null Count  Dtype \n",
      "---  ------     --------------  ----- \n",
      " 0   review_id  5 non-null      int64 \n",
      " 1   book_id    5 non-null      int64 \n",
      " 2   username   5 non-null      object\n",
      " 3   text       5 non-null      object\n",
      "dtypes: int64(2), object(2)\n",
      "memory usage: 288.0+ bytes\n"
     ]
    }
   ],
   "source": [
    "get_sql_data(query_reviews).info()"
   ]
  },
  {
   "cell_type": "markdown",
   "metadata": {},
   "source": [
    "#### Посчитайте, сколько книг вышло после 1 января 2000 года"
   ]
  },
  {
   "cell_type": "code",
   "execution_count": 46,
   "metadata": {},
   "outputs": [],
   "source": [
    "query1 = '''\n",
    "            SELECT COUNT(book_id) AS book_cnt\n",
    "            FROM books\n",
    "            WHERE publication_date::date > '2000-01-01'\n",
    "        '''"
   ]
  },
  {
   "cell_type": "code",
   "execution_count": 47,
   "metadata": {},
   "outputs": [
    {
     "data": {
      "text/html": [
       "<div>\n",
       "<style scoped>\n",
       "    .dataframe tbody tr th:only-of-type {\n",
       "        vertical-align: middle;\n",
       "    }\n",
       "\n",
       "    .dataframe tbody tr th {\n",
       "        vertical-align: top;\n",
       "    }\n",
       "\n",
       "    .dataframe thead th {\n",
       "        text-align: right;\n",
       "    }\n",
       "</style>\n",
       "<table border=\"1\" class=\"dataframe\">\n",
       "  <thead>\n",
       "    <tr style=\"text-align: right;\">\n",
       "      <th></th>\n",
       "      <th>book_cnt</th>\n",
       "    </tr>\n",
       "  </thead>\n",
       "  <tbody>\n",
       "    <tr>\n",
       "      <th>0</th>\n",
       "      <td>819</td>\n",
       "    </tr>\n",
       "  </tbody>\n",
       "</table>\n",
       "</div>"
      ],
      "text/plain": [
       "   book_cnt\n",
       "0       819"
      ]
     },
     "execution_count": 47,
     "metadata": {},
     "output_type": "execute_result"
    }
   ],
   "source": [
    "# формируем запрос и выводим данные\n",
    "books_cnt = get_sql_data(query1)\n",
    "books_cnt"
   ]
  },
  {
   "cell_type": "code",
   "execution_count": 48,
   "metadata": {},
   "outputs": [
    {
     "name": "stdout",
     "output_type": "stream",
     "text": [
      "Количество книг, вышедших после 1 января 2000 года составило: 819\n"
     ]
    }
   ],
   "source": [
    "print('Количество книг, вышедших после 1 января 2000 года составило:', books_cnt.loc[0, 'book_cnt'])"
   ]
  },
  {
   "cell_type": "markdown",
   "metadata": {},
   "source": [
    "#### Для каждой книги посчитайте количество обзоров и среднюю оценку"
   ]
  },
  {
   "cell_type": "code",
   "execution_count": 64,
   "metadata": {},
   "outputs": [],
   "source": [
    "query2 = '''\n",
    "            WITH book_rating AS\n",
    "            (SELECT book_id,\n",
    "            AVG(rating) AS avg_rating\n",
    "            FROM ratings\n",
    "            GROUP BY book_id),\n",
    "\n",
    "            book_review AS\n",
    "            (SELECT book_id,\n",
    "            COUNT(*) AS review_count\n",
    "            FROM reviews\n",
    "            GROUP BY book_id)\n",
    "            \n",
    "            \n",
    "            SELECT b.title, b.book_id, avg_rating, review_count\n",
    "            FROM books AS b\n",
    "            LEFT JOIN book_rating AS b_rat ON b.book_id = b_rat.book_id\n",
    "            LEFT JOIN book_review AS b_rev ON b.book_id = b_rev.book_id            \n",
    "        '''"
   ]
  },
  {
   "cell_type": "code",
   "execution_count": 66,
   "metadata": {
    "scrolled": false
   },
   "outputs": [
    {
     "data": {
      "text/html": [
       "<div>\n",
       "<style scoped>\n",
       "    .dataframe tbody tr th:only-of-type {\n",
       "        vertical-align: middle;\n",
       "    }\n",
       "\n",
       "    .dataframe tbody tr th {\n",
       "        vertical-align: top;\n",
       "    }\n",
       "\n",
       "    .dataframe thead th {\n",
       "        text-align: right;\n",
       "    }\n",
       "</style>\n",
       "<table border=\"1\" class=\"dataframe\">\n",
       "  <thead>\n",
       "    <tr style=\"text-align: right;\">\n",
       "      <th></th>\n",
       "      <th>title</th>\n",
       "      <th>book_id</th>\n",
       "      <th>avg_rating</th>\n",
       "      <th>review_count</th>\n",
       "    </tr>\n",
       "  </thead>\n",
       "  <tbody>\n",
       "    <tr>\n",
       "      <th>0</th>\n",
       "      <td>The Body in the Library (Miss Marple  #3)</td>\n",
       "      <td>652</td>\n",
       "      <td>4.500000</td>\n",
       "      <td>2.0</td>\n",
       "    </tr>\n",
       "    <tr>\n",
       "      <th>1</th>\n",
       "      <td>Galápagos</td>\n",
       "      <td>273</td>\n",
       "      <td>4.500000</td>\n",
       "      <td>2.0</td>\n",
       "    </tr>\n",
       "    <tr>\n",
       "      <th>2</th>\n",
       "      <td>A Tree Grows in Brooklyn</td>\n",
       "      <td>51</td>\n",
       "      <td>4.250000</td>\n",
       "      <td>5.0</td>\n",
       "    </tr>\n",
       "    <tr>\n",
       "      <th>3</th>\n",
       "      <td>Undaunted Courage: The Pioneering First Missio...</td>\n",
       "      <td>951</td>\n",
       "      <td>4.000000</td>\n",
       "      <td>2.0</td>\n",
       "    </tr>\n",
       "    <tr>\n",
       "      <th>4</th>\n",
       "      <td>The Prophet</td>\n",
       "      <td>839</td>\n",
       "      <td>4.285714</td>\n",
       "      <td>4.0</td>\n",
       "    </tr>\n",
       "    <tr>\n",
       "      <th>...</th>\n",
       "      <td>...</td>\n",
       "      <td>...</td>\n",
       "      <td>...</td>\n",
       "      <td>...</td>\n",
       "    </tr>\n",
       "    <tr>\n",
       "      <th>995</th>\n",
       "      <td>Alice in Wonderland</td>\n",
       "      <td>64</td>\n",
       "      <td>4.230769</td>\n",
       "      <td>4.0</td>\n",
       "    </tr>\n",
       "    <tr>\n",
       "      <th>996</th>\n",
       "      <td>A Woman of Substance (Emma Harte Saga #1)</td>\n",
       "      <td>55</td>\n",
       "      <td>5.000000</td>\n",
       "      <td>2.0</td>\n",
       "    </tr>\n",
       "    <tr>\n",
       "      <th>997</th>\n",
       "      <td>Christine</td>\n",
       "      <td>148</td>\n",
       "      <td>3.428571</td>\n",
       "      <td>3.0</td>\n",
       "    </tr>\n",
       "    <tr>\n",
       "      <th>998</th>\n",
       "      <td>The Magicians' Guild (Black Magician Trilogy  #1)</td>\n",
       "      <td>790</td>\n",
       "      <td>3.500000</td>\n",
       "      <td>2.0</td>\n",
       "    </tr>\n",
       "    <tr>\n",
       "      <th>999</th>\n",
       "      <td>The Plot Against America</td>\n",
       "      <td>828</td>\n",
       "      <td>3.000000</td>\n",
       "      <td>2.0</td>\n",
       "    </tr>\n",
       "  </tbody>\n",
       "</table>\n",
       "<p>1000 rows × 4 columns</p>\n",
       "</div>"
      ],
      "text/plain": [
       "                                                 title  book_id  avg_rating  \\\n",
       "0            The Body in the Library (Miss Marple  #3)      652    4.500000   \n",
       "1                                            Galápagos      273    4.500000   \n",
       "2                             A Tree Grows in Brooklyn       51    4.250000   \n",
       "3    Undaunted Courage: The Pioneering First Missio...      951    4.000000   \n",
       "4                                          The Prophet      839    4.285714   \n",
       "..                                                 ...      ...         ...   \n",
       "995                                Alice in Wonderland       64    4.230769   \n",
       "996          A Woman of Substance (Emma Harte Saga #1)       55    5.000000   \n",
       "997                                          Christine      148    3.428571   \n",
       "998  The Magicians' Guild (Black Magician Trilogy  #1)      790    3.500000   \n",
       "999                           The Plot Against America      828    3.000000   \n",
       "\n",
       "     review_count  \n",
       "0             2.0  \n",
       "1             2.0  \n",
       "2             5.0  \n",
       "3             2.0  \n",
       "4             4.0  \n",
       "..            ...  \n",
       "995           4.0  \n",
       "996           2.0  \n",
       "997           3.0  \n",
       "998           2.0  \n",
       "999           2.0  \n",
       "\n",
       "[1000 rows x 4 columns]"
      ]
     },
     "execution_count": 66,
     "metadata": {},
     "output_type": "execute_result"
    }
   ],
   "source": [
    "# формируем запрос и выводим данные\n",
    "books_rv_rt = get_sql_data(query2)\n",
    "books_rv_rt"
   ]
  },
  {
   "cell_type": "markdown",
   "metadata": {},
   "source": [
    "#### Определите издательство, которое выпустило наибольшее число книг толще 50 страниц"
   ]
  },
  {
   "cell_type": "code",
   "execution_count": 53,
   "metadata": {},
   "outputs": [],
   "source": [
    "query3 = '''\n",
    "            SELECT p.publisher,\n",
    "                   COUNT(b.book_id) AS books_cnt                   \n",
    "            FROM books AS b\n",
    "            JOIN publishers AS p ON b.publisher_id=p.publisher_id\n",
    "            WHERE b.num_pages > 50\n",
    "            GROUP BY p.publisher\n",
    "            ORDER BY books_cnt DESC\n",
    "            LIMIT 1\n",
    "        '''"
   ]
  },
  {
   "cell_type": "code",
   "execution_count": 54,
   "metadata": {},
   "outputs": [
    {
     "data": {
      "text/html": [
       "<div>\n",
       "<style scoped>\n",
       "    .dataframe tbody tr th:only-of-type {\n",
       "        vertical-align: middle;\n",
       "    }\n",
       "\n",
       "    .dataframe tbody tr th {\n",
       "        vertical-align: top;\n",
       "    }\n",
       "\n",
       "    .dataframe thead th {\n",
       "        text-align: right;\n",
       "    }\n",
       "</style>\n",
       "<table border=\"1\" class=\"dataframe\">\n",
       "  <thead>\n",
       "    <tr style=\"text-align: right;\">\n",
       "      <th></th>\n",
       "      <th>publisher</th>\n",
       "      <th>books_cnt</th>\n",
       "    </tr>\n",
       "  </thead>\n",
       "  <tbody>\n",
       "    <tr>\n",
       "      <th>0</th>\n",
       "      <td>Penguin Books</td>\n",
       "      <td>42</td>\n",
       "    </tr>\n",
       "  </tbody>\n",
       "</table>\n",
       "</div>"
      ],
      "text/plain": [
       "       publisher  books_cnt\n",
       "0  Penguin Books         42"
      ]
     },
     "execution_count": 54,
     "metadata": {},
     "output_type": "execute_result"
    }
   ],
   "source": [
    "# формируем запрос и выводим данные\n",
    "publ = get_sql_data(query3)\n",
    "publ"
   ]
  },
  {
   "cell_type": "code",
   "execution_count": 55,
   "metadata": {},
   "outputs": [
    {
     "name": "stdout",
     "output_type": "stream",
     "text": [
      "Издательство, выпустившее наибольшее наибольшее число книг толще 50 страниц: Penguin Books\n"
     ]
    }
   ],
   "source": [
    "print('Издательство, выпустившее наибольшее наибольшее число книг толще 50 страниц:', publ.loc[0, 'publisher'])"
   ]
  },
  {
   "cell_type": "markdown",
   "metadata": {},
   "source": [
    "#### Определите автора с самой высокой средней оценкой книг — учитывайте только книги с 50 и более оценками"
   ]
  },
  {
   "cell_type": "code",
   "execution_count": 56,
   "metadata": {},
   "outputs": [],
   "source": [
    "query4 = '''\n",
    "            SELECT a.author AS author,\n",
    "                   ROUND(AVG(r.rating),1) AS avg_rating                   \n",
    "            FROM ratings AS r\n",
    "            JOIN books AS b ON b.book_id=r.book_id\n",
    "            JOIN authors AS a ON b.author_id=a.author_id\n",
    "            WHERE r.book_id IN ( SELECT book_id\n",
    "                                 FROM ratings\n",
    "                                 GROUP BY book_id\n",
    "                                 HAVING COUNT(book_id) >= 50 )\n",
    "            GROUP BY a.author_id\n",
    "            ORDER BY avg_rating DESC\n",
    "            LIMIT 1\n",
    "        '''"
   ]
  },
  {
   "cell_type": "code",
   "execution_count": 57,
   "metadata": {},
   "outputs": [
    {
     "data": {
      "text/html": [
       "<div>\n",
       "<style scoped>\n",
       "    .dataframe tbody tr th:only-of-type {\n",
       "        vertical-align: middle;\n",
       "    }\n",
       "\n",
       "    .dataframe tbody tr th {\n",
       "        vertical-align: top;\n",
       "    }\n",
       "\n",
       "    .dataframe thead th {\n",
       "        text-align: right;\n",
       "    }\n",
       "</style>\n",
       "<table border=\"1\" class=\"dataframe\">\n",
       "  <thead>\n",
       "    <tr style=\"text-align: right;\">\n",
       "      <th></th>\n",
       "      <th>author</th>\n",
       "      <th>avg_rating</th>\n",
       "    </tr>\n",
       "  </thead>\n",
       "  <tbody>\n",
       "    <tr>\n",
       "      <th>0</th>\n",
       "      <td>J.K. Rowling/Mary GrandPré</td>\n",
       "      <td>4.3</td>\n",
       "    </tr>\n",
       "  </tbody>\n",
       "</table>\n",
       "</div>"
      ],
      "text/plain": [
       "                       author  avg_rating\n",
       "0  J.K. Rowling/Mary GrandPré         4.3"
      ]
     },
     "execution_count": 57,
     "metadata": {},
     "output_type": "execute_result"
    }
   ],
   "source": [
    "# формируем запрос и выводим данные\n",
    "author = get_sql_data(query4)\n",
    "author"
   ]
  },
  {
   "cell_type": "code",
   "execution_count": 58,
   "metadata": {},
   "outputs": [
    {
     "name": "stdout",
     "output_type": "stream",
     "text": [
      "Автор с самой высокой средней оценкой книг: J.K. Rowling/Mary GrandPré  \n",
      "Cредняя оценка: 4.3\n"
     ]
    }
   ],
   "source": [
    "print('Автор с самой высокой средней оценкой книг:',author.loc[0, 'author'],' \\nCредняя оценка:',author.loc[0, 'avg_rating'])"
   ]
  },
  {
   "cell_type": "markdown",
   "metadata": {},
   "source": [
    "#### Посчитайте среднее количество обзоров от пользователей, которые поставили больше 48 оценок"
   ]
  },
  {
   "cell_type": "code",
   "execution_count": 59,
   "metadata": {},
   "outputs": [],
   "source": [
    "query5 = '''\n",
    "            SELECT ROUND(AVG(rev_cnt),1) as avg_rev_cnt\n",
    "            FROM ( SELECT username,\n",
    "                   COUNT(review_id) as rev_cnt\n",
    "                   FROM reviews\n",
    "                   GROUP BY username\n",
    "                   HAVING username IN ( SELECT username\n",
    "                                        FROM ratings\n",
    "                                        GROUP BY username\n",
    "                                        HAVING COUNT(rating_id) > 48\n",
    "                                        )\n",
    "                            \n",
    "                            \n",
    "                  ) as reviews\n",
    "        '''"
   ]
  },
  {
   "cell_type": "code",
   "execution_count": 60,
   "metadata": {},
   "outputs": [
    {
     "data": {
      "text/html": [
       "<div>\n",
       "<style scoped>\n",
       "    .dataframe tbody tr th:only-of-type {\n",
       "        vertical-align: middle;\n",
       "    }\n",
       "\n",
       "    .dataframe tbody tr th {\n",
       "        vertical-align: top;\n",
       "    }\n",
       "\n",
       "    .dataframe thead th {\n",
       "        text-align: right;\n",
       "    }\n",
       "</style>\n",
       "<table border=\"1\" class=\"dataframe\">\n",
       "  <thead>\n",
       "    <tr style=\"text-align: right;\">\n",
       "      <th></th>\n",
       "      <th>avg_rev_cnt</th>\n",
       "    </tr>\n",
       "  </thead>\n",
       "  <tbody>\n",
       "    <tr>\n",
       "      <th>0</th>\n",
       "      <td>24.0</td>\n",
       "    </tr>\n",
       "  </tbody>\n",
       "</table>\n",
       "</div>"
      ],
      "text/plain": [
       "   avg_rev_cnt\n",
       "0         24.0"
      ]
     },
     "execution_count": 60,
     "metadata": {},
     "output_type": "execute_result"
    }
   ],
   "source": [
    "# формируем запрос и выводим данные\n",
    "avg_rev = get_sql_data(query5)\n",
    "avg_rev"
   ]
  },
  {
   "cell_type": "code",
   "execution_count": 61,
   "metadata": {},
   "outputs": [
    {
     "name": "stdout",
     "output_type": "stream",
     "text": [
      "Среднее количество обзоров от пользователей, которые поставили больше 48 оценок: 24.0\n"
     ]
    }
   ],
   "source": [
    "print('Среднее количество обзоров от пользователей, которые поставили больше 48 оценок:', avg_rev.loc[0, 'avg_rev_cnt'])"
   ]
  },
  {
   "cell_type": "markdown",
   "metadata": {},
   "source": [
    "#### Выводы"
   ]
  },
  {
   "cell_type": "markdown",
   "metadata": {},
   "source": [
    "1. Количество книг, вышедших после 1 января 2000 года составило: *819*\n",
    "2. Выведена *таблица* с количеством обзоров и средней оценкой для каждой из 1000 книг, хранящихся в БД.\n",
    "3. Издательство, выпустившее наибольшее наибольшее число книг толще 50 страниц: *Penguin Books*\n",
    "4. Автор с самой высокой средней оценкой книг (учитывались только книги с 50 и более оценками): *J.K. Rowling/Mary GrandPré. Cредняя оценка: 4.3*.\n",
    "5. Среднее количество обзоров от пользователей, которые поставили больше 48 оценок: *24.0*"
   ]
  }
 ],
 "metadata": {
  "ExecuteTimeLog": [
   {
    "duration": 509,
    "start_time": "2023-11-24T18:26:57.387Z"
   },
   {
    "duration": 2,
    "start_time": "2023-11-24T18:28:06.759Z"
   },
   {
    "duration": 3,
    "start_time": "2023-11-24T18:30:36.285Z"
   },
   {
    "duration": 4,
    "start_time": "2023-11-24T18:30:59.760Z"
   },
   {
    "duration": 67,
    "start_time": "2023-11-24T18:31:31.837Z"
   },
   {
    "duration": 4,
    "start_time": "2023-11-24T18:31:37.851Z"
   },
   {
    "duration": 7,
    "start_time": "2023-11-24T18:31:41.595Z"
   },
   {
    "duration": 2,
    "start_time": "2023-11-24T18:31:48.755Z"
   },
   {
    "duration": 4,
    "start_time": "2023-11-24T18:31:52.655Z"
   },
   {
    "duration": 7,
    "start_time": "2023-11-24T18:31:56.266Z"
   },
   {
    "duration": 4,
    "start_time": "2023-11-24T18:33:01.046Z"
   },
   {
    "duration": 3,
    "start_time": "2023-11-24T18:33:10.798Z"
   },
   {
    "duration": 237,
    "start_time": "2023-11-24T18:33:25.421Z"
   },
   {
    "duration": 53,
    "start_time": "2023-11-24T18:33:37.311Z"
   },
   {
    "duration": 50,
    "start_time": "2023-11-24T18:33:51.013Z"
   },
   {
    "duration": 51,
    "start_time": "2023-11-24T18:34:02.441Z"
   },
   {
    "duration": 50,
    "start_time": "2023-11-24T18:34:18.647Z"
   },
   {
    "duration": 51,
    "start_time": "2023-11-24T18:34:29.807Z"
   },
   {
    "duration": 50,
    "start_time": "2023-11-24T18:34:43.183Z"
   },
   {
    "duration": 51,
    "start_time": "2023-11-24T18:35:13.087Z"
   },
   {
    "duration": 51,
    "start_time": "2023-11-24T18:35:28.784Z"
   },
   {
    "duration": 52,
    "start_time": "2023-11-24T18:35:39.066Z"
   },
   {
    "duration": 3,
    "start_time": "2023-11-24T18:36:30.730Z"
   },
   {
    "duration": 49,
    "start_time": "2023-11-24T18:36:51.561Z"
   },
   {
    "duration": 4,
    "start_time": "2023-11-24T18:37:02.922Z"
   },
   {
    "duration": 2,
    "start_time": "2023-11-24T18:37:31.882Z"
   },
   {
    "duration": 86,
    "start_time": "2023-11-24T18:37:42.883Z"
   },
   {
    "duration": 2,
    "start_time": "2023-11-24T18:38:19.136Z"
   },
   {
    "duration": 52,
    "start_time": "2023-11-24T18:38:47.531Z"
   },
   {
    "duration": 3,
    "start_time": "2023-11-24T18:38:51.534Z"
   },
   {
    "duration": 2,
    "start_time": "2023-11-24T18:39:33.326Z"
   },
   {
    "duration": 54,
    "start_time": "2023-11-24T18:39:45.502Z"
   },
   {
    "duration": 5,
    "start_time": "2023-11-24T18:39:56.325Z"
   },
   {
    "duration": 2,
    "start_time": "2023-11-24T18:41:28.929Z"
   },
   {
    "duration": 550,
    "start_time": "2023-11-24T18:41:37.303Z"
   },
   {
    "duration": 2,
    "start_time": "2023-11-24T18:41:37.855Z"
   },
   {
    "duration": 8802,
    "start_time": "2023-11-24T18:41:37.859Z"
   },
   {
    "duration": 4,
    "start_time": "2023-11-24T18:41:46.662Z"
   },
   {
    "duration": 233,
    "start_time": "2023-11-24T18:41:46.668Z"
   },
   {
    "duration": 53,
    "start_time": "2023-11-24T18:41:46.902Z"
   },
   {
    "duration": 50,
    "start_time": "2023-11-24T18:41:46.956Z"
   },
   {
    "duration": 52,
    "start_time": "2023-11-24T18:41:47.007Z"
   },
   {
    "duration": 49,
    "start_time": "2023-11-24T18:41:47.060Z"
   },
   {
    "duration": 51,
    "start_time": "2023-11-24T18:41:47.111Z"
   },
   {
    "duration": 50,
    "start_time": "2023-11-24T18:41:47.164Z"
   },
   {
    "duration": 52,
    "start_time": "2023-11-24T18:41:47.215Z"
   },
   {
    "duration": 50,
    "start_time": "2023-11-24T18:41:47.269Z"
   },
   {
    "duration": 52,
    "start_time": "2023-11-24T18:41:47.322Z"
   },
   {
    "duration": 2,
    "start_time": "2023-11-24T18:41:47.375Z"
   },
   {
    "duration": 78,
    "start_time": "2023-11-24T18:41:47.379Z"
   },
   {
    "duration": 4,
    "start_time": "2023-11-24T18:41:47.459Z"
   },
   {
    "duration": 16,
    "start_time": "2023-11-24T18:41:47.464Z"
   },
   {
    "duration": 99,
    "start_time": "2023-11-24T18:41:47.482Z"
   },
   {
    "duration": 2,
    "start_time": "2023-11-24T18:41:47.583Z"
   },
   {
    "duration": 83,
    "start_time": "2023-11-24T18:41:47.587Z"
   },
   {
    "duration": 4,
    "start_time": "2023-11-24T18:41:47.671Z"
   },
   {
    "duration": 33,
    "start_time": "2023-11-24T18:41:47.676Z"
   },
   {
    "duration": 82,
    "start_time": "2023-11-24T18:41:47.711Z"
   },
   {
    "duration": 5,
    "start_time": "2023-11-24T18:41:47.794Z"
   },
   {
    "duration": 4,
    "start_time": "2023-11-24T18:41:47.801Z"
   },
   {
    "duration": 54,
    "start_time": "2023-11-24T18:41:47.807Z"
   },
   {
    "duration": 4,
    "start_time": "2023-11-24T18:41:47.863Z"
   },
   {
    "duration": 502,
    "start_time": "2023-11-24T18:49:14.471Z"
   },
   {
    "duration": 8614,
    "start_time": "2023-11-24T18:49:14.975Z"
   },
   {
    "duration": 4,
    "start_time": "2023-11-24T18:49:23.590Z"
   },
   {
    "duration": 275,
    "start_time": "2023-11-24T18:49:23.595Z"
   },
   {
    "duration": 54,
    "start_time": "2023-11-24T18:49:23.872Z"
   },
   {
    "duration": 50,
    "start_time": "2023-11-24T18:49:23.928Z"
   },
   {
    "duration": 52,
    "start_time": "2023-11-24T18:49:23.980Z"
   },
   {
    "duration": 51,
    "start_time": "2023-11-24T18:49:24.033Z"
   },
   {
    "duration": 52,
    "start_time": "2023-11-24T18:49:24.085Z"
   },
   {
    "duration": 51,
    "start_time": "2023-11-24T18:49:24.139Z"
   },
   {
    "duration": 52,
    "start_time": "2023-11-24T18:49:24.192Z"
   },
   {
    "duration": 50,
    "start_time": "2023-11-24T18:49:24.246Z"
   },
   {
    "duration": 53,
    "start_time": "2023-11-24T18:49:24.298Z"
   },
   {
    "duration": 2,
    "start_time": "2023-11-24T18:49:24.353Z"
   },
   {
    "duration": 55,
    "start_time": "2023-11-24T18:49:24.356Z"
   },
   {
    "duration": 3,
    "start_time": "2023-11-24T18:49:24.412Z"
   },
   {
    "duration": 5,
    "start_time": "2023-11-24T18:49:24.417Z"
   },
   {
    "duration": 89,
    "start_time": "2023-11-24T18:49:24.424Z"
   },
   {
    "duration": 3,
    "start_time": "2023-11-24T18:49:24.515Z"
   },
   {
    "duration": 76,
    "start_time": "2023-11-24T18:49:24.520Z"
   },
   {
    "duration": 4,
    "start_time": "2023-11-24T18:49:24.597Z"
   },
   {
    "duration": 5,
    "start_time": "2023-11-24T18:49:24.602Z"
   },
   {
    "duration": 60,
    "start_time": "2023-11-24T18:49:24.609Z"
   },
   {
    "duration": 4,
    "start_time": "2023-11-24T18:49:24.671Z"
   },
   {
    "duration": 19,
    "start_time": "2023-11-24T18:49:24.676Z"
   },
   {
    "duration": 60,
    "start_time": "2023-11-24T18:49:24.696Z"
   },
   {
    "duration": 4,
    "start_time": "2023-11-24T18:49:24.757Z"
   },
   {
    "duration": 9,
    "start_time": "2023-11-25T15:32:24.857Z"
   },
   {
    "duration": 50,
    "start_time": "2023-11-25T15:32:36.817Z"
   },
   {
    "duration": 637,
    "start_time": "2023-11-25T15:33:09.101Z"
   },
   {
    "duration": 8821,
    "start_time": "2023-11-25T15:33:09.740Z"
   },
   {
    "duration": 5,
    "start_time": "2023-11-25T15:33:18.563Z"
   },
   {
    "duration": 266,
    "start_time": "2023-11-25T15:33:18.570Z"
   },
   {
    "duration": 56,
    "start_time": "2023-11-25T15:33:18.838Z"
   },
   {
    "duration": 52,
    "start_time": "2023-11-25T15:33:18.896Z"
   },
   {
    "duration": 54,
    "start_time": "2023-11-25T15:33:18.949Z"
   },
   {
    "duration": 53,
    "start_time": "2023-11-25T15:33:19.005Z"
   },
   {
    "duration": 56,
    "start_time": "2023-11-25T15:33:19.060Z"
   },
   {
    "duration": 52,
    "start_time": "2023-11-25T15:33:19.120Z"
   },
   {
    "duration": 56,
    "start_time": "2023-11-25T15:33:19.175Z"
   },
   {
    "duration": 52,
    "start_time": "2023-11-25T15:33:19.232Z"
   },
   {
    "duration": 54,
    "start_time": "2023-11-25T15:33:19.286Z"
   },
   {
    "duration": 3,
    "start_time": "2023-11-25T15:33:19.343Z"
   },
   {
    "duration": 51,
    "start_time": "2023-11-25T15:33:19.348Z"
   },
   {
    "duration": 4,
    "start_time": "2023-11-25T15:33:19.401Z"
   },
   {
    "duration": 3,
    "start_time": "2023-11-25T15:33:19.407Z"
   },
   {
    "duration": 4,
    "start_time": "2023-11-25T15:33:19.412Z"
   },
   {
    "duration": 105,
    "start_time": "2023-11-25T15:33:19.418Z"
   },
   {
    "duration": 74,
    "start_time": "2023-11-25T15:33:19.526Z"
   },
   {
    "duration": 3,
    "start_time": "2023-11-25T15:33:19.602Z"
   },
   {
    "duration": 59,
    "start_time": "2023-11-25T15:33:19.607Z"
   },
   {
    "duration": 3,
    "start_time": "2023-11-25T15:33:19.668Z"
   },
   {
    "duration": 4,
    "start_time": "2023-11-25T15:33:19.673Z"
   },
   {
    "duration": 59,
    "start_time": "2023-11-25T15:33:19.679Z"
   },
   {
    "duration": 5,
    "start_time": "2023-11-25T15:33:19.740Z"
   },
   {
    "duration": 3,
    "start_time": "2023-11-25T15:33:19.747Z"
   },
   {
    "duration": 55,
    "start_time": "2023-11-25T15:33:19.752Z"
   },
   {
    "duration": 4,
    "start_time": "2023-11-25T15:33:19.809Z"
   },
   {
    "duration": 3,
    "start_time": "2023-11-25T15:33:54.541Z"
   },
   {
    "duration": 3,
    "start_time": "2023-11-25T15:34:01.657Z"
   },
   {
    "duration": 42,
    "start_time": "2023-11-25T15:34:01.663Z"
   },
   {
    "duration": 42,
    "start_time": "2023-11-25T15:34:01.707Z"
   },
   {
    "duration": 244,
    "start_time": "2023-11-25T15:34:01.751Z"
   },
   {
    "duration": 53,
    "start_time": "2023-11-25T15:34:01.997Z"
   },
   {
    "duration": 52,
    "start_time": "2023-11-25T15:34:02.052Z"
   },
   {
    "duration": 53,
    "start_time": "2023-11-25T15:34:02.105Z"
   },
   {
    "duration": 50,
    "start_time": "2023-11-25T15:34:02.159Z"
   },
   {
    "duration": 53,
    "start_time": "2023-11-25T15:34:02.213Z"
   },
   {
    "duration": 53,
    "start_time": "2023-11-25T15:34:02.268Z"
   },
   {
    "duration": 54,
    "start_time": "2023-11-25T15:34:02.324Z"
   },
   {
    "duration": 52,
    "start_time": "2023-11-25T15:34:02.380Z"
   },
   {
    "duration": 54,
    "start_time": "2023-11-25T15:34:02.435Z"
   },
   {
    "duration": 3,
    "start_time": "2023-11-25T15:34:02.492Z"
   },
   {
    "duration": 71,
    "start_time": "2023-11-25T15:34:02.497Z"
   },
   {
    "duration": 4,
    "start_time": "2023-11-25T15:34:02.570Z"
   },
   {
    "duration": 16,
    "start_time": "2023-11-25T15:34:02.575Z"
   },
   {
    "duration": 13,
    "start_time": "2023-11-25T15:34:02.593Z"
   },
   {
    "duration": 95,
    "start_time": "2023-11-25T15:34:02.607Z"
   },
   {
    "duration": 71,
    "start_time": "2023-11-25T15:34:02.705Z"
   },
   {
    "duration": 3,
    "start_time": "2023-11-25T15:34:02.777Z"
   },
   {
    "duration": 70,
    "start_time": "2023-11-25T15:34:02.781Z"
   },
   {
    "duration": 3,
    "start_time": "2023-11-25T15:34:02.853Z"
   },
   {
    "duration": 9,
    "start_time": "2023-11-25T15:34:02.857Z"
   },
   {
    "duration": 59,
    "start_time": "2023-11-25T15:34:02.867Z"
   },
   {
    "duration": 4,
    "start_time": "2023-11-25T15:34:02.928Z"
   },
   {
    "duration": 3,
    "start_time": "2023-11-25T15:34:02.934Z"
   },
   {
    "duration": 56,
    "start_time": "2023-11-25T15:34:02.938Z"
   },
   {
    "duration": 4,
    "start_time": "2023-11-25T15:34:02.996Z"
   },
   {
    "duration": 3,
    "start_time": "2023-11-25T15:34:38.636Z"
   },
   {
    "duration": 81,
    "start_time": "2023-11-25T15:34:44.317Z"
   },
   {
    "duration": 3,
    "start_time": "2023-11-25T15:36:19.302Z"
   },
   {
    "duration": 81,
    "start_time": "2023-11-25T15:36:27.615Z"
   },
   {
    "duration": 79,
    "start_time": "2023-11-25T15:37:22.600Z"
   }
  ],
  "kernelspec": {
   "display_name": "Python 3 (ipykernel)",
   "language": "python",
   "name": "python3"
  },
  "language_info": {
   "codemirror_mode": {
    "name": "ipython",
    "version": 3
   },
   "file_extension": ".py",
   "mimetype": "text/x-python",
   "name": "python",
   "nbconvert_exporter": "python",
   "pygments_lexer": "ipython3",
   "version": "3.9.16"
  },
  "toc": {
   "base_numbering": 1,
   "nav_menu": {},
   "number_sections": true,
   "sideBar": true,
   "skip_h1_title": true,
   "title_cell": "Table of Contents",
   "title_sidebar": "Contents",
   "toc_cell": false,
   "toc_position": {},
   "toc_section_display": true,
   "toc_window_display": false
  }
 },
 "nbformat": 4,
 "nbformat_minor": 2
}
